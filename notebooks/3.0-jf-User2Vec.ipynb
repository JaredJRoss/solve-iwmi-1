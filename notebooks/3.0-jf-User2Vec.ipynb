{
 "cells": [
  {
   "cell_type": "markdown",
   "metadata": {},
   "source": [
    "# User2Vec\n",
    "Based on: https://ieeexplore.ieee.org/document/8875952/\n",
    "\n",
    "How it works:\n",
    "- Run doc2vec\n",
    "- Average vector representations for each user\n"
   ]
  },
  {
   "cell_type": "code",
   "execution_count": null,
   "metadata": {},
   "outputs": [],
   "source": [
    "from elasticsearch import Elasticsearch\n",
    "import pandas as pd\n",
    "import numpy as np\n",
    "import eland as ed\n",
    "\n",
    "from src.models import User2Vec, tokenize\n",
    "\n",
    "# uncomment this if database is not already open (and give ES a couple minutes to set up)\n",
    "#!make database\n",
    "\n",
    "ed_df = ed.read_es('localhost', 'twitter')"
   ]
  },
  {
   "cell_type": "code",
   "execution_count": null,
   "metadata": {},
   "outputs": [],
   "source": [
    "df = ed_df[[\n",
    "    'tweet_id', 'original_tweet_id_str', \n",
    "    'user_id', 'name', 'full_text_processed', \n",
    "]].to_pandas().fillna(np.nan)"
   ]
  },
  {
   "cell_type": "code",
   "execution_count": null,
   "metadata": {},
   "outputs": [],
   "source": [
    "unique_docs = df_network['full_text_processed'].unique()\n",
    "train_corpus = [tokenize(doc, tag) for doc, tag in zip(unique_docs, range(unique_docs.shape[0]))]"
   ]
  },
  {
   "cell_type": "code",
   "execution_count": null,
   "metadata": {},
   "outputs": [],
   "source": [
    "model = User2Vec(vector_size=vector_size, min_count=min_count, epochs=epochs)\n",
    "model.build_vocab(train_corpus)\n",
    "model.train(train_corpus, total_examples=model.corpus_count, epochs=model.epochs)"
   ]
  },
  {
   "cell_type": "code",
   "execution_count": null,
   "metadata": {},
   "outputs": [],
   "source": [
    "vec_cols = [f'vec_{i}' for i in range(vector_size)]\n",
    "\n",
    "users_id, user_vectors = model.infer_user_vectors(\n",
    "    df_network['user_id'], \n",
    "    df_network['full_text_processed']\n",
    ")\n",
    "\n",
    "df_user_vecs = pd.DataFrame(user_vectors, columns=vec_cols)\n",
    "df_user_vecs['user_id'] = users_id"
   ]
  }
 ],
 "metadata": {
  "kernelspec": {
   "display_name": "Python 3",
   "language": "python",
   "name": "python3"
  },
  "language_info": {
   "codemirror_mode": {
    "name": "ipython",
    "version": 3
   },
   "file_extension": ".py",
   "mimetype": "text/x-python",
   "name": "python",
   "nbconvert_exporter": "python",
   "pygments_lexer": "ipython3",
   "version": "3.7.7"
  }
 },
 "nbformat": 4,
 "nbformat_minor": 4
}
