{
 "cells": [
  {
   "cell_type": "markdown",
   "metadata": {},
   "source": [
    "# Basic EDA based on questions from the Agenda"
   ]
  },
  {
   "cell_type": "markdown",
   "metadata": {},
   "source": [
    "## Load raw data"
   ]
  },
  {
   "cell_type": "code",
   "execution_count": 1,
   "metadata": {},
   "outputs": [],
   "source": [
    "import pandas as pd\n",
    "import os\n",
    "\n",
    "files = ['../data/raw/' + x for x in os.listdir('../data/raw') if x[-5:] == '.json']\n",
    "\n",
    "df = pd.read_json(files[0], lines=True)\n",
    "for file in files[1:]:\n",
    "    df = df.append(pd.read_json(file, lines=True), ignore_index=True)"
   ]
  },
  {
   "cell_type": "markdown",
   "metadata": {},
   "source": [
    "## How many tweets are in the dataset?"
   ]
  },
  {
   "cell_type": "code",
   "execution_count": 2,
   "metadata": {},
   "outputs": [
    {
     "data": {
      "text/plain": [
       "4994"
      ]
     },
     "execution_count": 2,
     "metadata": {},
     "output_type": "execute_result"
    }
   ],
   "source": [
    "df.drop_duplicates(subset='id', inplace=True)\n",
    "len(df)"
   ]
  },
  {
   "cell_type": "markdown",
   "metadata": {},
   "source": [
    "## How many unique tweets are in the dataset?"
   ]
  },
  {
   "cell_type": "code",
   "execution_count": 3,
   "metadata": {},
   "outputs": [
    {
     "data": {
      "text/plain": [
       "1478"
      ]
     },
     "execution_count": 3,
     "metadata": {},
     "output_type": "execute_result"
    }
   ],
   "source": [
    "unique_df = df.drop_duplicates(subset='text')\n",
    "len(unique_df)"
   ]
  },
  {
   "cell_type": "markdown",
   "metadata": {},
   "source": [
    "## How many unique users?"
   ]
  },
  {
   "cell_type": "code",
   "execution_count": 4,
   "metadata": {},
   "outputs": [
    {
     "name": "stdout",
     "output_type": "stream",
     "text": [
      "Including retweets: 4016\n",
      "Excluding retweets: 1091\n"
     ]
    }
   ],
   "source": [
    "user_ids = []\n",
    "for user in df['user']:\n",
    "    if user['id'] not in user_ids:\n",
    "        user_ids.append(user['id'])\n",
    "\n",
    "print('Including retweets: %i' % len(user_ids))\n",
    "\n",
    "unique_user_ids = []\n",
    "for user in unique_df['user']:\n",
    "    if user['id'] not in unique_user_ids:\n",
    "        unique_user_ids.append(user['id'])\n",
    "\n",
    "print('Excluding retweets: %i' % len(unique_user_ids))"
   ]
  },
  {
   "cell_type": "markdown",
   "metadata": {},
   "source": [
    "## Number of retweets\n",
    "Included in the dataframe as column 'retweet_count'"
   ]
  },
  {
   "cell_type": "markdown",
   "metadata": {},
   "source": [
    "## Locate the top N retweeted and liked tweets and the users that posted them"
   ]
  },
  {
   "cell_type": "code",
   "execution_count": 11,
   "metadata": {},
   "outputs": [
    {
     "data": {
      "text/html": [
       "<div>\n",
       "<style scoped>\n",
       "    .dataframe tbody tr th:only-of-type {\n",
       "        vertical-align: middle;\n",
       "    }\n",
       "\n",
       "    .dataframe tbody tr th {\n",
       "        vertical-align: top;\n",
       "    }\n",
       "\n",
       "    .dataframe thead th {\n",
       "        text-align: right;\n",
       "    }\n",
       "</style>\n",
       "<table border=\"1\" class=\"dataframe\">\n",
       "  <thead>\n",
       "    <tr style=\"text-align: right;\">\n",
       "      <th></th>\n",
       "      <th>text</th>\n",
       "      <th>user</th>\n",
       "      <th>retweet_count</th>\n",
       "      <th>favorite_count</th>\n",
       "    </tr>\n",
       "  </thead>\n",
       "  <tbody>\n",
       "    <tr>\n",
       "      <th>2072</th>\n",
       "      <td>Happy that we're supporting 10K families from ...</td>\n",
       "      <td>Manu Kumar Jain</td>\n",
       "      <td>689</td>\n",
       "      <td>2378</td>\n",
       "    </tr>\n",
       "    <tr>\n",
       "      <th>7668</th>\n",
       "      <td>Since there's no upcoming election in Maharash...</td>\n",
       "      <td>Maharashtra Congress</td>\n",
       "      <td>223</td>\n",
       "      <td>628</td>\n",
       "    </tr>\n",
       "    <tr>\n",
       "      <th>7037</th>\n",
       "      <td>Which will be fact-checked First ??\\n\\nTMC MP ...</td>\n",
       "      <td>Rishi Bagree 🇮🇳</td>\n",
       "      <td>186</td>\n",
       "      <td>438</td>\n",
       "    </tr>\n",
       "    <tr>\n",
       "      <th>2997</th>\n",
       "      <td>Dada is working silently, standing by the affe...</td>\n",
       "      <td>Initnamees 🇮🇳</td>\n",
       "      <td>159</td>\n",
       "      <td>875</td>\n",
       "    </tr>\n",
       "    <tr>\n",
       "      <th>2820</th>\n",
       "      <td>Bengal is currently battling with the countles...</td>\n",
       "      <td>Krishna Chandra Santra</td>\n",
       "      <td>159</td>\n",
       "      <td>178</td>\n",
       "    </tr>\n",
       "    <tr>\n",
       "      <th>8528</th>\n",
       "      <td>And here's the secret: UP is doing fewer than ...</td>\n",
       "      <td>Amit Schandillia</td>\n",
       "      <td>65</td>\n",
       "      <td>201</td>\n",
       "    </tr>\n",
       "    <tr>\n",
       "      <th>8154</th>\n",
       "      <td>Amidst rising Covid-19 cases, migrant workers'...</td>\n",
       "      <td>MLA Sandhya Rani Tudu</td>\n",
       "      <td>58</td>\n",
       "      <td>77</td>\n",
       "    </tr>\n",
       "    <tr>\n",
       "      <th>2198</th>\n",
       "      <td>On the afternoon of 20 May, Cyclone Amphan mad...</td>\n",
       "      <td>The Caravan</td>\n",
       "      <td>54</td>\n",
       "      <td>54</td>\n",
       "    </tr>\n",
       "    <tr>\n",
       "      <th>7149</th>\n",
       "      <td>19. NDRF/ODRAF/Fire service returned from Amph...</td>\n",
       "      <td>I &amp; PR Department, Odisha</td>\n",
       "      <td>47</td>\n",
       "      <td>375</td>\n",
       "    </tr>\n",
       "    <tr>\n",
       "      <th>8448</th>\n",
       "      <td>...streamlining of all relevant procedure espe...</td>\n",
       "      <td>HOME DEPARTMENT - GOVT. OF WEST BENGAL</td>\n",
       "      <td>42</td>\n",
       "      <td>114</td>\n",
       "    </tr>\n",
       "  </tbody>\n",
       "</table>\n",
       "</div>"
      ],
      "text/plain": [
       "                                                   text  \\\n",
       "2072  Happy that we're supporting 10K families from ...   \n",
       "7668  Since there's no upcoming election in Maharash...   \n",
       "7037  Which will be fact-checked First ??\\n\\nTMC MP ...   \n",
       "2997  Dada is working silently, standing by the affe...   \n",
       "2820  Bengal is currently battling with the countles...   \n",
       "8528  And here's the secret: UP is doing fewer than ...   \n",
       "8154  Amidst rising Covid-19 cases, migrant workers'...   \n",
       "2198  On the afternoon of 20 May, Cyclone Amphan mad...   \n",
       "7149  19. NDRF/ODRAF/Fire service returned from Amph...   \n",
       "8448  ...streamlining of all relevant procedure espe...   \n",
       "\n",
       "                                        user  retweet_count  favorite_count  \n",
       "2072                         Manu Kumar Jain            689            2378  \n",
       "7668                    Maharashtra Congress            223             628  \n",
       "7037                         Rishi Bagree 🇮🇳            186             438  \n",
       "2997                           Initnamees 🇮🇳            159             875  \n",
       "2820                  Krishna Chandra Santra            159             178  \n",
       "8528                        Amit Schandillia             65             201  \n",
       "8154                   MLA Sandhya Rani Tudu             58              77  \n",
       "2198                             The Caravan             54              54  \n",
       "7149               I & PR Department, Odisha             47             375  \n",
       "8448  HOME DEPARTMENT - GOVT. OF WEST BENGAL             42             114  "
      ]
     },
     "execution_count": 11,
     "metadata": {},
     "output_type": "execute_result"
    }
   ],
   "source": [
    "N = 10\n",
    "\n",
    "n_largest = df.nlargest(N, ['retweet_count', 'favorite_count'])[['text', 'user', 'retweet_count', 'favorite_count']]\n",
    "n_largest['user'] = n_largest['user'].apply(lambda x: x['name'])\n",
    "\n",
    "n_largest"
   ]
  },
  {
   "cell_type": "code",
   "execution_count": 8,
   "metadata": {},
   "outputs": [
    {
     "data": {
      "text/plain": [
       "Index(['created_at', 'id', 'id_str', 'text', 'source', 'truncated',\n",
       "       'in_reply_to_status_id', 'in_reply_to_status_id_str',\n",
       "       'in_reply_to_user_id', 'in_reply_to_user_id_str',\n",
       "       'in_reply_to_screen_name', 'user', 'geo', 'coordinates', 'place',\n",
       "       'contributors', 'retweeted_status', 'is_quote_status', 'quote_count',\n",
       "       'reply_count', 'retweet_count', 'favorite_count', 'entities',\n",
       "       'favorited', 'retweeted', 'filter_level', 'lang', 'matching_rules',\n",
       "       'display_text_range', 'extended_tweet', 'possibly_sensitive',\n",
       "       'quoted_status_id', 'quoted_status_id_str', 'quoted_status',\n",
       "       'quoted_status_permalink', 'extended_entities'],\n",
       "      dtype='object')"
      ]
     },
     "execution_count": 8,
     "metadata": {},
     "output_type": "execute_result"
    }
   ],
   "source": [
    "df.columns"
   ]
  },
  {
   "cell_type": "code",
   "execution_count": null,
   "metadata": {},
   "outputs": [],
   "source": []
  }
 ],
 "metadata": {
  "kernelspec": {
   "display_name": "Python 3",
   "language": "python",
   "name": "python3"
  },
  "language_info": {
   "codemirror_mode": {
    "name": "ipython",
    "version": 3
   },
   "file_extension": ".py",
   "mimetype": "text/x-python",
   "name": "python",
   "nbconvert_exporter": "python",
   "pygments_lexer": "ipython3",
   "version": "3.7.6"
  }
 },
 "nbformat": 4,
 "nbformat_minor": 4
}
