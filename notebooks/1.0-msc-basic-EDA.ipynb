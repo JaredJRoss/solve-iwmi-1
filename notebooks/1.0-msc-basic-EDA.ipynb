{
 "cells": [
  {
   "cell_type": "markdown",
   "metadata": {},
   "source": [
    "# Basic EDA based on questions from the Agenda"
   ]
  },
  {
   "cell_type": "markdown",
   "metadata": {},
   "source": [
    "## Load raw data"
   ]
  },
  {
   "cell_type": "code",
   "execution_count": 1,
   "metadata": {},
   "outputs": [],
   "source": [
    "import pandas as pd\n",
    "import os\n",
    "\n",
    "files = ['../data/raw/' + x for x in os.listdir('../data/raw') if x[-5:] == '.json']\n",
    "\n",
    "df = pd.read_json(files[0], lines=True)\n",
    "for file in files[1:]:\n",
    "    df = df.append(pd.read_json(file, lines=True), ignore_index=True)"
   ]
  },
  {
   "cell_type": "markdown",
   "metadata": {},
   "source": [
    "## How many tweets are in the dataset?"
   ]
  },
  {
   "cell_type": "code",
   "execution_count": 2,
   "metadata": {},
   "outputs": [
    {
     "data": {
      "text/plain": [
       "4994"
      ]
     },
     "execution_count": 2,
     "metadata": {},
     "output_type": "execute_result"
    }
   ],
   "source": [
    "df.drop_duplicates(subset='id', inplace=True)\n",
    "len(df)"
   ]
  },
  {
   "cell_type": "markdown",
   "metadata": {},
   "source": [
    "## How many unique tweets are in the dataset?"
   ]
  },
  {
   "cell_type": "code",
   "execution_count": 3,
   "metadata": {},
   "outputs": [
    {
     "data": {
      "text/plain": [
       "1478"
      ]
     },
     "execution_count": 3,
     "metadata": {},
     "output_type": "execute_result"
    }
   ],
   "source": [
    "unique_df = df.drop_duplicates(subset='text')\n",
    "len(unique_df)"
   ]
  },
  {
   "cell_type": "markdown",
   "metadata": {},
   "source": [
    "## How many unique users?"
   ]
  },
  {
   "cell_type": "code",
   "execution_count": 4,
   "metadata": {},
   "outputs": [
    {
     "name": "stdout",
     "output_type": "stream",
     "text": [
      "Including retweets: 4016\n",
      "Excluding retweets: 1091\n"
     ]
    }
   ],
   "source": [
    "user_ids = []\n",
    "for user in df['user']:\n",
    "    if user['id'] not in user_ids:\n",
    "        user_ids.append(user['id'])\n",
    "\n",
    "print('Including retweets: %i' % len(user_ids))\n",
    "\n",
    "unique_user_ids = []\n",
    "for user in unique_df['user']:\n",
    "    if user['id'] not in unique_user_ids:\n",
    "        unique_user_ids.append(user['id'])\n",
    "\n",
    "print('Excluding retweets: %i' % len(unique_user_ids))"
   ]
  },
  {
   "cell_type": "markdown",
   "metadata": {},
   "source": [
    "## Number of retweets\n",
    "Included in the dataframe as column 'retweet_count'"
   ]
  },
  {
   "cell_type": "markdown",
   "metadata": {},
   "source": [
    "## Locate the top N retweeted and liked tweets and the users that posted them"
   ]
  },
  {
   "cell_type": "code",
   "execution_count": 13,
   "metadata": {},
   "outputs": [
    {
     "data": {
      "text/html": [
       "<div>\n",
       "<style scoped>\n",
       "    .dataframe tbody tr th:only-of-type {\n",
       "        vertical-align: middle;\n",
       "    }\n",
       "\n",
       "    .dataframe tbody tr th {\n",
       "        vertical-align: top;\n",
       "    }\n",
       "\n",
       "    .dataframe thead th {\n",
       "        text-align: right;\n",
       "    }\n",
       "</style>\n",
       "<table border=\"1\" class=\"dataframe\">\n",
       "  <thead>\n",
       "    <tr style=\"text-align: right;\">\n",
       "      <th></th>\n",
       "      <th>text</th>\n",
       "      <th>user</th>\n",
       "      <th>retweet_count</th>\n",
       "      <th>favorite_count</th>\n",
       "    </tr>\n",
       "  </thead>\n",
       "  <tbody>\n",
       "    <tr>\n",
       "      <th>2072</th>\n",
       "      <td>Happy that we're supporting 10K families from ...</td>\n",
       "      <td>Manu Kumar Jain</td>\n",
       "      <td>689</td>\n",
       "      <td>2378</td>\n",
       "    </tr>\n",
       "    <tr>\n",
       "      <th>7668</th>\n",
       "      <td>Since there's no upcoming election in Maharash...</td>\n",
       "      <td>Maharashtra Congress</td>\n",
       "      <td>223</td>\n",
       "      <td>628</td>\n",
       "    </tr>\n",
       "    <tr>\n",
       "      <th>7037</th>\n",
       "      <td>Which will be fact-checked First ??\\n\\nTMC MP ...</td>\n",
       "      <td>Rishi Bagree 🇮🇳</td>\n",
       "      <td>186</td>\n",
       "      <td>438</td>\n",
       "    </tr>\n",
       "    <tr>\n",
       "      <th>2997</th>\n",
       "      <td>Dada is working silently, standing by the affe...</td>\n",
       "      <td>Initnamees 🇮🇳</td>\n",
       "      <td>159</td>\n",
       "      <td>875</td>\n",
       "    </tr>\n",
       "    <tr>\n",
       "      <th>2820</th>\n",
       "      <td>Bengal is currently battling with the countles...</td>\n",
       "      <td>Krishna Chandra Santra</td>\n",
       "      <td>159</td>\n",
       "      <td>178</td>\n",
       "    </tr>\n",
       "    <tr>\n",
       "      <th>8528</th>\n",
       "      <td>And here's the secret: UP is doing fewer than ...</td>\n",
       "      <td>Amit Schandillia</td>\n",
       "      <td>65</td>\n",
       "      <td>201</td>\n",
       "    </tr>\n",
       "    <tr>\n",
       "      <th>8154</th>\n",
       "      <td>Amidst rising Covid-19 cases, migrant workers'...</td>\n",
       "      <td>MLA Sandhya Rani Tudu</td>\n",
       "      <td>58</td>\n",
       "      <td>77</td>\n",
       "    </tr>\n",
       "    <tr>\n",
       "      <th>2198</th>\n",
       "      <td>On the afternoon of 20 May, Cyclone Amphan mad...</td>\n",
       "      <td>The Caravan</td>\n",
       "      <td>54</td>\n",
       "      <td>54</td>\n",
       "    </tr>\n",
       "    <tr>\n",
       "      <th>7149</th>\n",
       "      <td>19. NDRF/ODRAF/Fire service returned from Amph...</td>\n",
       "      <td>I &amp; PR Department, Odisha</td>\n",
       "      <td>47</td>\n",
       "      <td>375</td>\n",
       "    </tr>\n",
       "    <tr>\n",
       "      <th>8448</th>\n",
       "      <td>...streamlining of all relevant procedure espe...</td>\n",
       "      <td>HOME DEPARTMENT - GOVT. OF WEST BENGAL</td>\n",
       "      <td>42</td>\n",
       "      <td>114</td>\n",
       "    </tr>\n",
       "    <tr>\n",
       "      <th>7969</th>\n",
       "      <td>The way the Bengal CM and Governor are having ...</td>\n",
       "      <td>Somen Mitra</td>\n",
       "      <td>41</td>\n",
       "      <td>123</td>\n",
       "    </tr>\n",
       "    <tr>\n",
       "      <th>6611</th>\n",
       "      <td>#Amphan has left the state 22days back. Even n...</td>\n",
       "      <td>CPI(M) WEST BENGAL</td>\n",
       "      <td>39</td>\n",
       "      <td>179</td>\n",
       "    </tr>\n",
       "    <tr>\n",
       "      <th>7394</th>\n",
       "      <td>TMC MP Derek O'Brien tweets CPM's Amphan relie...</td>\n",
       "      <td>Zee News English</td>\n",
       "      <td>38</td>\n",
       "      <td>223</td>\n",
       "    </tr>\n",
       "    <tr>\n",
       "      <th>8341</th>\n",
       "      <td>চোর গুলো ত্রাণের ছবিও চুরি করছে। https://t.co/...</td>\n",
       "      <td>Md Salim</td>\n",
       "      <td>37</td>\n",
       "      <td>142</td>\n",
       "    </tr>\n",
       "    <tr>\n",
       "      <th>6910</th>\n",
       "      <td>IMD has released a report on Super Cyclonic St...</td>\n",
       "      <td>IMD Weather</td>\n",
       "      <td>33</td>\n",
       "      <td>154</td>\n",
       "    </tr>\n",
       "    <tr>\n",
       "      <th>8261</th>\n",
       "      <td>A man who can't even spell Amphan correctly is...</td>\n",
       "      <td>Sayan Khan</td>\n",
       "      <td>31</td>\n",
       "      <td>39</td>\n",
       "    </tr>\n",
       "    <tr>\n",
       "      <th>309</th>\n",
       "      <td>Away from home, and worried about your old par...</td>\n",
       "      <td>Gabbbar</td>\n",
       "      <td>29</td>\n",
       "      <td>129</td>\n",
       "    </tr>\n",
       "    <tr>\n",
       "      <th>2684</th>\n",
       "      <td>Our Comrades traveled to the cyclone affected ...</td>\n",
       "      <td>CPI(M) WEST BENGAL</td>\n",
       "      <td>28</td>\n",
       "      <td>152</td>\n",
       "    </tr>\n",
       "    <tr>\n",
       "      <th>7892</th>\n",
       "      <td>Insensitive! People of #Bengal are suffering t...</td>\n",
       "      <td>Agnivo Niyogi (অগ্নিভ নিয়োগী)</td>\n",
       "      <td>28</td>\n",
       "      <td>84</td>\n",
       "    </tr>\n",
       "    <tr>\n",
       "      <th>252</th>\n",
       "      <td>Today #WBPYC President @ShadabKhanIYC distribu...</td>\n",
       "      <td>WB Youth Congress</td>\n",
       "      <td>28</td>\n",
       "      <td>44</td>\n",
       "    </tr>\n",
       "  </tbody>\n",
       "</table>\n",
       "</div>"
      ],
      "text/plain": [
       "                                                   text  \\\n",
       "2072  Happy that we're supporting 10K families from ...   \n",
       "7668  Since there's no upcoming election in Maharash...   \n",
       "7037  Which will be fact-checked First ??\\n\\nTMC MP ...   \n",
       "2997  Dada is working silently, standing by the affe...   \n",
       "2820  Bengal is currently battling with the countles...   \n",
       "8528  And here's the secret: UP is doing fewer than ...   \n",
       "8154  Amidst rising Covid-19 cases, migrant workers'...   \n",
       "2198  On the afternoon of 20 May, Cyclone Amphan mad...   \n",
       "7149  19. NDRF/ODRAF/Fire service returned from Amph...   \n",
       "8448  ...streamlining of all relevant procedure espe...   \n",
       "7969  The way the Bengal CM and Governor are having ...   \n",
       "6611  #Amphan has left the state 22days back. Even n...   \n",
       "7394  TMC MP Derek O'Brien tweets CPM's Amphan relie...   \n",
       "8341  চোর গুলো ত্রাণের ছবিও চুরি করছে। https://t.co/...   \n",
       "6910  IMD has released a report on Super Cyclonic St...   \n",
       "8261  A man who can't even spell Amphan correctly is...   \n",
       "309   Away from home, and worried about your old par...   \n",
       "2684  Our Comrades traveled to the cyclone affected ...   \n",
       "7892  Insensitive! People of #Bengal are suffering t...   \n",
       "252   Today #WBPYC President @ShadabKhanIYC distribu...   \n",
       "\n",
       "                                        user  retweet_count  favorite_count  \n",
       "2072                         Manu Kumar Jain            689            2378  \n",
       "7668                    Maharashtra Congress            223             628  \n",
       "7037                         Rishi Bagree 🇮🇳            186             438  \n",
       "2997                           Initnamees 🇮🇳            159             875  \n",
       "2820                  Krishna Chandra Santra            159             178  \n",
       "8528                        Amit Schandillia             65             201  \n",
       "8154                   MLA Sandhya Rani Tudu             58              77  \n",
       "2198                             The Caravan             54              54  \n",
       "7149               I & PR Department, Odisha             47             375  \n",
       "8448  HOME DEPARTMENT - GOVT. OF WEST BENGAL             42             114  \n",
       "7969                             Somen Mitra             41             123  \n",
       "6611                      CPI(M) WEST BENGAL             39             179  \n",
       "7394                        Zee News English             38             223  \n",
       "8341                                Md Salim             37             142  \n",
       "6910                             IMD Weather             33             154  \n",
       "8261                              Sayan Khan             31              39  \n",
       "309                                  Gabbbar             29             129  \n",
       "2684                      CPI(M) WEST BENGAL             28             152  \n",
       "7892           Agnivo Niyogi (অগ্নিভ নিয়োগী)             28              84  \n",
       "252                        WB Youth Congress             28              44  "
      ]
     },
     "execution_count": 13,
     "metadata": {},
     "output_type": "execute_result"
    }
   ],
   "source": [
    "N = 20\n",
    "\n",
    "n_largest = df.nlargest(N, ['retweet_count', 'favorite_count'])[['text', 'user', 'retweet_count', 'favorite_count']]\n",
    "n_largest['user'] = n_largest['user'].apply(lambda x: x['name'])\n",
    "\n",
    "n_largest"
   ]
  },
  {
   "cell_type": "markdown",
   "metadata": {},
   "source": [
    "## What are the locations?\n",
    "## Number of tweets by location"
   ]
  },
  {
   "cell_type": "code",
   "execution_count": 37,
   "metadata": {},
   "outputs": [],
   "source": [
    "places = df['place'][~df['place'].isin([None])]\n",
    "places = places.reset_index()['place'].apply(lambda x: x['full_name'])"
   ]
  },
  {
   "cell_type": "code",
   "execution_count": 41,
   "metadata": {},
   "outputs": [
    {
     "data": {
      "text/plain": [
       "Kolkata, India                       10\n",
       "Ichalkaranji (Hatkalangda), India     8\n",
       "Anekal Bangaluru, India               7\n",
       "Mumbai, India                         3\n",
       "Sundarban Tigar Reserve, India        3\n",
       "Chhapra, India                        2\n",
       "West Bengal, India                    2\n",
       "Gaya, India                           1\n",
       "Panvel, India                         1\n",
       "Nagaon, India                         1\n",
       "Haora, India                          1\n",
       "Bhubaneshwar, India                   1\n",
       "Himachal Pradesh, India               1\n",
       "Madhya Pradesh, India                 1\n",
       "Warisaliganj, India                   1\n",
       "Xiaomi India                          1\n",
       "Bidhan Nagar, India                   1\n",
       "Bengaluru South, India                1\n",
       "Gujarat, India                        1\n",
       "Surat, India                          1\n",
       "Maraghat, India                       1\n",
       "New Delhi, India                      1\n",
       "Noida, India                          1\n",
       "Name: place, dtype: int64"
      ]
     },
     "execution_count": 41,
     "metadata": {},
     "output_type": "execute_result"
    }
   ],
   "source": [
    "places.value_counts()"
   ]
  },
  {
   "cell_type": "markdown",
   "metadata": {},
   "source": [
    "## What are the main languages?\n",
    "## What are the counts and proportions of tweets by languages?"
   ]
  },
  {
   "cell_type": "code",
   "execution_count": 51,
   "metadata": {},
   "outputs": [],
   "source": [
    "langs = df['lang'].value_counts().rename_axis('unique_values').reset_index(name='counts')\n",
    "langs['proportion'] = langs['counts'].apply(lambda x: x / sum(langs['counts']))"
   ]
  },
  {
   "cell_type": "code",
   "execution_count": 52,
   "metadata": {},
   "outputs": [
    {
     "data": {
      "text/html": [
       "<div>\n",
       "<style scoped>\n",
       "    .dataframe tbody tr th:only-of-type {\n",
       "        vertical-align: middle;\n",
       "    }\n",
       "\n",
       "    .dataframe tbody tr th {\n",
       "        vertical-align: top;\n",
       "    }\n",
       "\n",
       "    .dataframe thead th {\n",
       "        text-align: right;\n",
       "    }\n",
       "</style>\n",
       "<table border=\"1\" class=\"dataframe\">\n",
       "  <thead>\n",
       "    <tr style=\"text-align: right;\">\n",
       "      <th></th>\n",
       "      <th>unique_values</th>\n",
       "      <th>counts</th>\n",
       "      <th>proportion</th>\n",
       "    </tr>\n",
       "  </thead>\n",
       "  <tbody>\n",
       "    <tr>\n",
       "      <th>0</th>\n",
       "      <td>en</td>\n",
       "      <td>4091</td>\n",
       "      <td>0.819183</td>\n",
       "    </tr>\n",
       "    <tr>\n",
       "      <th>1</th>\n",
       "      <td>und</td>\n",
       "      <td>704</td>\n",
       "      <td>0.140969</td>\n",
       "    </tr>\n",
       "    <tr>\n",
       "      <th>2</th>\n",
       "      <td>bn</td>\n",
       "      <td>123</td>\n",
       "      <td>0.024630</td>\n",
       "    </tr>\n",
       "    <tr>\n",
       "      <th>3</th>\n",
       "      <td>hi</td>\n",
       "      <td>31</td>\n",
       "      <td>0.006207</td>\n",
       "    </tr>\n",
       "    <tr>\n",
       "      <th>4</th>\n",
       "      <td>in</td>\n",
       "      <td>15</td>\n",
       "      <td>0.003004</td>\n",
       "    </tr>\n",
       "    <tr>\n",
       "      <th>5</th>\n",
       "      <td>tl</td>\n",
       "      <td>6</td>\n",
       "      <td>0.001201</td>\n",
       "    </tr>\n",
       "    <tr>\n",
       "      <th>6</th>\n",
       "      <td>mr</td>\n",
       "      <td>4</td>\n",
       "      <td>0.000801</td>\n",
       "    </tr>\n",
       "    <tr>\n",
       "      <th>7</th>\n",
       "      <td>es</td>\n",
       "      <td>3</td>\n",
       "      <td>0.000601</td>\n",
       "    </tr>\n",
       "    <tr>\n",
       "      <th>8</th>\n",
       "      <td>de</td>\n",
       "      <td>3</td>\n",
       "      <td>0.000601</td>\n",
       "    </tr>\n",
       "    <tr>\n",
       "      <th>9</th>\n",
       "      <td>te</td>\n",
       "      <td>3</td>\n",
       "      <td>0.000601</td>\n",
       "    </tr>\n",
       "    <tr>\n",
       "      <th>10</th>\n",
       "      <td>ca</td>\n",
       "      <td>3</td>\n",
       "      <td>0.000601</td>\n",
       "    </tr>\n",
       "    <tr>\n",
       "      <th>11</th>\n",
       "      <td>ar</td>\n",
       "      <td>2</td>\n",
       "      <td>0.000400</td>\n",
       "    </tr>\n",
       "    <tr>\n",
       "      <th>12</th>\n",
       "      <td>fr</td>\n",
       "      <td>1</td>\n",
       "      <td>0.000200</td>\n",
       "    </tr>\n",
       "    <tr>\n",
       "      <th>13</th>\n",
       "      <td>th</td>\n",
       "      <td>1</td>\n",
       "      <td>0.000200</td>\n",
       "    </tr>\n",
       "    <tr>\n",
       "      <th>14</th>\n",
       "      <td>et</td>\n",
       "      <td>1</td>\n",
       "      <td>0.000200</td>\n",
       "    </tr>\n",
       "    <tr>\n",
       "      <th>15</th>\n",
       "      <td>gu</td>\n",
       "      <td>1</td>\n",
       "      <td>0.000200</td>\n",
       "    </tr>\n",
       "    <tr>\n",
       "      <th>16</th>\n",
       "      <td>or</td>\n",
       "      <td>1</td>\n",
       "      <td>0.000200</td>\n",
       "    </tr>\n",
       "    <tr>\n",
       "      <th>17</th>\n",
       "      <td>ro</td>\n",
       "      <td>1</td>\n",
       "      <td>0.000200</td>\n",
       "    </tr>\n",
       "  </tbody>\n",
       "</table>\n",
       "</div>"
      ],
      "text/plain": [
       "   unique_values  counts  proportion\n",
       "0             en    4091    0.819183\n",
       "1            und     704    0.140969\n",
       "2             bn     123    0.024630\n",
       "3             hi      31    0.006207\n",
       "4             in      15    0.003004\n",
       "5             tl       6    0.001201\n",
       "6             mr       4    0.000801\n",
       "7             es       3    0.000601\n",
       "8             de       3    0.000601\n",
       "9             te       3    0.000601\n",
       "10            ca       3    0.000601\n",
       "11            ar       2    0.000400\n",
       "12            fr       1    0.000200\n",
       "13            th       1    0.000200\n",
       "14            et       1    0.000200\n",
       "15            gu       1    0.000200\n",
       "16            or       1    0.000200\n",
       "17            ro       1    0.000200"
      ]
     },
     "execution_count": 52,
     "metadata": {},
     "output_type": "execute_result"
    }
   ],
   "source": [
    "langs"
   ]
  },
  {
   "cell_type": "markdown",
   "metadata": {},
   "source": [
    "## To do:\n",
    "- Location over time\n",
    "- Source analysis\n",
    "- Protected\n",
    "- Verified"
   ]
  }
 ],
 "metadata": {
  "kernelspec": {
   "display_name": "Python 3",
   "language": "python",
   "name": "python3"
  },
  "language_info": {
   "codemirror_mode": {
    "name": "ipython",
    "version": 3
   },
   "file_extension": ".py",
   "mimetype": "text/x-python",
   "name": "python",
   "nbconvert_exporter": "python",
   "pygments_lexer": "ipython3",
   "version": "3.7.6"
  }
 },
 "nbformat": 4,
 "nbformat_minor": 4
}
