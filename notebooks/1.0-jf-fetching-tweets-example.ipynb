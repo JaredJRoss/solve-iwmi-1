{
 "cells": [
  {
   "cell_type": "markdown",
   "metadata": {},
   "source": [
    "# Fetching Twitter data\n",
    "\n",
    "This is a simple notebook containing a simple demonstration on how to fetch tweets using a Twitter Sanbox Environment. The sample data is saved in the form of a json file, which must then be preprocessed."
   ]
  },
  {
   "cell_type": "code",
   "execution_count": 1,
   "metadata": {},
   "outputs": [],
   "source": [
    "import os\n",
    "from os.path import join\n",
    "from searchtweets import load_credentials, gen_rule_payload, ResultStream\n",
    "import json\n",
    "\n",
    "project_dir = join(os.getcwd(), os.pardir)\n",
    "raw_dir = join(project_dir, 'data', 'raw')\n",
    "twitter_creds_path = join(project_dir, 'configs.yaml')"
   ]
  },
  {
   "cell_type": "code",
   "execution_count": 2,
   "metadata": {},
   "outputs": [
    {
     "name": "stderr",
     "output_type": "stream",
     "text": [
      "Grabbing bearer token from OAUTH\n"
     ]
    }
   ],
   "source": [
    "search_args = load_credentials(twitter_creds_path, yaml_key='search_tweets_api')\n",
    "\n",
    "# this should probably be moved to the configs.yaml\n",
    "query = \"((cyclone amphan) OR amphan)\"\n",
    "\n",
    "\n",
    "##Cyclone amphan\n",
    "#Formed:16 May 2020\n",
    "#Dissipated:21 May 2020\n",
    "\n",
    "from_date=\"2020-05-14\"\n",
    "to_date=\"2020-06-15\"\n",
    "\n",
    "# I defined results_per_call as 100 which is default for free users. These can be 500 for paid tiers.\n",
    "rule = gen_rule_payload(query, results_per_call=100, from_date=\"2020-05-14\", to_date=\"2020-06-15\")\n",
    "\n",
    "rs = ResultStream(rule_payload=rule,\n",
    "                  max_results=3000,\n",
    "                  **search_args)"
   ]
  },
  {
   "cell_type": "code",
   "execution_count": 3,
   "metadata": {},
   "outputs": [
    {
     "name": "stdout",
     "output_type": "stream",
     "text": [
      "done\n"
     ]
    }
   ],
   "source": [
    "fname = f'SAMPLE_DATA_QUERY_{query}_FROMDATE_{from_date}_TODATE_{to_date}.json'\n",
    "with open(join(raw_dir, fname), 'a', encoding='utf-8') as f:\n",
    "    for tweet in rs.stream():\n",
    "        json.dump(tweet, f)\n",
    "        f.write('\\n')\n",
    "print('done')"
   ]
  }
 ],
 "metadata": {
  "kernelspec": {
   "display_name": "Python 3",
   "language": "python",
   "name": "python3"
  },
  "language_info": {
   "codemirror_mode": {
    "name": "ipython",
    "version": 3
   },
   "file_extension": ".py",
   "mimetype": "text/x-python",
   "name": "python",
   "nbconvert_exporter": "python",
   "pygments_lexer": "ipython3",
   "version": "3.8.3"
  }
 },
 "nbformat": 4,
 "nbformat_minor": 4
}
