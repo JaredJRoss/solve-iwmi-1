{
 "cells": [
  {
   "cell_type": "markdown",
   "metadata": {},
   "source": [
    "# Fetching Twitter data\n",
    "\n",
    "This is a simple notebook containing a simple demonstration on how to fetch tweets using a Twitter Sanbox Environment. The sample data is saved in the form of a json file, which must then be preprocessed."
   ]
  },
  {
   "cell_type": "code",
   "execution_count": 1,
   "metadata": {},
   "outputs": [],
   "source": [
    "import os\n",
    "from os.path import join\n",
    "from searchtweets import load_credentials, gen_rule_payload, ResultStream, collect_results\n",
    "import json\n",
    "\n",
    "project_dir = join(os.getcwd(), os.pardir)\n",
    "raw_dir = join(project_dir, 'data', 'raw')\n",
    "twitter_creds_path = join(project_dir, 'twitter_creds.yaml')"
   ]
  },
  {
   "cell_type": "code",
   "execution_count": 2,
   "metadata": {},
   "outputs": [
    {
     "name": "stderr",
     "output_type": "stream",
     "text": [
      "cannot read file /home/jovyan/work/notebooks/../configs.yaml\n",
      "Error parsing YAML file; searching for valid environment variables\n",
      "Account type is not specified and cannot be inferred.\n",
      "        Please check your credential file, arguments, or environment variables\n",
      "        for issues. The account type must be 'premium' or 'enterprise'.\n",
      "        \n"
     ]
    },
    {
     "ename": "KeyError",
     "evalue": "",
     "output_type": "error",
     "traceback": [
      "\u001b[0;31m---------------------------------------------------------------------------\u001b[0m",
      "\u001b[0;31mKeyError\u001b[0m                                  Traceback (most recent call last)",
      "\u001b[0;32m<ipython-input-2-7489d17baf58>\u001b[0m in \u001b[0;36m<module>\u001b[0;34m\u001b[0m\n\u001b[0;32m----> 1\u001b[0;31m \u001b[0msearch_args\u001b[0m \u001b[0;34m=\u001b[0m \u001b[0mload_credentials\u001b[0m\u001b[0;34m(\u001b[0m\u001b[0mtwitter_creds_path\u001b[0m\u001b[0;34m,\u001b[0m \u001b[0myaml_key\u001b[0m\u001b[0;34m=\u001b[0m\u001b[0;34m'search_tweets_api'\u001b[0m\u001b[0;34m)\u001b[0m\u001b[0;34m\u001b[0m\u001b[0;34m\u001b[0m\u001b[0m\n\u001b[0m\u001b[1;32m      2\u001b[0m \u001b[0;34m\u001b[0m\u001b[0m\n\u001b[1;32m      3\u001b[0m \u001b[0;31m# this should probably be moved to the configs.yaml\u001b[0m\u001b[0;34m\u001b[0m\u001b[0;34m\u001b[0m\u001b[0;34m\u001b[0m\u001b[0m\n\u001b[1;32m      4\u001b[0m \u001b[0mquery\u001b[0m \u001b[0;34m=\u001b[0m \u001b[0;34m\"((cyclone amphan) OR amphan)\"\u001b[0m\u001b[0;34m\u001b[0m\u001b[0;34m\u001b[0m\u001b[0m\n\u001b[1;32m      5\u001b[0m \u001b[0;34m\u001b[0m\u001b[0m\n",
      "\u001b[0;32m/opt/conda/lib/python3.8/site-packages/searchtweets/credentials.py\u001b[0m in \u001b[0;36mload_credentials\u001b[0;34m(filename, account_type, yaml_key, env_overwrite)\u001b[0m\n\u001b[1;32m    187\u001b[0m                    \u001b[0;32mif\u001b[0m \u001b[0menv_overwrite\u001b[0m\u001b[0;34m\u001b[0m\u001b[0;34m\u001b[0m\u001b[0m\n\u001b[1;32m    188\u001b[0m                    else merge_dicts(env_vars, yaml_vars))\n\u001b[0;32m--> 189\u001b[0;31m     \u001b[0mparsed_vars\u001b[0m \u001b[0;34m=\u001b[0m \u001b[0m_parse_credentials\u001b[0m\u001b[0;34m(\u001b[0m\u001b[0mmerged_vars\u001b[0m\u001b[0;34m,\u001b[0m \u001b[0maccount_type\u001b[0m\u001b[0;34m=\u001b[0m\u001b[0maccount_type\u001b[0m\u001b[0;34m)\u001b[0m\u001b[0;34m\u001b[0m\u001b[0;34m\u001b[0m\u001b[0m\n\u001b[0m\u001b[1;32m    190\u001b[0m     \u001b[0;32mreturn\u001b[0m \u001b[0mparsed_vars\u001b[0m\u001b[0;34m\u001b[0m\u001b[0;34m\u001b[0m\u001b[0m\n\u001b[1;32m    191\u001b[0m \u001b[0;34m\u001b[0m\u001b[0m\n",
      "\u001b[0;32m/opt/conda/lib/python3.8/site-packages/searchtweets/credentials.py\u001b[0m in \u001b[0;36m_parse_credentials\u001b[0;34m(search_creds, account_type)\u001b[0m\n\u001b[1;32m     80\u001b[0m         \"\"\"\n\u001b[1;32m     81\u001b[0m         \u001b[0mlogger\u001b[0m\u001b[0;34m.\u001b[0m\u001b[0merror\u001b[0m\u001b[0;34m(\u001b[0m\u001b[0mmsg\u001b[0m\u001b[0;34m)\u001b[0m\u001b[0;34m\u001b[0m\u001b[0;34m\u001b[0m\u001b[0m\n\u001b[0;32m---> 82\u001b[0;31m         \u001b[0;32mraise\u001b[0m \u001b[0mKeyError\u001b[0m\u001b[0;34m\u001b[0m\u001b[0;34m\u001b[0m\u001b[0m\n\u001b[0m\u001b[1;32m     83\u001b[0m \u001b[0;34m\u001b[0m\u001b[0m\n\u001b[1;32m     84\u001b[0m     \u001b[0;32mtry\u001b[0m\u001b[0;34m:\u001b[0m\u001b[0;34m\u001b[0m\u001b[0;34m\u001b[0m\u001b[0m\n",
      "\u001b[0;31mKeyError\u001b[0m: "
     ]
    }
   ],
   "source": [
    "search_args = load_credentials(twitter_creds_path, yaml_key='sample_tweets_api')\n",
    "\n",
    "# this should probably be moved to the configs.yaml\n",
    "query = \"((cyclone amphan) OR amphan)\"\n",
    "\n",
    "\n",
    "##Cyclone amphan\n",
    "#Formed:16 May 2020\n",
    "#Dissipated:21 May 2020\n",
    "\n",
    "from_date=\"2020-05-14\"\n",
    "to_date=\"2020-06-15\"\n",
    "\n",
    "# I defined results_per_call as 100 which is default for free users. These can be 500 for paid tiers.\n",
    "rule = gen_rule_payload(query, results_per_call=100, from_date=\"2020-05-14\", to_date=\"2020-06-15\")\n",
    "\n",
    "rs = ResultStream(rule_payload=rule,\n",
    "                  max_results=200,\n",
    "                  **search_args)"
   ]
  },
  {
   "cell_type": "code",
   "execution_count": 3,
   "metadata": {},
   "outputs": [
    {
     "name": "stdout",
     "output_type": "stream",
     "text": [
      "done\n"
     ]
    }
   ],
   "source": [
    "fname = f'SAMPLE_DATA_QUERY_{query}_FROMDATE_{from_date}_TODATE_{to_date}.json'\n",
    "with open(join(raw_dir, fname), 'a', encoding='utf-8') as f:\n",
    "    for tweet in rs.stream():\n",
    "        json.dump(tweet, f)\n",
    "        f.write('\\n')\n",
    "print('done')"
   ]
  },
  {
   "cell_type": "markdown",
   "metadata": {},
   "source": [
    "## Count existing tweets for a given request"
   ]
  },
  {
   "cell_type": "code",
   "execution_count": 5,
   "metadata": {},
   "outputs": [
    {
     "name": "stderr",
     "output_type": "stream",
     "text": [
      "Grabbing bearer token from OAUTH\n"
     ]
    },
    {
     "data": {
      "text/plain": [
       "[{'timePeriod': '202005150000', 'count': 838},\n",
       " {'timePeriod': '202005160000', 'count': 2634},\n",
       " {'timePeriod': '202005170000', 'count': 4519},\n",
       " {'timePeriod': '202005180000', 'count': 27521},\n",
       " {'timePeriod': '202005190000', 'count': 29507},\n",
       " {'timePeriod': '202005200000', 'count': 45663},\n",
       " {'timePeriod': '202005210000', 'count': 69028},\n",
       " {'timePeriod': '202005220000', 'count': 57859},\n",
       " {'timePeriod': '202005230000', 'count': 19856},\n",
       " {'timePeriod': '202005240000', 'count': 8087},\n",
       " {'timePeriod': '202005250000', 'count': 12319},\n",
       " {'timePeriod': '202005260000', 'count': 7055},\n",
       " {'timePeriod': '202005270000', 'count': 7039},\n",
       " {'timePeriod': '202005280000', 'count': 4180},\n",
       " {'timePeriod': '202005290000', 'count': 4791},\n",
       " {'timePeriod': '202005300000', 'count': 2435},\n",
       " {'timePeriod': '202005310000', 'count': 2747},\n",
       " {'timePeriod': '202006010000', 'count': 4932},\n",
       " {'timePeriod': '202006020000', 'count': 2799},\n",
       " {'timePeriod': '202006030000', 'count': 9709},\n",
       " {'timePeriod': '202006040000', 'count': 3852},\n",
       " {'timePeriod': '202006050000', 'count': 1746},\n",
       " {'timePeriod': '202006060000', 'count': 1338},\n",
       " {'timePeriod': '202006070000', 'count': 1248},\n",
       " {'timePeriod': '202006080000', 'count': 2038},\n",
       " {'timePeriod': '202006090000', 'count': 2002},\n",
       " {'timePeriod': '202006100000', 'count': 793},\n",
       " {'timePeriod': '202006110000', 'count': 1135},\n",
       " {'timePeriod': '202006120000', 'count': 1384},\n",
       " {'timePeriod': '202006130000', 'count': 487},\n",
       " {'timePeriod': '202006140000', 'count': 508},\n",
       " {'timePeriod': '202005140000', 'count': 177}]"
      ]
     },
     "execution_count": 5,
     "metadata": {},
     "output_type": "execute_result"
    }
   ],
   "source": [
    "search_args = load_credentials(twitter_creds_path, yaml_key='search_tweets_api')\n",
    "query = \"(cyclone amphan)\"\n",
    "\n",
    "count_rule = gen_rule_payload(query, from_date=\"2020-05-14\", to_date=\"2020-06-15\", count_bucket=\"day\", results_per_call=500)\n",
    "\n",
    "counts = collect_results(count_rule, result_stream_args=search_args)\n",
    "\n",
    "counts"
   ]
  },
  {
   "cell_type": "code",
   "execution_count": 7,
   "metadata": {},
   "outputs": [
    {
     "data": {
      "text/plain": [
       "340226"
      ]
     },
     "execution_count": 7,
     "metadata": {},
     "output_type": "execute_result"
    }
   ],
   "source": [
    "tweets = 0\n",
    "for day in counts:\n",
    "    tweets+=day['count']\n",
    "\n",
    "tweets"
   ]
  }
 ],
 "metadata": {
  "kernelspec": {
   "display_name": "Python 3",
   "language": "python",
   "name": "python3"
  },
  "language_info": {
   "codemirror_mode": {
    "name": "ipython",
    "version": 3
   },
   "file_extension": ".py",
   "mimetype": "text/x-python",
   "name": "python",
   "nbconvert_exporter": "python",
   "pygments_lexer": "ipython3",
   "version": "3.8.3"
  }
 },
 "nbformat": 4,
 "nbformat_minor": 4
}
