{
 "cells": [
  {
   "cell_type": "markdown",
   "metadata": {},
   "source": [
    "# Tweet Preprocessing\n",
    "#### Basic text-preprocessing pipeline (in no particular order):\n",
    "- Detect and translate tweets to English\n",
    "- Tokenization\n",
    "- Stopword removal & Lemmatization\n",
    "- Remove URLs and reserved words (RTs)\n",
    "- Lowercasing\n",
    "- Remove # and @ symbols but keep values\n",
    "- Spell Checker\n",
    "- Remove punctuation (possibly, although useful for tweet fragmentation)"
   ]
  },
  {
   "cell_type": "code",
   "execution_count": 142,
   "metadata": {},
   "outputs": [],
   "source": [
    "import os\n",
    "import pandas as pd\n",
    "import numpy as np\n",
    "import preprocessor as prep\n",
    "from os.path import join\n",
    "from sqlite3 import connect\n",
    "import seaborn as sns; sns.set()\n",
    "import matplotlib.pyplot as plt\n",
    "from googletrans import Translator\n",
    "from nltk.corpus import stopwords\n",
    "from nltk.util import ngrams\n",
    "from spellchecker import SpellChecker\n",
    "import nltk\n",
    "import string\n",
    "\n",
    "pd.options.display.max_columns = None\n",
    "pd.options.display.max_rows = None"
   ]
  },
  {
   "cell_type": "markdown",
   "metadata": {},
   "source": [
    "### Getting Data (tweets)"
   ]
  },
  {
   "cell_type": "code",
   "execution_count": 143,
   "metadata": {},
   "outputs": [],
   "source": [
    "project_dir = join(os.getcwd(), os.pardir)\n",
    "raw_dir = join(project_dir, 'data', 'raw')\n",
    "interim_dir = join(project_dir, 'data', 'interim')\n",
    "db_name = 'data_pull_sample.db'\n",
    "\n",
    "%config InlineBackend.figure_format = 'svg'"
   ]
  },
  {
   "cell_type": "code",
   "execution_count": 144,
   "metadata": {},
   "outputs": [],
   "source": [
    "conn = connect(join(interim_dir, db_name))\n",
    "df_tweets = pd.read_sql('SELECT * FROM tweets', conn)\n",
    "df_tweets.drop_duplicates(subset='id_str', inplace=True)\n",
    "df_tweets.loc[:,'is_original'] = ~df_tweets[['is_reply', 'is_retweet', 'is_quote_status']].sum(1).astype(bool)"
   ]
  },
  {
   "cell_type": "code",
   "execution_count": 145,
   "metadata": {},
   "outputs": [
    {
     "data": {
      "text/plain": [
       "(20500, 19)"
      ]
     },
     "execution_count": 145,
     "metadata": {},
     "output_type": "execute_result"
    }
   ],
   "source": [
    "df_tweets.shape"
   ]
  },
  {
   "cell_type": "code",
   "execution_count": 146,
   "metadata": {},
   "outputs": [
    {
     "data": {
      "text/html": [
       "<div>\n",
       "<style scoped>\n",
       "    .dataframe tbody tr th:only-of-type {\n",
       "        vertical-align: middle;\n",
       "    }\n",
       "\n",
       "    .dataframe tbody tr th {\n",
       "        vertical-align: top;\n",
       "    }\n",
       "\n",
       "    .dataframe thead th {\n",
       "        text-align: right;\n",
       "    }\n",
       "</style>\n",
       "<table border=\"1\" class=\"dataframe\">\n",
       "  <thead>\n",
       "    <tr style=\"text-align: right;\">\n",
       "      <th></th>\n",
       "      <th>created_at</th>\n",
       "      <th>id_str</th>\n",
       "      <th>source</th>\n",
       "      <th>in_reply_to_status_id_str</th>\n",
       "      <th>in_reply_to_user_id_str</th>\n",
       "      <th>is_quote_status</th>\n",
       "      <th>quote_count</th>\n",
       "      <th>reply_count</th>\n",
       "      <th>retweet_count</th>\n",
       "      <th>favorite_count</th>\n",
       "      <th>lang</th>\n",
       "      <th>possibly_sensitive</th>\n",
       "      <th>quoted_status_id_str</th>\n",
       "      <th>user_id_str</th>\n",
       "      <th>full_text</th>\n",
       "      <th>is_retweet</th>\n",
       "      <th>original_tweet_id_str</th>\n",
       "      <th>is_reply</th>\n",
       "      <th>is_original</th>\n",
       "    </tr>\n",
       "  </thead>\n",
       "  <tbody>\n",
       "    <tr>\n",
       "      <th>0</th>\n",
       "      <td>2020-06-14 23:57:21+00:00</td>\n",
       "      <td>1272317232626888704</td>\n",
       "      <td>&lt;a href=\"http://twitter.com/download/android\" ...</td>\n",
       "      <td>1.272317e+18</td>\n",
       "      <td>4.844328e+09</td>\n",
       "      <td>0</td>\n",
       "      <td>0</td>\n",
       "      <td>1</td>\n",
       "      <td>0</td>\n",
       "      <td>0</td>\n",
       "      <td>ja</td>\n",
       "      <td>NaN</td>\n",
       "      <td>NaN</td>\n",
       "      <td>1065957356079476736</td>\n",
       "      <td>@Ampan_C そのコメント欄に必ず私が居た‼️🤔🙄🙄🙄\\n自分で質問して自分が最初にコメ...</td>\n",
       "      <td>0</td>\n",
       "      <td>None</td>\n",
       "      <td>1</td>\n",
       "      <td>False</td>\n",
       "    </tr>\n",
       "    <tr>\n",
       "      <th>1</th>\n",
       "      <td>2020-06-14 23:51:31+00:00</td>\n",
       "      <td>1272315765975183360</td>\n",
       "      <td>&lt;a href=\"http://twitter.com/download/android\" ...</td>\n",
       "      <td>1.272312e+18</td>\n",
       "      <td>4.844328e+09</td>\n",
       "      <td>0</td>\n",
       "      <td>0</td>\n",
       "      <td>1</td>\n",
       "      <td>0</td>\n",
       "      <td>0</td>\n",
       "      <td>ja</td>\n",
       "      <td>NaN</td>\n",
       "      <td>NaN</td>\n",
       "      <td>1065957356079476736</td>\n",
       "      <td>@Ampan_C X軸とY軸が有るグラフで虚数を掛けると90度回転する‼️🤔</td>\n",
       "      <td>0</td>\n",
       "      <td>None</td>\n",
       "      <td>1</td>\n",
       "      <td>False</td>\n",
       "    </tr>\n",
       "    <tr>\n",
       "      <th>2</th>\n",
       "      <td>2020-06-14 23:51:02+00:00</td>\n",
       "      <td>1272315644495581184</td>\n",
       "      <td>&lt;a href=\"http://twitter.com/download/android\" ...</td>\n",
       "      <td>NaN</td>\n",
       "      <td>NaN</td>\n",
       "      <td>0</td>\n",
       "      <td>0</td>\n",
       "      <td>0</td>\n",
       "      <td>0</td>\n",
       "      <td>0</td>\n",
       "      <td>en</td>\n",
       "      <td>NaN</td>\n",
       "      <td>NaN</td>\n",
       "      <td>901828520</td>\n",
       "      <td>RT @IYCWestBengal: Today #WBPYC President @Sha...</td>\n",
       "      <td>1</td>\n",
       "      <td>1272197734913544193</td>\n",
       "      <td>0</td>\n",
       "      <td>False</td>\n",
       "    </tr>\n",
       "    <tr>\n",
       "      <th>3</th>\n",
       "      <td>2020-06-14 23:50:39+00:00</td>\n",
       "      <td>1272315545027637248</td>\n",
       "      <td>&lt;a href=\"http://twitter.com/download/android\" ...</td>\n",
       "      <td>NaN</td>\n",
       "      <td>NaN</td>\n",
       "      <td>0</td>\n",
       "      <td>0</td>\n",
       "      <td>0</td>\n",
       "      <td>0</td>\n",
       "      <td>0</td>\n",
       "      <td>en</td>\n",
       "      <td>NaN</td>\n",
       "      <td>NaN</td>\n",
       "      <td>921596113949417472</td>\n",
       "      <td>RT @IYCWestBengal: Today #WBPYC President @Sha...</td>\n",
       "      <td>1</td>\n",
       "      <td>1272197734913544193</td>\n",
       "      <td>0</td>\n",
       "      <td>False</td>\n",
       "    </tr>\n",
       "    <tr>\n",
       "      <th>4</th>\n",
       "      <td>2020-06-14 23:49:53+00:00</td>\n",
       "      <td>1272315355700981760</td>\n",
       "      <td>&lt;a href=\"http://twitter.com/download/iphone\" r...</td>\n",
       "      <td>1.272315e+18</td>\n",
       "      <td>4.844328e+09</td>\n",
       "      <td>0</td>\n",
       "      <td>0</td>\n",
       "      <td>1</td>\n",
       "      <td>0</td>\n",
       "      <td>0</td>\n",
       "      <td>ja</td>\n",
       "      <td>NaN</td>\n",
       "      <td>NaN</td>\n",
       "      <td>906562306401755136</td>\n",
       "      <td>@Ampan_C あんぱんおぱよー！</td>\n",
       "      <td>0</td>\n",
       "      <td>None</td>\n",
       "      <td>1</td>\n",
       "      <td>False</td>\n",
       "    </tr>\n",
       "  </tbody>\n",
       "</table>\n",
       "</div>"
      ],
      "text/plain": [
       "                  created_at               id_str  \\\n",
       "0  2020-06-14 23:57:21+00:00  1272317232626888704   \n",
       "1  2020-06-14 23:51:31+00:00  1272315765975183360   \n",
       "2  2020-06-14 23:51:02+00:00  1272315644495581184   \n",
       "3  2020-06-14 23:50:39+00:00  1272315545027637248   \n",
       "4  2020-06-14 23:49:53+00:00  1272315355700981760   \n",
       "\n",
       "                                              source  \\\n",
       "0  <a href=\"http://twitter.com/download/android\" ...   \n",
       "1  <a href=\"http://twitter.com/download/android\" ...   \n",
       "2  <a href=\"http://twitter.com/download/android\" ...   \n",
       "3  <a href=\"http://twitter.com/download/android\" ...   \n",
       "4  <a href=\"http://twitter.com/download/iphone\" r...   \n",
       "\n",
       "   in_reply_to_status_id_str  in_reply_to_user_id_str  is_quote_status  \\\n",
       "0               1.272317e+18             4.844328e+09                0   \n",
       "1               1.272312e+18             4.844328e+09                0   \n",
       "2                        NaN                      NaN                0   \n",
       "3                        NaN                      NaN                0   \n",
       "4               1.272315e+18             4.844328e+09                0   \n",
       "\n",
       "   quote_count  reply_count  retweet_count  favorite_count lang  \\\n",
       "0            0            1              0               0   ja   \n",
       "1            0            1              0               0   ja   \n",
       "2            0            0              0               0   en   \n",
       "3            0            0              0               0   en   \n",
       "4            0            1              0               0   ja   \n",
       "\n",
       "   possibly_sensitive  quoted_status_id_str          user_id_str  \\\n",
       "0                 NaN                   NaN  1065957356079476736   \n",
       "1                 NaN                   NaN  1065957356079476736   \n",
       "2                 NaN                   NaN            901828520   \n",
       "3                 NaN                   NaN   921596113949417472   \n",
       "4                 NaN                   NaN   906562306401755136   \n",
       "\n",
       "                                           full_text  is_retweet  \\\n",
       "0  @Ampan_C そのコメント欄に必ず私が居た‼️🤔🙄🙄🙄\\n自分で質問して自分が最初にコメ...           0   \n",
       "1             @Ampan_C X軸とY軸が有るグラフで虚数を掛けると90度回転する‼️🤔           0   \n",
       "2  RT @IYCWestBengal: Today #WBPYC President @Sha...           1   \n",
       "3  RT @IYCWestBengal: Today #WBPYC President @Sha...           1   \n",
       "4                                 @Ampan_C あんぱんおぱよー！           0   \n",
       "\n",
       "  original_tweet_id_str  is_reply  is_original  \n",
       "0                  None         1        False  \n",
       "1                  None         1        False  \n",
       "2   1272197734913544193         0        False  \n",
       "3   1272197734913544193         0        False  \n",
       "4                  None         1        False  "
      ]
     },
     "execution_count": 146,
     "metadata": {},
     "output_type": "execute_result"
    }
   ],
   "source": [
    "df_tweets.head()"
   ]
  },
  {
   "cell_type": "markdown",
   "metadata": {},
   "source": [
    "### Translate Tweets"
   ]
  },
  {
   "cell_type": "code",
   "execution_count": 147,
   "metadata": {},
   "outputs": [],
   "source": [
    "def translate_tweet(text, lang):\n",
    "    trans = Translator()\n",
    "    return trans.translate(text).text"
   ]
  },
  {
   "cell_type": "code",
   "execution_count": 149,
   "metadata": {},
   "outputs": [],
   "source": [
    "for i in df_tweets.index:\n",
    "    if df_tweets['lang'][i]!='en':\n",
    "        df_tweets.loc[i,'full_text'] = translate_tweet(df_tweets['full_text'][i], df_tweets['lang'][i])\n",
    "        df_tweets.loc[i, 'lang'] = 'en'"
   ]
  },
  {
   "cell_type": "markdown",
   "metadata": {},
   "source": [
    "### Removing URLs and Reserved Words (RTs)"
   ]
  },
  {
   "cell_type": "code",
   "execution_count": 150,
   "metadata": {},
   "outputs": [],
   "source": [
    "prep.set_options(prep.OPT.URL, prep.OPT.RESERVED)"
   ]
  },
  {
   "cell_type": "code",
   "execution_count": 151,
   "metadata": {},
   "outputs": [],
   "source": [
    "df_tweets['full_text'] = df_tweets['full_text'].apply(lambda x: prep.clean(x))"
   ]
  },
  {
   "cell_type": "markdown",
   "metadata": {},
   "source": [
    "### Lowercasing & Punctuation Removal"
   ]
  },
  {
   "cell_type": "code",
   "execution_count": 152,
   "metadata": {},
   "outputs": [],
   "source": [
    "df_tweets['full_text'] = df_tweets['full_text'].apply(lambda x: x.lower())"
   ]
  },
  {
   "cell_type": "code",
   "execution_count": 153,
   "metadata": {},
   "outputs": [],
   "source": [
    "def remove_punct(text):\n",
    "    table = str.maketrans('','',string.punctuation)\n",
    "    return text.translate(table)"
   ]
  },
  {
   "cell_type": "code",
   "execution_count": 154,
   "metadata": {},
   "outputs": [],
   "source": [
    "df_tweets['full_text'] = df_tweets['full_text'].apply(lambda x: remove_punct(x))"
   ]
  },
  {
   "cell_type": "markdown",
   "metadata": {},
   "source": [
    "### Lemmatization & Stopword removal"
   ]
  },
  {
   "cell_type": "code",
   "execution_count": 155,
   "metadata": {},
   "outputs": [],
   "source": [
    "lemmatizer = nltk.stem.WordNetLemmatizer()\n",
    "df_tweets['full_text'] = df_tweets['full_text'].apply(lambda x: ' '.join([lemmatizer.lemmatize(w) for w in x.split()]))"
   ]
  },
  {
   "cell_type": "code",
   "execution_count": 156,
   "metadata": {},
   "outputs": [],
   "source": [
    "stop_words = set(stopwords.words('english'))\n",
    "df_tweets['full_text'] = df_tweets['full_text'].apply(lambda x: ' '.join([word for word in x.split() if word not in stop_words]))"
   ]
  },
  {
   "cell_type": "markdown",
   "metadata": {},
   "source": [
    "### Spell Checker"
   ]
  },
  {
   "cell_type": "code",
   "execution_count": 157,
   "metadata": {},
   "outputs": [],
   "source": [
    "spell = SpellChecker()\n",
    "\n",
    "def correct_spellings(text):\n",
    "    corrected_text = []\n",
    "    misspelled_words = spell.unknown(text.split())\n",
    "    for word in text.split():\n",
    "        if word in misspelled_words:\n",
    "            corrected_text.append(spell.correction(word))\n",
    "        else:\n",
    "            corrected_text.append(word)\n",
    "    return \" \".join(corrected_text)"
   ]
  },
  {
   "cell_type": "code",
   "execution_count": 158,
   "metadata": {},
   "outputs": [],
   "source": [
    "##Taking too much time to execute\n",
    "\n",
    "##df_tweets['full_text'] = df_tweets['full_text'].apply(lambda x: correct_spellings(x))"
   ]
  },
  {
   "cell_type": "markdown",
   "metadata": {},
   "source": [
    "### Loading into Database"
   ]
  },
  {
   "cell_type": "code",
   "execution_count": 161,
   "metadata": {},
   "outputs": [],
   "source": [
    "f_name = 'processed_tweets.db'\n",
    "\n",
    "with connect(join(interim_dir, f_name)) as connection:\n",
    "    df_tweets.to_sql('tweets', connection, index=False, if_exists='replace')"
   ]
  },
  {
   "cell_type": "code",
   "execution_count": null,
   "metadata": {},
   "outputs": [],
   "source": []
  }
 ],
 "metadata": {
  "kernelspec": {
   "display_name": "Python 3",
   "language": "python",
   "name": "python3"
  },
  "language_info": {
   "codemirror_mode": {
    "name": "ipython",
    "version": 3
   },
   "file_extension": ".py",
   "mimetype": "text/x-python",
   "name": "python",
   "nbconvert_exporter": "python",
   "pygments_lexer": "ipython3",
   "version": "3.8.2"
  }
 },
 "nbformat": 4,
 "nbformat_minor": 4
}
