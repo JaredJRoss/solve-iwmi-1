{
 "cells": [
  {
   "cell_type": "markdown",
   "metadata": {},
   "source": [
    "# Data ETL - Function Testing\n",
    "\n",
    "This notebook implements the functions developed for Twitter data ETL. See notebooks 1.2 and 1.3, as well as documentation to understand the steps developed/implemented in these functions."
   ]
  },
  {
   "cell_type": "code",
   "execution_count": 1,
   "metadata": {},
   "outputs": [],
   "source": [
    "import os\n",
    "import sys\n",
    "from os.path import join\n",
    "import pandas as pd\n",
    "import numpy as np\n",
    "\n",
    "project_dir = join(os.getcwd(), os.pardir)\n",
    "raw_dir = join(project_dir, 'data', 'raw')\n",
    "raw_fname = 'data_pull_sample.json'\n",
    "\n",
    "sys.path.append(project_dir)\n",
    "\n",
    "from src.data import transform, load_es"
   ]
  },
  {
   "cell_type": "markdown",
   "metadata": {},
   "source": [
    "Initialize Elastic Search and Kibana docker containers:"
   ]
  },
  {
   "cell_type": "code",
   "execution_count": 2,
   "metadata": {},
   "outputs": [
    {
     "name": "stdout",
     "output_type": "stream",
     "text": [
      "docker-compose up -d\n",
      "solve-iwmi_elasticsearch_1 is up-to-date\n",
      "solve-iwmi_kibana_1 is up-to-date\n",
      "open http://localhost:5601\n"
     ]
    }
   ],
   "source": [
    "os.chdir(project_dir)\n",
    "# if the containers need to be built:\n",
    "#!make create_database\n",
    "# Otherwise run:\n",
    "!make database\n",
    "\n",
    "os.chdir(join(project_dir, 'notebooks'))"
   ]
  },
  {
   "cell_type": "code",
   "execution_count": 3,
   "metadata": {},
   "outputs": [],
   "source": [
    "df = transform(join(raw_dir, raw_fname))"
   ]
  },
  {
   "cell_type": "code",
   "execution_count": 4,
   "metadata": {},
   "outputs": [
    {
     "name": "stderr",
     "output_type": "stream",
     "text": [
      "2020-08-03 15:34:03,586 - src.data._load_es - INFO - Loading data into es\n",
      "2020-08-03 15:34:06,594 - elasticsearch - INFO - POST http://localhost:9200/twitter/_bulk [status:200 request:2.621s]\n",
      "2020-08-03 15:34:08,088 - elasticsearch - INFO - POST http://localhost:9200/twitter/_bulk [status:200 request:1.286s]\n",
      "2020-08-03 15:34:09,204 - elasticsearch - INFO - POST http://localhost:9200/twitter/_bulk [status:200 request:0.908s]\n",
      "2020-08-03 15:34:10,100 - elasticsearch - INFO - POST http://localhost:9200/twitter/_bulk [status:200 request:0.764s]\n",
      "2020-08-03 15:34:10,723 - elasticsearch - INFO - POST http://localhost:9200/twitter/_bulk [status:200 request:0.443s]\n",
      "2020-08-03 15:34:11,480 - elasticsearch - INFO - POST http://localhost:9200/twitter/_bulk [status:200 request:0.591s]\n",
      "2020-08-03 15:34:12,001 - elasticsearch - INFO - POST http://localhost:9200/twitter/_bulk [status:200 request:0.341s]\n",
      "2020-08-03 15:34:12,476 - elasticsearch - INFO - POST http://localhost:9200/twitter/_bulk [status:200 request:0.320s]\n",
      "2020-08-03 15:34:13,104 - elasticsearch - INFO - POST http://localhost:9200/twitter/_bulk [status:200 request:0.499s]\n",
      "2020-08-03 15:34:13,640 - elasticsearch - INFO - POST http://localhost:9200/twitter/_bulk [status:200 request:0.368s]\n",
      "2020-08-03 15:34:14,094 - elasticsearch - INFO - POST http://localhost:9200/twitter/_bulk [status:200 request:0.322s]\n",
      "2020-08-03 15:34:14,564 - elasticsearch - INFO - POST http://localhost:9200/twitter/_bulk [status:200 request:0.290s]\n",
      "2020-08-03 15:34:14,988 - elasticsearch - INFO - POST http://localhost:9200/twitter/_bulk [status:200 request:0.285s]\n",
      "2020-08-03 15:34:15,551 - elasticsearch - INFO - POST http://localhost:9200/twitter/_bulk [status:200 request:0.434s]\n",
      "2020-08-03 15:34:16,063 - elasticsearch - INFO - POST http://localhost:9200/twitter/_bulk [status:200 request:0.288s]\n",
      "2020-08-03 15:34:16,759 - elasticsearch - INFO - POST http://localhost:9200/twitter/_bulk [status:200 request:0.506s]\n",
      "2020-08-03 15:34:17,164 - elasticsearch - INFO - POST http://localhost:9200/twitter/_bulk [status:200 request:0.243s]\n",
      "2020-08-03 15:34:17,669 - elasticsearch - INFO - POST http://localhost:9200/twitter/_bulk [status:200 request:0.296s]\n",
      "2020-08-03 15:34:18,179 - elasticsearch - INFO - POST http://localhost:9200/twitter/_bulk [status:200 request:0.345s]\n",
      "2020-08-03 15:34:18,545 - elasticsearch - INFO - POST http://localhost:9200/twitter/_bulk [status:200 request:0.214s]\n",
      "2020-08-03 15:34:19,032 - elasticsearch - INFO - POST http://localhost:9200/twitter/_bulk [status:200 request:0.348s]\n",
      "2020-08-03 15:34:19,424 - elasticsearch - INFO - POST http://localhost:9200/twitter/_bulk [status:200 request:0.253s]\n",
      "2020-08-03 15:34:20,159 - elasticsearch - INFO - POST http://localhost:9200/twitter/_bulk [status:200 request:0.500s]\n",
      "2020-08-03 15:34:20,948 - elasticsearch - INFO - POST http://localhost:9200/twitter/_bulk [status:200 request:0.551s]\n",
      "2020-08-03 15:34:21,437 - elasticsearch - INFO - POST http://localhost:9200/twitter/_bulk [status:200 request:0.283s]\n",
      "2020-08-03 15:34:22,278 - elasticsearch - INFO - POST http://localhost:9200/twitter/_bulk [status:200 request:0.625s]\n",
      "2020-08-03 15:34:22,857 - elasticsearch - INFO - POST http://localhost:9200/twitter/_bulk [status:200 request:0.336s]\n",
      "2020-08-03 15:34:23,377 - elasticsearch - INFO - POST http://localhost:9200/twitter/_bulk [status:200 request:0.324s]\n",
      "2020-08-03 15:34:24,109 - elasticsearch - INFO - POST http://localhost:9200/twitter/_bulk [status:200 request:0.555s]\n",
      "2020-08-03 15:34:24,597 - elasticsearch - INFO - POST http://localhost:9200/twitter/_bulk [status:200 request:0.336s]\n",
      "2020-08-03 15:34:24,994 - elasticsearch - INFO - POST http://localhost:9200/twitter/_bulk [status:200 request:0.224s]\n",
      "2020-08-03 15:34:25,433 - elasticsearch - INFO - POST http://localhost:9200/twitter/_bulk [status:200 request:0.241s]\n",
      "2020-08-03 15:34:25,824 - elasticsearch - INFO - POST http://localhost:9200/twitter/_bulk [status:200 request:0.247s]\n",
      "2020-08-03 15:34:26,270 - elasticsearch - INFO - POST http://localhost:9200/twitter/_bulk [status:200 request:0.292s]\n",
      "2020-08-03 15:34:26,767 - elasticsearch - INFO - POST http://localhost:9200/twitter/_bulk [status:200 request:0.288s]\n",
      "2020-08-03 15:34:27,191 - elasticsearch - INFO - POST http://localhost:9200/twitter/_bulk [status:200 request:0.244s]\n",
      "2020-08-03 15:34:27,588 - elasticsearch - INFO - POST http://localhost:9200/twitter/_bulk [status:200 request:0.237s]\n",
      "2020-08-03 15:34:28,070 - elasticsearch - INFO - POST http://localhost:9200/twitter/_bulk [status:200 request:0.289s]\n",
      "2020-08-03 15:34:28,465 - elasticsearch - INFO - POST http://localhost:9200/twitter/_bulk [status:200 request:0.235s]\n",
      "2020-08-03 15:34:28,855 - elasticsearch - INFO - POST http://localhost:9200/twitter/_bulk [status:200 request:0.239s]\n",
      "2020-08-03 15:34:29,399 - elasticsearch - INFO - POST http://localhost:9200/twitter/_bulk [status:200 request:0.376s]\n",
      "2020-08-03 15:34:29,823 - elasticsearch - INFO - POST http://localhost:9200/twitter/_bulk [status:200 request:0.249s]\n",
      "2020-08-03 15:34:30,218 - elasticsearch - INFO - POST http://localhost:9200/twitter/_bulk [status:200 request:0.253s]\n",
      "2020-08-03 15:34:30,852 - elasticsearch - INFO - POST http://localhost:9200/twitter/_bulk [status:200 request:0.476s]\n",
      "2020-08-03 15:34:31,731 - elasticsearch - INFO - POST http://localhost:9200/twitter/_bulk [status:200 request:0.416s]\n",
      "2020-08-03 15:34:32,871 - elasticsearch - INFO - POST http://localhost:9200/twitter/_bulk [status:200 request:0.792s]\n",
      "2020-08-03 15:34:33,788 - elasticsearch - INFO - POST http://localhost:9200/twitter/_bulk [status:200 request:0.613s]\n",
      "2020-08-03 15:34:34,585 - elasticsearch - INFO - POST http://localhost:9200/twitter/_bulk [status:200 request:0.607s]\n",
      "2020-08-03 15:34:35,208 - elasticsearch - INFO - POST http://localhost:9200/twitter/_bulk [status:200 request:0.398s]\n",
      "2020-08-03 15:34:35,641 - elasticsearch - INFO - POST http://localhost:9200/twitter/_bulk [status:200 request:0.223s]\n",
      "2020-08-03 15:34:36,023 - elasticsearch - INFO - POST http://localhost:9200/twitter/_bulk [status:200 request:0.230s]\n",
      "2020-08-03 15:34:36,423 - elasticsearch - INFO - POST http://localhost:9200/twitter/_bulk [status:200 request:0.245s]\n",
      "2020-08-03 15:34:36,820 - elasticsearch - INFO - POST http://localhost:9200/twitter/_bulk [status:200 request:0.226s]\n"
     ]
    },
    {
     "data": {
      "text/plain": [
       "(26500, [])"
      ]
     },
     "execution_count": 4,
     "metadata": {},
     "output_type": "execute_result"
    }
   ],
   "source": [
    "load_es(df, verbose=True)"
   ]
  }
 ],
 "metadata": {
  "kernelspec": {
   "display_name": "Python 3",
   "language": "python",
   "name": "python3"
  },
  "language_info": {
   "codemirror_mode": {
    "name": "ipython",
    "version": 3
   },
   "file_extension": ".py",
   "mimetype": "text/x-python",
   "name": "python",
   "nbconvert_exporter": "python",
   "pygments_lexer": "ipython3",
   "version": "3.8.3"
  }
 },
 "nbformat": 4,
 "nbformat_minor": 4
}
