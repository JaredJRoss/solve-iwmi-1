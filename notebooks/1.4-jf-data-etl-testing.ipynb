{
 "cells": [
  {
   "cell_type": "markdown",
   "metadata": {},
   "source": [
    "# Data ETL - Function Testing\n",
    "\n",
    "This notebook implements the functions developed for Twitter data ETL. See notebooks 1.2 and 1.3, as well as documentation to understand the steps developed/implemented in these functions."
   ]
  },
  {
   "cell_type": "code",
   "execution_count": 1,
   "metadata": {},
   "outputs": [],
   "source": [
    "import os\n",
    "import sys\n",
    "from os.path import join\n",
    "import pandas as pd\n",
    "import numpy as np\n",
    "\n",
    "project_dir = join(os.getcwd(), os.pardir)\n",
    "raw_dir = join(project_dir, 'data', 'raw')\n",
    "raw_fname = 'data_pull_sample.json'\n",
    "\n",
    "sys.path.append(project_dir)\n",
    "\n",
    "from src.data import transform, load_es"
   ]
  },
  {
   "cell_type": "markdown",
   "metadata": {},
   "source": [
    "Initialize Elastic Search and Kibana docker containers:"
   ]
  },
  {
   "cell_type": "code",
   "execution_count": 2,
   "metadata": {},
   "outputs": [
    {
     "name": "stdout",
     "output_type": "stream",
     "text": [
      "make -i create_docker_network\n",
      "docker network create iwmi-net\n",
      "Error response from daemon: network with name iwmi-net already exists\n",
      "make[1]: [create_docker_network] Error 1 (ignored)\n",
      "docker-compose up -d\n",
      "solve-iwmi_elasticsearch_1 is up-to-date\n",
      "solve-iwmi_kibana_1 is up-to-date\n",
      ">>> Kibana is running at http://localhost:5601\n"
     ]
    }
   ],
   "source": [
    "os.chdir(project_dir)\n",
    "!make database\n",
    "os.chdir(join(project_dir, 'notebooks'))"
   ]
  },
  {
   "cell_type": "code",
   "execution_count": 3,
   "metadata": {
    "scrolled": true
   },
   "outputs": [],
   "source": [
    "df = transform(join(raw_dir, raw_fname))"
   ]
  },
  {
   "cell_type": "code",
   "execution_count": 4,
   "metadata": {},
   "outputs": [
    {
     "name": "stderr",
     "output_type": "stream",
     "text": [
      "2020-08-03 18:48:18,893 - src.data._load_es - INFO - Loading data into es\n",
      "2020-08-03 18:48:23,261 - elasticsearch - INFO - POST http://localhost:9200/twitter/_bulk [status:200 request:4.012s]\n",
      "2020-08-03 18:48:23,803 - elasticsearch - INFO - POST http://localhost:9200/twitter/_bulk [status:200 request:0.376s]\n",
      "2020-08-03 18:48:24,450 - elasticsearch - INFO - POST http://localhost:9200/twitter/_bulk [status:200 request:0.464s]\n",
      "2020-08-03 18:48:25,183 - elasticsearch - INFO - POST http://localhost:9200/twitter/_bulk [status:200 request:0.426s]\n",
      "2020-08-03 18:48:25,888 - elasticsearch - INFO - POST http://localhost:9200/twitter/_bulk [status:200 request:0.489s]\n",
      "2020-08-03 18:48:26,592 - elasticsearch - INFO - POST http://localhost:9200/twitter/_bulk [status:200 request:0.488s]\n",
      "2020-08-03 18:48:27,252 - elasticsearch - INFO - POST http://localhost:9200/twitter/_bulk [status:200 request:0.470s]\n",
      "2020-08-03 18:48:27,794 - elasticsearch - INFO - POST http://localhost:9200/twitter/_bulk [status:200 request:0.343s]\n",
      "2020-08-03 18:48:28,335 - elasticsearch - INFO - POST http://localhost:9200/twitter/_bulk [status:200 request:0.380s]\n",
      "2020-08-03 18:48:29,121 - elasticsearch - INFO - POST http://localhost:9200/twitter/_bulk [status:200 request:0.637s]\n",
      "2020-08-03 18:48:32,326 - elasticsearch - INFO - POST http://localhost:9200/twitter/_bulk [status:200 request:3.040s]\n",
      "2020-08-03 18:48:35,425 - elasticsearch - INFO - POST http://localhost:9200/twitter/_bulk [status:200 request:2.075s]\n",
      "2020-08-03 18:48:37,632 - elasticsearch - INFO - POST http://localhost:9200/twitter/_bulk [status:200 request:0.466s]\n",
      "2020-08-03 18:48:38,423 - elasticsearch - INFO - POST http://localhost:9200/twitter/_bulk [status:200 request:0.490s]\n",
      "2020-08-03 18:48:39,085 - elasticsearch - INFO - POST http://localhost:9200/twitter/_bulk [status:200 request:0.347s]\n",
      "2020-08-03 18:48:39,588 - elasticsearch - INFO - POST http://localhost:9200/twitter/_bulk [status:200 request:0.272s]\n",
      "2020-08-03 18:48:40,119 - elasticsearch - INFO - POST http://localhost:9200/twitter/_bulk [status:200 request:0.321s]\n",
      "2020-08-03 18:48:40,591 - elasticsearch - INFO - POST http://localhost:9200/twitter/_bulk [status:200 request:0.244s]\n",
      "2020-08-03 18:48:41,044 - elasticsearch - INFO - POST http://localhost:9200/twitter/_bulk [status:200 request:0.280s]\n",
      "2020-08-03 18:48:41,556 - elasticsearch - INFO - POST http://localhost:9200/twitter/_bulk [status:200 request:0.308s]\n",
      "2020-08-03 18:48:42,356 - elasticsearch - INFO - POST http://localhost:9200/twitter/_bulk [status:200 request:0.601s]\n",
      "2020-08-03 18:48:43,054 - elasticsearch - INFO - POST http://localhost:9200/twitter/_bulk [status:200 request:0.522s]\n",
      "2020-08-03 18:48:43,428 - elasticsearch - INFO - POST http://localhost:9200/twitter/_bulk [status:200 request:0.193s]\n",
      "2020-08-03 18:48:43,924 - elasticsearch - INFO - POST http://localhost:9200/twitter/_bulk [status:200 request:0.268s]\n",
      "2020-08-03 18:48:46,137 - elasticsearch - INFO - POST http://localhost:9200/twitter/_bulk [status:200 request:2.016s]\n",
      "2020-08-03 18:48:48,134 - elasticsearch - INFO - POST http://localhost:9200/twitter/_bulk [status:200 request:0.565s]\n",
      "2020-08-03 18:48:48,789 - elasticsearch - INFO - POST http://localhost:9200/twitter/_bulk [status:200 request:0.356s]\n",
      "2020-08-03 18:48:49,460 - elasticsearch - INFO - POST http://localhost:9200/twitter/_bulk [status:200 request:0.436s]\n",
      "2020-08-03 18:48:50,157 - elasticsearch - INFO - POST http://localhost:9200/twitter/_bulk [status:200 request:0.454s]\n",
      "2020-08-03 18:48:50,802 - elasticsearch - INFO - POST http://localhost:9200/twitter/_bulk [status:200 request:0.343s]\n",
      "2020-08-03 18:48:51,449 - elasticsearch - INFO - POST http://localhost:9200/twitter/_bulk [status:200 request:0.372s]\n",
      "2020-08-03 18:48:52,003 - elasticsearch - INFO - POST http://localhost:9200/twitter/_bulk [status:200 request:0.322s]\n",
      "2020-08-03 18:48:52,482 - elasticsearch - INFO - POST http://localhost:9200/twitter/_bulk [status:200 request:0.270s]\n",
      "2020-08-03 18:48:53,147 - elasticsearch - INFO - POST http://localhost:9200/twitter/_bulk [status:200 request:0.443s]\n",
      "2020-08-03 18:48:53,611 - elasticsearch - INFO - POST http://localhost:9200/twitter/_bulk [status:200 request:0.257s]\n",
      "2020-08-03 18:48:54,072 - elasticsearch - INFO - POST http://localhost:9200/twitter/_bulk [status:200 request:0.241s]\n",
      "2020-08-03 18:48:54,524 - elasticsearch - INFO - POST http://localhost:9200/twitter/_bulk [status:200 request:0.250s]\n",
      "2020-08-03 18:48:55,108 - elasticsearch - INFO - POST http://localhost:9200/twitter/_bulk [status:200 request:0.361s]\n",
      "2020-08-03 18:48:55,687 - elasticsearch - INFO - POST http://localhost:9200/twitter/_bulk [status:200 request:0.353s]\n",
      "2020-08-03 18:48:56,234 - elasticsearch - INFO - POST http://localhost:9200/twitter/_bulk [status:200 request:0.284s]\n",
      "2020-08-03 18:48:56,992 - elasticsearch - INFO - POST http://localhost:9200/twitter/_bulk [status:200 request:0.359s]\n"
     ]
    },
    {
     "data": {
      "text/plain": [
       "(20500, [])"
      ]
     },
     "execution_count": 4,
     "metadata": {},
     "output_type": "execute_result"
    }
   ],
   "source": [
    "load_es(df, verbose=True)"
   ]
  }
 ],
 "metadata": {
  "kernelspec": {
   "display_name": "Python 3",
   "language": "python",
   "name": "python3"
  },
  "language_info": {
   "codemirror_mode": {
    "name": "ipython",
    "version": 3
   },
   "file_extension": ".py",
   "mimetype": "text/x-python",
   "name": "python",
   "nbconvert_exporter": "python",
   "pygments_lexer": "ipython3",
   "version": "3.8.3"
  }
 },
 "nbformat": 4,
 "nbformat_minor": 4
}
