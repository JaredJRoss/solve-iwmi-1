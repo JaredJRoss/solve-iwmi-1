{
 "cells": [
  {
   "cell_type": "markdown",
   "metadata": {},
   "source": [
    "# Zero Shot Text Classification Model\n",
    "**Model Description** - Bart with a classification head trained on MNLI.\n",
    "\n",
    "Sequences are posed as NLI premises and topic labels are turned into premises, i.e. business -> This text is about business."
   ]
  },
  {
   "cell_type": "code",
   "execution_count": 1,
   "metadata": {
    "tags": []
   },
   "outputs": [],
   "source": [
    "import eland as ed\n",
    "import pandas as pd\n",
    "import numpy as np\n",
    "import preprocessor as prep\n",
    "\n",
    "from sklearn.ensemble import RandomForestClassifier\n",
    "from src.models import ALZeroShotWrapper\n",
    "\n",
    "#pd.options.display.max_columns = None\n",
    "#pd.options.display.max_rows = None\n",
    "\n",
    "ed_df = ed.read_es('localhost', 'twitter')"
   ]
  },
  {
   "cell_type": "markdown",
   "metadata": {},
   "source": [
    "## Importing Data"
   ]
  },
  {
   "cell_type": "code",
   "execution_count": 2,
   "metadata": {},
   "outputs": [],
   "source": [
    "df = ed_df[\n",
    "    ['tweet_id', 'lang', 'full_text']\n",
    "].to_pandas().fillna(np.nan)"
   ]
  },
  {
   "cell_type": "code",
   "execution_count": 3,
   "metadata": {
    "scrolled": true
   },
   "outputs": [],
   "source": [
    "tweet_vectors = pd.read_csv('../data/results/iwmi_tweet2vec.csv')\n",
    "\n",
    "tweet_vectors['tweet_id'] = tweet_vectors['tweet_id'].astype(float).astype(int).astype(str)\n",
    "df['tweet_id'] = df['tweet_id'].astype(float).astype(int).astype(str)\n",
    "\n",
    "df = df.set_index('tweet_id').join(tweet_vectors.set_index('tweet_id'))"
   ]
  },
  {
   "cell_type": "markdown",
   "metadata": {},
   "source": [
    "## Basic Tweet Preprocessing\n",
    "- Remove URLs and reserved words (RTs)\n",
    "- Remove # and @ symbols\n",
    "- Remove tweets less than 4 tokens in length\n"
   ]
  },
  {
   "cell_type": "code",
   "execution_count": 4,
   "metadata": {},
   "outputs": [],
   "source": [
    "## Set options for the tweet-preprocessor\n",
    "prep.set_options(prep.OPT.URL, prep.OPT.RESERVED, prep.OPT.EMOJI, prep.OPT.SMILEY)\n",
    "\n",
    "## Clean text and remove #,@ symbols\n",
    "def clean_tweet(text):\n",
    "    text = prep.clean(text)\n",
    "    table = str.maketrans('','','#@')\n",
    "    return text.translate(table)"
   ]
  },
  {
   "cell_type": "code",
   "execution_count": 5,
   "metadata": {},
   "outputs": [],
   "source": [
    "df['full_text'] = df['full_text'].apply(lambda x: clean_tweet(x))"
   ]
  },
  {
   "cell_type": "code",
   "execution_count": 6,
   "metadata": {},
   "outputs": [],
   "source": [
    "df['length'] = df['full_text'].apply(lambda x: len(x.split()))\n",
    "df = df[df['length']>4]"
   ]
  },
  {
   "cell_type": "code",
   "execution_count": 7,
   "metadata": {},
   "outputs": [],
   "source": [
    "df_train = df[df.lang == 'en']\n",
    "X = df_train[[f'vec_{i}' for i in range(10)]].values\n",
    "sequences = df_train.full_text.values\n",
    "candidate_labels = [\n",
    "    'resource availability', \n",
    "    'volunteers', \n",
    "    'power supply', \n",
    "    'relief measures', \n",
    "    'food supply', \n",
    "    'infrastructure', \n",
    "    'medical assistance', \n",
    "    'rescue', \n",
    "    'shelter', \n",
    "    'utilities', \n",
    "    'water supply', \n",
    "    'evacuation', \n",
    "    'government', \n",
    "    'crime violence', \n",
    "    'mobile network', \n",
    "    'sympathy', \n",
    "    'news updates', \n",
    "    'internet', \n",
    "    'grievance'\n",
    "]\n"
   ]
  },
  {
   "cell_type": "markdown",
   "metadata": {},
   "source": [
    "## Initialising the Model"
   ]
  },
  {
   "cell_type": "code",
   "execution_count": 8,
   "metadata": {
    "collapsed": true,
    "tags": []
   },
   "outputs": [
    {
     "name": "stderr",
     "output_type": "stream",
     "text": [
      "Some weights of the model checkpoint at facebook/bart-large-mnli were not used when initializing BartForSequenceClassification: ['model.encoder.version', 'model.decoder.version']\n",
      "- This IS expected if you are initializing BartForSequenceClassification from the checkpoint of a model trained on another task or with another architecture (e.g. initializing a BertForSequenceClassification model from a BertForPretraining model).\n",
      "- This IS NOT expected if you are initializing BartForSequenceClassification from the checkpoint of a model that you expect to be exactly identical (initializing a BertForSequenceClassification model from a BertForSequenceClassification model).\n"
     ]
    },
    {
     "name": "stdout",
     "output_type": "stream",
     "text": [
      "iter 0\n",
      "iter 1\n",
      "iter 2\n",
      "iter 3\n",
      "iter 4\n",
      "iter 5\n",
      "iter 6\n",
      "iter 7\n",
      "iter 8\n",
      "iter 9\n",
      "iter 10\n",
      "iter 11\n",
      "iter 12\n",
      "iter 13\n",
      "iter 14\n",
      "iter 15\n",
      "iter 16\n",
      "iter 17\n",
      "iter 18\n",
      "iter 19\n",
      "iter 20\n",
      "iter 21\n",
      "iter 22\n",
      "iter 23\n",
      "iter 24\n",
      "iter 25\n",
      "iter 26\n",
      "iter 27\n",
      "iter 28\n",
      "iter 29\n",
      "iter 30\n",
      "iter 31\n",
      "iter 32\n",
      "iter 33\n",
      "iter 34\n",
      "iter 35\n",
      "iter 36\n",
      "iter 37\n",
      "iter 38\n",
      "iter 39\n",
      "iter 40\n",
      "iter 41\n",
      "iter 42\n",
      "iter 43\n",
      "iter 44\n",
      "iter 45\n",
      "iter 46\n",
      "iter 47\n",
      "iter 48\n",
      "iter 49\n",
      "iter 50\n",
      "iter 51\n",
      "iter 52\n",
      "iter 53\n",
      "iter 54\n",
      "iter 55\n",
      "iter 56\n",
      "iter 57\n",
      "iter 58\n",
      "iter 59\n",
      "iter 60\n",
      "iter 61\n",
      "iter 62\n",
      "iter 63\n",
      "iter 64\n",
      "iter 65\n",
      "iter 66\n",
      "iter 67\n",
      "iter 68\n",
      "iter 69\n",
      "iter 70\n",
      "iter 71\n",
      "iter 72\n",
      "iter 73\n",
      "iter 74\n",
      "iter 75\n",
      "iter 76\n",
      "iter 77\n",
      "iter 78\n",
      "iter 79\n",
      "iter 80\n",
      "iter 81\n",
      "iter 82\n",
      "iter 83\n",
      "iter 84\n",
      "iter 85\n",
      "iter 86\n",
      "iter 87\n",
      "iter 88\n",
      "iter 89\n",
      "iter 90\n",
      "iter 91\n",
      "iter 92\n",
      "iter 93\n",
      "iter 94\n",
      "iter 95\n",
      "iter 96\n",
      "iter 97\n",
      "iter 98\n",
      "iter 99\n"
     ]
    },
    {
     "data": {
      "text/plain": [
       "ALZeroShotWrapper(classifier=RandomForestClassifier(random_state=0),\n",
       "                  increment=10, max_iter=100, n_initial=10, random_state=0)"
      ]
     },
     "execution_count": 8,
     "metadata": {},
     "output_type": "execute_result"
    }
   ],
   "source": [
    "rfc = RandomForestClassifier(random_state=0)\n",
    "al_zeroshot = ALZeroShotWrapper(rfc, max_iter=100, n_initial=10, increment=10, random_state=0)\n",
    "\n",
    "al_zeroshot.fit(X, sequences, candidate_labels)"
   ]
  },
  {
   "cell_type": "code",
   "execution_count": 26,
   "metadata": {},
   "outputs": [],
   "source": [
    "zero_shot_labels = al_zeroshot.y\n",
    "\n",
    "rfc_labels = al_zeroshot\\\n",
    "    .label_encoder\\\n",
    "    .inverse_transform(\n",
    "        al_zeroshot\\\n",
    "            .classifier_\\\n",
    "            .predict(X)\\\n",
    "            .astype(int)\n",
    "    )"
   ]
  },
  {
   "cell_type": "code",
   "execution_count": 31,
   "metadata": {},
   "outputs": [],
   "source": [
    "zs_mask = ~np.isnan(zero_shot_labels)\n",
    "ground_truth_labels = al_zeroshot\\\n",
    "    .label_encoder\\\n",
    "    .inverse_transform(\n",
    "        zero_shot_labels[zs_mask]\\\n",
    "            .astype(int)\n",
    "    )\n",
    "rfc_zs_preds = rfc_labels[zs_mask]"
   ]
  },
  {
   "cell_type": "code",
   "execution_count": 34,
   "metadata": {},
   "outputs": [
    {
     "data": {
      "text/plain": [
       "True"
      ]
     },
     "execution_count": 34,
     "metadata": {},
     "output_type": "execute_result"
    }
   ],
   "source": [
    "# Checking if the random forest was well trained on pseudo-ground-truth data\n",
    "(ground_truth_labels == rfc_zs_preds).all()"
   ]
  },
  {
   "cell_type": "markdown",
   "metadata": {},
   "source": [
    "## Classify the entire dataset using the trained random forest"
   ]
  },
  {
   "cell_type": "code",
   "execution_count": 35,
   "metadata": {},
   "outputs": [],
   "source": [
    "le = al_zeroshot.label_encoder\n",
    "rfc = al_zeroshot.classifier_"
   ]
  },
  {
   "cell_type": "code",
   "execution_count": 43,
   "metadata": {},
   "outputs": [],
   "source": [
    "X_all = df[[f'vec_{i}' for i in range(10)]].values\n",
    "y_pred = le.inverse_transform(rfc.predict(X_all).astype(int))"
   ]
  },
  {
   "cell_type": "code",
   "execution_count": 44,
   "metadata": {},
   "outputs": [
    {
     "data": {
      "text/html": [
       "<div>\n",
       "<style scoped>\n",
       "    .dataframe tbody tr th:only-of-type {\n",
       "        vertical-align: middle;\n",
       "    }\n",
       "\n",
       "    .dataframe tbody tr th {\n",
       "        vertical-align: top;\n",
       "    }\n",
       "\n",
       "    .dataframe thead th {\n",
       "        text-align: right;\n",
       "    }\n",
       "</style>\n",
       "<table border=\"1\" class=\"dataframe\">\n",
       "  <thead>\n",
       "    <tr style=\"text-align: right;\">\n",
       "      <th></th>\n",
       "      <th>full_text</th>\n",
       "      <th>label_prediction</th>\n",
       "    </tr>\n",
       "    <tr>\n",
       "      <th>tweet_id</th>\n",
       "      <th></th>\n",
       "      <th></th>\n",
       "    </tr>\n",
       "  </thead>\n",
       "  <tbody>\n",
       "    <tr>\n",
       "      <th>1263737818767130624</th>\n",
       "      <td>ExSecular DD ki gaan uda di Amphan ne. Ab bhik...</td>\n",
       "      <td>grievance</td>\n",
       "    </tr>\n",
       "    <tr>\n",
       "      <th>1263737812576202752</th>\n",
       "      <td>Speaking on the situation in the wake of Cyclo...</td>\n",
       "      <td>relief measures</td>\n",
       "    </tr>\n",
       "    <tr>\n",
       "      <th>1263737811460636672</th>\n",
       "      <td>Speaking on the situation in the wake of Cyclo...</td>\n",
       "      <td>relief measures</td>\n",
       "    </tr>\n",
       "    <tr>\n",
       "      <th>1263737810105839616</th>\n",
       "      <td>Speaking on the situation in the wake of Cyclo...</td>\n",
       "      <td>relief measures</td>\n",
       "    </tr>\n",
       "    <tr>\n",
       "      <th>1263737809757749248</th>\n",
       "      <td>The damage to the Sunderbans by AmphanCyclone ...</td>\n",
       "      <td>grievance</td>\n",
       "    </tr>\n",
       "    <tr>\n",
       "      <th>...</th>\n",
       "      <td>...</td>\n",
       "      <td>...</td>\n",
       "    </tr>\n",
       "    <tr>\n",
       "      <th>1262711874832994304</th>\n",
       "      <td>Cyclone Amphan has yet to make landfall but is...</td>\n",
       "      <td>grievance</td>\n",
       "    </tr>\n",
       "    <tr>\n",
       "      <th>1254077710600679424</th>\n",
       "      <td>UN: 'Our fear is tremendous loss of lifewomen ...</td>\n",
       "      <td>evacuation</td>\n",
       "    </tr>\n",
       "    <tr>\n",
       "      <th>1262672672946900992</th>\n",
       "      <td>MANITSaysNoExams PromoteFinalYearStudents MHRD...</td>\n",
       "      <td>relief measures</td>\n",
       "    </tr>\n",
       "    <tr>\n",
       "      <th>1262778121700495360</th>\n",
       "      <td>I still feel jittery everytime I think of thos...</td>\n",
       "      <td>grievance</td>\n",
       "    </tr>\n",
       "    <tr>\n",
       "      <th>1262756533915406336</th>\n",
       "      <td>NITBVoice Swamy39 anjanaomkashyap SrBachchan O...</td>\n",
       "      <td>relief measures</td>\n",
       "    </tr>\n",
       "  </tbody>\n",
       "</table>\n",
       "<p>401633 rows × 2 columns</p>\n",
       "</div>"
      ],
      "text/plain": [
       "                                                             full_text  \\\n",
       "tweet_id                                                                 \n",
       "1263737818767130624  ExSecular DD ki gaan uda di Amphan ne. Ab bhik...   \n",
       "1263737812576202752  Speaking on the situation in the wake of Cyclo...   \n",
       "1263737811460636672  Speaking on the situation in the wake of Cyclo...   \n",
       "1263737810105839616  Speaking on the situation in the wake of Cyclo...   \n",
       "1263737809757749248  The damage to the Sunderbans by AmphanCyclone ...   \n",
       "...                                                                ...   \n",
       "1262711874832994304  Cyclone Amphan has yet to make landfall but is...   \n",
       "1254077710600679424  UN: 'Our fear is tremendous loss of lifewomen ...   \n",
       "1262672672946900992  MANITSaysNoExams PromoteFinalYearStudents MHRD...   \n",
       "1262778121700495360  I still feel jittery everytime I think of thos...   \n",
       "1262756533915406336  NITBVoice Swamy39 anjanaomkashyap SrBachchan O...   \n",
       "\n",
       "                    label_prediction  \n",
       "tweet_id                              \n",
       "1263737818767130624        grievance  \n",
       "1263737812576202752  relief measures  \n",
       "1263737811460636672  relief measures  \n",
       "1263737810105839616  relief measures  \n",
       "1263737809757749248        grievance  \n",
       "...                              ...  \n",
       "1262711874832994304        grievance  \n",
       "1254077710600679424       evacuation  \n",
       "1262672672946900992  relief measures  \n",
       "1262778121700495360        grievance  \n",
       "1262756533915406336  relief measures  \n",
       "\n",
       "[401633 rows x 2 columns]"
      ]
     },
     "execution_count": 44,
     "metadata": {},
     "output_type": "execute_result"
    }
   ],
   "source": [
    "df['label_prediction'] = y_pred\n",
    "df[['full_text', 'label_prediction']]"
   ]
  },
  {
   "cell_type": "code",
   "execution_count": 46,
   "metadata": {},
   "outputs": [],
   "source": [
    "df.to_csv('provisional_topic_modelling.csv')"
   ]
  }
 ],
 "metadata": {
  "kernelspec": {
   "display_name": "Python 3",
   "language": "python",
   "name": "python3"
  },
  "language_info": {
   "codemirror_mode": {
    "name": "ipython",
    "version": 3
   },
   "file_extension": ".py",
   "mimetype": "text/x-python",
   "name": "python",
   "nbconvert_exporter": "python",
   "pygments_lexer": "ipython3",
   "version": "3.7.7"
  }
 },
 "nbformat": 4,
 "nbformat_minor": 2
}
