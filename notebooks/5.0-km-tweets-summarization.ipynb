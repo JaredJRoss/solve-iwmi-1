{
 "metadata": {
  "language_info": {
   "codemirror_mode": {
    "name": "ipython",
    "version": 3
   },
   "file_extension": ".py",
   "mimetype": "text/x-python",
   "name": "python",
   "nbconvert_exporter": "python",
   "pygments_lexer": "ipython3",
   "version": "3.8.5-final"
  },
  "orig_nbformat": 2,
  "kernelspec": {
   "name": "python_defaultSpec_1599121176428",
   "display_name": "Python 3.8.5 64-bit ('solve-iwmi': conda)"
  }
 },
 "nbformat": 4,
 "nbformat_minor": 2,
 "cells": [
  {
   "cell_type": "markdown",
   "metadata": {},
   "source": [
    "# Unsupervised Tweet Summarization with Network Analysis"
   ]
  },
  {
   "cell_type": "code",
   "execution_count": 349,
   "metadata": {},
   "outputs": [],
   "source": [
    "import os\n",
    "from os.path import join\n",
    "import pandas as pd\n",
    "import numpy as np\n",
    "import nltk\n",
    "import networkx as nx\n",
    "from collections import Counter\n",
    "import eland as ed\n",
    "from sklearn.metrics import pairwise_distances\n",
    "from scipy.spatial.distance import cosine\n",
    "from numpy import dot\n",
    "from numpy.linalg import norm\n",
    "import matplotlib.pyplot as plt\n",
    "from gensim.test.utils import common_texts\n",
    "from gensim.models.doc2vec import Doc2Vec, TaggedDocument\n",
    "from sklearn.cluster import DBSCAN, KMeans\n",
    "from sklearn.decomposition import PCA\n",
    "from networkx.algorithms import community\n",
    "\n",
    "pd.set_option('display.max_colwidth', -1)\n",
    "\n"
   ]
  },
  {
   "cell_type": "code",
   "execution_count": 2,
   "metadata": {},
   "outputs": [],
   "source": [
    "project_dir = join(os.getcwd(), os.pardir)\n",
    "models_dir = join(project_dir, 'models')"
   ]
  },
  {
   "cell_type": "code",
   "execution_count": 3,
   "metadata": {},
   "outputs": [],
   "source": [
    "TERMS = ['sympathy', 'complaint', 'hope', 'job', 'relief measures', 'compensation',\n",
    "        'evacuation', 'income', 'ecosystem', 'government', 'corruption', 'news updates', \n",
    "        'volunteers', 'donation', 'mobile network', 'housing', 'farm', 'utilities', \n",
    "        'water supply', 'power supply', 'food supply', 'medical assistance', 'coronavirus', \n",
    "        'petition', 'poverty']\n",
    "\n",
    "THRESHOLD = 0.7"
   ]
  },
  {
   "cell_type": "markdown",
   "metadata": {},
   "source": [
    "## Import data from Elasticsearch"
   ]
  },
  {
   "cell_type": "code",
   "execution_count": 4,
   "metadata": {},
   "outputs": [],
   "source": [
    "ed_df = ed.DataFrame('localhost', 'twitter', columns=['full_text_processed', 'sentiment', 'retweet_count'])\n",
    "\n",
    "# defining the full-text query we need: Retrieving records for full_text_processed with the condition is_retweet=False and is_quote_status=False\n",
    "query_unique = {\n",
    "    \"bool\": {\n",
    "        \"must\": {\n",
    "            \"term\":{\"is_retweet\":\"false\"},\n",
    "        },\n",
    "        \"filter\": {\n",
    "            \"term\":{\"is_quote_status\":\"false\"}\n",
    "        },\n",
    "    }\n",
    "}\n",
    "# using full-text search capabilities with Eland:\n",
    "df_ed = ed_df.es_query(query_unique)\n",
    "df_tweets = df_ed.to_pandas()"
   ]
  },
  {
   "cell_type": "code",
   "execution_count": 5,
   "metadata": {},
   "outputs": [],
   "source": [
    "df_tweets['length'] = df_tweets['full_text_processed'].apply(lambda x: len([w for w in x.split()]))\n",
    "df_tweets = df_tweets[df_tweets['length']>5]"
   ]
  },
  {
   "cell_type": "code",
   "execution_count": 6,
   "metadata": {},
   "outputs": [
    {
     "output_type": "execute_result",
     "data": {
      "text/plain": "(103417, 4)"
     },
     "metadata": {},
     "execution_count": 6
    }
   ],
   "source": [
    "df_tweets.shape"
   ]
  },
  {
   "cell_type": "code",
   "execution_count": 7,
   "metadata": {},
   "outputs": [
    {
     "output_type": "execute_result",
     "data": {
      "text/plain": "                                                                                                                                                                                                                          full_text_processed  \\\n1262961673708675072  live cyclone amphan map tracking storm’s path                                                                                                                                                                              \n1262961660932894720  nyt live cyclone amphan map tracking storm’s path                                                                                                                                                                          \n1262961652359729152  live news update super cyclone amphan amphanupdate cycloneamphan amphancyclone cycloneamphanupdate 120 km nearly south paradip odisha 200 km southsouthwest digha west bengal 360 km southsouthwest khepupara bangladesh   \n1262960808742522880  cyclone ampan came closer live super cyclone amphan update pradip odisha 120 km orissa digha west bengal 200 km west bengal khepupara bangladesh 360 km bangladesh bangladesh bangla west bengal cyclone amphan            \n1262937945214005248  live news update super cyclone amphan amphanupdate cycloneamphan amphancyclone cycloneamphanupdate 125 km nearly south paradip odisha 225 km southsouthwest digha west bengal 380 km southsouthwest khepupara bangladesh   \n\n                     sentiment  retweet_count  length  \n1262961673708675072  0.0000     0              7       \n1262961660932894720  0.0000     0              8       \n1262961652359729152  0.5994     0              27      \n1262960808742522880  0.5994     0              32      \n1262937945214005248  0.5994     0              27      ",
      "text/html": "<div>\n<style scoped>\n    .dataframe tbody tr th:only-of-type {\n        vertical-align: middle;\n    }\n\n    .dataframe tbody tr th {\n        vertical-align: top;\n    }\n\n    .dataframe thead th {\n        text-align: right;\n    }\n</style>\n<table border=\"1\" class=\"dataframe\">\n  <thead>\n    <tr style=\"text-align: right;\">\n      <th></th>\n      <th>full_text_processed</th>\n      <th>sentiment</th>\n      <th>retweet_count</th>\n      <th>length</th>\n    </tr>\n  </thead>\n  <tbody>\n    <tr>\n      <th>1262961673708675072</th>\n      <td>live cyclone amphan map tracking storm’s path</td>\n      <td>0.0000</td>\n      <td>0</td>\n      <td>7</td>\n    </tr>\n    <tr>\n      <th>1262961660932894720</th>\n      <td>nyt live cyclone amphan map tracking storm’s path</td>\n      <td>0.0000</td>\n      <td>0</td>\n      <td>8</td>\n    </tr>\n    <tr>\n      <th>1262961652359729152</th>\n      <td>live news update super cyclone amphan amphanupdate cycloneamphan amphancyclone cycloneamphanupdate 120 km nearly south paradip odisha 200 km southsouthwest digha west bengal 360 km southsouthwest khepupara bangladesh</td>\n      <td>0.5994</td>\n      <td>0</td>\n      <td>27</td>\n    </tr>\n    <tr>\n      <th>1262960808742522880</th>\n      <td>cyclone ampan came closer live super cyclone amphan update pradip odisha 120 km orissa digha west bengal 200 km west bengal khepupara bangladesh 360 km bangladesh bangladesh bangla west bengal cyclone amphan</td>\n      <td>0.5994</td>\n      <td>0</td>\n      <td>32</td>\n    </tr>\n    <tr>\n      <th>1262937945214005248</th>\n      <td>live news update super cyclone amphan amphanupdate cycloneamphan amphancyclone cycloneamphanupdate 125 km nearly south paradip odisha 225 km southsouthwest digha west bengal 380 km southsouthwest khepupara bangladesh</td>\n      <td>0.5994</td>\n      <td>0</td>\n      <td>27</td>\n    </tr>\n  </tbody>\n</table>\n</div>"
     },
     "metadata": {},
     "execution_count": 7
    }
   ],
   "source": [
    "df_tweets.head()"
   ]
  },
  {
   "cell_type": "markdown",
   "metadata": {},
   "source": [
    "## Load the Tweet2Vec Model"
   ]
  },
  {
   "cell_type": "code",
   "execution_count": 8,
   "metadata": {},
   "outputs": [],
   "source": [
    "## Loading the tweet2vec model\n",
    "model = Doc2Vec.load(join(models_dir,'tweet2VecJared.model'))\n",
    "doc_tags = list(model.docvecs.doctags.keys())   ## Tweet Ids\n",
    "doc_vectors = model.docvecs.vectors_docs        ## Tweet Vectors"
   ]
  },
  {
   "cell_type": "code",
   "execution_count": 9,
   "metadata": {
    "tags": []
   },
   "outputs": [
    {
     "output_type": "stream",
     "name": "stdout",
     "text": "113342\n113342\n"
    }
   ],
   "source": [
    "print(len(doc_tags))\n",
    "print(len(doc_vectors))"
   ]
  },
  {
   "cell_type": "markdown",
   "metadata": {},
   "source": [
    "## Loading the tweet labels"
   ]
  },
  {
   "cell_type": "code",
   "execution_count": 10,
   "metadata": {},
   "outputs": [],
   "source": [
    "df_labels = pd.read_json(join(models_dir,'zstc_labels.json'), orient='index', convert_axes=False)"
   ]
  },
  {
   "cell_type": "code",
   "execution_count": 11,
   "metadata": {},
   "outputs": [
    {
     "output_type": "execute_result",
     "data": {
      "text/plain": "                                           0                  1  \\\n1264253979002843136  [relief measures, 0.67]  [complaint, 0.63]   \n1264253959918632960  [relief measures, 0.5]   [job, 0.06]         \n1264253893632016384  [government, 0.98]       [hope, 0.97]        \n\n                                        2                   3  \\\n1264253979002843136  [poverty, 0.48]       [evacuation, 0.46]   \n1264253959918632960  [farm, 0.04]          [volunteers, 0.01]   \n1264253893632016384  [power supply, 0.93]  [sympathy, 0.86]     \n\n                                      4                           5  \\\n1264253979002843136  [sympathy, 0.44]    [medical assistance, 0.32]   \n1264253959918632960  [evacuation, 0.01]  [petition, 0.0]              \n1264253893632016384  [ecosystem, 0.77]   [medical assistance, 0.72]   \n\n                                                   6                        7  \\\n1264253979002843136  [income, 0.30000000000000004]    [housing, 0.29]           \n1264253959918632960  [complaint, 0.0]                 [sympathy, 0.0]           \n1264253893632016384  [complaint, 0.6900000000000001]  [relief measures, 0.67]   \n\n                                                  8                   9  ...  \\\n1264253979002843136  [petition, 0.23]                [corruption, 0.22]  ...   \n1264253959918632960  [compensation, 0.0]             [income, 0.0]       ...   \n1264253893632016384  [petition, 0.5700000000000001]  [income, 0.44]      ...   \n\n                                            15                     16  \\\n1264253979002843136  [food supply, 0.07]        [hope, 0.07]            \n1264253959918632960  [medical assistance, 0.0]  [mobile network, 0.0]   \n1264253893632016384  [evacuation, 0.24]         [housing, 0.21]         \n\n                                      17                    18  \\\n1264253979002843136  [utilities, 0.05]    [news updates, 0.05]   \n1264253959918632960  [power supply, 0.0]  [government, 0.0]      \n1264253893632016384  [poverty, 0.2]       [job, 0.18]            \n\n                                      19                   20  \\\n1264253979002843136  [coronavirus, 0.04]  [farm, 0.03]          \n1264253959918632960  [poverty, 0.0]       [housing, 0.0]        \n1264253893632016384  [farm, 0.16]         [food supply, 0.16]   \n\n                                      21                  22  \\\n1264253979002843136  [donation, 0.03]     [volunteers, 0.02]   \n1264253959918632960  [corruption, 0.0]    [food supply, 0.0]   \n1264253893632016384  [coronavirus, 0.12]  [donation, 0.1]      \n\n                                     23                   24  \n1264253979002843136  [government, 0.02]  [job, 0.01]          \n1264253959918632960  [hope, 0.0]         [water supply, 0.0]  \n1264253893632016384  [corruption, 0.08]  [volunteers, 0.0]    \n\n[3 rows x 25 columns]",
      "text/html": "<div>\n<style scoped>\n    .dataframe tbody tr th:only-of-type {\n        vertical-align: middle;\n    }\n\n    .dataframe tbody tr th {\n        vertical-align: top;\n    }\n\n    .dataframe thead th {\n        text-align: right;\n    }\n</style>\n<table border=\"1\" class=\"dataframe\">\n  <thead>\n    <tr style=\"text-align: right;\">\n      <th></th>\n      <th>0</th>\n      <th>1</th>\n      <th>2</th>\n      <th>3</th>\n      <th>4</th>\n      <th>5</th>\n      <th>6</th>\n      <th>7</th>\n      <th>8</th>\n      <th>9</th>\n      <th>...</th>\n      <th>15</th>\n      <th>16</th>\n      <th>17</th>\n      <th>18</th>\n      <th>19</th>\n      <th>20</th>\n      <th>21</th>\n      <th>22</th>\n      <th>23</th>\n      <th>24</th>\n    </tr>\n  </thead>\n  <tbody>\n    <tr>\n      <th>1264253979002843136</th>\n      <td>[relief measures, 0.67]</td>\n      <td>[complaint, 0.63]</td>\n      <td>[poverty, 0.48]</td>\n      <td>[evacuation, 0.46]</td>\n      <td>[sympathy, 0.44]</td>\n      <td>[medical assistance, 0.32]</td>\n      <td>[income, 0.30000000000000004]</td>\n      <td>[housing, 0.29]</td>\n      <td>[petition, 0.23]</td>\n      <td>[corruption, 0.22]</td>\n      <td>...</td>\n      <td>[food supply, 0.07]</td>\n      <td>[hope, 0.07]</td>\n      <td>[utilities, 0.05]</td>\n      <td>[news updates, 0.05]</td>\n      <td>[coronavirus, 0.04]</td>\n      <td>[farm, 0.03]</td>\n      <td>[donation, 0.03]</td>\n      <td>[volunteers, 0.02]</td>\n      <td>[government, 0.02]</td>\n      <td>[job, 0.01]</td>\n    </tr>\n    <tr>\n      <th>1264253959918632960</th>\n      <td>[relief measures, 0.5]</td>\n      <td>[job, 0.06]</td>\n      <td>[farm, 0.04]</td>\n      <td>[volunteers, 0.01]</td>\n      <td>[evacuation, 0.01]</td>\n      <td>[petition, 0.0]</td>\n      <td>[complaint, 0.0]</td>\n      <td>[sympathy, 0.0]</td>\n      <td>[compensation, 0.0]</td>\n      <td>[income, 0.0]</td>\n      <td>...</td>\n      <td>[medical assistance, 0.0]</td>\n      <td>[mobile network, 0.0]</td>\n      <td>[power supply, 0.0]</td>\n      <td>[government, 0.0]</td>\n      <td>[poverty, 0.0]</td>\n      <td>[housing, 0.0]</td>\n      <td>[corruption, 0.0]</td>\n      <td>[food supply, 0.0]</td>\n      <td>[hope, 0.0]</td>\n      <td>[water supply, 0.0]</td>\n    </tr>\n    <tr>\n      <th>1264253893632016384</th>\n      <td>[government, 0.98]</td>\n      <td>[hope, 0.97]</td>\n      <td>[power supply, 0.93]</td>\n      <td>[sympathy, 0.86]</td>\n      <td>[ecosystem, 0.77]</td>\n      <td>[medical assistance, 0.72]</td>\n      <td>[complaint, 0.6900000000000001]</td>\n      <td>[relief measures, 0.67]</td>\n      <td>[petition, 0.5700000000000001]</td>\n      <td>[income, 0.44]</td>\n      <td>...</td>\n      <td>[evacuation, 0.24]</td>\n      <td>[housing, 0.21]</td>\n      <td>[poverty, 0.2]</td>\n      <td>[job, 0.18]</td>\n      <td>[farm, 0.16]</td>\n      <td>[food supply, 0.16]</td>\n      <td>[coronavirus, 0.12]</td>\n      <td>[donation, 0.1]</td>\n      <td>[corruption, 0.08]</td>\n      <td>[volunteers, 0.0]</td>\n    </tr>\n  </tbody>\n</table>\n<p>3 rows × 25 columns</p>\n</div>"
     },
     "metadata": {},
     "execution_count": 11
    }
   ],
   "source": [
    "df_labels.head(3)"
   ]
  },
  {
   "cell_type": "code",
   "execution_count": 12,
   "metadata": {},
   "outputs": [],
   "source": [
    "'''Method to return topics for every tweet with confidence score above threshold'''\n",
    "def get_labels(tweet, threshold=THRESHOLD):\n",
    "    topics = []\n",
    "    for topic in tweet:\n",
    "        topic_name, value = topic[0], topic[1]\n",
    "        if value>threshold:\n",
    "            topics.append((topic_name, np.round(value,2)))\n",
    "    if not topics:\n",
    "        topics.append((tweet[0][0], tweet[0][1]))\n",
    "    return topics  "
   ]
  },
  {
   "cell_type": "code",
   "execution_count": 13,
   "metadata": {},
   "outputs": [],
   "source": [
    "df_labels['labels'] = df_labels.apply(lambda x: get_labels(x, THRESHOLD), axis=1)\n",
    "df_labels = df_labels[['labels']]"
   ]
  },
  {
   "cell_type": "code",
   "execution_count": 14,
   "metadata": {},
   "outputs": [
    {
     "output_type": "execute_result",
     "data": {
      "text/plain": "                                                                                                                                        labels\n1264253979002843136  [(relief measures, 0.67)]                                                                                                \n1264253959918632960  [(relief measures, 0.5)]                                                                                                 \n1264253893632016384  [(government, 0.98), (hope, 0.97), (power supply, 0.93), (sympathy, 0.86), (ecosystem, 0.77), (medical assistance, 0.72)]\n1264253882580045824  [(income, 0.75)]                                                                                                         \n1264253658763612160  [(complaint, 0.94), (relief measures, 0.93), (petition, 0.88), (donation, 0.87), (sympathy, 0.86)]                       ",
      "text/html": "<div>\n<style scoped>\n    .dataframe tbody tr th:only-of-type {\n        vertical-align: middle;\n    }\n\n    .dataframe tbody tr th {\n        vertical-align: top;\n    }\n\n    .dataframe thead th {\n        text-align: right;\n    }\n</style>\n<table border=\"1\" class=\"dataframe\">\n  <thead>\n    <tr style=\"text-align: right;\">\n      <th></th>\n      <th>labels</th>\n    </tr>\n  </thead>\n  <tbody>\n    <tr>\n      <th>1264253979002843136</th>\n      <td>[(relief measures, 0.67)]</td>\n    </tr>\n    <tr>\n      <th>1264253959918632960</th>\n      <td>[(relief measures, 0.5)]</td>\n    </tr>\n    <tr>\n      <th>1264253893632016384</th>\n      <td>[(government, 0.98), (hope, 0.97), (power supply, 0.93), (sympathy, 0.86), (ecosystem, 0.77), (medical assistance, 0.72)]</td>\n    </tr>\n    <tr>\n      <th>1264253882580045824</th>\n      <td>[(income, 0.75)]</td>\n    </tr>\n    <tr>\n      <th>1264253658763612160</th>\n      <td>[(complaint, 0.94), (relief measures, 0.93), (petition, 0.88), (donation, 0.87), (sympathy, 0.86)]</td>\n    </tr>\n  </tbody>\n</table>\n</div>"
     },
     "metadata": {},
     "execution_count": 14
    }
   ],
   "source": [
    "df_labels.head()"
   ]
  },
  {
   "cell_type": "markdown",
   "metadata": {},
   "source": [
    "## Merging the Tweets with Labels"
   ]
  },
  {
   "cell_type": "code",
   "execution_count": 660,
   "metadata": {},
   "outputs": [
    {
     "output_type": "execute_result",
     "data": {
      "text/plain": "                                                                                                                                                                                                                          full_text_processed  \\\n1262961673708675072  live cyclone amphan map tracking storm’s path                                                                                                                                                                              \n1262961660932894720  nyt live cyclone amphan map tracking storm’s path                                                                                                                                                                          \n1262961652359729152  live news update super cyclone amphan amphanupdate cycloneamphan amphancyclone cycloneamphanupdate 120 km nearly south paradip odisha 200 km southsouthwest digha west bengal 360 km southsouthwest khepupara bangladesh   \n\n                     sentiment  retweet_count  length                 labels  \n1262961673708675072  0.0000     0              7       [(sympathy, 0.11)]     \n1262961660932894720  0.0000     0              8       [(utilities, 0.25)]    \n1262961652359729152  0.5994     0              27      [(news updates, 1.0)]  ",
      "text/html": "<div>\n<style scoped>\n    .dataframe tbody tr th:only-of-type {\n        vertical-align: middle;\n    }\n\n    .dataframe tbody tr th {\n        vertical-align: top;\n    }\n\n    .dataframe thead th {\n        text-align: right;\n    }\n</style>\n<table border=\"1\" class=\"dataframe\">\n  <thead>\n    <tr style=\"text-align: right;\">\n      <th></th>\n      <th>full_text_processed</th>\n      <th>sentiment</th>\n      <th>retweet_count</th>\n      <th>length</th>\n      <th>labels</th>\n    </tr>\n  </thead>\n  <tbody>\n    <tr>\n      <th>1262961673708675072</th>\n      <td>live cyclone amphan map tracking storm’s path</td>\n      <td>0.0000</td>\n      <td>0</td>\n      <td>7</td>\n      <td>[(sympathy, 0.11)]</td>\n    </tr>\n    <tr>\n      <th>1262961660932894720</th>\n      <td>nyt live cyclone amphan map tracking storm’s path</td>\n      <td>0.0000</td>\n      <td>0</td>\n      <td>8</td>\n      <td>[(utilities, 0.25)]</td>\n    </tr>\n    <tr>\n      <th>1262961652359729152</th>\n      <td>live news update super cyclone amphan amphanupdate cycloneamphan amphancyclone cycloneamphanupdate 120 km nearly south paradip odisha 200 km southsouthwest digha west bengal 360 km southsouthwest khepupara bangladesh</td>\n      <td>0.5994</td>\n      <td>0</td>\n      <td>27</td>\n      <td>[(news updates, 1.0)]</td>\n    </tr>\n  </tbody>\n</table>\n</div>"
     },
     "metadata": {},
     "execution_count": 660
    }
   ],
   "source": [
    "df_tweet_labels = pd.merge(df_tweets, df_labels, left_index=True, right_index=True)\n",
    "df_tweet_labels.head(3)"
   ]
  },
  {
   "cell_type": "markdown",
   "metadata": {},
   "source": [
    "## Filter on Label"
   ]
  },
  {
   "cell_type": "code",
   "execution_count": 708,
   "metadata": {},
   "outputs": [],
   "source": [
    "LABEL = 'utilities'"
   ]
  },
  {
   "cell_type": "code",
   "execution_count": 709,
   "metadata": {},
   "outputs": [],
   "source": [
    "df_tweet_labels['labels_list'] = df_tweet_labels['labels'].apply(lambda x: x if LABEL in [item[0] for item in x] else np.nan)\n",
    "df_label = df_tweet_labels[df_tweet_labels['labels_list'].notnull()][['full_text_processed', 'length', 'sentiment', 'retweet_count', 'labels']]"
   ]
  },
  {
   "cell_type": "code",
   "execution_count": 710,
   "metadata": {},
   "outputs": [
    {
     "output_type": "execute_result",
     "data": {
      "text/plain": "                                                                                                                                                                                                                                                                                                                                                                                                                                                                                                                                        full_text_processed  \\\n1262961660932894720  nyt live cyclone amphan map tracking storm’s path                                                                                                                                                                                                                                                                                                                                                                                                                                                                                        \n1262974855282069504  sucs amphan 123 km eastsoutheast paradip odisha 0930 ist 20th may cross west bengalbangladesh coast digh west bengal hatiya island bangladesh close sunderbans landfall process commence afternoon time8news amphan                                                                                                                                                                                                                                                                                                                      \n1262972846936068096  live cyclone amfan havoc 102 km per hour wind speed cyclone                                                                                                                                                                                                                                                                                                                                                                                                                                                                              \n1262980176910209024  nairhena panditsripathak nalini51purohit romy1965 divyam1079 sanjaygobind nutanjyot muralydoctrack1 dilipswatisri drsdwivedi7 rajesh201963 wetwokrishna lakshmianand96 anju1951purohit swetasamadhiya ssharmajsr latarai5 jugalkhetan ankahi vprakash68 vaidyvoice vinishind nilotpalmukher6 reinebow23 pksrivastava6 paperrose2k keyesen2000 jagannkaushik city feeder breakdown due precautionary shutting power supply due cyclone amphan since storm city charging feeder going throughout city power supply restored fully 2 hour   \n1262979950413590528  srcodisha honble src sir kindly give official order d2h service provider give free d2h antenna amp reinstall respective customer premise 12 affected district odishaif damaged due amphan cyclonic storm amp rain                                                                                                                                                                                                                                                                                                                        \n\n                     length  sentiment  retweet_count  \\\n1262961660932894720  8       0.0000     0               \n1262974855282069504  29      0.0000     0               \n1262972846936068096  11     -0.5994     0               \n1262980176910209024  53      0.3400     2               \n1262979950413590528  31      0.7003     0               \n\n                                                                                                                                         labels  \n1262961660932894720  [(utilities, 0.25)]                                                                                                         \n1262974855282069504  [(news updates, 0.99), (utilities, 0.83), (sympathy, 0.8), (ecosystem, 0.73)]                                               \n1262972846936068096  [(utilities, 0.25)]                                                                                                         \n1262980176910209024  [(power supply, 0.99), (utilities, 0.76), (relief measures, 0.75)]                                                          \n1262979950413590528  [(sympathy, 0.98), (relief measures, 0.96), (mobile network, 0.85), (hope, 0.84), (compensation, 0.78), (utilities, 0.74)]  ",
      "text/html": "<div>\n<style scoped>\n    .dataframe tbody tr th:only-of-type {\n        vertical-align: middle;\n    }\n\n    .dataframe tbody tr th {\n        vertical-align: top;\n    }\n\n    .dataframe thead th {\n        text-align: right;\n    }\n</style>\n<table border=\"1\" class=\"dataframe\">\n  <thead>\n    <tr style=\"text-align: right;\">\n      <th></th>\n      <th>full_text_processed</th>\n      <th>length</th>\n      <th>sentiment</th>\n      <th>retweet_count</th>\n      <th>labels</th>\n    </tr>\n  </thead>\n  <tbody>\n    <tr>\n      <th>1262961660932894720</th>\n      <td>nyt live cyclone amphan map tracking storm’s path</td>\n      <td>8</td>\n      <td>0.0000</td>\n      <td>0</td>\n      <td>[(utilities, 0.25)]</td>\n    </tr>\n    <tr>\n      <th>1262974855282069504</th>\n      <td>sucs amphan 123 km eastsoutheast paradip odisha 0930 ist 20th may cross west bengalbangladesh coast digh west bengal hatiya island bangladesh close sunderbans landfall process commence afternoon time8news amphan</td>\n      <td>29</td>\n      <td>0.0000</td>\n      <td>0</td>\n      <td>[(news updates, 0.99), (utilities, 0.83), (sympathy, 0.8), (ecosystem, 0.73)]</td>\n    </tr>\n    <tr>\n      <th>1262972846936068096</th>\n      <td>live cyclone amfan havoc 102 km per hour wind speed cyclone</td>\n      <td>11</td>\n      <td>-0.5994</td>\n      <td>0</td>\n      <td>[(utilities, 0.25)]</td>\n    </tr>\n    <tr>\n      <th>1262980176910209024</th>\n      <td>nairhena panditsripathak nalini51purohit romy1965 divyam1079 sanjaygobind nutanjyot muralydoctrack1 dilipswatisri drsdwivedi7 rajesh201963 wetwokrishna lakshmianand96 anju1951purohit swetasamadhiya ssharmajsr latarai5 jugalkhetan ankahi vprakash68 vaidyvoice vinishind nilotpalmukher6 reinebow23 pksrivastava6 paperrose2k keyesen2000 jagannkaushik city feeder breakdown due precautionary shutting power supply due cyclone amphan since storm city charging feeder going throughout city power supply restored fully 2 hour</td>\n      <td>53</td>\n      <td>0.3400</td>\n      <td>2</td>\n      <td>[(power supply, 0.99), (utilities, 0.76), (relief measures, 0.75)]</td>\n    </tr>\n    <tr>\n      <th>1262979950413590528</th>\n      <td>srcodisha honble src sir kindly give official order d2h service provider give free d2h antenna amp reinstall respective customer premise 12 affected district odishaif damaged due amphan cyclonic storm amp rain</td>\n      <td>31</td>\n      <td>0.7003</td>\n      <td>0</td>\n      <td>[(sympathy, 0.98), (relief measures, 0.96), (mobile network, 0.85), (hope, 0.84), (compensation, 0.78), (utilities, 0.74)]</td>\n    </tr>\n  </tbody>\n</table>\n</div>"
     },
     "metadata": {},
     "execution_count": 710
    }
   ],
   "source": [
    "df_label.head()"
   ]
  },
  {
   "cell_type": "markdown",
   "metadata": {},
   "source": [
    "## Creating Summaries based on Similarity & Connected Components"
   ]
  },
  {
   "cell_type": "code",
   "execution_count": 711,
   "metadata": {},
   "outputs": [],
   "source": [
    "label_vectors = np.array([doc_vectors[doc_tags.index(idx)] for idx in df_label.index.tolist()])"
   ]
  },
  {
   "cell_type": "code",
   "execution_count": 712,
   "metadata": {},
   "outputs": [],
   "source": [
    "cos_distances = pairwise_distances(label_vectors, n_jobs=-1, metric='cosine')"
   ]
  },
  {
   "cell_type": "code",
   "execution_count": 713,
   "metadata": {},
   "outputs": [],
   "source": [
    "\"\"\"Given pairwise distances and length parameter, returns the summary\"\"\"\n",
    "def create_summary(cos_distances , K):\n",
    "    summary = [] ## Store the summary\n",
    "    remove = set() ## Set of nodes to be ignored (iteratively)\n",
    "    threshold = 0.1\n",
    "\n",
    "    while len(summary)<K and threshold<=1:\n",
    "        print('Threshold =',threshold)\n",
    "        G = nx.Graph()   ## Create a new Graph\n",
    "        result = np.where(cos_distances<=threshold)\n",
    "        listOfCoordinates = list(zip(result[0], result[1]))\n",
    "        listOfCoordinates = [item for item in listOfCoordinates if item[0]!=item[1]]\n",
    "\n",
    "        ## Create graph edges\n",
    "        for node_1, node_2 in listOfCoordinates:\n",
    "            item_1 = df_label.iloc[node_1]\n",
    "            item_2 = df_label.iloc[node_2]\n",
    "            id_1 = item_1.name\n",
    "            id_2 = item_2.name\n",
    "\n",
    "            ## Check if node hasn't been removed\n",
    "            if id_1 not in remove and id_2 not in remove:\n",
    "                if not G.has_node(id_1):\n",
    "                    G.add_node(\n",
    "                        id_1,\n",
    "                        node_size=np.log(item_1['retweet_count']+item_1['length']+1),\n",
    "                        sentiment=item_1['sentiment'],\n",
    "                        labels=item_1['labels'],\n",
    "                        text=item_1['full_text_processed']\n",
    "                    )\n",
    "                if not G.has_node(id_2):\n",
    "                    G.add_node(\n",
    "                        id_2,\n",
    "                        node_size=np.log(item_2['retweet_count']+item_2['length']+1),\n",
    "                        sentiment=item_2['sentiment'],\n",
    "                        labels=item_2['labels'],\n",
    "                        text=item_2['full_text_processed']\n",
    "                    )\n",
    "                if not G.has_edge(id_1, id_2):\n",
    "                    G.add_edge(id_1, id_2, weight=(1-cos_distances[node_1][node_2]))\n",
    "        \n",
    "        conn_components = nx.connected_components(G)\n",
    "        conn_components = sorted(conn_components, key=len, reverse=True)  ## Sorting the connected components based on length or size\n",
    "        print(\"Number of connected components =\",len(conn_components))\n",
    "\n",
    "        ## Sort each connected component based on the aggregated score of node_size and pick the highest scoring tweet from each             component. The other nodes are removed.\n",
    "        for component in conn_components:\n",
    "            if len(component)>=4 and len(summary)<K: \n",
    "                node_pick = sorted(component, \n",
    "                            key=lambda x: (np.log(G.degree[x]+1)+G.nodes()[x]['node_size']), \n",
    "                            reverse=True)\n",
    "                summary.append((node_pick[0], G.nodes()[node_pick[0]]['text'], G.nodes()[node_pick[0]]['sentiment']))\n",
    "                remove.update(node_pick)\n",
    "        \n",
    "        threshold = threshold+0.1\n",
    "    \n",
    "    return summary"
   ]
  },
  {
   "cell_type": "code",
   "execution_count": 714,
   "metadata": {
    "tags": []
   },
   "outputs": [
    {
     "output_type": "stream",
     "name": "stdout",
     "text": "Threshold = 0.1\nNumber of connected components = 163\nThreshold = 0.2\nNumber of connected components = 214\n"
    }
   ],
   "source": [
    "K = 50 ## Number of tweets to create the summary\n",
    "summary = create_summary(cos_distances, K)"
   ]
  },
  {
   "cell_type": "code",
   "execution_count": 715,
   "metadata": {},
   "outputs": [],
   "source": [
    "df_summary = pd.DataFrame(summary, columns=['tweet_id', 'full_text', 'sentiment'])"
   ]
  },
  {
   "cell_type": "code",
   "execution_count": 716,
   "metadata": {},
   "outputs": [
    {
     "output_type": "execute_result",
     "data": {
      "text/plain": "               tweet_id  \\\n0   1264459173372350464   \n1   1265524767681056768   \n2   1263755579576799232   \n3   1263110118176165888   \n4   1264156369201971200   \n5   1264136622242557952   \n6   1264907290978562048   \n7   1266036922754887680   \n8   1263526004250873856   \n9   1267118789075836928   \n10  1264189397605453824   \n11  1265314249934401536   \n12  1265236528403492864   \n13  1264162065171660800   \n14  1264208870345445376   \n15  1265554299934949376   \n16  1263481988360658944   \n17  1263583996249649152   \n18  1271062598935404544   \n19  1264838890386534400   \n20  1265574955363811328   \n21  1265531244835676160   \n22  1265277059061805056   \n23  1270521061457657856   \n24  1265975287650455552   \n25  1263035572123099136   \n26  1271100738450538496   \n27  1271028106086592512   \n28  1264161458809683968   \n29  1264000683096682496   \n30  1265542364807995392   \n31  1265137964377653248   \n32  1262975509958451200   \n33  1265978155644399616   \n34  1263388810588549120   \n35  1263692879215689728   \n36  1263188260676947968   \n37  1263279520573984768   \n38  1263016089572618240   \n39  1264113336817508352   \n40  1268955202348109824   \n41  1263547500184702976   \n42  1263119302263222272   \n43  1265035591823118336   \n44  1264608135257321472   \n45  1265200553510031360   \n46  1265215528706007040   \n47  1263082600744116224   \n48  1268087121392406528   \n49  1268134405081567232   \n\n                                                                                                                                                                                                                                                                                               full_text  \\\n0   jdhankhar1 mamataofficial pmoindia npr budget 3941 cr delhi power corridor 20000 cr npa loan waiver 140000 cr patels statue cost 2989 cr remaking central vista 22000 cr pending amount 4 bengal 52000 cr excluding bulbul relief bengal get 4 amphan declared national disaster 1000 cr advance aid   \n1   first coronathen amphan made worse mamata’s incompetence people still haven’t relief electricity food water cut many part state mamata government aarnoimamata আরনয়মমতা                                                                                                                               \n2   npr budget 3941 cr delhi power corridor 20000 cr npa loan waiver 14 lakh cr statue unity cost 2989 cr pending amount bengal 52000 cr excluding bulbul relief bengal get amphan 1000 crore declaration national emergency pmdoesnotcare pmoindia                                                        \n3   electric outage phool bagan kolkata caused due cyclone please pray one fortunate enough proper shelter challenging time cycloneamphan cycloneamphanupdate amphansupercyclone amphan                                                                                                                    \n4   west bengal seek army’s help restore essential service hit cycloneamphan                                                                                                                                                                                                                               \n5   amphan toll rise 85 bengal protest electricity water supply                                                                                                                                                                                                                                            \n6   power minister review restoration power infrastructure post amphan via video conferencing                                                                                                                                                                                                              \n7   many area kolkata still without electricity lack water house life bedridden patient joint negligence state government cesc dealing amphan ha exposed people west bengal victim one nefarious conspiracy mamatarcescmrityudut                                                                           \n8   cyclone amphan odhisha west bengal nearly 45 lakh people affected amfan cyclone odisha power infrastructure destroyed                                                                                                                                                                                  \n9   cyclone amphan update weather forecast today live update death toll rise 86 bengal seek army support restore essential infrastructure 86 death powerwater shortage bengal army help 44 lakh people affected odisha                                                                                     \n10  cyclone amphan update weather forecast today live update death toll rise 86 bengal seek army support restore essential infrastructure people west bengal need electricity water government seek help army 5 lakh people bangladesh become homeless                                                     \n11  “we don’t electricity water 6 days” local kolkata suffer amidst administrative help west bengal government                                                                                                                                                                                             \n12  cyclone amphan come blessing disguise lockdownhit jobless labourer electrician west bengal                                                                                                                                                                                                             \n13  west bengal call indian army’s support restore essential infrastructure service cyclone amphan havoc india news                                                                                                                                                                                        \n14  86 death powerwater shortage bengal army help 44 lakh people affected odisha                                                                                                                                                                                                                           \n15  cycloneamphan drinking water electricity restored part kolkata                                                                                                                                                                                                                                         \n16  banglargorbomb honorable madam due respect inform wa electricity supply area chhote lal mishir road howrah 711107ward 3 hmc 20th may 2020 615 pm till nowelectric supply amphan cyclone wa cut yesterday                                                                                               \n17  amphan wreaks havoc power supply kolkata phone connectivity disrupted                                                                                                                                                                                                                                  \n18  initiative join hand 1 lakh youth across wb join banglarjuboshakti today help wb combating pandemic amp post amphan crisis banglarjuboshakti abhishekaitc itspcofficial                                                                                                                                \n19  water electricity 100 hour due amphan double trouble kolkata resident amid covid19                                                                                                                                                                                                                     \n20  resident kolkata continue protest electricity water still restored many part kolkata even 6 day postamphan condition kolkata one wonder happening interior bengal total failure mamata govt aarnoimamata                                                                                               \n21  resident kolkata continue protest electricity amp water yet restored many part kolkata even 6 day postamphan kolkata wonder what’s happening bengal’s district total failure mamata govt aarnoimamata                                                                                                  \n22  cyclone amphan citizen protest power cut bjp plan chargesheet mamata                                                                                                                                                                                                                                   \n23  amphan ha shattered shelter blocked drain damaged water point latrine bridge rohingya camp — sreeparna banerjee writes                                                                                                                                                                                 \n24  resident kolkata continue protest electricity water still restored many part kolkata even 7 day postamphan condition kolkata one wonder happening interior bengal mamatarcescmriryudut                                                                                                                 \n25  sucs amphan 105 km southeast digha west bengal 1330 ist 20th may cross west bengalbangladesh coast digha west bengal hatiya island bangladesh close sunderbans landfall process commence today late afternoon 4pm onwards                                                                              \n26  bengal battling challenge created corona devastation caused amphanin tough time tmyc starting initiative mobilizeand join hand 1lakh motivated youth across state help distressed banglarjuboshakti aitcofficial                                                                                       \n27  banglarjuboshakti moment bengal fighting innumerable obstacle corona virus one hand devastating cyclone amphan bengali trying best fight simultaneous disaster situation new life bengal reckless fresh youth aitcofficial                                                                             \n28  amphan bengal seek army help restore infra                                                                                                                                                                                                                                                             \n29  tvrebublic amphan situation kolkata power five day tollygunge area tmc goon beating woman protesting councellor ward 96 making fake promise please telecast channel want response last 3 day                                                                                                           \n30  first corona amphan made worse mamata’s incompetence people still haven’t relief electricity food water cut many part state mamata government aarnoimamata আরনয়মমতা bjp4bengal bjp4india                                                                                                              \n31  amphan still electricity water many part bengal people road                                                                                                                                                                                                                                            \n32  power ministry put place adequate arrangement face cyclone amphan                                                                                                                                                                                                                                      \n33  cesclimited claim 85 customer reconnected power 7days amphan justifiable mamatarcescmrityudut                                                                                                                                                                                                          \n34  electricity mobile kolkata resident talk ‘petrifying’ cyclone amphan electricity mobile kolkata resident talk ‘petrifying’ cyclone amphan                                                                                                                                                              \n35  cycloneamphan death toll rise 77 west bengal electricity mobile service restored area                                                                                                                                                                                                                  \n36  electric outage phool bagan kolkata caused due amphansupercyclone amphan                                                                                                                                                                                                                               \n37  amfan reached bangladesh havoc many house inundated electricity 10 lakh people lost                                                                                                                                                                                                                    \n38  sucs amphan 95 km southsoutheast digha west bengal 1230 ist 20th may cross west bengalbangladesh coast digha west bengal hatiya island bangladesh close sunderbans landfall process commence today late afternoon 4pm onwards                                                                          \n39  cyclone amphan death toll rise 85 west bengal protest electric water supply kolkata                                                                                                                                                                                                                    \n40  west bengal cm mamata banerjee pm narendra modi coronavirus amphan storm bjp amit shah bengal news update mamata wa angry bjp said never said remove modi delhi bjp trying remove u power                                                                                                              \n41  minofpower sir experience le power cut amphan hit west bengal electricity sec 28 west faridabad haryana 1230 530pm power cut regular affair                                                                                                                                                            \n42  didi side day night 7 day helpline number 10702214 35262214 1995 contact hurricane amphan bhalothekobangla banglargorbomb mamataofficial abhishekaitc aitcofficial                                                                                                                                     \n43  homebengal next phase amphan government nick caution let power system taken underground different district sufficient time make arrangement housing rural housing scheme area affected natural disasters12                                                                                             \n44  corona contract worker current abhik saha ampan good name um pan went rampage 60 hour ago many area cesc provides electricity service yet received electricity ha electricity returned yet 1 n                                                                                                         \n45  political mercury rising amfan standing next cesc counterattacking babul babul supriyo accused kmc restoring electrical energy amphan hit kolkata                                                                                                                                                      \n46  eu announces 11m euro minimize bangladesh’s amphan damage                                                                                                                                                                                                                                              \n47  short circuit overhead electricity cable suburb kolkata landfall cycloneamphan                                                                                                                                                                                                                         \n48  u hit amphan day back got keep phone charged get ready atleast 3 day without electricity network stock drinking water please provide shelter stray locality mumbaicyclonealert nisargacyclone                                                                                                          \n49  kolkata municipal corporation ha failed live expectationsthe recovery work post amphan cyclone ha extremely slowhuge tree log hanging wire tilted lamp post amp traffic signal seen across citywe need immediate revamp banglarnabanirman                                                              \n\n    sentiment  \n0  -0.2500     \n1  -0.6597     \n2   0.1280     \n3   0.7964     \n4   0.5994     \n5  -0.2500     \n6   0.0000     \n7  -0.3481     \n8  -0.5859     \n9  -0.8402     \n10  0.0258     \n11 -0.2023     \n12  0.2960     \n13  0.0000     \n14 -0.7506     \n15  0.3400     \n16  0.6705     \n17 -0.5994     \n18  0.6369     \n19 -0.4019     \n20 -0.4404     \n21 -0.4404     \n22 -0.4767     \n23 -0.6908     \n24  0.1027     \n25  0.0000     \n26  0.6369     \n27 -0.8402     \n28  0.5994     \n29 -0.6124     \n30 -0.6597     \n31  0.0000     \n32  0.2263     \n33  0.0000     \n34  0.0000     \n35 -0.3612     \n36  0.0000     \n37 -0.7003     \n38  0.0000     \n39 -0.7096     \n40 -0.5106     \n41 -0.4939     \n42  0.0772     \n43  0.2263     \n44  0.6486     \n45  0.2732     \n46 -0.4939     \n47  0.0000     \n48  0.4588     \n49  0.1280     ",
      "text/html": "<div>\n<style scoped>\n    .dataframe tbody tr th:only-of-type {\n        vertical-align: middle;\n    }\n\n    .dataframe tbody tr th {\n        vertical-align: top;\n    }\n\n    .dataframe thead th {\n        text-align: right;\n    }\n</style>\n<table border=\"1\" class=\"dataframe\">\n  <thead>\n    <tr style=\"text-align: right;\">\n      <th></th>\n      <th>tweet_id</th>\n      <th>full_text</th>\n      <th>sentiment</th>\n    </tr>\n  </thead>\n  <tbody>\n    <tr>\n      <th>0</th>\n      <td>1264459173372350464</td>\n      <td>jdhankhar1 mamataofficial pmoindia npr budget 3941 cr delhi power corridor 20000 cr npa loan waiver 140000 cr patels statue cost 2989 cr remaking central vista 22000 cr pending amount 4 bengal 52000 cr excluding bulbul relief bengal get 4 amphan declared national disaster 1000 cr advance aid</td>\n      <td>-0.2500</td>\n    </tr>\n    <tr>\n      <th>1</th>\n      <td>1265524767681056768</td>\n      <td>first coronathen amphan made worse mamata’s incompetence people still haven’t relief electricity food water cut many part state mamata government aarnoimamata আরনয়মমতা</td>\n      <td>-0.6597</td>\n    </tr>\n    <tr>\n      <th>2</th>\n      <td>1263755579576799232</td>\n      <td>npr budget 3941 cr delhi power corridor 20000 cr npa loan waiver 14 lakh cr statue unity cost 2989 cr pending amount bengal 52000 cr excluding bulbul relief bengal get amphan 1000 crore declaration national emergency pmdoesnotcare pmoindia</td>\n      <td>0.1280</td>\n    </tr>\n    <tr>\n      <th>3</th>\n      <td>1263110118176165888</td>\n      <td>electric outage phool bagan kolkata caused due cyclone please pray one fortunate enough proper shelter challenging time cycloneamphan cycloneamphanupdate amphansupercyclone amphan</td>\n      <td>0.7964</td>\n    </tr>\n    <tr>\n      <th>4</th>\n      <td>1264156369201971200</td>\n      <td>west bengal seek army’s help restore essential service hit cycloneamphan</td>\n      <td>0.5994</td>\n    </tr>\n    <tr>\n      <th>5</th>\n      <td>1264136622242557952</td>\n      <td>amphan toll rise 85 bengal protest electricity water supply</td>\n      <td>-0.2500</td>\n    </tr>\n    <tr>\n      <th>6</th>\n      <td>1264907290978562048</td>\n      <td>power minister review restoration power infrastructure post amphan via video conferencing</td>\n      <td>0.0000</td>\n    </tr>\n    <tr>\n      <th>7</th>\n      <td>1266036922754887680</td>\n      <td>many area kolkata still without electricity lack water house life bedridden patient joint negligence state government cesc dealing amphan ha exposed people west bengal victim one nefarious conspiracy mamatarcescmrityudut</td>\n      <td>-0.3481</td>\n    </tr>\n    <tr>\n      <th>8</th>\n      <td>1263526004250873856</td>\n      <td>cyclone amphan odhisha west bengal nearly 45 lakh people affected amfan cyclone odisha power infrastructure destroyed</td>\n      <td>-0.5859</td>\n    </tr>\n    <tr>\n      <th>9</th>\n      <td>1267118789075836928</td>\n      <td>cyclone amphan update weather forecast today live update death toll rise 86 bengal seek army support restore essential infrastructure 86 death powerwater shortage bengal army help 44 lakh people affected odisha</td>\n      <td>-0.8402</td>\n    </tr>\n    <tr>\n      <th>10</th>\n      <td>1264189397605453824</td>\n      <td>cyclone amphan update weather forecast today live update death toll rise 86 bengal seek army support restore essential infrastructure people west bengal need electricity water government seek help army 5 lakh people bangladesh become homeless</td>\n      <td>0.0258</td>\n    </tr>\n    <tr>\n      <th>11</th>\n      <td>1265314249934401536</td>\n      <td>“we don’t electricity water 6 days” local kolkata suffer amidst administrative help west bengal government</td>\n      <td>-0.2023</td>\n    </tr>\n    <tr>\n      <th>12</th>\n      <td>1265236528403492864</td>\n      <td>cyclone amphan come blessing disguise lockdownhit jobless labourer electrician west bengal</td>\n      <td>0.2960</td>\n    </tr>\n    <tr>\n      <th>13</th>\n      <td>1264162065171660800</td>\n      <td>west bengal call indian army’s support restore essential infrastructure service cyclone amphan havoc india news</td>\n      <td>0.0000</td>\n    </tr>\n    <tr>\n      <th>14</th>\n      <td>1264208870345445376</td>\n      <td>86 death powerwater shortage bengal army help 44 lakh people affected odisha</td>\n      <td>-0.7506</td>\n    </tr>\n    <tr>\n      <th>15</th>\n      <td>1265554299934949376</td>\n      <td>cycloneamphan drinking water electricity restored part kolkata</td>\n      <td>0.3400</td>\n    </tr>\n    <tr>\n      <th>16</th>\n      <td>1263481988360658944</td>\n      <td>banglargorbomb honorable madam due respect inform wa electricity supply area chhote lal mishir road howrah 711107ward 3 hmc 20th may 2020 615 pm till nowelectric supply amphan cyclone wa cut yesterday</td>\n      <td>0.6705</td>\n    </tr>\n    <tr>\n      <th>17</th>\n      <td>1263583996249649152</td>\n      <td>amphan wreaks havoc power supply kolkata phone connectivity disrupted</td>\n      <td>-0.5994</td>\n    </tr>\n    <tr>\n      <th>18</th>\n      <td>1271062598935404544</td>\n      <td>initiative join hand 1 lakh youth across wb join banglarjuboshakti today help wb combating pandemic amp post amphan crisis banglarjuboshakti abhishekaitc itspcofficial</td>\n      <td>0.6369</td>\n    </tr>\n    <tr>\n      <th>19</th>\n      <td>1264838890386534400</td>\n      <td>water electricity 100 hour due amphan double trouble kolkata resident amid covid19</td>\n      <td>-0.4019</td>\n    </tr>\n    <tr>\n      <th>20</th>\n      <td>1265574955363811328</td>\n      <td>resident kolkata continue protest electricity water still restored many part kolkata even 6 day postamphan condition kolkata one wonder happening interior bengal total failure mamata govt aarnoimamata</td>\n      <td>-0.4404</td>\n    </tr>\n    <tr>\n      <th>21</th>\n      <td>1265531244835676160</td>\n      <td>resident kolkata continue protest electricity amp water yet restored many part kolkata even 6 day postamphan kolkata wonder what’s happening bengal’s district total failure mamata govt aarnoimamata</td>\n      <td>-0.4404</td>\n    </tr>\n    <tr>\n      <th>22</th>\n      <td>1265277059061805056</td>\n      <td>cyclone amphan citizen protest power cut bjp plan chargesheet mamata</td>\n      <td>-0.4767</td>\n    </tr>\n    <tr>\n      <th>23</th>\n      <td>1270521061457657856</td>\n      <td>amphan ha shattered shelter blocked drain damaged water point latrine bridge rohingya camp — sreeparna banerjee writes</td>\n      <td>-0.6908</td>\n    </tr>\n    <tr>\n      <th>24</th>\n      <td>1265975287650455552</td>\n      <td>resident kolkata continue protest electricity water still restored many part kolkata even 7 day postamphan condition kolkata one wonder happening interior bengal mamatarcescmriryudut</td>\n      <td>0.1027</td>\n    </tr>\n    <tr>\n      <th>25</th>\n      <td>1263035572123099136</td>\n      <td>sucs amphan 105 km southeast digha west bengal 1330 ist 20th may cross west bengalbangladesh coast digha west bengal hatiya island bangladesh close sunderbans landfall process commence today late afternoon 4pm onwards</td>\n      <td>0.0000</td>\n    </tr>\n    <tr>\n      <th>26</th>\n      <td>1271100738450538496</td>\n      <td>bengal battling challenge created corona devastation caused amphanin tough time tmyc starting initiative mobilizeand join hand 1lakh motivated youth across state help distressed banglarjuboshakti aitcofficial</td>\n      <td>0.6369</td>\n    </tr>\n    <tr>\n      <th>27</th>\n      <td>1271028106086592512</td>\n      <td>banglarjuboshakti moment bengal fighting innumerable obstacle corona virus one hand devastating cyclone amphan bengali trying best fight simultaneous disaster situation new life bengal reckless fresh youth aitcofficial</td>\n      <td>-0.8402</td>\n    </tr>\n    <tr>\n      <th>28</th>\n      <td>1264161458809683968</td>\n      <td>amphan bengal seek army help restore infra</td>\n      <td>0.5994</td>\n    </tr>\n    <tr>\n      <th>29</th>\n      <td>1264000683096682496</td>\n      <td>tvrebublic amphan situation kolkata power five day tollygunge area tmc goon beating woman protesting councellor ward 96 making fake promise please telecast channel want response last 3 day</td>\n      <td>-0.6124</td>\n    </tr>\n    <tr>\n      <th>30</th>\n      <td>1265542364807995392</td>\n      <td>first corona amphan made worse mamata’s incompetence people still haven’t relief electricity food water cut many part state mamata government aarnoimamata আরনয়মমতা bjp4bengal bjp4india</td>\n      <td>-0.6597</td>\n    </tr>\n    <tr>\n      <th>31</th>\n      <td>1265137964377653248</td>\n      <td>amphan still electricity water many part bengal people road</td>\n      <td>0.0000</td>\n    </tr>\n    <tr>\n      <th>32</th>\n      <td>1262975509958451200</td>\n      <td>power ministry put place adequate arrangement face cyclone amphan</td>\n      <td>0.2263</td>\n    </tr>\n    <tr>\n      <th>33</th>\n      <td>1265978155644399616</td>\n      <td>cesclimited claim 85 customer reconnected power 7days amphan justifiable mamatarcescmrityudut</td>\n      <td>0.0000</td>\n    </tr>\n    <tr>\n      <th>34</th>\n      <td>1263388810588549120</td>\n      <td>electricity mobile kolkata resident talk ‘petrifying’ cyclone amphan electricity mobile kolkata resident talk ‘petrifying’ cyclone amphan</td>\n      <td>0.0000</td>\n    </tr>\n    <tr>\n      <th>35</th>\n      <td>1263692879215689728</td>\n      <td>cycloneamphan death toll rise 77 west bengal electricity mobile service restored area</td>\n      <td>-0.3612</td>\n    </tr>\n    <tr>\n      <th>36</th>\n      <td>1263188260676947968</td>\n      <td>electric outage phool bagan kolkata caused due amphansupercyclone amphan</td>\n      <td>0.0000</td>\n    </tr>\n    <tr>\n      <th>37</th>\n      <td>1263279520573984768</td>\n      <td>amfan reached bangladesh havoc many house inundated electricity 10 lakh people lost</td>\n      <td>-0.7003</td>\n    </tr>\n    <tr>\n      <th>38</th>\n      <td>1263016089572618240</td>\n      <td>sucs amphan 95 km southsoutheast digha west bengal 1230 ist 20th may cross west bengalbangladesh coast digha west bengal hatiya island bangladesh close sunderbans landfall process commence today late afternoon 4pm onwards</td>\n      <td>0.0000</td>\n    </tr>\n    <tr>\n      <th>39</th>\n      <td>1264113336817508352</td>\n      <td>cyclone amphan death toll rise 85 west bengal protest electric water supply kolkata</td>\n      <td>-0.7096</td>\n    </tr>\n    <tr>\n      <th>40</th>\n      <td>1268955202348109824</td>\n      <td>west bengal cm mamata banerjee pm narendra modi coronavirus amphan storm bjp amit shah bengal news update mamata wa angry bjp said never said remove modi delhi bjp trying remove u power</td>\n      <td>-0.5106</td>\n    </tr>\n    <tr>\n      <th>41</th>\n      <td>1263547500184702976</td>\n      <td>minofpower sir experience le power cut amphan hit west bengal electricity sec 28 west faridabad haryana 1230 530pm power cut regular affair</td>\n      <td>-0.4939</td>\n    </tr>\n    <tr>\n      <th>42</th>\n      <td>1263119302263222272</td>\n      <td>didi side day night 7 day helpline number 10702214 35262214 1995 contact hurricane amphan bhalothekobangla banglargorbomb mamataofficial abhishekaitc aitcofficial</td>\n      <td>0.0772</td>\n    </tr>\n    <tr>\n      <th>43</th>\n      <td>1265035591823118336</td>\n      <td>homebengal next phase amphan government nick caution let power system taken underground different district sufficient time make arrangement housing rural housing scheme area affected natural disasters12</td>\n      <td>0.2263</td>\n    </tr>\n    <tr>\n      <th>44</th>\n      <td>1264608135257321472</td>\n      <td>corona contract worker current abhik saha ampan good name um pan went rampage 60 hour ago many area cesc provides electricity service yet received electricity ha electricity returned yet 1 n</td>\n      <td>0.6486</td>\n    </tr>\n    <tr>\n      <th>45</th>\n      <td>1265200553510031360</td>\n      <td>political mercury rising amfan standing next cesc counterattacking babul babul supriyo accused kmc restoring electrical energy amphan hit kolkata</td>\n      <td>0.2732</td>\n    </tr>\n    <tr>\n      <th>46</th>\n      <td>1265215528706007040</td>\n      <td>eu announces 11m euro minimize bangladesh’s amphan damage</td>\n      <td>-0.4939</td>\n    </tr>\n    <tr>\n      <th>47</th>\n      <td>1263082600744116224</td>\n      <td>short circuit overhead electricity cable suburb kolkata landfall cycloneamphan</td>\n      <td>0.0000</td>\n    </tr>\n    <tr>\n      <th>48</th>\n      <td>1268087121392406528</td>\n      <td>u hit amphan day back got keep phone charged get ready atleast 3 day without electricity network stock drinking water please provide shelter stray locality mumbaicyclonealert nisargacyclone</td>\n      <td>0.4588</td>\n    </tr>\n    <tr>\n      <th>49</th>\n      <td>1268134405081567232</td>\n      <td>kolkata municipal corporation ha failed live expectationsthe recovery work post amphan cyclone ha extremely slowhuge tree log hanging wire tilted lamp post amp traffic signal seen across citywe need immediate revamp banglarnabanirman</td>\n      <td>0.1280</td>\n    </tr>\n  </tbody>\n</table>\n</div>"
     },
     "metadata": {},
     "execution_count": 716
    }
   ],
   "source": [
    "df_summary"
   ]
  },
  {
   "cell_type": "code",
   "execution_count": 417,
   "metadata": {},
   "outputs": [],
   "source": [
    " def save_graph(graph,file_name):\n",
    "    #initialze Figure\n",
    "    plt.figure(num=None, figsize=(20, 20), dpi=80)\n",
    "    plt.axis('off')\n",
    "    fig = plt.figure(1)\n",
    "    pos = nx.spring_layout(graph)\n",
    "    nx.draw_networkx_nodes(graph,pos)\n",
    "    nx.draw_networkx_edges(graph,pos)\n",
    "    nx.draw_networkx_labels(graph,pos)\n",
    "\n",
    "    cut = 1.00\n",
    "    xmax = cut * max(xx for xx, yy in pos.values())\n",
    "    ymax = cut * max(yy for xx, yy in pos.values())\n",
    "    plt.xlim(0, xmax)\n",
    "    plt.ylim(0, ymax)\n",
    "\n",
    "    plt.savefig(file_name,bbox_inches=\"tight\")\n",
    "    del fig"
   ]
  },
  {
   "cell_type": "code",
   "execution_count": null,
   "metadata": {},
   "outputs": [],
   "source": []
  }
 ]
}