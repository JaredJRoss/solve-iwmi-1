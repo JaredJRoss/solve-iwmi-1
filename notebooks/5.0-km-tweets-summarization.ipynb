{
 "metadata": {
  "language_info": {
   "codemirror_mode": {
    "name": "ipython",
    "version": 3
   },
   "file_extension": ".py",
   "mimetype": "text/x-python",
   "name": "python",
   "nbconvert_exporter": "python",
   "pygments_lexer": "ipython3",
   "version": "3.8.5-final"
  },
  "orig_nbformat": 2,
  "kernelspec": {
   "name": "python_defaultSpec_1599666745666",
   "display_name": "Python 3.8.5 64-bit ('solve-iwmi': conda)"
  }
 },
 "nbformat": 4,
 "nbformat_minor": 2,
 "cells": [
  {
   "cell_type": "markdown",
   "metadata": {},
   "source": [
    "# Unsupervised Tweet Summarization with Network Analysis"
   ]
  },
  {
   "cell_type": "code",
   "execution_count": 1,
   "metadata": {},
   "outputs": [],
   "source": [
    "import os\n",
    "from os.path import join\n",
    "import pandas as pd\n",
    "import numpy as np\n",
    "import nltk\n",
    "import networkx as nx\n",
    "from collections import Counter\n",
    "import eland as ed\n",
    "from sklearn.metrics import pairwise_distances\n",
    "from scipy.spatial.distance import cosine\n",
    "from numpy import dot\n",
    "from numpy.linalg import norm\n",
    "import matplotlib.pyplot as plt\n",
    "from gensim.test.utils import common_texts\n",
    "from gensim.models.doc2vec import Doc2Vec, TaggedDocument\n",
    "from sklearn.cluster import DBSCAN, KMeans\n",
    "from sklearn.decomposition import PCA\n",
    "from networkx.algorithms import community\n",
    "import pointofview as pov\n",
    "\n",
    "pd.set_option('display.max_colwidth', -1)\n",
    "\n"
   ]
  },
  {
   "cell_type": "code",
   "execution_count": 2,
   "metadata": {},
   "outputs": [],
   "source": [
    "project_dir = join(os.getcwd(), os.pardir)\n",
    "models_dir = join(project_dir, 'models')"
   ]
  },
  {
   "cell_type": "code",
   "execution_count": 3,
   "metadata": {},
   "outputs": [],
   "source": [
    "TERMS = ['sympathy', 'complaint', 'hope', 'job', 'relief measures', 'compensation',\n",
    "        'evacuation', 'income', 'ecosystem', 'government', 'corruption', 'news updates', \n",
    "        'volunteers', 'donation', 'mobile network', 'housing', 'farm', 'utilities', \n",
    "        'water supply', 'power supply', 'food supply', 'medical assistance', 'coronavirus', \n",
    "        'petition', 'poverty']\n",
    "\n",
    "THRESHOLD = 0.7"
   ]
  },
  {
   "cell_type": "markdown",
   "metadata": {},
   "source": [
    "## Import data from Elasticsearch"
   ]
  },
  {
   "cell_type": "code",
   "execution_count": 4,
   "metadata": {},
   "outputs": [],
   "source": [
    "ed_df = ed.DataFrame('localhost', 'twitter', columns=['full_text', 'full_text_processed', 'sentiment', 'retweet_count', 'lang', 'description', 'location', 'name'])\n",
    "\n",
    "# defining the full-text query we need: Retrieving records for full_text_processed with the condition is_retweet=False and is_quote_status=False\n",
    "query_unique = {\n",
    "    \"bool\": {\n",
    "        \"must\": {\n",
    "            \"term\":{\"is_retweet\":\"false\"},\n",
    "        },\n",
    "        \"filter\": {\n",
    "            \"term\":{\"is_quote_status\":\"false\"}\n",
    "        },\n",
    "    }\n",
    "}\n",
    "# using full-text search capabilities with Eland:\n",
    "df_ed = ed_df.es_query(query_unique)\n",
    "df_tweets = df_ed.to_pandas()"
   ]
  },
  {
   "cell_type": "code",
   "execution_count": 5,
   "metadata": {},
   "outputs": [],
   "source": [
    "df_tweets['length'] = df_tweets['full_text_processed'].apply(lambda x: len([w for w in x.split()]))\n",
    "df_tweets = df_tweets[df_tweets['length']>5]"
   ]
  },
  {
   "cell_type": "code",
   "execution_count": 6,
   "metadata": {},
   "outputs": [
    {
     "output_type": "execute_result",
     "data": {
      "text/plain": "(99241, 9)"
     },
     "metadata": {},
     "execution_count": 6
    }
   ],
   "source": [
    "df_tweets.shape"
   ]
  },
  {
   "cell_type": "code",
   "execution_count": 7,
   "metadata": {},
   "outputs": [
    {
     "output_type": "execute_result",
     "data": {
      "text/plain": "                                                                                                                                                                                                                                                                                                                            full_text  \\\n1262961673708675072  Live Cyclone Amphan Map: Tracking the Storm’s Path https://t.co/CvPTrhe4r3                                                                                                                                                                                                                                         \n1262961660932894720  NYT Live Cyclone Amphan Map: Tracking the Storm’s Path https://t.co/t6vyqfQSjS                                                                                                                                                                                                                                     \n1262961652359729152  LIVE Now news update on Super Cyclone Amphan  #AmphanUpdate #CycloneAmphan #AmphanCyclone #CycloneAmphanUpdate \\n120 km nearly south of Paradip (Odisha), \\n200 km south-southwest of Digha (West Bengal) and \\n360 km south-southwest of Khepupara (Bangladesh). https://t.co/xi9OImeXCe                          \n1262960808742522880  আর কাছাকাছি চলে এলো সাইক্লোন ঝড় আমফান।\\nLIVE Super Cyclone Amphan update\\n--ওড়িশা থেকে ১২০ কিলোমিটার দূরে Paradip (Odisha),\\n--পশ্চিমবঙ্গ থেকে ২০০ কিলোমিটার Digha (West Bengal)\\n--বাংলাদেশ থেকে ৩৬০ কিলোমিটার Khepupara (Bangladesh).\\n#বাংলাদেশ #বাংলা #পশ্চিমবঙ্গ #সাইক্লোন #আমফান https://t.co/vuGPh7rKca   \n1262937945214005248  LIVE news update on Super Cyclone Amphan  #AmphanUpdate #CycloneAmphan #AmphanCyclone #CycloneAmphanUpdate \\n125 km nearly south of Paradip (Odisha), \\n225 km south-southwest of Digha (West Bengal) and \\n380 km south-southwest of Khepupara (Bangladesh). https://t.co/RcApLEBp5K                              \n\n                                                                                                                                                                                                                          full_text_processed  \\\n1262961673708675072  live cyclone amphan map tracking storm’s path                                                                                                                                                                              \n1262961660932894720  nyt live cyclone amphan map tracking storm’s path                                                                                                                                                                          \n1262961652359729152  live news update super cyclone amphan amphanupdate cycloneamphan amphancyclone cycloneamphanupdate 120 km nearly south paradip odisha 200 km southsouthwest digha west bengal 360 km southsouthwest khepupara bangladesh   \n1262960808742522880  cyclone ampan came closer live super cyclone amphan update pradip odisha 120 km orissa digha west bengal 200 km west bengal khepupara bangladesh 360 km bangladesh bangladesh bangla west bengal cyclone amphan            \n1262937945214005248  live news update super cyclone amphan amphanupdate cycloneamphan amphancyclone cycloneamphanupdate 125 km nearly south paradip odisha 225 km southsouthwest digha west bengal 380 km southsouthwest khepupara bangladesh   \n\n                     sentiment  retweet_count lang  \\\n1262961673708675072  0.0000     0              en    \n1262961660932894720  0.0000     0              en    \n1262961652359729152  0.5994     0              en    \n1262960808742522880  0.5994     0              und   \n1262937945214005248  0.5994     0              en    \n\n                                                                                                description  \\\n1262961673708675072  None                                                                                     \n1262961660932894720  Get The Best                                                                             \n1262961652359729152  News, Media, Smartphone, Tech, Review & More https://www.facebook.com/mobilejudgement/   \n1262960808742522880  News, Media, Smartphone, Tech, Review & More https://www.facebook.com/mobilejudgement/   \n1262937945214005248  News, Media, Smartphone, Tech, Review & More https://www.facebook.com/mobilejudgement/   \n\n                            location             name  length  \n1262961673708675072  None             newspointpn      7       \n1262961660932894720  Varanasi, India  Vishal Tripathi  8       \n1262961652359729152  India            MJ News          27      \n1262960808742522880  India            MJ News          32      \n1262937945214005248  India            MJ News          27      ",
      "text/html": "<div>\n<style scoped>\n    .dataframe tbody tr th:only-of-type {\n        vertical-align: middle;\n    }\n\n    .dataframe tbody tr th {\n        vertical-align: top;\n    }\n\n    .dataframe thead th {\n        text-align: right;\n    }\n</style>\n<table border=\"1\" class=\"dataframe\">\n  <thead>\n    <tr style=\"text-align: right;\">\n      <th></th>\n      <th>full_text</th>\n      <th>full_text_processed</th>\n      <th>sentiment</th>\n      <th>retweet_count</th>\n      <th>lang</th>\n      <th>description</th>\n      <th>location</th>\n      <th>name</th>\n      <th>length</th>\n    </tr>\n  </thead>\n  <tbody>\n    <tr>\n      <th>1262961673708675072</th>\n      <td>Live Cyclone Amphan Map: Tracking the Storm’s Path https://t.co/CvPTrhe4r3</td>\n      <td>live cyclone amphan map tracking storm’s path</td>\n      <td>0.0000</td>\n      <td>0</td>\n      <td>en</td>\n      <td>None</td>\n      <td>None</td>\n      <td>newspointpn</td>\n      <td>7</td>\n    </tr>\n    <tr>\n      <th>1262961660932894720</th>\n      <td>NYT Live Cyclone Amphan Map: Tracking the Storm’s Path https://t.co/t6vyqfQSjS</td>\n      <td>nyt live cyclone amphan map tracking storm’s path</td>\n      <td>0.0000</td>\n      <td>0</td>\n      <td>en</td>\n      <td>Get The Best</td>\n      <td>Varanasi, India</td>\n      <td>Vishal Tripathi</td>\n      <td>8</td>\n    </tr>\n    <tr>\n      <th>1262961652359729152</th>\n      <td>LIVE Now news update on Super Cyclone Amphan  #AmphanUpdate #CycloneAmphan #AmphanCyclone #CycloneAmphanUpdate \\n120 km nearly south of Paradip (Odisha), \\n200 km south-southwest of Digha (West Bengal) and \\n360 km south-southwest of Khepupara (Bangladesh). https://t.co/xi9OImeXCe</td>\n      <td>live news update super cyclone amphan amphanupdate cycloneamphan amphancyclone cycloneamphanupdate 120 km nearly south paradip odisha 200 km southsouthwest digha west bengal 360 km southsouthwest khepupara bangladesh</td>\n      <td>0.5994</td>\n      <td>0</td>\n      <td>en</td>\n      <td>News, Media, Smartphone, Tech, Review &amp; More https://www.facebook.com/mobilejudgement/</td>\n      <td>India</td>\n      <td>MJ News</td>\n      <td>27</td>\n    </tr>\n    <tr>\n      <th>1262960808742522880</th>\n      <td>আর কাছাকাছি চলে এলো সাইক্লোন ঝড় আমফান।\\nLIVE Super Cyclone Amphan update\\n--ওড়িশা থেকে ১২০ কিলোমিটার দূরে Paradip (Odisha),\\n--পশ্চিমবঙ্গ থেকে ২০০ কিলোমিটার Digha (West Bengal)\\n--বাংলাদেশ থেকে ৩৬০ কিলোমিটার Khepupara (Bangladesh).\\n#বাংলাদেশ #বাংলা #পশ্চিমবঙ্গ #সাইক্লোন #আমফান https://t.co/vuGPh7rKca</td>\n      <td>cyclone ampan came closer live super cyclone amphan update pradip odisha 120 km orissa digha west bengal 200 km west bengal khepupara bangladesh 360 km bangladesh bangladesh bangla west bengal cyclone amphan</td>\n      <td>0.5994</td>\n      <td>0</td>\n      <td>und</td>\n      <td>News, Media, Smartphone, Tech, Review &amp; More https://www.facebook.com/mobilejudgement/</td>\n      <td>India</td>\n      <td>MJ News</td>\n      <td>32</td>\n    </tr>\n    <tr>\n      <th>1262937945214005248</th>\n      <td>LIVE news update on Super Cyclone Amphan  #AmphanUpdate #CycloneAmphan #AmphanCyclone #CycloneAmphanUpdate \\n125 km nearly south of Paradip (Odisha), \\n225 km south-southwest of Digha (West Bengal) and \\n380 km south-southwest of Khepupara (Bangladesh). https://t.co/RcApLEBp5K</td>\n      <td>live news update super cyclone amphan amphanupdate cycloneamphan amphancyclone cycloneamphanupdate 125 km nearly south paradip odisha 225 km southsouthwest digha west bengal 380 km southsouthwest khepupara bangladesh</td>\n      <td>0.5994</td>\n      <td>0</td>\n      <td>en</td>\n      <td>News, Media, Smartphone, Tech, Review &amp; More https://www.facebook.com/mobilejudgement/</td>\n      <td>India</td>\n      <td>MJ News</td>\n      <td>27</td>\n    </tr>\n  </tbody>\n</table>\n</div>"
     },
     "metadata": {},
     "execution_count": 7
    }
   ],
   "source": [
    "df_tweets.head()"
   ]
  },
  {
   "cell_type": "markdown",
   "metadata": {},
   "source": [
    "## Load the Tweet2Vec Model"
   ]
  },
  {
   "cell_type": "code",
   "execution_count": 11,
   "metadata": {},
   "outputs": [],
   "source": [
    "## Loading the tweet2vec model\n",
    "model = Doc2Vec.load(join(models_dir,'tweet2VecJared.model'))\n",
    "doc_tags = list(model.docvecs.doctags.keys())   ## Tweet Ids\n",
    "doc_vectors = model.docvecs.vectors_docs        ## Tweet Vectors"
   ]
  },
  {
   "cell_type": "code",
   "execution_count": 12,
   "metadata": {
    "tags": []
   },
   "outputs": [
    {
     "output_type": "stream",
     "name": "stdout",
     "text": "113342\n113342\n"
    }
   ],
   "source": [
    "print(len(doc_tags))\n",
    "print(len(doc_vectors))"
   ]
  },
  {
   "cell_type": "markdown",
   "metadata": {},
   "source": [
    "## Loading the tweet labels"
   ]
  },
  {
   "cell_type": "code",
   "execution_count": 13,
   "metadata": {},
   "outputs": [],
   "source": [
    "df_labels = pd.read_json(join(models_dir,'zstc_labels.json'), orient='index', convert_axes=False)"
   ]
  },
  {
   "cell_type": "code",
   "execution_count": 14,
   "metadata": {},
   "outputs": [
    {
     "output_type": "execute_result",
     "data": {
      "text/plain": "                                           0                  1  \\\n1264253979002843136  [relief measures, 0.67]  [complaint, 0.63]   \n1264253959918632960  [relief measures, 0.5]   [job, 0.06]         \n1264253893632016384  [government, 0.98]       [hope, 0.97]        \n\n                                        2                   3  \\\n1264253979002843136  [poverty, 0.48]       [evacuation, 0.46]   \n1264253959918632960  [farm, 0.04]          [volunteers, 0.01]   \n1264253893632016384  [power supply, 0.93]  [sympathy, 0.86]     \n\n                                      4                           5  \\\n1264253979002843136  [sympathy, 0.44]    [medical assistance, 0.32]   \n1264253959918632960  [evacuation, 0.01]  [petition, 0.0]              \n1264253893632016384  [ecosystem, 0.77]   [medical assistance, 0.72]   \n\n                                                   6                        7  \\\n1264253979002843136  [income, 0.30000000000000004]    [housing, 0.29]           \n1264253959918632960  [complaint, 0.0]                 [sympathy, 0.0]           \n1264253893632016384  [complaint, 0.6900000000000001]  [relief measures, 0.67]   \n\n                                                  8                   9  ...  \\\n1264253979002843136  [petition, 0.23]                [corruption, 0.22]  ...   \n1264253959918632960  [compensation, 0.0]             [income, 0.0]       ...   \n1264253893632016384  [petition, 0.5700000000000001]  [income, 0.44]      ...   \n\n                                            15                     16  \\\n1264253979002843136  [food supply, 0.07]        [hope, 0.07]            \n1264253959918632960  [medical assistance, 0.0]  [mobile network, 0.0]   \n1264253893632016384  [evacuation, 0.24]         [housing, 0.21]         \n\n                                      17                    18  \\\n1264253979002843136  [utilities, 0.05]    [news updates, 0.05]   \n1264253959918632960  [power supply, 0.0]  [government, 0.0]      \n1264253893632016384  [poverty, 0.2]       [job, 0.18]            \n\n                                      19                   20  \\\n1264253979002843136  [coronavirus, 0.04]  [farm, 0.03]          \n1264253959918632960  [poverty, 0.0]       [housing, 0.0]        \n1264253893632016384  [farm, 0.16]         [food supply, 0.16]   \n\n                                      21                  22  \\\n1264253979002843136  [donation, 0.03]     [volunteers, 0.02]   \n1264253959918632960  [corruption, 0.0]    [food supply, 0.0]   \n1264253893632016384  [coronavirus, 0.12]  [donation, 0.1]      \n\n                                     23                   24  \n1264253979002843136  [government, 0.02]  [job, 0.01]          \n1264253959918632960  [hope, 0.0]         [water supply, 0.0]  \n1264253893632016384  [corruption, 0.08]  [volunteers, 0.0]    \n\n[3 rows x 25 columns]",
      "text/html": "<div>\n<style scoped>\n    .dataframe tbody tr th:only-of-type {\n        vertical-align: middle;\n    }\n\n    .dataframe tbody tr th {\n        vertical-align: top;\n    }\n\n    .dataframe thead th {\n        text-align: right;\n    }\n</style>\n<table border=\"1\" class=\"dataframe\">\n  <thead>\n    <tr style=\"text-align: right;\">\n      <th></th>\n      <th>0</th>\n      <th>1</th>\n      <th>2</th>\n      <th>3</th>\n      <th>4</th>\n      <th>5</th>\n      <th>6</th>\n      <th>7</th>\n      <th>8</th>\n      <th>9</th>\n      <th>...</th>\n      <th>15</th>\n      <th>16</th>\n      <th>17</th>\n      <th>18</th>\n      <th>19</th>\n      <th>20</th>\n      <th>21</th>\n      <th>22</th>\n      <th>23</th>\n      <th>24</th>\n    </tr>\n  </thead>\n  <tbody>\n    <tr>\n      <th>1264253979002843136</th>\n      <td>[relief measures, 0.67]</td>\n      <td>[complaint, 0.63]</td>\n      <td>[poverty, 0.48]</td>\n      <td>[evacuation, 0.46]</td>\n      <td>[sympathy, 0.44]</td>\n      <td>[medical assistance, 0.32]</td>\n      <td>[income, 0.30000000000000004]</td>\n      <td>[housing, 0.29]</td>\n      <td>[petition, 0.23]</td>\n      <td>[corruption, 0.22]</td>\n      <td>...</td>\n      <td>[food supply, 0.07]</td>\n      <td>[hope, 0.07]</td>\n      <td>[utilities, 0.05]</td>\n      <td>[news updates, 0.05]</td>\n      <td>[coronavirus, 0.04]</td>\n      <td>[farm, 0.03]</td>\n      <td>[donation, 0.03]</td>\n      <td>[volunteers, 0.02]</td>\n      <td>[government, 0.02]</td>\n      <td>[job, 0.01]</td>\n    </tr>\n    <tr>\n      <th>1264253959918632960</th>\n      <td>[relief measures, 0.5]</td>\n      <td>[job, 0.06]</td>\n      <td>[farm, 0.04]</td>\n      <td>[volunteers, 0.01]</td>\n      <td>[evacuation, 0.01]</td>\n      <td>[petition, 0.0]</td>\n      <td>[complaint, 0.0]</td>\n      <td>[sympathy, 0.0]</td>\n      <td>[compensation, 0.0]</td>\n      <td>[income, 0.0]</td>\n      <td>...</td>\n      <td>[medical assistance, 0.0]</td>\n      <td>[mobile network, 0.0]</td>\n      <td>[power supply, 0.0]</td>\n      <td>[government, 0.0]</td>\n      <td>[poverty, 0.0]</td>\n      <td>[housing, 0.0]</td>\n      <td>[corruption, 0.0]</td>\n      <td>[food supply, 0.0]</td>\n      <td>[hope, 0.0]</td>\n      <td>[water supply, 0.0]</td>\n    </tr>\n    <tr>\n      <th>1264253893632016384</th>\n      <td>[government, 0.98]</td>\n      <td>[hope, 0.97]</td>\n      <td>[power supply, 0.93]</td>\n      <td>[sympathy, 0.86]</td>\n      <td>[ecosystem, 0.77]</td>\n      <td>[medical assistance, 0.72]</td>\n      <td>[complaint, 0.6900000000000001]</td>\n      <td>[relief measures, 0.67]</td>\n      <td>[petition, 0.5700000000000001]</td>\n      <td>[income, 0.44]</td>\n      <td>...</td>\n      <td>[evacuation, 0.24]</td>\n      <td>[housing, 0.21]</td>\n      <td>[poverty, 0.2]</td>\n      <td>[job, 0.18]</td>\n      <td>[farm, 0.16]</td>\n      <td>[food supply, 0.16]</td>\n      <td>[coronavirus, 0.12]</td>\n      <td>[donation, 0.1]</td>\n      <td>[corruption, 0.08]</td>\n      <td>[volunteers, 0.0]</td>\n    </tr>\n  </tbody>\n</table>\n<p>3 rows × 25 columns</p>\n</div>"
     },
     "metadata": {},
     "execution_count": 14
    }
   ],
   "source": [
    "df_labels.head(3)"
   ]
  },
  {
   "cell_type": "code",
   "execution_count": 15,
   "metadata": {},
   "outputs": [],
   "source": [
    "'''Method to return topics for every tweet with confidence score above threshold'''\n",
    "def get_labels(tweet, threshold=THRESHOLD):\n",
    "    topics = []\n",
    "    for topic in tweet:\n",
    "        topic_name, value = topic[0], topic[1]\n",
    "        if value>threshold:\n",
    "            topics.append((topic_name, np.round(value,2)))\n",
    "    if not topics:\n",
    "        topics.append((tweet[0][0], tweet[0][1]))\n",
    "    return topics  "
   ]
  },
  {
   "cell_type": "code",
   "execution_count": 16,
   "metadata": {},
   "outputs": [],
   "source": [
    "df_labels['labels'] = df_labels.apply(lambda x: get_labels(x, THRESHOLD), axis=1)\n",
    "df_labels = df_labels[['labels']]"
   ]
  },
  {
   "cell_type": "code",
   "execution_count": 17,
   "metadata": {},
   "outputs": [
    {
     "output_type": "execute_result",
     "data": {
      "text/plain": "                                                                                                                                        labels\n1264253979002843136  [(relief measures, 0.67)]                                                                                                \n1264253959918632960  [(relief measures, 0.5)]                                                                                                 \n1264253893632016384  [(government, 0.98), (hope, 0.97), (power supply, 0.93), (sympathy, 0.86), (ecosystem, 0.77), (medical assistance, 0.72)]\n1264253882580045824  [(income, 0.75)]                                                                                                         \n1264253658763612160  [(complaint, 0.94), (relief measures, 0.93), (petition, 0.88), (donation, 0.87), (sympathy, 0.86)]                       ",
      "text/html": "<div>\n<style scoped>\n    .dataframe tbody tr th:only-of-type {\n        vertical-align: middle;\n    }\n\n    .dataframe tbody tr th {\n        vertical-align: top;\n    }\n\n    .dataframe thead th {\n        text-align: right;\n    }\n</style>\n<table border=\"1\" class=\"dataframe\">\n  <thead>\n    <tr style=\"text-align: right;\">\n      <th></th>\n      <th>labels</th>\n    </tr>\n  </thead>\n  <tbody>\n    <tr>\n      <th>1264253979002843136</th>\n      <td>[(relief measures, 0.67)]</td>\n    </tr>\n    <tr>\n      <th>1264253959918632960</th>\n      <td>[(relief measures, 0.5)]</td>\n    </tr>\n    <tr>\n      <th>1264253893632016384</th>\n      <td>[(government, 0.98), (hope, 0.97), (power supply, 0.93), (sympathy, 0.86), (ecosystem, 0.77), (medical assistance, 0.72)]</td>\n    </tr>\n    <tr>\n      <th>1264253882580045824</th>\n      <td>[(income, 0.75)]</td>\n    </tr>\n    <tr>\n      <th>1264253658763612160</th>\n      <td>[(complaint, 0.94), (relief measures, 0.93), (petition, 0.88), (donation, 0.87), (sympathy, 0.86)]</td>\n    </tr>\n  </tbody>\n</table>\n</div>"
     },
     "metadata": {},
     "execution_count": 17
    }
   ],
   "source": [
    "df_labels.head()"
   ]
  },
  {
   "cell_type": "markdown",
   "metadata": {},
   "source": [
    "## Merging the Tweets with Labels"
   ]
  },
  {
   "cell_type": "code",
   "execution_count": 18,
   "metadata": {},
   "outputs": [
    {
     "output_type": "execute_result",
     "data": {
      "text/plain": "                                                                                                                                                                                                                                                                                                     full_text  \\\n1262961673708675072  Live Cyclone Amphan Map: Tracking the Storm’s Path https://t.co/CvPTrhe4r3                                                                                                                                                                                                                  \n1262961660932894720  NYT Live Cyclone Amphan Map: Tracking the Storm’s Path https://t.co/t6vyqfQSjS                                                                                                                                                                                                              \n1262961652359729152  LIVE Now news update on Super Cyclone Amphan  #AmphanUpdate #CycloneAmphan #AmphanCyclone #CycloneAmphanUpdate \\n120 km nearly south of Paradip (Odisha), \\n200 km south-southwest of Digha (West Bengal) and \\n360 km south-southwest of Khepupara (Bangladesh). https://t.co/xi9OImeXCe   \n\n                                                                                                                                                                                                                          full_text_processed  \\\n1262961673708675072  live cyclone amphan map tracking storm’s path                                                                                                                                                                              \n1262961660932894720  nyt live cyclone amphan map tracking storm’s path                                                                                                                                                                          \n1262961652359729152  live news update super cyclone amphan amphanupdate cycloneamphan amphancyclone cycloneamphanupdate 120 km nearly south paradip odisha 200 km southsouthwest digha west bengal 360 km southsouthwest khepupara bangladesh   \n\n                     sentiment  retweet_count lang  \\\n1262961673708675072  0.0000     0              en    \n1262961660932894720  0.0000     0              en    \n1262961652359729152  0.5994     0              en    \n\n                                                                                                description  \\\n1262961673708675072  None                                                                                     \n1262961660932894720  Get The Best                                                                             \n1262961652359729152  News, Media, Smartphone, Tech, Review & More https://www.facebook.com/mobilejudgement/   \n\n                            location             name  length   pov  \\\n1262961673708675072  None             newspointpn      7       None   \n1262961660932894720  Varanasi, India  Vishal Tripathi  8       None   \n1262961652359729152  India            MJ News          27      None   \n\n                                    labels  \n1262961673708675072  [(sympathy, 0.11)]     \n1262961660932894720  [(utilities, 0.25)]    \n1262961652359729152  [(news updates, 1.0)]  ",
      "text/html": "<div>\n<style scoped>\n    .dataframe tbody tr th:only-of-type {\n        vertical-align: middle;\n    }\n\n    .dataframe tbody tr th {\n        vertical-align: top;\n    }\n\n    .dataframe thead th {\n        text-align: right;\n    }\n</style>\n<table border=\"1\" class=\"dataframe\">\n  <thead>\n    <tr style=\"text-align: right;\">\n      <th></th>\n      <th>full_text</th>\n      <th>full_text_processed</th>\n      <th>sentiment</th>\n      <th>retweet_count</th>\n      <th>lang</th>\n      <th>description</th>\n      <th>location</th>\n      <th>name</th>\n      <th>length</th>\n      <th>pov</th>\n      <th>labels</th>\n    </tr>\n  </thead>\n  <tbody>\n    <tr>\n      <th>1262961673708675072</th>\n      <td>Live Cyclone Amphan Map: Tracking the Storm’s Path https://t.co/CvPTrhe4r3</td>\n      <td>live cyclone amphan map tracking storm’s path</td>\n      <td>0.0000</td>\n      <td>0</td>\n      <td>en</td>\n      <td>None</td>\n      <td>None</td>\n      <td>newspointpn</td>\n      <td>7</td>\n      <td>None</td>\n      <td>[(sympathy, 0.11)]</td>\n    </tr>\n    <tr>\n      <th>1262961660932894720</th>\n      <td>NYT Live Cyclone Amphan Map: Tracking the Storm’s Path https://t.co/t6vyqfQSjS</td>\n      <td>nyt live cyclone amphan map tracking storm’s path</td>\n      <td>0.0000</td>\n      <td>0</td>\n      <td>en</td>\n      <td>Get The Best</td>\n      <td>Varanasi, India</td>\n      <td>Vishal Tripathi</td>\n      <td>8</td>\n      <td>None</td>\n      <td>[(utilities, 0.25)]</td>\n    </tr>\n    <tr>\n      <th>1262961652359729152</th>\n      <td>LIVE Now news update on Super Cyclone Amphan  #AmphanUpdate #CycloneAmphan #AmphanCyclone #CycloneAmphanUpdate \\n120 km nearly south of Paradip (Odisha), \\n200 km south-southwest of Digha (West Bengal) and \\n360 km south-southwest of Khepupara (Bangladesh). https://t.co/xi9OImeXCe</td>\n      <td>live news update super cyclone amphan amphanupdate cycloneamphan amphancyclone cycloneamphanupdate 120 km nearly south paradip odisha 200 km southsouthwest digha west bengal 360 km southsouthwest khepupara bangladesh</td>\n      <td>0.5994</td>\n      <td>0</td>\n      <td>en</td>\n      <td>News, Media, Smartphone, Tech, Review &amp; More https://www.facebook.com/mobilejudgement/</td>\n      <td>India</td>\n      <td>MJ News</td>\n      <td>27</td>\n      <td>None</td>\n      <td>[(news updates, 1.0)]</td>\n    </tr>\n  </tbody>\n</table>\n</div>"
     },
     "metadata": {},
     "execution_count": 18
    }
   ],
   "source": [
    "df_tweet_labels = pd.merge(df_tweets, df_labels, left_index=True, right_index=True)\n",
    "df_tweet_labels.head(3)"
   ]
  },
  {
   "cell_type": "code",
   "execution_count": 19,
   "metadata": {},
   "outputs": [
    {
     "output_type": "execute_result",
     "data": {
      "text/plain": "(99241, 11)"
     },
     "metadata": {},
     "execution_count": 19
    }
   ],
   "source": [
    "df_tweet_labels.shape"
   ]
  },
  {
   "cell_type": "code",
   "execution_count": 20,
   "metadata": {},
   "outputs": [],
   "source": [
    "df_tweet_labels = df_tweet_labels[df_tweet_labels['lang'] == 'en']\n",
    "df_tweet_labels['pov'] = df_tweet_labels['full_text'].apply(lambda x: pov.get_text_pov(x))\n",
    "df_tweet_labels = df_tweet_labels[df_tweet_labels['pov'] == 'first']"
   ]
  },
  {
   "cell_type": "markdown",
   "metadata": {},
   "source": [
    "## Filter on Label"
   ]
  },
  {
   "cell_type": "code",
   "execution_count": 31,
   "metadata": {},
   "outputs": [],
   "source": [
    "LABEL = 'housing'"
   ]
  },
  {
   "cell_type": "code",
   "execution_count": 32,
   "metadata": {},
   "outputs": [],
   "source": [
    "df_tweet_labels['labels_list'] = df_tweet_labels['labels'].apply(lambda x: x if LABEL in [item[0] for item in x] else np.nan)\n",
    "df_label = df_tweet_labels[df_tweet_labels['labels_list'].notnull()][['full_text_processed', 'full_text', 'length', 'sentiment', 'retweet_count', 'labels', 'pov', 'location']]"
   ]
  },
  {
   "cell_type": "code",
   "execution_count": 33,
   "metadata": {},
   "outputs": [
    {
     "output_type": "execute_result",
     "data": {
      "text/plain": "                                                                                                                                                                                                            full_text_processed  \\\n1262961420364386304  dharmorakshathi yes sri im well safe little rain amphan effect everyone stay indoors safe🙏                                                                                                                   \n1262959134036688896  hope পদ্মানদীর মাঝি safe amphan malicartoonist aamphan stayhomestaysafe                                                                                                                                      \n1262963583501172736  everything wa going fine got panicked think close window room hostel properly feel helpless amphan                                                                                                           \n1262970174971363328  kanaknews currentno inverter back paradeep please give u update amphan house wall ha fallen one side                                                                                                         \n1262947966467407872  special control room cyclone amphan functional tomorrow 8am onwards case emergency please get touch u number 03322143024 03322141310 03322143230 whatsapp 9432624365 dial100 stayhomestaysafe wecarewedare   \n\n                                                                                                                                                                                                                                                                                                       full_text  \\\n1262961420364386304  @DharmoRakshathi Yes Sri. I'm well and safe. Just a little rain here. Amphan effect. Everyone stay indoors and safe.🙏                                                                                                                                                                         \n1262959134036688896  I hope all \"পদ্মানদীর মাঝি\" will be safe from Amphan.\\n@Malicartoonist \\n#Aamphan #StayHomeStaySafe https://t.co/OKM4nXHaw1                                                                                                                                                                   \n1262963583501172736  Everything was going fine until I got panicked to think it over again and AGAIN, \"DID I CLOSE THE WINDOW OF MY ROOM IN HOSTEL PROPERLY?\" I feel so helpless! #Amphan                                                                                                                          \n1262970174971363328  @kanak_news No current,no inverter back up in Paradeep. please give us more update about AMPHAN.\\nHere my house wall has fallen in one side.                                                                                                                                                  \n1262947966467407872  A special Control Room for cyclone #Amphan will be functional from tomorrow 8am onwards. \\n\\nIn case of any emergency please do get in touch with us on the below numbers\\n033-2214-3024\\n033-2214-1310\\n033-2214-3230\\nWhatsApp No. 9432624365\\n#Dial100\\n#StayHomeStaySafe\\n#WeCareWeDare   \n\n                     length  sentiment  retweet_count  \\\n1262961420364386304  14      0.7717     0               \n1262959134036688896  8       0.7003     0               \n1262963583501172736  15     -0.6369     0               \n1262970174971363328  16      0.2960     0               \n1262947966467407872  24      0.4019     0               \n\n                                                                                                                                      labels  \\\n1262961420364386304  [(relief measures, 0.95), (sympathy, 0.88), (housing, 0.72)]                                                              \n1262959134036688896  [(hope, 1.0), (housing, 0.98), (medical assistance, 0.95), (relief measures, 0.88), (sympathy, 0.87), (petition, 0.82)]   \n1262963583501172736  [(housing, 0.98), (complaint, 0.76)]                                                                                      \n1262970174971363328  [(housing, 0.99), (news updates, 0.96), (power supply, 0.95), (utilities, 0.82), (complaint, 0.73)]                       \n1262947966467407872  [(relief measures, 0.74), (housing, 0.73)]                                                                                \n\n                       pov              location  \n1262961420364386304  first  Panem                 \n1262959134036688896  first  None                  \n1262963583501172736  first  Sherrinford, Britain  \n1262970174971363328  first  paradeep              \n1262947966467407872  first  Kolkata, India        ",
      "text/html": "<div>\n<style scoped>\n    .dataframe tbody tr th:only-of-type {\n        vertical-align: middle;\n    }\n\n    .dataframe tbody tr th {\n        vertical-align: top;\n    }\n\n    .dataframe thead th {\n        text-align: right;\n    }\n</style>\n<table border=\"1\" class=\"dataframe\">\n  <thead>\n    <tr style=\"text-align: right;\">\n      <th></th>\n      <th>full_text_processed</th>\n      <th>full_text</th>\n      <th>length</th>\n      <th>sentiment</th>\n      <th>retweet_count</th>\n      <th>labels</th>\n      <th>pov</th>\n      <th>location</th>\n    </tr>\n  </thead>\n  <tbody>\n    <tr>\n      <th>1262961420364386304</th>\n      <td>dharmorakshathi yes sri im well safe little rain amphan effect everyone stay indoors safe🙏</td>\n      <td>@DharmoRakshathi Yes Sri. I'm well and safe. Just a little rain here. Amphan effect. Everyone stay indoors and safe.🙏</td>\n      <td>14</td>\n      <td>0.7717</td>\n      <td>0</td>\n      <td>[(relief measures, 0.95), (sympathy, 0.88), (housing, 0.72)]</td>\n      <td>first</td>\n      <td>Panem</td>\n    </tr>\n    <tr>\n      <th>1262959134036688896</th>\n      <td>hope পদ্মানদীর মাঝি safe amphan malicartoonist aamphan stayhomestaysafe</td>\n      <td>I hope all \"পদ্মানদীর মাঝি\" will be safe from Amphan.\\n@Malicartoonist \\n#Aamphan #StayHomeStaySafe https://t.co/OKM4nXHaw1</td>\n      <td>8</td>\n      <td>0.7003</td>\n      <td>0</td>\n      <td>[(hope, 1.0), (housing, 0.98), (medical assistance, 0.95), (relief measures, 0.88), (sympathy, 0.87), (petition, 0.82)]</td>\n      <td>first</td>\n      <td>None</td>\n    </tr>\n    <tr>\n      <th>1262963583501172736</th>\n      <td>everything wa going fine got panicked think close window room hostel properly feel helpless amphan</td>\n      <td>Everything was going fine until I got panicked to think it over again and AGAIN, \"DID I CLOSE THE WINDOW OF MY ROOM IN HOSTEL PROPERLY?\" I feel so helpless! #Amphan</td>\n      <td>15</td>\n      <td>-0.6369</td>\n      <td>0</td>\n      <td>[(housing, 0.98), (complaint, 0.76)]</td>\n      <td>first</td>\n      <td>Sherrinford, Britain</td>\n    </tr>\n    <tr>\n      <th>1262970174971363328</th>\n      <td>kanaknews currentno inverter back paradeep please give u update amphan house wall ha fallen one side</td>\n      <td>@kanak_news No current,no inverter back up in Paradeep. please give us more update about AMPHAN.\\nHere my house wall has fallen in one side.</td>\n      <td>16</td>\n      <td>0.2960</td>\n      <td>0</td>\n      <td>[(housing, 0.99), (news updates, 0.96), (power supply, 0.95), (utilities, 0.82), (complaint, 0.73)]</td>\n      <td>first</td>\n      <td>paradeep</td>\n    </tr>\n    <tr>\n      <th>1262947966467407872</th>\n      <td>special control room cyclone amphan functional tomorrow 8am onwards case emergency please get touch u number 03322143024 03322141310 03322143230 whatsapp 9432624365 dial100 stayhomestaysafe wecarewedare</td>\n      <td>A special Control Room for cyclone #Amphan will be functional from tomorrow 8am onwards. \\n\\nIn case of any emergency please do get in touch with us on the below numbers\\n033-2214-3024\\n033-2214-1310\\n033-2214-3230\\nWhatsApp No. 9432624365\\n#Dial100\\n#StayHomeStaySafe\\n#WeCareWeDare</td>\n      <td>24</td>\n      <td>0.4019</td>\n      <td>0</td>\n      <td>[(relief measures, 0.74), (housing, 0.73)]</td>\n      <td>first</td>\n      <td>Kolkata, India</td>\n    </tr>\n  </tbody>\n</table>\n</div>"
     },
     "metadata": {},
     "execution_count": 33
    }
   ],
   "source": [
    "df_label.head()"
   ]
  },
  {
   "cell_type": "code",
   "execution_count": 34,
   "metadata": {},
   "outputs": [
    {
     "output_type": "execute_result",
     "data": {
      "text/plain": "(442, 8)"
     },
     "metadata": {},
     "execution_count": 34
    }
   ],
   "source": [
    "df_label.shape"
   ]
  },
  {
   "cell_type": "markdown",
   "metadata": {},
   "source": [
    "## Creating Summaries based on Similarity & Connected Components"
   ]
  },
  {
   "cell_type": "code",
   "execution_count": 35,
   "metadata": {},
   "outputs": [],
   "source": [
    "label_vectors = np.array([doc_vectors[doc_tags.index(idx)] for idx in df_label.index.tolist()])"
   ]
  },
  {
   "cell_type": "code",
   "execution_count": 36,
   "metadata": {},
   "outputs": [],
   "source": [
    "cos_distances = pairwise_distances(label_vectors, n_jobs=-1, metric='cosine')"
   ]
  },
  {
   "cell_type": "code",
   "execution_count": 37,
   "metadata": {},
   "outputs": [],
   "source": [
    "\"\"\"Given pairwise distances and length parameter, returns the summary\"\"\"\n",
    "def create_summary(cos_distances , K):\n",
    "    summary = [] ## Store the summary\n",
    "    remove = set() ## Set of nodes to be ignored (iteratively)\n",
    "    threshold = 0.1\n",
    "\n",
    "    while len(summary)<K and threshold<=1:\n",
    "        print('Threshold =',threshold)\n",
    "        G = nx.Graph()   ## Create a new Graph\n",
    "        result = np.where(cos_distances<=threshold)\n",
    "        listOfCoordinates = list(zip(result[0], result[1]))\n",
    "        listOfCoordinates = [item for item in listOfCoordinates if item[0]!=item[1]]\n",
    "\n",
    "        ## Create graph edges\n",
    "        for node_1, node_2 in listOfCoordinates:\n",
    "            item_1 = df_label.iloc[node_1]\n",
    "            item_2 = df_label.iloc[node_2]\n",
    "            id_1 = item_1.name\n",
    "            id_2 = item_2.name\n",
    "\n",
    "            ## Check if node hasn't been removed\n",
    "            if id_1 not in remove and id_2 not in remove:\n",
    "                if not G.has_node(id_1):\n",
    "                    G.add_node(\n",
    "                        id_1,\n",
    "                        node_size=np.log(item_1['length']),\n",
    "                        sentiment=item_1['sentiment'],\n",
    "                        labels=item_1['labels'],\n",
    "                        text=item_1['full_text_processed']\n",
    "                    )\n",
    "                if not G.has_node(id_2):\n",
    "                    G.add_node(\n",
    "                        id_2,\n",
    "                        node_size=np.log(item_2['length']),\n",
    "                        sentiment=item_2['sentiment'],\n",
    "                        labels=item_2['labels'],\n",
    "                        text=item_2['full_text_processed']\n",
    "                    )\n",
    "                if not G.has_edge(id_1, id_2):\n",
    "                    G.add_edge(id_1, id_2, weight=(1-cos_distances[node_1][node_2]))\n",
    "        \n",
    "        conn_components = nx.connected_components(G)\n",
    "        conn_components = sorted(conn_components, key=len, reverse=True)  ## Sorting the connected components based on length or size\n",
    "        print(\"Number of connected components =\",len(conn_components))\n",
    "        \n",
    "        ## Sort each connected component based on the aggregated score of node_size and pick the highest scoring tweet from each             component. The other nodes are removed.\n",
    "        for component in conn_components:\n",
    "            if len(component)>=3 and len(summary)<K:\n",
    "                node_pick = sorted(component, \n",
    "                            key=lambda x: (np.log(G.degree[x]+1)+G.nodes()[x]['node_size']), \n",
    "                            reverse=True)\n",
    "                summary.append((node_pick[0], df_label.loc[node_pick[0]]['full_text'], \n",
    "                                G.nodes()[node_pick[0]]['sentiment'],\n",
    "                                df_label.loc[node_pick[0]]['location']))\n",
    "                remove.update(node_pick)\n",
    "                \n",
    "        threshold = threshold+0.1\n",
    "    \n",
    "    return summary"
   ]
  },
  {
   "cell_type": "code",
   "execution_count": 38,
   "metadata": {
    "tags": []
   },
   "outputs": [
    {
     "output_type": "stream",
     "name": "stdout",
     "text": "Threshold = 0.1\nNumber of connected components = 19\nThreshold = 0.2\nNumber of connected components = 26\nThreshold = 0.30000000000000004\nNumber of connected components = 44\nThreshold = 0.4\nNumber of connected components = 20\nThreshold = 0.5\nNumber of connected components = 15\nThreshold = 0.6\nNumber of connected components = 1\nThreshold = 0.7\nNumber of connected components = 2\nThreshold = 0.7999999999999999\nNumber of connected components = 2\nThreshold = 0.8999999999999999\nNumber of connected components = 1\nThreshold = 0.9999999999999999\nNumber of connected components = 1\n"
    }
   ],
   "source": [
    "K = 50 ## Number of tweets to create the summary\n",
    "summary = create_summary(cos_distances, K)"
   ]
  },
  {
   "cell_type": "code",
   "execution_count": 39,
   "metadata": {},
   "outputs": [],
   "source": [
    "df_summary = pd.DataFrame(summary, columns=['tweet_id', 'full_text', 'sentiment', 'location'])"
   ]
  },
  {
   "cell_type": "code",
   "execution_count": 40,
   "metadata": {},
   "outputs": [
    {
     "output_type": "execute_result",
     "data": {
      "text/plain": "               tweet_id  \\\n0   1264255236404686848   \n1   1262757695284629504   \n2   1264545617788973056   \n3   1265892052450988032   \n4   1264601431484403712   \n5   1265290103133540352   \n6   1264493723443818496   \n7   1263791172415377408   \n8   1263790833238552576   \n9   1263632356839227392   \n10  1263494099946135552   \n11  1269315298110341120   \n12  1263891947543908352   \n13  1266307041670230016   \n14  1263071710825181184   \n15  1263422610123128832   \n16  1263370845809975296   \n17  1264044540928970752   \n18  1265658169059160064   \n19  1263928683896745984   \n20  1263149700154302464   \n21  1263105512591089664   \n22  1263276648369029120   \n23  1266420317758664704   \n24  1263362956164648960   \n25  1263635484724596736   \n26  1263061206870286336   \n27  1264326007504474112   \n28  1263860613865852928   \n29  1263547976057647104   \n30  1263141544837570560   \n31  1266672677017673728   \n32  1263499801188012032   \n33  1265146987235758080   \n34  1265364766387814400   \n35  1266532980849364992   \n36  1263365453063340032   \n37  1263783054692106240   \n38  1268091537168138240   \n39  1267278981385973760   \n40  1267833505246928896   \n41  1263669658500071424   \n42  1263802765131886592   \n43  1263122876338749440   \n44  1264053696016465920   \n45  1263385913591300096   \n\n                                                                                                                                                                                                                                                                                                                                 full_text  \\\n0   @siddhagroup Plz don't fool people. We r residents of Siddha Galaxia Oceania block. We r suffering from poor quality windows, bedrooms of residents flooded during Amphan cyclone. Lifts are not working since Amphan cyclone. No update from Siddha when the lifts will be repaired. Shame on u.                                        \n1   A special Control Room for cyclone #Amphan will be functional from tomorrow 8am onwards. \\n\\nIn case of any emergency please do get in touch with us on the below numbers\\n033-2214-3024\\n033-2214-1310\\n033-2214-3230\\nWhatsApp No. 9432624365\\n#Dial100\\n#StayHomeStaySafe\\n#WeCareWeDare                                              \n2   Where is Home? What A Pandemic, Lockdown and Cyclone Amphan Taught us https://t.co/cCzcitjhA1                                                                                                                                                                                                                                            \n3   @HYDTP @TelanganaDGP I have applied for epass to travel from Hyderabad to Kolkata on 23rd May but the status is still showing pending...it is very urgent as my house is damaged by amphan cyclone...can it be approved early or can the process be fast tracked?                                                                        \n4   Corona broke the livelihoods and Amphan Cyclone broke the household infrastructure of Bengal. It's time when we as a nation stand with Sundarban &amp; Bengal.\\n\\nWatch This Full Video of @aviksahaindia : https://t.co/DKnlwYzqDT                                                                                                      \n5   I received these heart-breaking pictures from a Bangladeshi brother. Muslims in Cyclone Amphan affected area performed Eid's prayer  within the water. Millions of people lost their house, property and crops. Many of them are shelterless, please pray for them. #CycloneAmphan https://t.co/ByJ2TjmLMH                               \n6   @HardeepSPuri Please do not cancel the flights.We have made arrangements to travel from the origin to the airport and from the airport to the destination.Nobody is a fool who has booked a flight during such times, even we don't want to waste our money.The house broken by Amphan might be ours.                                    \n7   @satyaprad1 \\n@osdmaodisha \\n@rdmodisha \\n@SRC_Odisha \\nI inform you that the ODRAF Team has cleared partly the Tamarind tree on yesterday which is fallen on the roof of a domestic house by cyclone AMPHAN in Pakhar GP,Soro,Balasore  and after 60 hours cleaning work is incomplete. https://t.co/IodU8e35eP                         \n8   #MyReport | Soon our house became a pond and all of us in the family sat in the corner of a room just waiting and wishing for #AmphanCyclone to pass' narrates citizen journalist Ritankar Mazumder from North Kolkata. \\nhttps://t.co/Wvpr4KH1eS                                                                                        \n9   @narendramodi I lost my home 20.05.2020. because 'amphan' Please help me sir recovery my home . Now It is dengar to stay my house.I lost totaly my house .\\nAddress\\nSanjib kumar De\\nS/o- Ratan kumar De\\nVill-Rathikulgeria\\nP.o- Barachu\\nP.s- Kharagpur local\\nDist-Paschim medinipur\\nWest bengal\\n721301 https://t.co/pU2K0AkdlB   \n10  @PMOIndia @narendramodi Khejuri Block II in East Medinipur District,West Bengal is completely deatroyed caused to Amphan Cyclone Yesterday. Almost 250 Homes has been destroyed completely. I request to all Administrator to look into this area so that Khejuri Block II gets Proper help this time atleast. https://t.co/rcDUnf552W   \n11  @MamataOfficial No doubt you are Kind and helpful,But your Subordinate (i.e:-Panchayat level)is fully Corapted....My family fail to collect fund which is alloted by you. though my house fully damage by super Cyclone AMPHAN . I have mailed you about all details Please show your kindness                                           \n12  @MrBeastYT @pulte @TeamPulte  I don’t know if you’ll ever notice this tweet but I’d really like to ask you for help. We’ve been hit by a very severe cyclone called “Amphan” on 20th May in my city ‘Kolkata’. You can check on google. My house windows are shattered. Rest In comment https://t.co/Zt1ka6zNK3                          \n13  \"AMPHAN CYCLONE have Destroyed us, our family is without food &amp; house.\"\\nHe is a Ram Bhakt, he is happy that Construction of Shree Ram Temple have started.\\nBut what will happen to him &amp; his family ? \\nWill Other Ram Bhakts Donate ?\\nDonation Link :- \\nhttps://t.co/EOWbGxEqFY\\n\\n🕉️🕉️ https://t.co/7N8E84mQgy             \n14  @SyapaaGirl A super cyclone namely Amphan hits West Bengal, precisely south Bengal. Kolkata is in red alert. We are all inside the house and locked every window and door we have. It is monstrously raining now with toofani hawa. It is horrendous.                                                                                    \n15  @BeingSalmanKhan \\nI am from West Bengal, From last night I am homeless because of Amphan storm. In this Lockdown period I was not paid where I worked.I have no capital to build a house immediately. I listened about u that u help helpless. Plzzz sir need ur help.                                                                  \n16  Cannot access internet inside the rooms of our house after the Cyclone Amphan had a hit. It works when I go on the roof @reliancejio @jiocare @jio Please have a look. \\nAddress- Anandapur P.S , Ruby Hospital, kolkata, WB.                                                                                                            \n17  With our philosophy of “Together, We Build” our commitment to rebuild homes of those affected by the cyclone Amphan is all the more stronger. Reach out to us via our toll free number or your nearest dealer outlet. Numbers provided below. #TogetherWeBuild #HIL #Charminar #Fortune https://t.co/DTe1MDTqrI                          \n18  \"Surviving Cyclone Amphan: Kolkata, a city battling coronavirus, now faces flooded streetts, broken buildings and trauma\" The street I grew up  visiting is trashed at least the house and fam are safe.                                                                                                                                 \n19  The super cyclone \"Amphan\" has destroyed the Habra city of the North 24 Parganas district....Sir , I have captured this photos....\\n\\n@narendramodi https://t.co/5qHNq86Ltp                                                                                                                                                              \n20  My childhood friends are sharing scary videos of the damage cyclone Amphan has done to their homes.\\n\\nI'm genuinely terrified to find out the impact the cyclone will have on villages across Bengal; for people living in temporary and unstable housing.                                                                              \n21  I am not against showing off skills. But people showing off photographic skills in this hard time is disappointing. At least show some empathy towards those in coastal areas, specially to those with earthen houses and homeless.\\n#Amphan\\n#Cyclone\\n#wb\\n#staysafe                                                                   \n22  Due to the cyclone Amphan are many rural house's and tribal also heavy effected. So we request to odisha government kindly help us to provide foods and house making. https://t.co/0MoQWrxghy                                                                                                                                            \n23  119 people died &amp; more than a million homes were damaged or destroyed due to Cyclone #Amphan. \\n\\nMeanwhile, the death toll from #COVID19 in the US surpassed 100,000. Read about the disasters we're tracking this week: https://t.co/nwgqGI0JQx #CDP4Recovery                                                                      \n24  \"This was the first time that I realised that human beings could get knocked down by winds outside of movies,\" says The Quint's Bengal reporter Ishadrita Lahiri as she shares her experience of super cyclone Amphan from her 41st-floor residence in Kolkata \\nhttps://t.co/OY14IfE04b                                                 \n25  @GuruOfficial Hmm.. Amphan has destroyed many houses an homes.. Approx.. 72 people killed.. \\nKolkata airport sank.. \\nPraying for all affected areas.. \\nIndia is standing by u all\\nIt is come to know that odisha is safe\\nwest Bengal n Bangladesh we're with u.. \\nRescue team is working.. \\nSupport'em                            \n26  Amphan is the most intense &amp; the first SuperCyclone since the 1999 Odisha cyclone. We are dealing with a Multi-hazard scenario as d devastating winds r expected to cause extensive damage to the structure's,houses &amp; trees.\"Said Mrutyunjay Mohapatra,India Meteorological Department\" https://t.co/jdMlsKgGxK                 \n27  Everyone is so upset and fed up with the year 2020, because of #pandemic,#planecrash ,#Amphan and so many, but we forget that ALLAH gives us so many peaceful years before and Inshallah it will end soon. #allahamdullilah #StayHomeStaySafe #staypositive                                                                              \n28  Response Cyclone #Amphan  : \\nWe have immediately reached to families whose house are broken in this cyclone, provided tarpaulin and our team helped to restore broken houses in Telangana Sahi and Gudipada Slums of Balasore.\\n\\n#AmphanSuperCyclone \\n#relief #YuvaVikas #Restorehouses https://t.co/AAHs9psnTm                       \n29  Ek to Corona ki maar upar se amphan.\\nNow i realise how good it is to have roof on head &amp; food on plate in this tym. I am really thankful to God for not giving me poverty 🙏 unless shyad kal m v khali pet corona k dar k sath apne ghr ko bchane ki koshis m hoti.\\n#prayforwestbengal                                             \n30  And finally the eye of the cyclone crossed us. Post a deafening quiet,the wind directions have reversed as Amphan moves further north. What a storm- the highrise were swaying, window glasses were breaking everywhere and corrugated sheets flying off like paper. #CycloneAmphan                                                      \n31  Skandh\\nJust when we thought 2020 can’t be any worse, the Amphan cyclone proved us wrong. Once again mother nature taught us that we are mere puppets in her hands. This time as well, the poor suffered the most. Their houses drowned, their fields overflowed and their cattle died.                                                  \n32  #CycloneAmphanUpdate \"I had my house there,\" she said.The dam has broken with flood. Where do I go now?” Her eyes were getting wet. \"I've been sitting on the dam all day,\". \"Even if I want to build a new house now, I can't afford it,\" I don't expect any more govt help.\"\\n—ABP https://t.co/dsgrxTyD9d                             \n33  medicine, light bill, mobile bill etc). But last 3 month I was jobless &amp; earn big ZERO. Also I can't maintain my 5 family members including me during this lockdown period. After that \"Amphan\" destroy my house. So in that situation, How is possible to pay EMI an upcoming month???.                                             \n34  Visited the house of a Karyakarta in Ward No. 107 who has suffered immense loss due to cyclone Amphan. We will try to support him as much as we can.\\n\\n#BJPKaryakarta #Amphan https://t.co/fjKD9lafdH                                                                                                                                   \n35  @CESCLimited \\nI'm fade up with your service. At my house power was restored after 3dsys of amphan. Even After the restoration every day it is getting off for twice,thrice or more. Every morning I'm getting up from bed with this fears and horrors of power cut off.                                                                 \n36  RT #UNOCHA: RT OCHAAsiaPac: 🇧🇩🇮🇳 Communities in #India &amp; #Bangladesh brace for 🌀#Amphan\\n\\n🇵🇭1,100 houses destroyed &amp; one #COVID19 testing laboratory damaged by 🌀#Vongfong in the #Philippines\\n\\n🇫🇯 UNCERF allocates US$1M to assist 200,000 people affected… https://t.co/1EywOMAtS3                                          \n37  Many trees are uprooted, many houses and Govt properties are damaged due to strong winds and heavy rain fall # super cyclone AMPHAN when we are in danger due to COVID -19. To rebuild everything Central Govt has agreed to give 1000 crore rs. So lot of thanks to Modiji.                                                             \n38  @Airtel_Presence I’ve been facing this since 14 goddamn days since amphan hit . Mobile number -9874083580 and alternate number-9123721808 Location - 46/2/3 Bose Pukur Road digantika apartment flat no 1A Kolkata-700042 Pincode-700042. Its been 14 goddamn days.                                                                      \n39  I am extremely happy and proud of my state! Kudos to @MamataOfficial @HomeSecretaryWB @wbdhfw for directly sending money to people’s account! Happy that my state still shows the path to rest of India! I am happy that I donated to West Bengal Relief Fund. https://t.co/KGLlXrtMaG                                                   \n40  They are giving excuses now that for Amphan cyclone they are delaying. I would like to know how many days you need to reach my house which is situated in proper Kolkata? 1 days? 2 days? but 5 days? is it possible to have such patience as a customer?                                                                                \n41  Staying indoors safely within d confines of our homes we don't realise da fury dat mother nature showers upon us.\\n\\nWe have two, 1 which went by (Amphan) and 2nd which we r still trying to fight n not succumbing to (Covid19). .! \\n\\nKudos to the DA's n Gods in Uniform, I salute U.!                                              \n42  2020 🤨😡😭\\nEk toh #CoronaVirus &amp; upar se ye cyclone #Amphan 😭😭 #Corona tells people to stay in home &amp; Cyclone made people homeless 😭\\n2020!! Do you have more disasters with you for us?? 😡 You r making me Angry as well as Confused !!\\n@emraanhashmi Expressing this by your pic🤕 https://t.co/sdFPEloykm                      \n43  I wish everybody's safety in Bengal. People staying in weaker houses, old houses please be extra safe.\\nI wish animals could survive 😔\\n\\nVery difficult time for Bengal. Let's pray 🙏\\n#amphan #supercyclone                                                                                                                            \n44  \"Sahid had spent Rs 15 lakh — half of which came as government grant — on the two poly houses....\"I would need to spend at least Rs 2 lakh to repair the smaller poly house. The larger one has been razed to the ground,”\" https://t.co/WpgJWAEcnn                                                                                      \n45  While hole media house and  central government silent for west Bengal disaster during cyclone amphan . We had had remember rabindranath Tagore words “ তবে একলা চলো রে”.\\n#iamsumande\\n#helpbengal\\n#prayforwestbengal \\n#CyclonAmphan                                                                                                   \n\n    sentiment                        location  \n0  -0.8589     INDIA,KOLKATA.                  \n1   0.4019     Rajarhat, Bidhan Nagar          \n2   0.0000     None                            \n3   0.1779     Hyderabad, India                \n4  -0.5859     India                           \n5  -0.3182     Gaya, India                     \n6  -0.2937     None                            \n7   0.0772     Orissa                          \n8   0.2263     None                            \n9  -0.4939     खड़गपुर, भारत                   \n10 -0.6326     Kolkata, India                  \n11  0.4804     Mumbai                          \n12  0.0146     Kolkata, India                  \n13  0.1280     BHARAT                          \n14  0.3182     Kolkata, India                  \n15  0.3400     None                            \n16  0.3182     None                            \n17  0.8225     Hyderabad, India                \n18 -0.4404     Self-isolation                  \n19  0.4767     None                            \n20 -0.6705     Indianapolis, IN                \n21 -0.5574     Kolkata, India                  \n22  0.7096     Orissa, India                   \n23 -0.9565     Washington, DC                  \n24  0.7269     None                            \n25  0.2023     Haryana, India                  \n26 -0.8020     None                            \n27 -0.0772     New Delhi, India                \n28 -0.1280     Balasore, Odisha                \n29  0.8241     None                            \n30  0.0772     Kolkata, India                  \n31 -0.9403     New Delhi, India                \n32 -0.3935     World upside down               \n33 -0.5994     None                            \n34 -0.1027     Bansdroni, Kolkata              \n35 -0.7650     None                            \n36 -0.7269     Guest in Larrakia Country       \n37  0.8074     Jhargram                        \n38 -0.7096     Kolkata, India                  \n39  0.9711     Kolkata, India                  \n40  0.6486     Kolkata, WestBengal             \n41  0.8401     Bhadrak,Pune,Goa(IND). Africa.  \n42 -0.8225     West Bengal, India              \n43  0.8519     India                           \n44  0.5994     Kolkata                         \n45 -0.6249     None                            ",
      "text/html": "<div>\n<style scoped>\n    .dataframe tbody tr th:only-of-type {\n        vertical-align: middle;\n    }\n\n    .dataframe tbody tr th {\n        vertical-align: top;\n    }\n\n    .dataframe thead th {\n        text-align: right;\n    }\n</style>\n<table border=\"1\" class=\"dataframe\">\n  <thead>\n    <tr style=\"text-align: right;\">\n      <th></th>\n      <th>tweet_id</th>\n      <th>full_text</th>\n      <th>sentiment</th>\n      <th>location</th>\n    </tr>\n  </thead>\n  <tbody>\n    <tr>\n      <th>0</th>\n      <td>1264255236404686848</td>\n      <td>@siddhagroup Plz don't fool people. We r residents of Siddha Galaxia Oceania block. We r suffering from poor quality windows, bedrooms of residents flooded during Amphan cyclone. Lifts are not working since Amphan cyclone. No update from Siddha when the lifts will be repaired. Shame on u.</td>\n      <td>-0.8589</td>\n      <td>INDIA,KOLKATA.</td>\n    </tr>\n    <tr>\n      <th>1</th>\n      <td>1262757695284629504</td>\n      <td>A special Control Room for cyclone #Amphan will be functional from tomorrow 8am onwards. \\n\\nIn case of any emergency please do get in touch with us on the below numbers\\n033-2214-3024\\n033-2214-1310\\n033-2214-3230\\nWhatsApp No. 9432624365\\n#Dial100\\n#StayHomeStaySafe\\n#WeCareWeDare</td>\n      <td>0.4019</td>\n      <td>Rajarhat, Bidhan Nagar</td>\n    </tr>\n    <tr>\n      <th>2</th>\n      <td>1264545617788973056</td>\n      <td>Where is Home? What A Pandemic, Lockdown and Cyclone Amphan Taught us https://t.co/cCzcitjhA1</td>\n      <td>0.0000</td>\n      <td>None</td>\n    </tr>\n    <tr>\n      <th>3</th>\n      <td>1265892052450988032</td>\n      <td>@HYDTP @TelanganaDGP I have applied for epass to travel from Hyderabad to Kolkata on 23rd May but the status is still showing pending...it is very urgent as my house is damaged by amphan cyclone...can it be approved early or can the process be fast tracked?</td>\n      <td>0.1779</td>\n      <td>Hyderabad, India</td>\n    </tr>\n    <tr>\n      <th>4</th>\n      <td>1264601431484403712</td>\n      <td>Corona broke the livelihoods and Amphan Cyclone broke the household infrastructure of Bengal. It's time when we as a nation stand with Sundarban &amp;amp; Bengal.\\n\\nWatch This Full Video of @aviksahaindia : https://t.co/DKnlwYzqDT</td>\n      <td>-0.5859</td>\n      <td>India</td>\n    </tr>\n    <tr>\n      <th>5</th>\n      <td>1265290103133540352</td>\n      <td>I received these heart-breaking pictures from a Bangladeshi brother. Muslims in Cyclone Amphan affected area performed Eid's prayer  within the water. Millions of people lost their house, property and crops. Many of them are shelterless, please pray for them. #CycloneAmphan https://t.co/ByJ2TjmLMH</td>\n      <td>-0.3182</td>\n      <td>Gaya, India</td>\n    </tr>\n    <tr>\n      <th>6</th>\n      <td>1264493723443818496</td>\n      <td>@HardeepSPuri Please do not cancel the flights.We have made arrangements to travel from the origin to the airport and from the airport to the destination.Nobody is a fool who has booked a flight during such times, even we don't want to waste our money.The house broken by Amphan might be ours.</td>\n      <td>-0.2937</td>\n      <td>None</td>\n    </tr>\n    <tr>\n      <th>7</th>\n      <td>1263791172415377408</td>\n      <td>@satyaprad1 \\n@osdmaodisha \\n@rdmodisha \\n@SRC_Odisha \\nI inform you that the ODRAF Team has cleared partly the Tamarind tree on yesterday which is fallen on the roof of a domestic house by cyclone AMPHAN in Pakhar GP,Soro,Balasore  and after 60 hours cleaning work is incomplete. https://t.co/IodU8e35eP</td>\n      <td>0.0772</td>\n      <td>Orissa</td>\n    </tr>\n    <tr>\n      <th>8</th>\n      <td>1263790833238552576</td>\n      <td>#MyReport | Soon our house became a pond and all of us in the family sat in the corner of a room just waiting and wishing for #AmphanCyclone to pass' narrates citizen journalist Ritankar Mazumder from North Kolkata. \\nhttps://t.co/Wvpr4KH1eS</td>\n      <td>0.2263</td>\n      <td>None</td>\n    </tr>\n    <tr>\n      <th>9</th>\n      <td>1263632356839227392</td>\n      <td>@narendramodi I lost my home 20.05.2020. because 'amphan' Please help me sir recovery my home . Now It is dengar to stay my house.I lost totaly my house .\\nAddress\\nSanjib kumar De\\nS/o- Ratan kumar De\\nVill-Rathikulgeria\\nP.o- Barachu\\nP.s- Kharagpur local\\nDist-Paschim medinipur\\nWest bengal\\n721301 https://t.co/pU2K0AkdlB</td>\n      <td>-0.4939</td>\n      <td>खड़गपुर, भारत</td>\n    </tr>\n    <tr>\n      <th>10</th>\n      <td>1263494099946135552</td>\n      <td>@PMOIndia @narendramodi Khejuri Block II in East Medinipur District,West Bengal is completely deatroyed caused to Amphan Cyclone Yesterday. Almost 250 Homes has been destroyed completely. I request to all Administrator to look into this area so that Khejuri Block II gets Proper help this time atleast. https://t.co/rcDUnf552W</td>\n      <td>-0.6326</td>\n      <td>Kolkata, India</td>\n    </tr>\n    <tr>\n      <th>11</th>\n      <td>1269315298110341120</td>\n      <td>@MamataOfficial No doubt you are Kind and helpful,But your Subordinate (i.e:-Panchayat level)is fully Corapted....My family fail to collect fund which is alloted by you. though my house fully damage by super Cyclone AMPHAN . I have mailed you about all details Please show your kindness</td>\n      <td>0.4804</td>\n      <td>Mumbai</td>\n    </tr>\n    <tr>\n      <th>12</th>\n      <td>1263891947543908352</td>\n      <td>@MrBeastYT @pulte @TeamPulte  I don’t know if you’ll ever notice this tweet but I’d really like to ask you for help. We’ve been hit by a very severe cyclone called “Amphan” on 20th May in my city ‘Kolkata’. You can check on google. My house windows are shattered. Rest In comment https://t.co/Zt1ka6zNK3</td>\n      <td>0.0146</td>\n      <td>Kolkata, India</td>\n    </tr>\n    <tr>\n      <th>13</th>\n      <td>1266307041670230016</td>\n      <td>\"AMPHAN CYCLONE have Destroyed us, our family is without food &amp;amp; house.\"\\nHe is a Ram Bhakt, he is happy that Construction of Shree Ram Temple have started.\\nBut what will happen to him &amp;amp; his family ? \\nWill Other Ram Bhakts Donate ?\\nDonation Link :- \\nhttps://t.co/EOWbGxEqFY\\n\\n🕉️🕉️ https://t.co/7N8E84mQgy</td>\n      <td>0.1280</td>\n      <td>BHARAT</td>\n    </tr>\n    <tr>\n      <th>14</th>\n      <td>1263071710825181184</td>\n      <td>@SyapaaGirl A super cyclone namely Amphan hits West Bengal, precisely south Bengal. Kolkata is in red alert. We are all inside the house and locked every window and door we have. It is monstrously raining now with toofani hawa. It is horrendous.</td>\n      <td>0.3182</td>\n      <td>Kolkata, India</td>\n    </tr>\n    <tr>\n      <th>15</th>\n      <td>1263422610123128832</td>\n      <td>@BeingSalmanKhan \\nI am from West Bengal, From last night I am homeless because of Amphan storm. In this Lockdown period I was not paid where I worked.I have no capital to build a house immediately. I listened about u that u help helpless. Plzzz sir need ur help.</td>\n      <td>0.3400</td>\n      <td>None</td>\n    </tr>\n    <tr>\n      <th>16</th>\n      <td>1263370845809975296</td>\n      <td>Cannot access internet inside the rooms of our house after the Cyclone Amphan had a hit. It works when I go on the roof @reliancejio @jiocare @jio Please have a look. \\nAddress- Anandapur P.S , Ruby Hospital, kolkata, WB.</td>\n      <td>0.3182</td>\n      <td>None</td>\n    </tr>\n    <tr>\n      <th>17</th>\n      <td>1264044540928970752</td>\n      <td>With our philosophy of “Together, We Build” our commitment to rebuild homes of those affected by the cyclone Amphan is all the more stronger. Reach out to us via our toll free number or your nearest dealer outlet. Numbers provided below. #TogetherWeBuild #HIL #Charminar #Fortune https://t.co/DTe1MDTqrI</td>\n      <td>0.8225</td>\n      <td>Hyderabad, India</td>\n    </tr>\n    <tr>\n      <th>18</th>\n      <td>1265658169059160064</td>\n      <td>\"Surviving Cyclone Amphan: Kolkata, a city battling coronavirus, now faces flooded streetts, broken buildings and trauma\" The street I grew up  visiting is trashed at least the house and fam are safe.</td>\n      <td>-0.4404</td>\n      <td>Self-isolation</td>\n    </tr>\n    <tr>\n      <th>19</th>\n      <td>1263928683896745984</td>\n      <td>The super cyclone \"Amphan\" has destroyed the Habra city of the North 24 Parganas district....Sir , I have captured this photos....\\n\\n@narendramodi https://t.co/5qHNq86Ltp</td>\n      <td>0.4767</td>\n      <td>None</td>\n    </tr>\n    <tr>\n      <th>20</th>\n      <td>1263149700154302464</td>\n      <td>My childhood friends are sharing scary videos of the damage cyclone Amphan has done to their homes.\\n\\nI'm genuinely terrified to find out the impact the cyclone will have on villages across Bengal; for people living in temporary and unstable housing.</td>\n      <td>-0.6705</td>\n      <td>Indianapolis, IN</td>\n    </tr>\n    <tr>\n      <th>21</th>\n      <td>1263105512591089664</td>\n      <td>I am not against showing off skills. But people showing off photographic skills in this hard time is disappointing. At least show some empathy towards those in coastal areas, specially to those with earthen houses and homeless.\\n#Amphan\\n#Cyclone\\n#wb\\n#staysafe</td>\n      <td>-0.5574</td>\n      <td>Kolkata, India</td>\n    </tr>\n    <tr>\n      <th>22</th>\n      <td>1263276648369029120</td>\n      <td>Due to the cyclone Amphan are many rural house's and tribal also heavy effected. So we request to odisha government kindly help us to provide foods and house making. https://t.co/0MoQWrxghy</td>\n      <td>0.7096</td>\n      <td>Orissa, India</td>\n    </tr>\n    <tr>\n      <th>23</th>\n      <td>1266420317758664704</td>\n      <td>119 people died &amp;amp; more than a million homes were damaged or destroyed due to Cyclone #Amphan. \\n\\nMeanwhile, the death toll from #COVID19 in the US surpassed 100,000. Read about the disasters we're tracking this week: https://t.co/nwgqGI0JQx #CDP4Recovery</td>\n      <td>-0.9565</td>\n      <td>Washington, DC</td>\n    </tr>\n    <tr>\n      <th>24</th>\n      <td>1263362956164648960</td>\n      <td>\"This was the first time that I realised that human beings could get knocked down by winds outside of movies,\" says The Quint's Bengal reporter Ishadrita Lahiri as she shares her experience of super cyclone Amphan from her 41st-floor residence in Kolkata \\nhttps://t.co/OY14IfE04b</td>\n      <td>0.7269</td>\n      <td>None</td>\n    </tr>\n    <tr>\n      <th>25</th>\n      <td>1263635484724596736</td>\n      <td>@GuruOfficial Hmm.. Amphan has destroyed many houses an homes.. Approx.. 72 people killed.. \\nKolkata airport sank.. \\nPraying for all affected areas.. \\nIndia is standing by u all\\nIt is come to know that odisha is safe\\nwest Bengal n Bangladesh we're with u.. \\nRescue team is working.. \\nSupport'em</td>\n      <td>0.2023</td>\n      <td>Haryana, India</td>\n    </tr>\n    <tr>\n      <th>26</th>\n      <td>1263061206870286336</td>\n      <td>Amphan is the most intense &amp;amp; the first SuperCyclone since the 1999 Odisha cyclone. We are dealing with a Multi-hazard scenario as d devastating winds r expected to cause extensive damage to the structure's,houses &amp;amp; trees.\"Said Mrutyunjay Mohapatra,India Meteorological Department\" https://t.co/jdMlsKgGxK</td>\n      <td>-0.8020</td>\n      <td>None</td>\n    </tr>\n    <tr>\n      <th>27</th>\n      <td>1264326007504474112</td>\n      <td>Everyone is so upset and fed up with the year 2020, because of #pandemic,#planecrash ,#Amphan and so many, but we forget that ALLAH gives us so many peaceful years before and Inshallah it will end soon. #allahamdullilah #StayHomeStaySafe #staypositive</td>\n      <td>-0.0772</td>\n      <td>New Delhi, India</td>\n    </tr>\n    <tr>\n      <th>28</th>\n      <td>1263860613865852928</td>\n      <td>Response Cyclone #Amphan  : \\nWe have immediately reached to families whose house are broken in this cyclone, provided tarpaulin and our team helped to restore broken houses in Telangana Sahi and Gudipada Slums of Balasore.\\n\\n#AmphanSuperCyclone \\n#relief #YuvaVikas #Restorehouses https://t.co/AAHs9psnTm</td>\n      <td>-0.1280</td>\n      <td>Balasore, Odisha</td>\n    </tr>\n    <tr>\n      <th>29</th>\n      <td>1263547976057647104</td>\n      <td>Ek to Corona ki maar upar se amphan.\\nNow i realise how good it is to have roof on head &amp;amp; food on plate in this tym. I am really thankful to God for not giving me poverty 🙏 unless shyad kal m v khali pet corona k dar k sath apne ghr ko bchane ki koshis m hoti.\\n#prayforwestbengal</td>\n      <td>0.8241</td>\n      <td>None</td>\n    </tr>\n    <tr>\n      <th>30</th>\n      <td>1263141544837570560</td>\n      <td>And finally the eye of the cyclone crossed us. Post a deafening quiet,the wind directions have reversed as Amphan moves further north. What a storm- the highrise were swaying, window glasses were breaking everywhere and corrugated sheets flying off like paper. #CycloneAmphan</td>\n      <td>0.0772</td>\n      <td>Kolkata, India</td>\n    </tr>\n    <tr>\n      <th>31</th>\n      <td>1266672677017673728</td>\n      <td>Skandh\\nJust when we thought 2020 can’t be any worse, the Amphan cyclone proved us wrong. Once again mother nature taught us that we are mere puppets in her hands. This time as well, the poor suffered the most. Their houses drowned, their fields overflowed and their cattle died.</td>\n      <td>-0.9403</td>\n      <td>New Delhi, India</td>\n    </tr>\n    <tr>\n      <th>32</th>\n      <td>1263499801188012032</td>\n      <td>#CycloneAmphanUpdate \"I had my house there,\" she said.The dam has broken with flood. Where do I go now?” Her eyes were getting wet. \"I've been sitting on the dam all day,\". \"Even if I want to build a new house now, I can't afford it,\" I don't expect any more govt help.\"\\n—ABP https://t.co/dsgrxTyD9d</td>\n      <td>-0.3935</td>\n      <td>World upside down</td>\n    </tr>\n    <tr>\n      <th>33</th>\n      <td>1265146987235758080</td>\n      <td>medicine, light bill, mobile bill etc). But last 3 month I was jobless &amp;amp; earn big ZERO. Also I can't maintain my 5 family members including me during this lockdown period. After that \"Amphan\" destroy my house. So in that situation, How is possible to pay EMI an upcoming month???.</td>\n      <td>-0.5994</td>\n      <td>None</td>\n    </tr>\n    <tr>\n      <th>34</th>\n      <td>1265364766387814400</td>\n      <td>Visited the house of a Karyakarta in Ward No. 107 who has suffered immense loss due to cyclone Amphan. We will try to support him as much as we can.\\n\\n#BJPKaryakarta #Amphan https://t.co/fjKD9lafdH</td>\n      <td>-0.1027</td>\n      <td>Bansdroni, Kolkata</td>\n    </tr>\n    <tr>\n      <th>35</th>\n      <td>1266532980849364992</td>\n      <td>@CESCLimited \\nI'm fade up with your service. At my house power was restored after 3dsys of amphan. Even After the restoration every day it is getting off for twice,thrice or more. Every morning I'm getting up from bed with this fears and horrors of power cut off.</td>\n      <td>-0.7650</td>\n      <td>None</td>\n    </tr>\n    <tr>\n      <th>36</th>\n      <td>1263365453063340032</td>\n      <td>RT #UNOCHA: RT OCHAAsiaPac: 🇧🇩🇮🇳 Communities in #India &amp;amp; #Bangladesh brace for 🌀#Amphan\\n\\n🇵🇭1,100 houses destroyed &amp;amp; one #COVID19 testing laboratory damaged by 🌀#Vongfong in the #Philippines\\n\\n🇫🇯 UNCERF allocates US$1M to assist 200,000 people affected… https://t.co/1EywOMAtS3</td>\n      <td>-0.7269</td>\n      <td>Guest in Larrakia Country</td>\n    </tr>\n    <tr>\n      <th>37</th>\n      <td>1263783054692106240</td>\n      <td>Many trees are uprooted, many houses and Govt properties are damaged due to strong winds and heavy rain fall # super cyclone AMPHAN when we are in danger due to COVID -19. To rebuild everything Central Govt has agreed to give 1000 crore rs. So lot of thanks to Modiji.</td>\n      <td>0.8074</td>\n      <td>Jhargram</td>\n    </tr>\n    <tr>\n      <th>38</th>\n      <td>1268091537168138240</td>\n      <td>@Airtel_Presence I’ve been facing this since 14 goddamn days since amphan hit . Mobile number -9874083580 and alternate number-9123721808 Location - 46/2/3 Bose Pukur Road digantika apartment flat no 1A Kolkata-700042 Pincode-700042. Its been 14 goddamn days.</td>\n      <td>-0.7096</td>\n      <td>Kolkata, India</td>\n    </tr>\n    <tr>\n      <th>39</th>\n      <td>1267278981385973760</td>\n      <td>I am extremely happy and proud of my state! Kudos to @MamataOfficial @HomeSecretaryWB @wbdhfw for directly sending money to people’s account! Happy that my state still shows the path to rest of India! I am happy that I donated to West Bengal Relief Fund. https://t.co/KGLlXrtMaG</td>\n      <td>0.9711</td>\n      <td>Kolkata, India</td>\n    </tr>\n    <tr>\n      <th>40</th>\n      <td>1267833505246928896</td>\n      <td>They are giving excuses now that for Amphan cyclone they are delaying. I would like to know how many days you need to reach my house which is situated in proper Kolkata? 1 days? 2 days? but 5 days? is it possible to have such patience as a customer?</td>\n      <td>0.6486</td>\n      <td>Kolkata, WestBengal</td>\n    </tr>\n    <tr>\n      <th>41</th>\n      <td>1263669658500071424</td>\n      <td>Staying indoors safely within d confines of our homes we don't realise da fury dat mother nature showers upon us.\\n\\nWe have two, 1 which went by (Amphan) and 2nd which we r still trying to fight n not succumbing to (Covid19). .! \\n\\nKudos to the DA's n Gods in Uniform, I salute U.!</td>\n      <td>0.8401</td>\n      <td>Bhadrak,Pune,Goa(IND). Africa.</td>\n    </tr>\n    <tr>\n      <th>42</th>\n      <td>1263802765131886592</td>\n      <td>2020 🤨😡😭\\nEk toh #CoronaVirus &amp;amp; upar se ye cyclone #Amphan 😭😭 #Corona tells people to stay in home &amp;amp; Cyclone made people homeless 😭\\n2020!! Do you have more disasters with you for us?? 😡 You r making me Angry as well as Confused !!\\n@emraanhashmi Expressing this by your pic🤕 https://t.co/sdFPEloykm</td>\n      <td>-0.8225</td>\n      <td>West Bengal, India</td>\n    </tr>\n    <tr>\n      <th>43</th>\n      <td>1263122876338749440</td>\n      <td>I wish everybody's safety in Bengal. People staying in weaker houses, old houses please be extra safe.\\nI wish animals could survive 😔\\n\\nVery difficult time for Bengal. Let's pray 🙏\\n#amphan #supercyclone</td>\n      <td>0.8519</td>\n      <td>India</td>\n    </tr>\n    <tr>\n      <th>44</th>\n      <td>1264053696016465920</td>\n      <td>\"Sahid had spent Rs 15 lakh — half of which came as government grant — on the two poly houses....\"I would need to spend at least Rs 2 lakh to repair the smaller poly house. The larger one has been razed to the ground,”\" https://t.co/WpgJWAEcnn</td>\n      <td>0.5994</td>\n      <td>Kolkata</td>\n    </tr>\n    <tr>\n      <th>45</th>\n      <td>1263385913591300096</td>\n      <td>While hole media house and  central government silent for west Bengal disaster during cyclone amphan . We had had remember rabindranath Tagore words “ তবে একলা চলো রে”.\\n#iamsumande\\n#helpbengal\\n#prayforwestbengal \\n#CyclonAmphan</td>\n      <td>-0.6249</td>\n      <td>None</td>\n    </tr>\n  </tbody>\n</table>\n</div>"
     },
     "metadata": {},
     "execution_count": 40
    }
   ],
   "source": [
    "df_summary"
   ]
  },
  {
   "cell_type": "code",
   "execution_count": 160,
   "metadata": {},
   "outputs": [],
   "source": [
    " def save_graph(graph,file_name):\n",
    "    #initialze Figure\n",
    "    plt.figure(num=None, figsize=(20, 20), dpi=80)\n",
    "    plt.axis('off')\n",
    "    fig = plt.figure(1)\n",
    "    pos = nx.spring_layout(graph)\n",
    "    nx.draw_networkx_nodes(graph,pos)\n",
    "    nx.draw_networkx_edges(graph,pos)\n",
    "    nx.draw_networkx_labels(graph,pos)\n",
    "\n",
    "    cut = 1.00\n",
    "    xmax = cut * max(xx for xx, yy in pos.values())\n",
    "    ymax = cut * max(yy for xx, yy in pos.values())\n",
    "    plt.xlim(0, xmax)\n",
    "    plt.ylim(0, ymax)\n",
    "\n",
    "    plt.savefig(file_name,bbox_inches=\"tight\")\n",
    "    del fig"
   ]
  },
  {
   "cell_type": "code",
   "execution_count": null,
   "metadata": {},
   "outputs": [],
   "source": []
  }
 ]
}