{
 "metadata": {
  "language_info": {
   "codemirror_mode": {
    "name": "ipython",
    "version": 3
   },
   "file_extension": ".py",
   "mimetype": "text/x-python",
   "name": "python",
   "nbconvert_exporter": "python",
   "pygments_lexer": "ipython3",
   "version": "3.8.5-final"
  },
  "orig_nbformat": 2,
  "kernelspec": {
   "name": "python_defaultSpec_1598191356752",
   "display_name": "Python 3.8.5 64-bit ('solve-iwmi': conda)"
  }
 },
 "nbformat": 4,
 "nbformat_minor": 2,
 "cells": [
  {
   "cell_type": "markdown",
   "metadata": {},
   "source": [
    "# Analysing Tweet Vectors"
   ]
  },
  {
   "cell_type": "code",
   "execution_count": 1,
   "metadata": {},
   "outputs": [],
   "source": [
    "import os\n",
    "from os.path import join\n",
    "import pandas as pd\n",
    "import numpy as np\n",
    "import nltk\n",
    "import eland as ed\n",
    "import matplotlib.pyplot as plt\n",
    "from gensim.test.utils import common_texts\n",
    "from gensim.models.doc2vec import Doc2Vec, TaggedDocument\n",
    "from sklearn.cluster import DBSCAN, KMeans\n",
    "from sklearn.decomposition import PCA\n",
    "\n",
    "pd.options.display.max_columns = None\n",
    "pd.options.display.max_rows = None"
   ]
  },
  {
   "cell_type": "code",
   "execution_count": 2,
   "metadata": {},
   "outputs": [],
   "source": [
    "project_dir = join(os.getcwd(), os.pardir)\n",
    "models_dir = join(project_dir, 'models')"
   ]
  },
  {
   "cell_type": "markdown",
   "metadata": {},
   "source": [
    "## Import data from Elasticsearch"
   ]
  },
  {
   "cell_type": "code",
   "execution_count": 9,
   "metadata": {},
   "outputs": [],
   "source": [
    "ed_df = ed.DataFrame('localhost', 'twitter', columns=['full_text_processed', 'user_id', 'verified', 'name', 'location', 'entities.hashtags.text', 'entities.user_mentions.name'])\n",
    "\n",
    "# defining the full-text query we need: Retrieving records for full_text_processed with the condition is_retweet=False and is_quote_status=False\n",
    "query_unique = {\n",
    "    \"bool\": {\n",
    "        \"must\": {\n",
    "            \"term\":{\"is_retweet\":\"true\"},\n",
    "        }\n",
    "    }\n",
    "}\n",
    "# using full-text search capabilities with Eland:\n",
    "df_ed = ed_df.es_query(query_unique)\n",
    "df_tweets = df_ed.to_pandas()"
   ]
  },
  {
   "cell_type": "code",
   "execution_count": 10,
   "metadata": {},
   "outputs": [],
   "source": [
    "df_tweets = df_tweets.drop_duplicates('full_text_processed')"
   ]
  },
  {
   "cell_type": "code",
   "execution_count": 11,
   "metadata": {},
   "outputs": [],
   "source": [
    "df_tweets['length'] = df_tweets['full_text_processed'].apply(lambda x: len([w for w in x.split()]))\n",
    "df_tweets = df_tweets[df_tweets['length']>4]"
   ]
  },
  {
   "cell_type": "code",
   "execution_count": 12,
   "metadata": {},
   "outputs": [
    {
     "output_type": "execute_result",
     "data": {
      "text/plain": "(22326, 8)"
     },
     "metadata": {},
     "execution_count": 12
    }
   ],
   "source": [
    "df_tweets.shape"
   ]
  },
  {
   "cell_type": "code",
   "execution_count": 13,
   "metadata": {},
   "outputs": [
    {
     "output_type": "execute_result",
     "data": {
      "text/plain": "                                                   full_text_processed  \\\n1264160611157643264  yesterday hon’ble shri ji made announcement r ...   \n1264114392234430464  amidst people’s protest street kolkata non res...   \n1264160578932813824  cyclone amphan vicious locust storm fast appro...   \n1264160565540388864             speaking situation wake cyclone amphan   \n1264160559752249344  prayer thought amp love affected devastation c...   \n\n                                user_id  verified             name  \\\n1264160611157643264  999599078043365377     False  Adrija Banerjee   \n1264114392234430464  999599078043365377     False  Adrija Banerjee   \n1264160578932813824           858598202     False             حبیب   \n1264160565540388864           973281092     False           Puneet   \n1264160559752249344  937394260051034112     False           ᴍʀ.ғᴀɴ   \n\n                           location entities.hashtags.text  \\\n1264160611157643264  Kolkata, India                    NaN   \n1264114392234430464  Kolkata, India                    NaN   \n1264160578932813824     Doha, Qatar            coronavirus   \n1264160565540388864    Noida, India                    NaN   \n1264160559752249344  Chiplun, India                    NaN   \n\n                                       entities.user_mentions.name  length  \n1264160611157643264  [NSitharamanOffice, PMO India, Narendra Modi]      30  \n1264114392234430464                                   Amit Malviya      30  \n1264160578932813824                                    Ashok Swain      11  \n1264160565540388864                                  Narendra Modi       5  \n1264160559752249344                                 Shah Rukh Khan      28  ",
      "text/html": "<div>\n<style scoped>\n    .dataframe tbody tr th:only-of-type {\n        vertical-align: middle;\n    }\n\n    .dataframe tbody tr th {\n        vertical-align: top;\n    }\n\n    .dataframe thead th {\n        text-align: right;\n    }\n</style>\n<table border=\"1\" class=\"dataframe\">\n  <thead>\n    <tr style=\"text-align: right;\">\n      <th></th>\n      <th>full_text_processed</th>\n      <th>user_id</th>\n      <th>verified</th>\n      <th>name</th>\n      <th>location</th>\n      <th>entities.hashtags.text</th>\n      <th>entities.user_mentions.name</th>\n      <th>length</th>\n    </tr>\n  </thead>\n  <tbody>\n    <tr>\n      <th>1264160611157643264</th>\n      <td>yesterday hon’ble shri ji made announcement r ...</td>\n      <td>999599078043365377</td>\n      <td>False</td>\n      <td>Adrija Banerjee</td>\n      <td>Kolkata, India</td>\n      <td>NaN</td>\n      <td>[NSitharamanOffice, PMO India, Narendra Modi]</td>\n      <td>30</td>\n    </tr>\n    <tr>\n      <th>1264114392234430464</th>\n      <td>amidst people’s protest street kolkata non res...</td>\n      <td>999599078043365377</td>\n      <td>False</td>\n      <td>Adrija Banerjee</td>\n      <td>Kolkata, India</td>\n      <td>NaN</td>\n      <td>Amit Malviya</td>\n      <td>30</td>\n    </tr>\n    <tr>\n      <th>1264160578932813824</th>\n      <td>cyclone amphan vicious locust storm fast appro...</td>\n      <td>858598202</td>\n      <td>False</td>\n      <td>حبیب</td>\n      <td>Doha, Qatar</td>\n      <td>coronavirus</td>\n      <td>Ashok Swain</td>\n      <td>11</td>\n    </tr>\n    <tr>\n      <th>1264160565540388864</th>\n      <td>speaking situation wake cyclone amphan</td>\n      <td>973281092</td>\n      <td>False</td>\n      <td>Puneet</td>\n      <td>Noida, India</td>\n      <td>NaN</td>\n      <td>Narendra Modi</td>\n      <td>5</td>\n    </tr>\n    <tr>\n      <th>1264160559752249344</th>\n      <td>prayer thought amp love affected devastation c...</td>\n      <td>937394260051034112</td>\n      <td>False</td>\n      <td>ᴍʀ.ғᴀɴ</td>\n      <td>Chiplun, India</td>\n      <td>NaN</td>\n      <td>Shah Rukh Khan</td>\n      <td>28</td>\n    </tr>\n  </tbody>\n</table>\n</div>"
     },
     "metadata": {},
     "execution_count": 13
    }
   ],
   "source": [
    "df_tweets.head()"
   ]
  },
  {
   "cell_type": "markdown",
   "metadata": {},
   "source": [
    "## Load the Tweet2Vec Model"
   ]
  },
  {
   "cell_type": "code",
   "execution_count": 7,
   "metadata": {},
   "outputs": [],
   "source": [
    "## Loading the tweet2vec model\n",
    "model = Doc2Vec.load(join(models_dir,'tweet2VecJared.model'))\n",
    "doc_tags = list(model.docvecs.doctags.keys())   ## Tweet Ids\n",
    "doc_vectors = model.docvecs.vectors_docs        ## Tweet Vectors"
   ]
  },
  {
   "cell_type": "code",
   "execution_count": 16,
   "metadata": {},
   "outputs": [
    {
     "output_type": "execute_result",
     "data": {
      "text/plain": "4442"
     },
     "metadata": {},
     "execution_count": 16
    }
   ],
   "source": [
    "doc_tags.index('1264160578932813824')"
   ]
  },
  {
   "cell_type": "code",
   "execution_count": 4,
   "metadata": {},
   "outputs": [],
   "source": [
    "# Clustering Kmeans\n",
    "km_model = KMeans(n_clusters=10, n_jobs=-1, random_state=10)\n",
    "km_model.fit(doc_vectors)\n",
    "# Get cluster assignment labels\n",
    "labels = km_model.labels_"
   ]
  },
  {
   "cell_type": "code",
   "execution_count": 18,
   "metadata": {},
   "outputs": [
    {
     "output_type": "execute_result",
     "data": {
      "text/plain": "[('1264135768747933696', 0.9335355758666992),\n ('1264146417683218432', 0.9327142238616943),\n ('1264152710921637888', 0.9301825165748596),\n ('1264134726249406464', 0.9243108034133911),\n ('1264128163950592000', 0.9156315326690674),\n ('1264145683302494208', 0.9147990942001343),\n ('1264161210678665216', 0.9132680892944336),\n ('1264135483229196288', 0.9080426692962646),\n ('1264150953890062336', 0.9067995548248291),\n ('1264161672693874688', 0.9056249260902405),\n ('1264111689974386688', 0.9009899497032166),\n ('1264134887193276416', 0.8977228403091431),\n ('1264143915776724992', 0.8969724178314209),\n ('1264134220928163840', 0.8965578079223633),\n ('1264137819276095488', 0.896438479423523)]"
     },
     "metadata": {},
     "execution_count": 18
    }
   ],
   "source": [
    "model.docvecs.most_similar(4442, topn=15)"
   ]
  },
  {
   "cell_type": "code",
   "execution_count": null,
   "metadata": {},
   "outputs": [],
   "source": [
    "# Clustering DBScan\n",
    "dbscan_model = DBSCAN()\n",
    "labels = dbscan_model.fit_predict(doc_vectors)"
   ]
  },
  {
   "cell_type": "code",
   "execution_count": null,
   "metadata": {},
   "outputs": [],
   "source": []
  }
 ]
}