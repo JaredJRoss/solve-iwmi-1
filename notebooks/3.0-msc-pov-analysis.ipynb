{
 "cells": [
  {
   "cell_type": "code",
   "execution_count": 37,
   "metadata": {},
   "outputs": [],
   "source": [
    "import os\n",
    "from os.path import join\n",
    "import eland as ed\n",
    "import pandas as pd\n",
    "import numpy as np\n",
    "from collections import Counter"
   ]
  },
  {
   "source": [
    "## Importing data from Elasticsearch\n",
    "### We're using elasticsearch database for storing the tweets. The following cell retrieves the tweets from the ES instance running locally"
   ],
   "cell_type": "markdown",
   "metadata": {}
  },
  {
   "cell_type": "code",
   "execution_count": 3,
   "metadata": {},
   "outputs": [],
   "source": [
    "ed_df = ed.DataFrame('localhost', 'twitter')\n",
    "\n",
    "# defining the full-text query we need: Retrieving records for full_text_processed with the condition is_retweet=False and is_quote_status=False\n",
    "\n",
    "query_unique = {\n",
    "    \"bool\": {\n",
    "        \"must\": {\n",
    "            \"term\":{\"is_retweet\":\"false\"},\n",
    "        },\n",
    "        \"filter\": {\n",
    "            \"term\":{\"is_quote_status\":\"false\"}\n",
    "        },\n",
    "    }\n",
    "}\n",
    "\n",
    "# using full-text search capabilities with Eland:\n",
    "df_ed = ed_df.es_query(query_unique)\n",
    "df_ed = df_ed.to_pandas()"
   ]
  },
  {
   "cell_type": "code",
   "execution_count": 15,
   "metadata": {},
   "outputs": [],
   "source": [
    "columns = ['full_text_trans', 'full_text_processed', 'pov', 'topics', 'sentiment', 'location', 'retweet_count', 'favorite_count', 'name', 'description', 'reply_count', 'verified']\n",
    "df_tweets = df_ed[columns]\n",
    "df_tweets['length'] = df_tweets['full_text_processed'].apply(lambda x: len([w for w in x.split()]))\n",
    "df_tweets = df_tweets[df_tweets['topics'].notna() & df_tweets['full_text_trans'].notna()]"
   ]
  },
  {
   "cell_type": "code",
   "execution_count": 16,
   "metadata": {},
   "outputs": [
    {
     "output_type": "execute_result",
     "data": {
      "text/plain": [
       "<AxesSubplot:>"
      ]
     },
     "metadata": {},
     "execution_count": 16
    },
    {
     "output_type": "display_data",
     "data": {
      "text/plain": "<Figure size 432x288 with 1 Axes>",
      "image/svg+xml": "<?xml version=\"1.0\" encoding=\"utf-8\" standalone=\"no\"?>\n<!DOCTYPE svg PUBLIC \"-//W3C//DTD SVG 1.1//EN\"\n  \"http://www.w3.org/Graphics/SVG/1.1/DTD/svg11.dtd\">\n<!-- Created with matplotlib (https://matplotlib.org/) -->\n<svg height=\"274.505625pt\" version=\"1.1\" viewBox=\"0 0 388.0125 274.505625\" width=\"388.0125pt\" xmlns=\"http://www.w3.org/2000/svg\" xmlns:xlink=\"http://www.w3.org/1999/xlink\">\n <metadata>\n  <rdf:RDF xmlns:cc=\"http://creativecommons.org/ns#\" xmlns:dc=\"http://purl.org/dc/elements/1.1/\" xmlns:rdf=\"http://www.w3.org/1999/02/22-rdf-syntax-ns#\">\n   <cc:Work>\n    <dc:type rdf:resource=\"http://purl.org/dc/dcmitype/StillImage\"/>\n    <dc:date>2020-10-12T00:43:12.141205</dc:date>\n    <dc:format>image/svg+xml</dc:format>\n    <dc:creator>\n     <cc:Agent>\n      <dc:title>Matplotlib v3.3.0, https://matplotlib.org/</dc:title>\n     </cc:Agent>\n    </dc:creator>\n   </cc:Work>\n  </rdf:RDF>\n </metadata>\n <defs>\n  <style type=\"text/css\">*{stroke-linecap:butt;stroke-linejoin:round;}</style>\n </defs>\n <g id=\"figure_1\">\n  <g id=\"patch_1\">\n   <path d=\"M 0 274.505625 \nL 388.0125 274.505625 \nL 388.0125 0 \nL 0 0 \nz\n\" style=\"fill:none;\"/>\n  </g>\n  <g id=\"axes_1\">\n   <g id=\"patch_2\">\n    <path d=\"M 46.0125 224.64 \nL 380.8125 224.64 \nL 380.8125 7.2 \nL 46.0125 7.2 \nz\n\" style=\"fill:#ffffff;\"/>\n   </g>\n   <g id=\"patch_3\">\n    <path clip-path=\"url(#p9a74a144c5)\" d=\"M 66.9375 224.64 \nL 108.7875 224.64 \nL 108.7875 17.554286 \nL 66.9375 17.554286 \nz\n\" style=\"fill:#1f77b4;\"/>\n   </g>\n   <g id=\"patch_4\">\n    <path clip-path=\"url(#p9a74a144c5)\" d=\"M 150.6375 224.64 \nL 192.4875 224.64 \nL 192.4875 183.902368 \nL 150.6375 183.902368 \nz\n\" style=\"fill:#1f77b4;\"/>\n   </g>\n   <g id=\"patch_5\">\n    <path clip-path=\"url(#p9a74a144c5)\" d=\"M 234.3375 224.64 \nL 276.1875 224.64 \nL 276.1875 192.912075 \nL 234.3375 192.912075 \nz\n\" style=\"fill:#1f77b4;\"/>\n   </g>\n   <g id=\"patch_6\">\n    <path clip-path=\"url(#p9a74a144c5)\" d=\"M 318.0375 224.64 \nL 359.8875 224.64 \nL 359.8875 210.001633 \nL 318.0375 210.001633 \nz\n\" style=\"fill:#1f77b4;\"/>\n   </g>\n   <g id=\"matplotlib.axis_1\">\n    <g id=\"xtick_1\">\n     <g id=\"line2d_1\">\n      <defs>\n       <path d=\"M 0 0 \nL 0 3.5 \n\" id=\"md818b5af04\" style=\"stroke:#000000;stroke-width:0.8;\"/>\n      </defs>\n      <g>\n       <use style=\"stroke:#000000;stroke-width:0.8;\" x=\"87.8625\" xlink:href=\"#md818b5af04\" y=\"224.64\"/>\n      </g>\n     </g>\n     <g id=\"text_1\">\n      <!-- None -->\n      <g transform=\"translate(90.621875 257.730625)rotate(-90)scale(0.1 -0.1)\">\n       <defs>\n        <path d=\"M 9.8125 72.90625 \nL 23.09375 72.90625 \nL 55.421875 11.921875 \nL 55.421875 72.90625 \nL 64.984375 72.90625 \nL 64.984375 0 \nL 51.703125 0 \nL 19.390625 60.984375 \nL 19.390625 0 \nL 9.8125 0 \nz\n\" id=\"DejaVuSans-78\"/>\n        <path d=\"M 30.609375 48.390625 \nQ 23.390625 48.390625 19.1875 42.75 \nQ 14.984375 37.109375 14.984375 27.296875 \nQ 14.984375 17.484375 19.15625 11.84375 \nQ 23.34375 6.203125 30.609375 6.203125 \nQ 37.796875 6.203125 41.984375 11.859375 \nQ 46.1875 17.53125 46.1875 27.296875 \nQ 46.1875 37.015625 41.984375 42.703125 \nQ 37.796875 48.390625 30.609375 48.390625 \nz\nM 30.609375 56 \nQ 42.328125 56 49.015625 48.375 \nQ 55.71875 40.765625 55.71875 27.296875 \nQ 55.71875 13.875 49.015625 6.21875 \nQ 42.328125 -1.421875 30.609375 -1.421875 \nQ 18.84375 -1.421875 12.171875 6.21875 \nQ 5.515625 13.875 5.515625 27.296875 \nQ 5.515625 40.765625 12.171875 48.375 \nQ 18.84375 56 30.609375 56 \nz\n\" id=\"DejaVuSans-111\"/>\n        <path d=\"M 54.890625 33.015625 \nL 54.890625 0 \nL 45.90625 0 \nL 45.90625 32.71875 \nQ 45.90625 40.484375 42.875 44.328125 \nQ 39.84375 48.1875 33.796875 48.1875 \nQ 26.515625 48.1875 22.3125 43.546875 \nQ 18.109375 38.921875 18.109375 30.90625 \nL 18.109375 0 \nL 9.078125 0 \nL 9.078125 54.6875 \nL 18.109375 54.6875 \nL 18.109375 46.1875 \nQ 21.34375 51.125 25.703125 53.5625 \nQ 30.078125 56 35.796875 56 \nQ 45.21875 56 50.046875 50.171875 \nQ 54.890625 44.34375 54.890625 33.015625 \nz\n\" id=\"DejaVuSans-110\"/>\n        <path d=\"M 56.203125 29.59375 \nL 56.203125 25.203125 \nL 14.890625 25.203125 \nQ 15.484375 15.921875 20.484375 11.0625 \nQ 25.484375 6.203125 34.421875 6.203125 \nQ 39.59375 6.203125 44.453125 7.46875 \nQ 49.3125 8.734375 54.109375 11.28125 \nL 54.109375 2.78125 \nQ 49.265625 0.734375 44.1875 -0.34375 \nQ 39.109375 -1.421875 33.890625 -1.421875 \nQ 20.796875 -1.421875 13.15625 6.1875 \nQ 5.515625 13.8125 5.515625 26.8125 \nQ 5.515625 40.234375 12.765625 48.109375 \nQ 20.015625 56 32.328125 56 \nQ 43.359375 56 49.78125 48.890625 \nQ 56.203125 41.796875 56.203125 29.59375 \nz\nM 47.21875 32.234375 \nQ 47.125 39.59375 43.09375 43.984375 \nQ 39.0625 48.390625 32.421875 48.390625 \nQ 24.90625 48.390625 20.390625 44.140625 \nQ 15.875 39.890625 15.1875 32.171875 \nz\n\" id=\"DejaVuSans-101\"/>\n       </defs>\n       <use xlink:href=\"#DejaVuSans-78\"/>\n       <use x=\"74.804688\" xlink:href=\"#DejaVuSans-111\"/>\n       <use x=\"135.986328\" xlink:href=\"#DejaVuSans-110\"/>\n       <use x=\"199.365234\" xlink:href=\"#DejaVuSans-101\"/>\n      </g>\n     </g>\n    </g>\n    <g id=\"xtick_2\">\n     <g id=\"line2d_2\">\n      <g>\n       <use style=\"stroke:#000000;stroke-width:0.8;\" x=\"171.5625\" xlink:href=\"#md818b5af04\" y=\"224.64\"/>\n      </g>\n     </g>\n     <g id=\"text_2\">\n      <!-- first -->\n      <g transform=\"translate(174.321875 251.179062)rotate(-90)scale(0.1 -0.1)\">\n       <defs>\n        <path d=\"M 37.109375 75.984375 \nL 37.109375 68.5 \nL 28.515625 68.5 \nQ 23.6875 68.5 21.796875 66.546875 \nQ 19.921875 64.59375 19.921875 59.515625 \nL 19.921875 54.6875 \nL 34.71875 54.6875 \nL 34.71875 47.703125 \nL 19.921875 47.703125 \nL 19.921875 0 \nL 10.890625 0 \nL 10.890625 47.703125 \nL 2.296875 47.703125 \nL 2.296875 54.6875 \nL 10.890625 54.6875 \nL 10.890625 58.5 \nQ 10.890625 67.625 15.140625 71.796875 \nQ 19.390625 75.984375 28.609375 75.984375 \nz\n\" id=\"DejaVuSans-102\"/>\n        <path d=\"M 9.421875 54.6875 \nL 18.40625 54.6875 \nL 18.40625 0 \nL 9.421875 0 \nz\nM 9.421875 75.984375 \nL 18.40625 75.984375 \nL 18.40625 64.59375 \nL 9.421875 64.59375 \nz\n\" id=\"DejaVuSans-105\"/>\n        <path d=\"M 41.109375 46.296875 \nQ 39.59375 47.171875 37.8125 47.578125 \nQ 36.03125 48 33.890625 48 \nQ 26.265625 48 22.1875 43.046875 \nQ 18.109375 38.09375 18.109375 28.8125 \nL 18.109375 0 \nL 9.078125 0 \nL 9.078125 54.6875 \nL 18.109375 54.6875 \nL 18.109375 46.1875 \nQ 20.953125 51.171875 25.484375 53.578125 \nQ 30.03125 56 36.53125 56 \nQ 37.453125 56 38.578125 55.875 \nQ 39.703125 55.765625 41.0625 55.515625 \nz\n\" id=\"DejaVuSans-114\"/>\n        <path d=\"M 44.28125 53.078125 \nL 44.28125 44.578125 \nQ 40.484375 46.53125 36.375 47.5 \nQ 32.28125 48.484375 27.875 48.484375 \nQ 21.1875 48.484375 17.84375 46.4375 \nQ 14.5 44.390625 14.5 40.28125 \nQ 14.5 37.15625 16.890625 35.375 \nQ 19.28125 33.59375 26.515625 31.984375 \nL 29.59375 31.296875 \nQ 39.15625 29.25 43.1875 25.515625 \nQ 47.21875 21.78125 47.21875 15.09375 \nQ 47.21875 7.46875 41.1875 3.015625 \nQ 35.15625 -1.421875 24.609375 -1.421875 \nQ 20.21875 -1.421875 15.453125 -0.5625 \nQ 10.6875 0.296875 5.421875 2 \nL 5.421875 11.28125 \nQ 10.40625 8.6875 15.234375 7.390625 \nQ 20.0625 6.109375 24.8125 6.109375 \nQ 31.15625 6.109375 34.5625 8.28125 \nQ 37.984375 10.453125 37.984375 14.40625 \nQ 37.984375 18.0625 35.515625 20.015625 \nQ 33.0625 21.96875 24.703125 23.78125 \nL 21.578125 24.515625 \nQ 13.234375 26.265625 9.515625 29.90625 \nQ 5.8125 33.546875 5.8125 39.890625 \nQ 5.8125 47.609375 11.28125 51.796875 \nQ 16.75 56 26.8125 56 \nQ 31.78125 56 36.171875 55.265625 \nQ 40.578125 54.546875 44.28125 53.078125 \nz\n\" id=\"DejaVuSans-115\"/>\n        <path d=\"M 18.3125 70.21875 \nL 18.3125 54.6875 \nL 36.8125 54.6875 \nL 36.8125 47.703125 \nL 18.3125 47.703125 \nL 18.3125 18.015625 \nQ 18.3125 11.328125 20.140625 9.421875 \nQ 21.96875 7.515625 27.59375 7.515625 \nL 36.8125 7.515625 \nL 36.8125 0 \nL 27.59375 0 \nQ 17.1875 0 13.234375 3.875 \nQ 9.28125 7.765625 9.28125 18.015625 \nL 9.28125 47.703125 \nL 2.6875 47.703125 \nL 2.6875 54.6875 \nL 9.28125 54.6875 \nL 9.28125 70.21875 \nz\n\" id=\"DejaVuSans-116\"/>\n       </defs>\n       <use xlink:href=\"#DejaVuSans-102\"/>\n       <use x=\"35.205078\" xlink:href=\"#DejaVuSans-105\"/>\n       <use x=\"62.988281\" xlink:href=\"#DejaVuSans-114\"/>\n       <use x=\"104.101562\" xlink:href=\"#DejaVuSans-115\"/>\n       <use x=\"156.201172\" xlink:href=\"#DejaVuSans-116\"/>\n      </g>\n     </g>\n    </g>\n    <g id=\"xtick_3\">\n     <g id=\"line2d_3\">\n      <g>\n       <use style=\"stroke:#000000;stroke-width:0.8;\" x=\"255.2625\" xlink:href=\"#md818b5af04\" y=\"224.64\"/>\n      </g>\n     </g>\n     <g id=\"text_3\">\n      <!-- third -->\n      <g transform=\"translate(258.021875 254.960312)rotate(-90)scale(0.1 -0.1)\">\n       <defs>\n        <path d=\"M 54.890625 33.015625 \nL 54.890625 0 \nL 45.90625 0 \nL 45.90625 32.71875 \nQ 45.90625 40.484375 42.875 44.328125 \nQ 39.84375 48.1875 33.796875 48.1875 \nQ 26.515625 48.1875 22.3125 43.546875 \nQ 18.109375 38.921875 18.109375 30.90625 \nL 18.109375 0 \nL 9.078125 0 \nL 9.078125 75.984375 \nL 18.109375 75.984375 \nL 18.109375 46.1875 \nQ 21.34375 51.125 25.703125 53.5625 \nQ 30.078125 56 35.796875 56 \nQ 45.21875 56 50.046875 50.171875 \nQ 54.890625 44.34375 54.890625 33.015625 \nz\n\" id=\"DejaVuSans-104\"/>\n        <path d=\"M 45.40625 46.390625 \nL 45.40625 75.984375 \nL 54.390625 75.984375 \nL 54.390625 0 \nL 45.40625 0 \nL 45.40625 8.203125 \nQ 42.578125 3.328125 38.25 0.953125 \nQ 33.9375 -1.421875 27.875 -1.421875 \nQ 17.96875 -1.421875 11.734375 6.484375 \nQ 5.515625 14.40625 5.515625 27.296875 \nQ 5.515625 40.1875 11.734375 48.09375 \nQ 17.96875 56 27.875 56 \nQ 33.9375 56 38.25 53.625 \nQ 42.578125 51.265625 45.40625 46.390625 \nz\nM 14.796875 27.296875 \nQ 14.796875 17.390625 18.875 11.75 \nQ 22.953125 6.109375 30.078125 6.109375 \nQ 37.203125 6.109375 41.296875 11.75 \nQ 45.40625 17.390625 45.40625 27.296875 \nQ 45.40625 37.203125 41.296875 42.84375 \nQ 37.203125 48.484375 30.078125 48.484375 \nQ 22.953125 48.484375 18.875 42.84375 \nQ 14.796875 37.203125 14.796875 27.296875 \nz\n\" id=\"DejaVuSans-100\"/>\n       </defs>\n       <use xlink:href=\"#DejaVuSans-116\"/>\n       <use x=\"39.208984\" xlink:href=\"#DejaVuSans-104\"/>\n       <use x=\"102.587891\" xlink:href=\"#DejaVuSans-105\"/>\n       <use x=\"130.371094\" xlink:href=\"#DejaVuSans-114\"/>\n       <use x=\"169.734375\" xlink:href=\"#DejaVuSans-100\"/>\n      </g>\n     </g>\n    </g>\n    <g id=\"xtick_4\">\n     <g id=\"line2d_4\">\n      <g>\n       <use style=\"stroke:#000000;stroke-width:0.8;\" x=\"338.9625\" xlink:href=\"#md818b5af04\" y=\"224.64\"/>\n      </g>\n     </g>\n     <g id=\"text_4\">\n      <!-- second -->\n      <g transform=\"translate(341.721875 267.305625)rotate(-90)scale(0.1 -0.1)\">\n       <defs>\n        <path d=\"M 48.78125 52.59375 \nL 48.78125 44.1875 \nQ 44.96875 46.296875 41.140625 47.34375 \nQ 37.3125 48.390625 33.40625 48.390625 \nQ 24.65625 48.390625 19.8125 42.84375 \nQ 14.984375 37.3125 14.984375 27.296875 \nQ 14.984375 17.28125 19.8125 11.734375 \nQ 24.65625 6.203125 33.40625 6.203125 \nQ 37.3125 6.203125 41.140625 7.25 \nQ 44.96875 8.296875 48.78125 10.40625 \nL 48.78125 2.09375 \nQ 45.015625 0.34375 40.984375 -0.53125 \nQ 36.96875 -1.421875 32.421875 -1.421875 \nQ 20.0625 -1.421875 12.78125 6.34375 \nQ 5.515625 14.109375 5.515625 27.296875 \nQ 5.515625 40.671875 12.859375 48.328125 \nQ 20.21875 56 33.015625 56 \nQ 37.15625 56 41.109375 55.140625 \nQ 45.0625 54.296875 48.78125 52.59375 \nz\n\" id=\"DejaVuSans-99\"/>\n       </defs>\n       <use xlink:href=\"#DejaVuSans-115\"/>\n       <use x=\"52.099609\" xlink:href=\"#DejaVuSans-101\"/>\n       <use x=\"113.623047\" xlink:href=\"#DejaVuSans-99\"/>\n       <use x=\"168.603516\" xlink:href=\"#DejaVuSans-111\"/>\n       <use x=\"229.785156\" xlink:href=\"#DejaVuSans-110\"/>\n       <use x=\"293.164062\" xlink:href=\"#DejaVuSans-100\"/>\n      </g>\n     </g>\n    </g>\n   </g>\n   <g id=\"matplotlib.axis_2\">\n    <g id=\"ytick_1\">\n     <g id=\"line2d_5\">\n      <defs>\n       <path d=\"M 0 0 \nL -3.5 0 \n\" id=\"mbb8170fa81\" style=\"stroke:#000000;stroke-width:0.8;\"/>\n      </defs>\n      <g>\n       <use style=\"stroke:#000000;stroke-width:0.8;\" x=\"46.0125\" xlink:href=\"#mbb8170fa81\" y=\"224.64\"/>\n      </g>\n     </g>\n     <g id=\"text_5\">\n      <!-- 0 -->\n      <g transform=\"translate(32.65 228.439219)scale(0.1 -0.1)\">\n       <defs>\n        <path d=\"M 31.78125 66.40625 \nQ 24.171875 66.40625 20.328125 58.90625 \nQ 16.5 51.421875 16.5 36.375 \nQ 16.5 21.390625 20.328125 13.890625 \nQ 24.171875 6.390625 31.78125 6.390625 \nQ 39.453125 6.390625 43.28125 13.890625 \nQ 47.125 21.390625 47.125 36.375 \nQ 47.125 51.421875 43.28125 58.90625 \nQ 39.453125 66.40625 31.78125 66.40625 \nz\nM 31.78125 74.21875 \nQ 44.046875 74.21875 50.515625 64.515625 \nQ 56.984375 54.828125 56.984375 36.375 \nQ 56.984375 17.96875 50.515625 8.265625 \nQ 44.046875 -1.421875 31.78125 -1.421875 \nQ 19.53125 -1.421875 13.0625 8.265625 \nQ 6.59375 17.96875 6.59375 36.375 \nQ 6.59375 54.828125 13.0625 64.515625 \nQ 19.53125 74.21875 31.78125 74.21875 \nz\n\" id=\"DejaVuSans-48\"/>\n       </defs>\n       <use xlink:href=\"#DejaVuSans-48\"/>\n      </g>\n     </g>\n    </g>\n    <g id=\"ytick_2\">\n     <g id=\"line2d_6\">\n      <g>\n       <use style=\"stroke:#000000;stroke-width:0.8;\" x=\"46.0125\" xlink:href=\"#mbb8170fa81\" y=\"197.129443\"/>\n      </g>\n     </g>\n     <g id=\"text_6\">\n      <!-- 10000 -->\n      <g transform=\"translate(7.2 200.928662)scale(0.1 -0.1)\">\n       <defs>\n        <path d=\"M 12.40625 8.296875 \nL 28.515625 8.296875 \nL 28.515625 63.921875 \nL 10.984375 60.40625 \nL 10.984375 69.390625 \nL 28.421875 72.90625 \nL 38.28125 72.90625 \nL 38.28125 8.296875 \nL 54.390625 8.296875 \nL 54.390625 0 \nL 12.40625 0 \nz\n\" id=\"DejaVuSans-49\"/>\n       </defs>\n       <use xlink:href=\"#DejaVuSans-49\"/>\n       <use x=\"63.623047\" xlink:href=\"#DejaVuSans-48\"/>\n       <use x=\"127.246094\" xlink:href=\"#DejaVuSans-48\"/>\n       <use x=\"190.869141\" xlink:href=\"#DejaVuSans-48\"/>\n       <use x=\"254.492188\" xlink:href=\"#DejaVuSans-48\"/>\n      </g>\n     </g>\n    </g>\n    <g id=\"ytick_3\">\n     <g id=\"line2d_7\">\n      <g>\n       <use style=\"stroke:#000000;stroke-width:0.8;\" x=\"46.0125\" xlink:href=\"#mbb8170fa81\" y=\"169.618887\"/>\n      </g>\n     </g>\n     <g id=\"text_7\">\n      <!-- 20000 -->\n      <g transform=\"translate(7.2 173.418106)scale(0.1 -0.1)\">\n       <defs>\n        <path d=\"M 19.1875 8.296875 \nL 53.609375 8.296875 \nL 53.609375 0 \nL 7.328125 0 \nL 7.328125 8.296875 \nQ 12.9375 14.109375 22.625 23.890625 \nQ 32.328125 33.6875 34.8125 36.53125 \nQ 39.546875 41.84375 41.421875 45.53125 \nQ 43.3125 49.21875 43.3125 52.78125 \nQ 43.3125 58.59375 39.234375 62.25 \nQ 35.15625 65.921875 28.609375 65.921875 \nQ 23.96875 65.921875 18.8125 64.3125 \nQ 13.671875 62.703125 7.8125 59.421875 \nL 7.8125 69.390625 \nQ 13.765625 71.78125 18.9375 73 \nQ 24.125 74.21875 28.421875 74.21875 \nQ 39.75 74.21875 46.484375 68.546875 \nQ 53.21875 62.890625 53.21875 53.421875 \nQ 53.21875 48.921875 51.53125 44.890625 \nQ 49.859375 40.875 45.40625 35.40625 \nQ 44.1875 33.984375 37.640625 27.21875 \nQ 31.109375 20.453125 19.1875 8.296875 \nz\n\" id=\"DejaVuSans-50\"/>\n       </defs>\n       <use xlink:href=\"#DejaVuSans-50\"/>\n       <use x=\"63.623047\" xlink:href=\"#DejaVuSans-48\"/>\n       <use x=\"127.246094\" xlink:href=\"#DejaVuSans-48\"/>\n       <use x=\"190.869141\" xlink:href=\"#DejaVuSans-48\"/>\n       <use x=\"254.492188\" xlink:href=\"#DejaVuSans-48\"/>\n      </g>\n     </g>\n    </g>\n    <g id=\"ytick_4\">\n     <g id=\"line2d_8\">\n      <g>\n       <use style=\"stroke:#000000;stroke-width:0.8;\" x=\"46.0125\" xlink:href=\"#mbb8170fa81\" y=\"142.10833\"/>\n      </g>\n     </g>\n     <g id=\"text_8\">\n      <!-- 30000 -->\n      <g transform=\"translate(7.2 145.907549)scale(0.1 -0.1)\">\n       <defs>\n        <path d=\"M 40.578125 39.3125 \nQ 47.65625 37.796875 51.625 33 \nQ 55.609375 28.21875 55.609375 21.1875 \nQ 55.609375 10.40625 48.1875 4.484375 \nQ 40.765625 -1.421875 27.09375 -1.421875 \nQ 22.515625 -1.421875 17.65625 -0.515625 \nQ 12.796875 0.390625 7.625 2.203125 \nL 7.625 11.71875 \nQ 11.71875 9.328125 16.59375 8.109375 \nQ 21.484375 6.890625 26.8125 6.890625 \nQ 36.078125 6.890625 40.9375 10.546875 \nQ 45.796875 14.203125 45.796875 21.1875 \nQ 45.796875 27.640625 41.28125 31.265625 \nQ 36.765625 34.90625 28.71875 34.90625 \nL 20.21875 34.90625 \nL 20.21875 43.015625 \nL 29.109375 43.015625 \nQ 36.375 43.015625 40.234375 45.921875 \nQ 44.09375 48.828125 44.09375 54.296875 \nQ 44.09375 59.90625 40.109375 62.90625 \nQ 36.140625 65.921875 28.71875 65.921875 \nQ 24.65625 65.921875 20.015625 65.03125 \nQ 15.375 64.15625 9.8125 62.3125 \nL 9.8125 71.09375 \nQ 15.4375 72.65625 20.34375 73.4375 \nQ 25.25 74.21875 29.59375 74.21875 \nQ 40.828125 74.21875 47.359375 69.109375 \nQ 53.90625 64.015625 53.90625 55.328125 \nQ 53.90625 49.265625 50.4375 45.09375 \nQ 46.96875 40.921875 40.578125 39.3125 \nz\n\" id=\"DejaVuSans-51\"/>\n       </defs>\n       <use xlink:href=\"#DejaVuSans-51\"/>\n       <use x=\"63.623047\" xlink:href=\"#DejaVuSans-48\"/>\n       <use x=\"127.246094\" xlink:href=\"#DejaVuSans-48\"/>\n       <use x=\"190.869141\" xlink:href=\"#DejaVuSans-48\"/>\n       <use x=\"254.492188\" xlink:href=\"#DejaVuSans-48\"/>\n      </g>\n     </g>\n    </g>\n    <g id=\"ytick_5\">\n     <g id=\"line2d_9\">\n      <g>\n       <use style=\"stroke:#000000;stroke-width:0.8;\" x=\"46.0125\" xlink:href=\"#mbb8170fa81\" y=\"114.597774\"/>\n      </g>\n     </g>\n     <g id=\"text_9\">\n      <!-- 40000 -->\n      <g transform=\"translate(7.2 118.396993)scale(0.1 -0.1)\">\n       <defs>\n        <path d=\"M 37.796875 64.3125 \nL 12.890625 25.390625 \nL 37.796875 25.390625 \nz\nM 35.203125 72.90625 \nL 47.609375 72.90625 \nL 47.609375 25.390625 \nL 58.015625 25.390625 \nL 58.015625 17.1875 \nL 47.609375 17.1875 \nL 47.609375 0 \nL 37.796875 0 \nL 37.796875 17.1875 \nL 4.890625 17.1875 \nL 4.890625 26.703125 \nz\n\" id=\"DejaVuSans-52\"/>\n       </defs>\n       <use xlink:href=\"#DejaVuSans-52\"/>\n       <use x=\"63.623047\" xlink:href=\"#DejaVuSans-48\"/>\n       <use x=\"127.246094\" xlink:href=\"#DejaVuSans-48\"/>\n       <use x=\"190.869141\" xlink:href=\"#DejaVuSans-48\"/>\n       <use x=\"254.492188\" xlink:href=\"#DejaVuSans-48\"/>\n      </g>\n     </g>\n    </g>\n    <g id=\"ytick_6\">\n     <g id=\"line2d_10\">\n      <g>\n       <use style=\"stroke:#000000;stroke-width:0.8;\" x=\"46.0125\" xlink:href=\"#mbb8170fa81\" y=\"87.087217\"/>\n      </g>\n     </g>\n     <g id=\"text_10\">\n      <!-- 50000 -->\n      <g transform=\"translate(7.2 90.886436)scale(0.1 -0.1)\">\n       <defs>\n        <path d=\"M 10.796875 72.90625 \nL 49.515625 72.90625 \nL 49.515625 64.59375 \nL 19.828125 64.59375 \nL 19.828125 46.734375 \nQ 21.96875 47.46875 24.109375 47.828125 \nQ 26.265625 48.1875 28.421875 48.1875 \nQ 40.625 48.1875 47.75 41.5 \nQ 54.890625 34.8125 54.890625 23.390625 \nQ 54.890625 11.625 47.5625 5.09375 \nQ 40.234375 -1.421875 26.90625 -1.421875 \nQ 22.3125 -1.421875 17.546875 -0.640625 \nQ 12.796875 0.140625 7.71875 1.703125 \nL 7.71875 11.625 \nQ 12.109375 9.234375 16.796875 8.0625 \nQ 21.484375 6.890625 26.703125 6.890625 \nQ 35.15625 6.890625 40.078125 11.328125 \nQ 45.015625 15.765625 45.015625 23.390625 \nQ 45.015625 31 40.078125 35.4375 \nQ 35.15625 39.890625 26.703125 39.890625 \nQ 22.75 39.890625 18.8125 39.015625 \nQ 14.890625 38.140625 10.796875 36.28125 \nz\n\" id=\"DejaVuSans-53\"/>\n       </defs>\n       <use xlink:href=\"#DejaVuSans-53\"/>\n       <use x=\"63.623047\" xlink:href=\"#DejaVuSans-48\"/>\n       <use x=\"127.246094\" xlink:href=\"#DejaVuSans-48\"/>\n       <use x=\"190.869141\" xlink:href=\"#DejaVuSans-48\"/>\n       <use x=\"254.492188\" xlink:href=\"#DejaVuSans-48\"/>\n      </g>\n     </g>\n    </g>\n    <g id=\"ytick_7\">\n     <g id=\"line2d_11\">\n      <g>\n       <use style=\"stroke:#000000;stroke-width:0.8;\" x=\"46.0125\" xlink:href=\"#mbb8170fa81\" y=\"59.576661\"/>\n      </g>\n     </g>\n     <g id=\"text_11\">\n      <!-- 60000 -->\n      <g transform=\"translate(7.2 63.37588)scale(0.1 -0.1)\">\n       <defs>\n        <path d=\"M 33.015625 40.375 \nQ 26.375 40.375 22.484375 35.828125 \nQ 18.609375 31.296875 18.609375 23.390625 \nQ 18.609375 15.53125 22.484375 10.953125 \nQ 26.375 6.390625 33.015625 6.390625 \nQ 39.65625 6.390625 43.53125 10.953125 \nQ 47.40625 15.53125 47.40625 23.390625 \nQ 47.40625 31.296875 43.53125 35.828125 \nQ 39.65625 40.375 33.015625 40.375 \nz\nM 52.59375 71.296875 \nL 52.59375 62.3125 \nQ 48.875 64.0625 45.09375 64.984375 \nQ 41.3125 65.921875 37.59375 65.921875 \nQ 27.828125 65.921875 22.671875 59.328125 \nQ 17.53125 52.734375 16.796875 39.40625 \nQ 19.671875 43.65625 24.015625 45.921875 \nQ 28.375 48.1875 33.59375 48.1875 \nQ 44.578125 48.1875 50.953125 41.515625 \nQ 57.328125 34.859375 57.328125 23.390625 \nQ 57.328125 12.15625 50.6875 5.359375 \nQ 44.046875 -1.421875 33.015625 -1.421875 \nQ 20.359375 -1.421875 13.671875 8.265625 \nQ 6.984375 17.96875 6.984375 36.375 \nQ 6.984375 53.65625 15.1875 63.9375 \nQ 23.390625 74.21875 37.203125 74.21875 \nQ 40.921875 74.21875 44.703125 73.484375 \nQ 48.484375 72.75 52.59375 71.296875 \nz\n\" id=\"DejaVuSans-54\"/>\n       </defs>\n       <use xlink:href=\"#DejaVuSans-54\"/>\n       <use x=\"63.623047\" xlink:href=\"#DejaVuSans-48\"/>\n       <use x=\"127.246094\" xlink:href=\"#DejaVuSans-48\"/>\n       <use x=\"190.869141\" xlink:href=\"#DejaVuSans-48\"/>\n       <use x=\"254.492188\" xlink:href=\"#DejaVuSans-48\"/>\n      </g>\n     </g>\n    </g>\n    <g id=\"ytick_8\">\n     <g id=\"line2d_12\">\n      <g>\n       <use style=\"stroke:#000000;stroke-width:0.8;\" x=\"46.0125\" xlink:href=\"#mbb8170fa81\" y=\"32.066104\"/>\n      </g>\n     </g>\n     <g id=\"text_12\">\n      <!-- 70000 -->\n      <g transform=\"translate(7.2 35.865323)scale(0.1 -0.1)\">\n       <defs>\n        <path d=\"M 8.203125 72.90625 \nL 55.078125 72.90625 \nL 55.078125 68.703125 \nL 28.609375 0 \nL 18.3125 0 \nL 43.21875 64.59375 \nL 8.203125 64.59375 \nz\n\" id=\"DejaVuSans-55\"/>\n       </defs>\n       <use xlink:href=\"#DejaVuSans-55\"/>\n       <use x=\"63.623047\" xlink:href=\"#DejaVuSans-48\"/>\n       <use x=\"127.246094\" xlink:href=\"#DejaVuSans-48\"/>\n       <use x=\"190.869141\" xlink:href=\"#DejaVuSans-48\"/>\n       <use x=\"254.492188\" xlink:href=\"#DejaVuSans-48\"/>\n      </g>\n     </g>\n    </g>\n   </g>\n   <g id=\"patch_7\">\n    <path d=\"M 46.0125 224.64 \nL 46.0125 7.2 \n\" style=\"fill:none;stroke:#000000;stroke-linecap:square;stroke-linejoin:miter;stroke-width:0.8;\"/>\n   </g>\n   <g id=\"patch_8\">\n    <path d=\"M 380.8125 224.64 \nL 380.8125 7.2 \n\" style=\"fill:none;stroke:#000000;stroke-linecap:square;stroke-linejoin:miter;stroke-width:0.8;\"/>\n   </g>\n   <g id=\"patch_9\">\n    <path d=\"M 46.0125 224.64 \nL 380.8125 224.64 \n\" style=\"fill:none;stroke:#000000;stroke-linecap:square;stroke-linejoin:miter;stroke-width:0.8;\"/>\n   </g>\n   <g id=\"patch_10\">\n    <path d=\"M 46.0125 7.2 \nL 380.8125 7.2 \n\" style=\"fill:none;stroke:#000000;stroke-linecap:square;stroke-linejoin:miter;stroke-width:0.8;\"/>\n   </g>\n  </g>\n </g>\n <defs>\n  <clipPath id=\"p9a74a144c5\">\n   <rect height=\"217.44\" width=\"334.8\" x=\"46.0125\" y=\"7.2\"/>\n  </clipPath>\n </defs>\n</svg>\n",
      "image/png": "[encoded data removed]"
     },
     "metadata": {
      "needs_background": "light"
     }
    }
   ],
   "source": [
    "df_tweets['pov'].value_counts().plot.bar()"
   ]
  },
  {
   "cell_type": "code",
   "execution_count": 17,
   "metadata": {},
   "outputs": [
    {
     "output_type": "execute_result",
     "data": {
      "text/plain": [
       "                                         name  \\\n",
       "1263213348000325632                   Twitter   \n",
       "1263815469145788416             Narendra Modi   \n",
       "1268206270168723456         Sudarsan Pattnaik   \n",
       "1262772783467188224                       CNN   \n",
       "1263176697190526976                Imran Khan   \n",
       "1262792224284332032             Babita Phogat   \n",
       "1262969124227035136  Saloni Gaur (Nazma Aapi)   \n",
       "1268186278052237312           Rofl Gandhi 2.0   \n",
       "1263847233742532608             Narendra Modi   \n",
       "1263384064616103936             Narendra Modi   \n",
       "\n",
       "                                                           description  \\\n",
       "1263213348000325632                                                bye   \n",
       "1263815469145788416                            Prime Minister of India   \n",
       "1268206270168723456  Official Twitter account of International Sand...   \n",
       "1262772783467188224  It’s our job to #GoThere & tell the most diffi...   \n",
       "1263176697190526976                         Prime Minister of Pakistan   \n",
       "1262792224284332032  This is the Official account . #IndianWrestler...   \n",
       "1262969124227035136  Comedian | Still can't believe that my parents...   \n",
       "1268186278052237312  Parody. Not Rahul Gandhi. टोल- मुक्त भारत, पहल...   \n",
       "1263847233742532608                            Prime Minister of India   \n",
       "1263384064616103936                            Prime Minister of India   \n",
       "\n",
       "                                                       full_text_trans  \n",
       "1263213348000325632                                        u up? @NASA  \n",
       "1263815469145788416  Deeply saddened by the loss of life due to a p...  \n",
       "1268206270168723456  Humanity has failed again...........\\nOne of m...  \n",
       "1262772783467188224  Daily carbon emissions declined 17% between Ja...  \n",
       "1263176697190526976  15 homes torched by Indian Occupation forces i...  \n",
       "1262792224284332032  Send bus from here,\\nFrom there the tempo will...  \n",
       "1262969124227035136  Nazma Aapi on Corona at Zee News. https://t.co...  \n",
       "1268186278052237312  Peeche ek banda normally kaam kar raha hai, le...  \n",
       "1263847233742532608  The nation stands in solidarity with our siste...  \n",
       "1263384064616103936  Have been seeing visuals from West Bengal on t...  "
      ],
      "text/html": "<div>\n<style scoped>\n    .dataframe tbody tr th:only-of-type {\n        vertical-align: middle;\n    }\n\n    .dataframe tbody tr th {\n        vertical-align: top;\n    }\n\n    .dataframe thead th {\n        text-align: right;\n    }\n</style>\n<table border=\"1\" class=\"dataframe\">\n  <thead>\n    <tr style=\"text-align: right;\">\n      <th></th>\n      <th>name</th>\n      <th>description</th>\n      <th>full_text_trans</th>\n    </tr>\n  </thead>\n  <tbody>\n    <tr>\n      <th>1263213348000325632</th>\n      <td>Twitter</td>\n      <td>bye</td>\n      <td>u up? @NASA</td>\n    </tr>\n    <tr>\n      <th>1263815469145788416</th>\n      <td>Narendra Modi</td>\n      <td>Prime Minister of India</td>\n      <td>Deeply saddened by the loss of life due to a p...</td>\n    </tr>\n    <tr>\n      <th>1268206270168723456</th>\n      <td>Sudarsan Pattnaik</td>\n      <td>Official Twitter account of International Sand...</td>\n      <td>Humanity has failed again...........\\nOne of m...</td>\n    </tr>\n    <tr>\n      <th>1262772783467188224</th>\n      <td>CNN</td>\n      <td>It’s our job to #GoThere &amp; tell the most diffi...</td>\n      <td>Daily carbon emissions declined 17% between Ja...</td>\n    </tr>\n    <tr>\n      <th>1263176697190526976</th>\n      <td>Imran Khan</td>\n      <td>Prime Minister of Pakistan</td>\n      <td>15 homes torched by Indian Occupation forces i...</td>\n    </tr>\n    <tr>\n      <th>1262792224284332032</th>\n      <td>Babita Phogat</td>\n      <td>This is the Official account . #IndianWrestler...</td>\n      <td>Send bus from here,\\nFrom there the tempo will...</td>\n    </tr>\n    <tr>\n      <th>1262969124227035136</th>\n      <td>Saloni Gaur (Nazma Aapi)</td>\n      <td>Comedian | Still can't believe that my parents...</td>\n      <td>Nazma Aapi on Corona at Zee News. https://t.co...</td>\n    </tr>\n    <tr>\n      <th>1268186278052237312</th>\n      <td>Rofl Gandhi 2.0</td>\n      <td>Parody. Not Rahul Gandhi. टोल- मुक्त भारत, पहल...</td>\n      <td>Peeche ek banda normally kaam kar raha hai, le...</td>\n    </tr>\n    <tr>\n      <th>1263847233742532608</th>\n      <td>Narendra Modi</td>\n      <td>Prime Minister of India</td>\n      <td>The nation stands in solidarity with our siste...</td>\n    </tr>\n    <tr>\n      <th>1263384064616103936</th>\n      <td>Narendra Modi</td>\n      <td>Prime Minister of India</td>\n      <td>Have been seeing visuals from West Bengal on t...</td>\n    </tr>\n  </tbody>\n</table>\n</div>"
     },
     "metadata": {},
     "execution_count": 17
    }
   ],
   "source": [
    "unidentified = df_tweets[df_tweets['pov']=='None']\n",
    "unid_10_largest = unidentified.nlargest(10, ['retweet_count', 'favorite_count'])[['name', 'description', 'full_text_trans']]\n",
    "\n",
    "unid_10_largest"
   ]
  },
  {
   "cell_type": "code",
   "execution_count": 18,
   "metadata": {},
   "outputs": [
    {
     "output_type": "execute_result",
     "data": {
      "text/plain": [
       "                              name  \\\n",
       "1262797667677212672      Joe Biden   \n",
       "1263516296093863936        MrBeast   \n",
       "1266152680428236800            God   \n",
       "1263320513276817408   Rahul Gandhi   \n",
       "1263108871314235392   Charlie Kirk   \n",
       "1263828248250576896   Rahul Gandhi   \n",
       "1262940130576302080  Narendra Modi   \n",
       "1262982187810344960  Chetan Bhagat   \n",
       "1262655826503692288   Rahul Gandhi   \n",
       "1265273541340979200   Piyush Goyal   \n",
       "\n",
       "                                                           description  \\\n",
       "1262797667677212672  Senator, Vice President, 2020 candidate for Pr...   \n",
       "1263516296093863936  I want to make the world a better place before...   \n",
       "1266152680428236800  Unverified. Unverified. Thee/thou/thine. \\n\\nI...   \n",
       "1263320513276817408  This is the official account of Rahul Gandhi |...   \n",
       "1263108871314235392  Founder & President—@TPUSA\\nChair—@TrumpStuden...   \n",
       "1263828248250576896  This is the official account of Rahul Gandhi |...   \n",
       "1262940130576302080                            Prime Minister of India   \n",
       "1262982187810344960                                     The CB family!   \n",
       "1262655826503692288  This is the official account of Rahul Gandhi |...   \n",
       "1265273541340979200  Minister of Railways and Commerce & Industry, ...   \n",
       "\n",
       "                                                       full_text_trans  \n",
       "1262797667677212672       We need a president who believes in science.  \n",
       "1263516296093863936  If you reply to this tweet I’ll give you $10,000!  \n",
       "1266152680428236800              I have lost control of the situation.  \n",
       "1263320513276817408  I am proud to be the son of a true patriot, li...  \n",
       "1263108871314235392  I would rather hear Trump's brutal truths than...  \n",
       "1263828248250576896  I’m sorry to hear about the air crash in Pakis...  \n",
       "1262940130576302080  It would make every Indian proud that the numb...  \n",
       "1262982187810344960  We wrecked our economy. Because:\\n\\n1.  We car...  \n",
       "1262655826503692288  Amphon storm is coming in the country amidst C...  \n",
       "1265273541340979200  85 out of 145 trains were to run from Maharash...  "
      ],
      "text/html": "<div>\n<style scoped>\n    .dataframe tbody tr th:only-of-type {\n        vertical-align: middle;\n    }\n\n    .dataframe tbody tr th {\n        vertical-align: top;\n    }\n\n    .dataframe thead th {\n        text-align: right;\n    }\n</style>\n<table border=\"1\" class=\"dataframe\">\n  <thead>\n    <tr style=\"text-align: right;\">\n      <th></th>\n      <th>name</th>\n      <th>description</th>\n      <th>full_text_trans</th>\n    </tr>\n  </thead>\n  <tbody>\n    <tr>\n      <th>1262797667677212672</th>\n      <td>Joe Biden</td>\n      <td>Senator, Vice President, 2020 candidate for Pr...</td>\n      <td>We need a president who believes in science.</td>\n    </tr>\n    <tr>\n      <th>1263516296093863936</th>\n      <td>MrBeast</td>\n      <td>I want to make the world a better place before...</td>\n      <td>If you reply to this tweet I’ll give you $10,000!</td>\n    </tr>\n    <tr>\n      <th>1266152680428236800</th>\n      <td>God</td>\n      <td>Unverified. Unverified. Thee/thou/thine. \\n\\nI...</td>\n      <td>I have lost control of the situation.</td>\n    </tr>\n    <tr>\n      <th>1263320513276817408</th>\n      <td>Rahul Gandhi</td>\n      <td>This is the official account of Rahul Gandhi |...</td>\n      <td>I am proud to be the son of a true patriot, li...</td>\n    </tr>\n    <tr>\n      <th>1263108871314235392</th>\n      <td>Charlie Kirk</td>\n      <td>Founder &amp; President—@TPUSA\\nChair—@TrumpStuden...</td>\n      <td>I would rather hear Trump's brutal truths than...</td>\n    </tr>\n    <tr>\n      <th>1263828248250576896</th>\n      <td>Rahul Gandhi</td>\n      <td>This is the official account of Rahul Gandhi |...</td>\n      <td>I’m sorry to hear about the air crash in Pakis...</td>\n    </tr>\n    <tr>\n      <th>1262940130576302080</th>\n      <td>Narendra Modi</td>\n      <td>Prime Minister of India</td>\n      <td>It would make every Indian proud that the numb...</td>\n    </tr>\n    <tr>\n      <th>1262982187810344960</th>\n      <td>Chetan Bhagat</td>\n      <td>The CB family!</td>\n      <td>We wrecked our economy. Because:\\n\\n1.  We car...</td>\n    </tr>\n    <tr>\n      <th>1262655826503692288</th>\n      <td>Rahul Gandhi</td>\n      <td>This is the official account of Rahul Gandhi |...</td>\n      <td>Amphon storm is coming in the country amidst C...</td>\n    </tr>\n    <tr>\n      <th>1265273541340979200</th>\n      <td>Piyush Goyal</td>\n      <td>Minister of Railways and Commerce &amp; Industry, ...</td>\n      <td>85 out of 145 trains were to run from Maharash...</td>\n    </tr>\n  </tbody>\n</table>\n</div>"
     },
     "metadata": {},
     "execution_count": 18
    }
   ],
   "source": [
    "first = df_tweets[df_tweets['pov'] == 'first']\n",
    "f_10_largest = first.nlargest(10, ['retweet_count', 'favorite_count'])[['name', 'description', 'full_text_trans']]\n",
    "\n",
    "f_10_largest"
   ]
  },
  {
   "cell_type": "code",
   "execution_count": 19,
   "metadata": {},
   "outputs": [
    {
     "output_type": "execute_result",
     "data": {
      "text/plain": [
       "                                                             name  \\\n",
       "1263091517767536640                              Sudhir Chaudhary   \n",
       "1264121291365216256  Devvesh Pandey | देवेश पांडेय | دیویش پانڈے۔   \n",
       "1263843321857753088                                Naveen Patnaik   \n",
       "1262749746394853376                                Akhilesh Yadav   \n",
       "1263430598070284288                            The New York Times   \n",
       "1268233704377397248                                   Manoj Joshi   \n",
       "1266782947014635520                          Gurpreet Garry Walia   \n",
       "1266131643963670528                                 Melania Trump   \n",
       "1263383375475175424                                Kanhaiya Kumar   \n",
       "446602988501491712                                narendramodi_in   \n",
       "\n",
       "                                                           description  \\\n",
       "1263091517767536640  Editor In Chief, Zee News, Zee Business, WION....   \n",
       "1264121291365216256  Journalist, Bharat Samachar @bstvlive | Blogge...   \n",
       "1263843321857753088  Chief Minister of Odisha; \\nPresident, Biju Ja...   \n",
       "1262749746394853376  Socialist Leader of India. Chief Minister of U...   \n",
       "1263430598070284288  News tips? Share them here: http://nyti.ms/2FV...   \n",
       "1268233704377397248                  Actor | book.manojjoshi@gmail.com   \n",
       "1266782947014635520  पत्रकार .. follow me on instagram : @garrywali...   \n",
       "1266131643963670528  This account is run by the Office of First Lad...   \n",
       "1263383375475175424  Former President of JNU Students' Union; Autho...   \n",
       "446602988501491712   Twitter account of http://www.narendramodi.in ...   \n",
       "\n",
       "                                                       full_text_trans  \n",
       "1263091517767536640  Well done @RubikaLiyaquat for standing up for ...  \n",
       "1264121291365216256  Incident: Pipla police station area of ​​Chhin...  \n",
       "1263843321857753088  Thank you PM @narendramodi ji for visiting #Od...  \n",
       "1262749746394853376  The government of Uttar Pradesh is harassing t...  \n",
       "1263430598070284288  In Opinion\\n\\nIf you care about the working po...  \n",
       "1268233704377397248  Look at the condition of your world, God, how ...  \n",
       "1266782947014635520  Rahul Gandhi would have been on this chair\\n\\n...  \n",
       "1266131643963670528  Very informative briefing with @POTUS, @VP, @D...  \n",
       "1263383375475175424  There have been reports of heavy damage due to...  \n",
       "446602988501491712   Its become a fashion to declare a package afte...  "
      ],
      "text/html": "<div>\n<style scoped>\n    .dataframe tbody tr th:only-of-type {\n        vertical-align: middle;\n    }\n\n    .dataframe tbody tr th {\n        vertical-align: top;\n    }\n\n    .dataframe thead th {\n        text-align: right;\n    }\n</style>\n<table border=\"1\" class=\"dataframe\">\n  <thead>\n    <tr style=\"text-align: right;\">\n      <th></th>\n      <th>name</th>\n      <th>description</th>\n      <th>full_text_trans</th>\n    </tr>\n  </thead>\n  <tbody>\n    <tr>\n      <th>1263091517767536640</th>\n      <td>Sudhir Chaudhary</td>\n      <td>Editor In Chief, Zee News, Zee Business, WION....</td>\n      <td>Well done @RubikaLiyaquat for standing up for ...</td>\n    </tr>\n    <tr>\n      <th>1264121291365216256</th>\n      <td>Devvesh Pandey | देवेश पांडेय | دیویش پانڈے۔</td>\n      <td>Journalist, Bharat Samachar @bstvlive | Blogge...</td>\n      <td>Incident: Pipla police station area of ​​Chhin...</td>\n    </tr>\n    <tr>\n      <th>1263843321857753088</th>\n      <td>Naveen Patnaik</td>\n      <td>Chief Minister of Odisha; \\nPresident, Biju Ja...</td>\n      <td>Thank you PM @narendramodi ji for visiting #Od...</td>\n    </tr>\n    <tr>\n      <th>1262749746394853376</th>\n      <td>Akhilesh Yadav</td>\n      <td>Socialist Leader of India. Chief Minister of U...</td>\n      <td>The government of Uttar Pradesh is harassing t...</td>\n    </tr>\n    <tr>\n      <th>1263430598070284288</th>\n      <td>The New York Times</td>\n      <td>News tips? Share them here: http://nyti.ms/2FV...</td>\n      <td>In Opinion\\n\\nIf you care about the working po...</td>\n    </tr>\n    <tr>\n      <th>1268233704377397248</th>\n      <td>Manoj Joshi</td>\n      <td>Actor | book.manojjoshi@gmail.com</td>\n      <td>Look at the condition of your world, God, how ...</td>\n    </tr>\n    <tr>\n      <th>1266782947014635520</th>\n      <td>Gurpreet Garry Walia</td>\n      <td>पत्रकार .. follow me on instagram : @garrywali...</td>\n      <td>Rahul Gandhi would have been on this chair\\n\\n...</td>\n    </tr>\n    <tr>\n      <th>1266131643963670528</th>\n      <td>Melania Trump</td>\n      <td>This account is run by the Office of First Lad...</td>\n      <td>Very informative briefing with @POTUS, @VP, @D...</td>\n    </tr>\n    <tr>\n      <th>1263383375475175424</th>\n      <td>Kanhaiya Kumar</td>\n      <td>Former President of JNU Students' Union; Autho...</td>\n      <td>There have been reports of heavy damage due to...</td>\n    </tr>\n    <tr>\n      <th>446602988501491712</th>\n      <td>narendramodi_in</td>\n      <td>Twitter account of http://www.narendramodi.in ...</td>\n      <td>Its become a fashion to declare a package afte...</td>\n    </tr>\n  </tbody>\n</table>\n</div>"
     },
     "metadata": {},
     "execution_count": 19
    }
   ],
   "source": [
    "second = df_tweets[df_tweets['pov'] == 'second']\n",
    "s_10_largest = second.nlargest(10, ['retweet_count', 'favorite_count'])[['name', 'description', 'full_text_trans']]\n",
    "\n",
    "s_10_largest"
   ]
  },
  {
   "cell_type": "code",
   "execution_count": 20,
   "metadata": {},
   "outputs": [
    {
     "output_type": "execute_result",
     "data": {
      "text/plain": [
       "                                  name  \\\n",
       "1263828899575758848       Ivanka Trump   \n",
       "1263309240875102208      Narendra Modi   \n",
       "1267150918165749760        LU$T//OWAI$   \n",
       "1262984511890964480        Aditi Singh   \n",
       "1267843906491879424  Anand Ranganathan   \n",
       "1263131409390227456      Narendra Modi   \n",
       "1263487665791352832          PMO India   \n",
       "1263674400978563072           Mayawati   \n",
       "596082880217882624      Shah Rukh Khan   \n",
       "1268050015164874752     ⅁N∩⅄HƎ∀⊥💜¹¹⁵⟭⟬   \n",
       "\n",
       "                                                           description  \\\n",
       "1263828899575758848  Wife, mother, sister, daughter. Advisor to POT...   \n",
       "1263309240875102208                            Prime Minister of India   \n",
       "1267150918165749760                                                ✨XO   \n",
       "1262984511890964480  Member of Legislative Assembly, Raebareli Sada...   \n",
       "1267843906491879424  Author: Land of the Wilted Rose (Rupa); Love &...   \n",
       "1263131409390227456                            Prime Minister of India   \n",
       "1263487665791352832              Office of the Prime Minister of India   \n",
       "1263674400978563072  National President, Bahujan Samaj Party (BSP),...   \n",
       "596082880217882624                                                None   \n",
       "1268050015164874752  https://open.spotify.com/track/39EXZNMxb4RBHlR...   \n",
       "\n",
       "                                                       full_text_trans  \n",
       "1263828899575758848  15 yr old Jyoti Kumari, carried her wounded fa...  \n",
       "1263309240875102208  On his death anniversary, tributes to former P...  \n",
       "1267150918165749760  Creepy noises heard in Bryan Texas with lightn...  \n",
       "1262984511890964480  When thousands of UP children were stranded in...  \n",
       "1267843906491879424  On the hate, selectivity, lies, and propaganda...  \n",
       "1263131409390227456  During today’s Cabinet meeting, important deci...  \n",
       "1263487665791352832  Tomorrow, PM @narendramodi will travel to West...  \n",
       "1263674400978563072  1. The demand that the Congress government of ...  \n",
       "596082880217882624   Lessons from my littlest one…“Just because it’...  \n",
       "1268050015164874752  Taehyung got the most hate from his own Fandom...  "
      ],
      "text/html": "<div>\n<style scoped>\n    .dataframe tbody tr th:only-of-type {\n        vertical-align: middle;\n    }\n\n    .dataframe tbody tr th {\n        vertical-align: top;\n    }\n\n    .dataframe thead th {\n        text-align: right;\n    }\n</style>\n<table border=\"1\" class=\"dataframe\">\n  <thead>\n    <tr style=\"text-align: right;\">\n      <th></th>\n      <th>name</th>\n      <th>description</th>\n      <th>full_text_trans</th>\n    </tr>\n  </thead>\n  <tbody>\n    <tr>\n      <th>1263828899575758848</th>\n      <td>Ivanka Trump</td>\n      <td>Wife, mother, sister, daughter. Advisor to POT...</td>\n      <td>15 yr old Jyoti Kumari, carried her wounded fa...</td>\n    </tr>\n    <tr>\n      <th>1263309240875102208</th>\n      <td>Narendra Modi</td>\n      <td>Prime Minister of India</td>\n      <td>On his death anniversary, tributes to former P...</td>\n    </tr>\n    <tr>\n      <th>1267150918165749760</th>\n      <td>LU$T//OWAI$</td>\n      <td>✨XO</td>\n      <td>Creepy noises heard in Bryan Texas with lightn...</td>\n    </tr>\n    <tr>\n      <th>1262984511890964480</th>\n      <td>Aditi Singh</td>\n      <td>Member of Legislative Assembly, Raebareli Sada...</td>\n      <td>When thousands of UP children were stranded in...</td>\n    </tr>\n    <tr>\n      <th>1267843906491879424</th>\n      <td>Anand Ranganathan</td>\n      <td>Author: Land of the Wilted Rose (Rupa); Love &amp;...</td>\n      <td>On the hate, selectivity, lies, and propaganda...</td>\n    </tr>\n    <tr>\n      <th>1263131409390227456</th>\n      <td>Narendra Modi</td>\n      <td>Prime Minister of India</td>\n      <td>During today’s Cabinet meeting, important deci...</td>\n    </tr>\n    <tr>\n      <th>1263487665791352832</th>\n      <td>PMO India</td>\n      <td>Office of the Prime Minister of India</td>\n      <td>Tomorrow, PM @narendramodi will travel to West...</td>\n    </tr>\n    <tr>\n      <th>1263674400978563072</th>\n      <td>Mayawati</td>\n      <td>National President, Bahujan Samaj Party (BSP),...</td>\n      <td>1. The demand that the Congress government of ...</td>\n    </tr>\n    <tr>\n      <th>596082880217882624</th>\n      <td>Shah Rukh Khan</td>\n      <td>None</td>\n      <td>Lessons from my littlest one…“Just because it’...</td>\n    </tr>\n    <tr>\n      <th>1268050015164874752</th>\n      <td>⅁N∩⅄HƎ∀⊥💜¹¹⁵⟭⟬</td>\n      <td>https://open.spotify.com/track/39EXZNMxb4RBHlR...</td>\n      <td>Taehyung got the most hate from his own Fandom...</td>\n    </tr>\n  </tbody>\n</table>\n</div>"
     },
     "metadata": {},
     "execution_count": 20
    }
   ],
   "source": [
    "third = df_tweets[df_tweets['pov'] == 'third']\n",
    "t_10_largest = third.nlargest(10, ['retweet_count', 'favorite_count'])[['name', 'description', 'full_text_trans']]\n",
    "\n",
    "t_10_largest"
   ]
  },
  {
   "cell_type": "code",
   "execution_count": 27,
   "metadata": {},
   "outputs": [
    {
     "output_type": "stream",
     "name": "stdout",
     "text": [
      "False    65217\nTrue     10058\nName: verified, dtype: int64\n\nMedian sentiment: 0.0\n\n       retweet_count  favorite_count   reply_count\ncount   75275.000000    75275.000000  75275.000000\nmean        8.501627       41.837821      2.152933\nstd       214.054101     1229.198018     69.812545\nmin         0.000000        0.000000      0.000000\n25%         0.000000        0.000000      0.000000\n50%         0.000000        0.000000      0.000000\n75%         1.000000        2.000000      0.000000\nmax     27047.000000   192057.000000   9986.000000\n"
     ]
    }
   ],
   "source": [
    "print(unidentified['verified'].value_counts())\n",
    "print()\n",
    "print('Median sentiment:', unidentified['sentiment'].median())\n",
    "print()\n",
    "print(unidentified[['retweet_count', 'favorite_count', 'reply_count']].describe())"
   ]
  },
  {
   "cell_type": "code",
   "execution_count": 30,
   "metadata": {},
   "outputs": [
    {
     "output_type": "stream",
     "name": "stdout",
     "text": [
      "False    13355\nTrue      1453\nName: verified, dtype: int64\n\nMedian sentiment: 0.0516\n\n       retweet_count  favorite_count   reply_count\ncount   14808.000000    14808.000000  14808.000000\nmean       33.174500      196.405862     12.434765\nstd       570.022407     3984.001067    313.402536\nmin         0.000000        0.000000      0.000000\n25%         0.000000        0.000000      0.000000\n50%         0.000000        1.000000      0.000000\n75%         1.000000        3.000000      1.000000\nmax     42995.000000   332386.000000  31719.000000\n"
     ]
    }
   ],
   "source": [
    "print(first['verified'].value_counts())\n",
    "print()\n",
    "print('Median sentiment:', first['sentiment'].median())\n",
    "print()\n",
    "print(first[['retweet_count', 'favorite_count', 'reply_count']].describe())"
   ]
  },
  {
   "cell_type": "code",
   "execution_count": 31,
   "metadata": {},
   "outputs": [
    {
     "output_type": "stream",
     "name": "stdout",
     "text": [
      "False    4346\nTrue      975\nName: verified, dtype: int64\n\nMedian sentiment: 0.2732\n\n       retweet_count  favorite_count  reply_count\ncount    5321.000000     5321.000000  5321.000000\nmean       20.779929       92.874084     7.170833\nstd       469.559619     2068.376892   187.166584\nmin         0.000000        0.000000     0.000000\n25%         0.000000        0.000000     0.000000\n50%         0.000000        0.000000     0.000000\n75%         0.000000        2.000000     1.000000\nmax     26243.000000   112431.000000  8480.000000\n"
     ]
    }
   ],
   "source": [
    "print(second['verified'].value_counts())\n",
    "print()\n",
    "print('Median sentiment:', second['sentiment'].median())\n",
    "print()\n",
    "print(second[['retweet_count', 'favorite_count', 'reply_count']].describe())"
   ]
  },
  {
   "cell_type": "code",
   "execution_count": 32,
   "metadata": {},
   "outputs": [
    {
     "output_type": "stream",
     "name": "stdout",
     "text": [
      "False    10081\nTrue      1452\nName: verified, dtype: int64\n\nMedian sentiment: 0.0\n\n       retweet_count  favorite_count   reply_count\ncount   11533.000000    11533.000000  11533.000000\nmean       23.390011      108.269314      6.283534\nstd       381.303384     2205.714225    130.330171\nmin         0.000000        0.000000      0.000000\n25%         0.000000        0.000000      0.000000\n50%         0.000000        1.000000      0.000000\n75%         2.000000        5.000000      0.000000\nmax     24152.000000   145245.000000  10044.000000\n"
     ]
    }
   ],
   "source": [
    "print(third['verified'].value_counts())\n",
    "print()\n",
    "print('Median sentiment:', third['sentiment'].median())\n",
    "print()\n",
    "print(third[['retweet_count', 'favorite_count', 'reply_count']].describe())"
   ]
  },
  {
   "cell_type": "code",
   "execution_count": null,
   "metadata": {},
   "outputs": [],
   "source": [
    "N = 5\n",
    "topic_users = []\n",
    "for id, row in df_users.iterrows():\n",
    "    topic_list = df_tweets[df_tweets['user_id']==id]['topics']\n",
    "    topic_counter = [item for x in topic_list for item in x]\n",
    "    top_n = sorted(Counter(topic_counter), key = Counter(topic_counter).get, reverse = True)[:N]\n",
    "    topic_users.append(top_n)"
   ]
  },
  {
   "cell_type": "code",
   "execution_count": 47,
   "metadata": {},
   "outputs": [],
   "source": [
    "def top_N_topics(pov, N):\n",
    "    topic_list = pov['topics']\n",
    "    topic_counter = [item for x in topic_list for item in x]\n",
    "    top_n = sorted(Counter(topic_counter), key = Counter(topic_counter).get, reverse = True)[:N]\n",
    "    return top_n"
   ]
  },
  {
   "cell_type": "code",
   "execution_count": 54,
   "metadata": {},
   "outputs": [
    {
     "output_type": "stream",
     "name": "stdout",
     "text": [
      "Top N topics for first person pov -> ['sympathy', 'criticism', 'relief measures', 'hope', 'petition', 'news updates', 'government']\n\nTop N topics for second person pov -> ['sympathy', 'relief measures', 'criticism', 'cellular network', 'petition', 'news updates', 'hope']\n\nTop N topics for third person pov -> ['criticism', 'relief measures', 'sympathy', 'government', 'news updates', 'hope', 'petition']\n"
     ]
    }
   ],
   "source": [
    "print(\"Top N topics for first person pov ->\", top_N_topics(first, 7))\n",
    "print()\n",
    "print(\"Top N topics for second person pov ->\", top_N_topics(second, 7))\n",
    "print()\n",
    "print(\"Top N topics for third person pov ->\", top_N_topics(third, 7))"
   ]
  },
  {
   "cell_type": "code",
   "execution_count": null,
   "metadata": {},
   "outputs": [],
   "source": []
  }
 ],
 "metadata": {
  "kernelspec": {
   "display_name": "Python 3",
   "language": "python",
   "name": "python3"
  },
  "language_info": {
   "codemirror_mode": {
    "name": "ipython",
    "version": 3
   },
   "file_extension": ".py",
   "mimetype": "text/x-python",
   "name": "python",
   "nbconvert_exporter": "python",
   "pygments_lexer": "ipython3",
   "version": "3.8.5-final"
  }
 },
 "nbformat": 4,
 "nbformat_minor": 4
}