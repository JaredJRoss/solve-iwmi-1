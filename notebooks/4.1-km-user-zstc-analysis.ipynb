{
 "metadata": {
  "language_info": {
   "codemirror_mode": {
    "name": "ipython",
    "version": 3
   },
   "file_extension": ".py",
   "mimetype": "text/x-python",
   "name": "python",
   "nbconvert_exporter": "python",
   "pygments_lexer": "ipython3",
   "version": "3.8.5-final"
  },
  "orig_nbformat": 2,
  "kernelspec": {
   "name": "python_defaultSpec_1598698864729",
   "display_name": "Python 3.8.5 64-bit ('solve-iwmi': conda)"
  }
 },
 "nbformat": 4,
 "nbformat_minor": 2,
 "cells": [
  {
   "cell_type": "markdown",
   "metadata": {},
   "source": [
    "# Analysing top N topic labels for top N users"
   ]
  },
  {
   "cell_type": "code",
   "execution_count": 151,
   "metadata": {},
   "outputs": [],
   "source": [
    "import os\n",
    "from os.path import join\n",
    "import eland as ed\n",
    "import pandas as pd\n",
    "import numpy as np\n",
    "import seaborn as sns; sns.set()\n",
    "import matplotlib.pyplot as plt\n",
    "import plotly.express as px\n",
    "import plotly.graph_objects as go\n",
    "from collections import Counter\n",
    "\n",
    "project_dir = join(os.getcwd(), os.pardir)\n",
    "models_dir = join(project_dir, 'models')\n",
    "\n",
    "pd.set_option('display.max_colwidth', -1)\n",
    "\n",
    "%config InlineBackend.figure_format = 'svg'"
   ]
  },
  {
   "cell_type": "code",
   "execution_count": 2,
   "metadata": {},
   "outputs": [],
   "source": [
    "TERMS = ['resource availability', 'volunteers', 'power supply', 'relief measures', \n",
    "         'food supply', 'infrastructure', 'medical assistance', 'rescue', 'shelter', \n",
    "         'utilities', 'water supply', 'evacuation', 'government', 'crime violence', \n",
    "         'mobile network', 'sympathy', 'news updates', 'internet', 'grievance', \n",
    "         'livelihood', 'income', 'ecosystem', 'biodiversity', 'agriculture']\n",
    "         \n",
    "THRESHOLD = 0.6"
   ]
  },
  {
   "cell_type": "markdown",
   "metadata": {},
   "source": [
    "## Import data from ES"
   ]
  },
  {
   "cell_type": "code",
   "execution_count": 119,
   "metadata": {},
   "outputs": [],
   "source": [
    "ed_df = ed.DataFrame('localhost', 'twitter', columns=['user_id', 'name', 'description', 'full_text', 'verified', 'location', 'retweet_count', 'followers_count', 'sentiment'])\n",
    "\n",
    "# defining the full-text query we need: Retrieving records for full_text_processed with the condition is_retweet=False and is_quote_status=False\n",
    "\n",
    "query_unique = {\n",
    "    \"bool\": {\n",
    "        \"must\": {\n",
    "            \"term\":{\"is_retweet\":\"false\"},\n",
    "        },\n",
    "        \"filter\": {\n",
    "            \"term\":{\"is_quote_status\":\"false\"},\n",
    "            \"term\":{\"lang.keyword\":\"en\"}\n",
    "        },\n",
    "    }\n",
    "}\n",
    "# using full-text search capabilities with Eland:\n",
    "df_ed = ed_df.es_query(query_unique)\n",
    "df_tweets = df_ed.to_pandas()"
   ]
  },
  {
   "cell_type": "code",
   "execution_count": 120,
   "metadata": {},
   "outputs": [],
   "source": [
    "#df_tweets = df_tweets.reset_index().rename(columns={'index':'tweet_id'})"
   ]
  },
  {
   "cell_type": "code",
   "execution_count": 121,
   "metadata": {},
   "outputs": [
    {
     "output_type": "execute_result",
     "data": {
      "text/plain": "                                 user_id             name  \\\n1262961673708675072  1245962651630534656  newspointpn       \n1262961660932894720  926838660049158144   Vishal Tripathi   \n1262961652359729152  1108690827658711040  MJ News           \n1262937945214005248  1108690827658711040  MJ News           \n1262961522994806784  27608007             Sourabh Mathur    \n\n                                                                                                                                            description  \\\n1262961673708675072  None                                                                                                                                 \n1262961660932894720  Get The Best                                                                                                                         \n1262961652359729152  News, Media, Smartphone, Tech, Review & More https://www.facebook.com/mobilejudgement/                                               \n1262937945214005248  News, Media, Smartphone, Tech, Review & More https://www.facebook.com/mobilejudgement/                                               \n1262961522994806784  Founder & CEO of @esanosys,\\n #MarketingAutomation #MarTech #CRM #Marketing #Startup #Entrepreneur\\nमुझे भारतीय होने पर गर्व है 🇮🇳   \n\n                                                                                                                                                                                                                                                                                                     full_text  \\\n1262961673708675072  Live Cyclone Amphan Map: Tracking the Storm’s Path https://t.co/CvPTrhe4r3                                                                                                                                                                                                                  \n1262961660932894720  NYT Live Cyclone Amphan Map: Tracking the Storm’s Path https://t.co/t6vyqfQSjS                                                                                                                                                                                                              \n1262961652359729152  LIVE Now news update on Super Cyclone Amphan  #AmphanUpdate #CycloneAmphan #AmphanCyclone #CycloneAmphanUpdate \\n120 km nearly south of Paradip (Odisha), \\n200 km south-southwest of Digha (West Bengal) and \\n360 km south-southwest of Khepupara (Bangladesh). https://t.co/xi9OImeXCe   \n1262937945214005248  LIVE news update on Super Cyclone Amphan  #AmphanUpdate #CycloneAmphan #AmphanCyclone #CycloneAmphanUpdate \\n125 km nearly south of Paradip (Odisha), \\n225 km south-southwest of Digha (West Bengal) and \\n380 km south-southwest of Khepupara (Bangladesh). https://t.co/RcApLEBp5K       \n1262961522994806784  Stay safe Odisha and West Bengal #AmphanUpdates #Amphan #AmphanSuperCyclone https://t.co/VnWegOcgrD                                                                                                                                                                                         \n\n                     verified         location  retweet_count  \\\n1262961673708675072  False     None             0               \n1262961660932894720  False     Varanasi, India  0               \n1262961652359729152  False     India            0               \n1262937945214005248  False     India            0               \n1262961522994806784  False     Global           0               \n\n                     followers_count  sentiment  \n1262961673708675072  2                0.0000     \n1262961660932894720  76               0.0000     \n1262961652359729152  48               0.5994     \n1262937945214005248  48               0.5994     \n1262961522994806784  2473             0.4404     ",
      "text/html": "<div>\n<style scoped>\n    .dataframe tbody tr th:only-of-type {\n        vertical-align: middle;\n    }\n\n    .dataframe tbody tr th {\n        vertical-align: top;\n    }\n\n    .dataframe thead th {\n        text-align: right;\n    }\n</style>\n<table border=\"1\" class=\"dataframe\">\n  <thead>\n    <tr style=\"text-align: right;\">\n      <th></th>\n      <th>user_id</th>\n      <th>name</th>\n      <th>description</th>\n      <th>full_text</th>\n      <th>verified</th>\n      <th>location</th>\n      <th>retweet_count</th>\n      <th>followers_count</th>\n      <th>sentiment</th>\n    </tr>\n  </thead>\n  <tbody>\n    <tr>\n      <th>1262961673708675072</th>\n      <td>1245962651630534656</td>\n      <td>newspointpn</td>\n      <td>None</td>\n      <td>Live Cyclone Amphan Map: Tracking the Storm’s Path https://t.co/CvPTrhe4r3</td>\n      <td>False</td>\n      <td>None</td>\n      <td>0</td>\n      <td>2</td>\n      <td>0.0000</td>\n    </tr>\n    <tr>\n      <th>1262961660932894720</th>\n      <td>926838660049158144</td>\n      <td>Vishal Tripathi</td>\n      <td>Get The Best</td>\n      <td>NYT Live Cyclone Amphan Map: Tracking the Storm’s Path https://t.co/t6vyqfQSjS</td>\n      <td>False</td>\n      <td>Varanasi, India</td>\n      <td>0</td>\n      <td>76</td>\n      <td>0.0000</td>\n    </tr>\n    <tr>\n      <th>1262961652359729152</th>\n      <td>1108690827658711040</td>\n      <td>MJ News</td>\n      <td>News, Media, Smartphone, Tech, Review &amp; More https://www.facebook.com/mobilejudgement/</td>\n      <td>LIVE Now news update on Super Cyclone Amphan  #AmphanUpdate #CycloneAmphan #AmphanCyclone #CycloneAmphanUpdate \\n120 km nearly south of Paradip (Odisha), \\n200 km south-southwest of Digha (West Bengal) and \\n360 km south-southwest of Khepupara (Bangladesh). https://t.co/xi9OImeXCe</td>\n      <td>False</td>\n      <td>India</td>\n      <td>0</td>\n      <td>48</td>\n      <td>0.5994</td>\n    </tr>\n    <tr>\n      <th>1262937945214005248</th>\n      <td>1108690827658711040</td>\n      <td>MJ News</td>\n      <td>News, Media, Smartphone, Tech, Review &amp; More https://www.facebook.com/mobilejudgement/</td>\n      <td>LIVE news update on Super Cyclone Amphan  #AmphanUpdate #CycloneAmphan #AmphanCyclone #CycloneAmphanUpdate \\n125 km nearly south of Paradip (Odisha), \\n225 km south-southwest of Digha (West Bengal) and \\n380 km south-southwest of Khepupara (Bangladesh). https://t.co/RcApLEBp5K</td>\n      <td>False</td>\n      <td>India</td>\n      <td>0</td>\n      <td>48</td>\n      <td>0.5994</td>\n    </tr>\n    <tr>\n      <th>1262961522994806784</th>\n      <td>27608007</td>\n      <td>Sourabh Mathur</td>\n      <td>Founder &amp; CEO of @esanosys,\\n #MarketingAutomation #MarTech #CRM #Marketing #Startup #Entrepreneur\\nमुझे भारतीय होने पर गर्व है 🇮🇳</td>\n      <td>Stay safe Odisha and West Bengal #AmphanUpdates #Amphan #AmphanSuperCyclone https://t.co/VnWegOcgrD</td>\n      <td>False</td>\n      <td>Global</td>\n      <td>0</td>\n      <td>2473</td>\n      <td>0.4404</td>\n    </tr>\n  </tbody>\n</table>\n</div>"
     },
     "metadata": {},
     "execution_count": 121
    }
   ],
   "source": [
    "df_tweets.head()"
   ]
  },
  {
   "cell_type": "markdown",
   "metadata": {},
   "source": [
    "## Top N most retweeted users"
   ]
  },
  {
   "cell_type": "code",
   "execution_count": 122,
   "metadata": {},
   "outputs": [
    {
     "output_type": "execute_result",
     "data": {
      "text/plain": "                                                                                                                                                                                                                   sum\nuser_id             name                 description                                                                                                                                                                  \n18839785            Narendra Modi        Prime Minister of India                                                                                                                                                124315\n939091              Joe Biden            Senator, Vice President, 2020 candidate for President of the United States, husband to @DrBiden, proud father & grandfather. Loves ice cream, aviators & @Amtrak       42995 \n471741741           PMO India            Office of the Prime Minister of India                                                                                                                                  27667 \n52544275            Ivanka Trump         Wife, mother, sister, daughter. Advisor to POTUS on job creation + economic empowerment, workforce development & entrepreneurship. Personal Pg. Views are my own       24152 \n3171712086          Rahul Gandhi         This is the official account of Rahul Gandhi | Member of the Indian National Congress| Member of Parliament                                                            22718 \n122453931           Imran Khan           Prime Minister of Pakistan                                                                                                                                             19733 \n2455740283          MrBeast              I want to make the world a better place before I die.                                                                                                                  18841 \n204832963           God                  Unverified. Unverified. Thee/thou/thine. \\n\\nINTJehovah.\\n\\nOff through August.\\n\\nHoly relics for sale at http://tweetofgod.shop.capthat.com/store                    18489 \n355989081           ANI                  Asian News International. Multi-media news agency, content for information platforms: TV, Internet, broadband, newspapers, mobiles https://t.co/PjGRhL4qvg             17114 \n292558545           Norbert Elekes       Data storyteller, minimalist, compulsive list-maker. World news and the latest updates on coronavirus.                                                                 15866 \n759251              CNN                  It’s our job to #GoThere & tell the most difficult stories. Join us! For more breaking news updates follow @CNNBRK & download our app http://cnn.com/apps              15740 \n292929271           Charlie Kirk         Founder & President—@TPUSA\\nChair—@TrumpStudents\\nHost—The Charlie Kirk Show\\nAuthor—'The MAGA Doctrine’\\nWe are all sinners saved by Jesus\\nOpinions here are my own  15719 \n113826230           Sudarsan Pattnaik    Official Twitter account of International Sand Artist & Padma Shri Awardee , #SudarsanPattnaik                                                                         14665 \n1447949844          Amit Shah            Union Home Minister, Government of India | MP, Gandhinagar Lok Sabha. http://www.instagram.com/amitshahofficial                                                        13185 \n25073877            Donald J. Trump      45th President of the United States of America🇺🇸                                                                                                                       13126 \n2526794479          Mamata Banerjee      The official Twitter page of Mamata Banerjee, founder Chairperson All India Trinamool Congress. Honourable Chief Minister, West Bengal.                                12370 \n1344897174          Anand Ranganathan    Author: Land of the Wilted Rose (Rupa); Love & Honour (Bloomsbury); Rat Eater (Bloomsbury). Consulting Editor & Columnist: Swarajya. RTs, Likes ≠ Endorsements.        11881 \n240649814           TIMES NOW            TIMES NOW is India’s most watched English news channel. Follow for lightning fast #BreakingNews and #Alerts.\\n\\nWe're on Telegram: https://t.me/timesnowofficial       11552 \n1368737382          Sambit Patra         Surgeon by Profession,Politician by Passion...National Spokesperson of BJP                                                                                             11410 \n3489768920          Naveen Patnaik       Chief Minister of Odisha; \\nPresident, Biju Janata Dal.                                                                                                                11091 \n1136600566849777664 LU$T//OWAI$          ✨XO                                                                                                                                                                    11043 \n426431202           Mahua Moitra         All India Trinamool Congress, Lok Sabha Member of Parliament, Krishnanagar, West Bengal. This is my ONLY official account                                              10977 \n44588485            Chetan Bhagat        The CB family!                                                                                                                                                         9741  \n67611162            Sadhguru             A Yogi, Mystic & Visionary. This account is managed by volunteers @Ishafoundation. Tweets from Sadhguru himself are signed - Sg                                        9373  \n37034483            NDTV                 Breaking news alerts from India.\\n\\nInstagram: http://www.instagram.com/ndtv\\nYouTube: http://www.youtube.com/ndtv                                                     8512  \n25106021            Satish Acharya       Editorial Cartoonist l Cricket-crazy l Loves Films l Mumbaikar now in home town Kundapur\\nhttp://www.cartoonistsatish.com                                              8288  \n1227501097645817856 𝐍𝐚𝐢𝐧𝐨𝐚 ☁️            𝗔𝗻𝗶𝗺𝗲 𝗮𝗻𝗱 𝗝𝗮𝗽𝗮𝗻 𝗖𝗼𝗻𝘁𝗲𝗻𝘁 🌸 𝗧𝘂𝗿𝗻 𝗼𝗻 𝗻𝗼𝘁𝗶𝗳𝗶𝗰𝗮𝘁𝗶𝗼𝗻𝘀 @CaptainLevix                                                                                                          8255  \n721093982042791936  Umar Khalid          Associated with United Against Hate. Aspiring Historian. Fiercely democratic                                                                                           7978  \n20442930            Daily Star           Your Official Daily Star Twitter Page!                                                                                                                                 7808  \n36327407            Hindustan Times      One of India's largest media companies. Latest news from around the world. Retweets are not endorsements                                                               7534  \n21551205            Swapan Dasgupta      Conservative by inclination; writer on politics & history; Member of Parliament                                                                                        7222  \n807095              The New York Times   News tips? Share them here: http://nyti.ms/2FVHq9v                                                                                                                     6994  \n45261768            Srivatsa             Congressman | Politics | Karnataka | ಕನ್ನಡ | Patriot | Former Karnataka Congress Social Media Head | National Campaign in-charge of Youth Congress                     6526  \n3496607906          ⅁N∩⅄HƎ∀⊥💜¹¹⁵⟭⟬       https://open.spotify.com/track/39EXZNMxb4RBHlRjnRaOKp?si=exGhd1DBRV2d9CHgdP5UNA \\n\\n\\nJust fan.                                                                        6521  \n245687754           Press Trust of India PTI !  We bring the World to you...                                                                                                                                    6419  \n730520573701443584  Dhruv Rathee 🇮🇳      YouTuber: 4 million+ subs⚡️Activism for a better world • Freelance Journalist • Traveller • Politically Centrist • Vegetarian • Be the change you want to see          6315  \n75528474            Sagar                Thoda Woke. Kaafi Broke. Always Writing a Joke. \\nFor enquiries - collab@buzzoka.com                                                                                   6272  \n620688229           K.                   She/Her.  #FEMINIST                                                                                                                                                    6126  \n978563848482385920  Reshma Alam          Indian | Bengali | State Coordinator @IYCWestBengal |Post Graduate (Computer Science, English) || Politics | Music | Books| Road-trip | Insta: reshma_alam9            5958  \n76724591            Arun Bothra          Service, Smiles, Sarcasm                                                                                                                                               5336  \n95588504            Amit Malviya         In-charge of BJP's national Information & Technology, ex-banker and an early stage investor. Interested in politics and economics. Views personal.                     5272  \n557555403           Arpita Chatterjee    Ex Journalist. Film writer. Karmic billionaire.                                                                                                                        5250  \n730978715723685888  Ethan BLM✊🏾          R.I.P DAD🖤🕊@juiceworlddd, @kobeBryant, @xxxtentacion, @POPSMOKE10, George Floyd #BlackLivesMatter @yankees @saints @suns                                               5156  \n1052325553          Parveen Kaswan, IFS  #Indian Forest Service. #Environment. #IISc Bangalore alumnus. BTech #Aerospace. Masters in Design. PGD in Forestry. Member #IUCN(CEC). #Explorer. Personal a/c.       5085  \n1113786404117651456 A⁷ 𝓙𝓸𝓸𝓷𝓲𝓮'𝓼 𝓵𝓸𝓿𝓮𝓻    'Treat me like a comma, I'll take you to a new phrase'\\n#BTSPavedtheWay                                                                                                4977  \n2984417534          BJP Bengal           Official Twitter handle of BJP West Bengal (BJPBengal)                                                                                                                 4933  \n71201743            Virat Kohli          The Official twitter account of Virat Kohli. Indian cricketer, gamer, car lover, loves soccer and an enthusiast.                                                       4923  \n60937837            Subramanian Swamy    Rajya Sabha MP, Fmr. Union Cabinet Minister, Harvard Ph.D in Economics; Professor, BJP National Exec. member, I give as good as I get                                  4895  \n719819459381354496  India Met. Dept.     This is the Official Twitter handle of India Meteorological Department, Ministry of Earth Sciences, Government of India.                                               4679  \n935142655213703168  Mohammed Zubair      Fact-Checker, Co-founder @AltNews | Analysing misinfo/disinfo across India | E-mail: zubair@altnews.in                                                                 4587  ",
      "text/html": "<div>\n<style scoped>\n    .dataframe tbody tr th:only-of-type {\n        vertical-align: middle;\n    }\n\n    .dataframe tbody tr th {\n        vertical-align: top;\n    }\n\n    .dataframe thead th {\n        text-align: right;\n    }\n</style>\n<table border=\"1\" class=\"dataframe\">\n  <thead>\n    <tr style=\"text-align: right;\">\n      <th></th>\n      <th></th>\n      <th></th>\n      <th>sum</th>\n    </tr>\n    <tr>\n      <th>user_id</th>\n      <th>name</th>\n      <th>description</th>\n      <th></th>\n    </tr>\n  </thead>\n  <tbody>\n    <tr>\n      <th>18839785</th>\n      <th>Narendra Modi</th>\n      <th>Prime Minister of India</th>\n      <td>124315</td>\n    </tr>\n    <tr>\n      <th>939091</th>\n      <th>Joe Biden</th>\n      <th>Senator, Vice President, 2020 candidate for President of the United States, husband to @DrBiden, proud father &amp; grandfather. Loves ice cream, aviators &amp; @Amtrak</th>\n      <td>42995</td>\n    </tr>\n    <tr>\n      <th>471741741</th>\n      <th>PMO India</th>\n      <th>Office of the Prime Minister of India</th>\n      <td>27667</td>\n    </tr>\n    <tr>\n      <th>52544275</th>\n      <th>Ivanka Trump</th>\n      <th>Wife, mother, sister, daughter. Advisor to POTUS on job creation + economic empowerment, workforce development &amp; entrepreneurship. Personal Pg. Views are my own</th>\n      <td>24152</td>\n    </tr>\n    <tr>\n      <th>3171712086</th>\n      <th>Rahul Gandhi</th>\n      <th>This is the official account of Rahul Gandhi | Member of the Indian National Congress| Member of Parliament</th>\n      <td>22718</td>\n    </tr>\n    <tr>\n      <th>122453931</th>\n      <th>Imran Khan</th>\n      <th>Prime Minister of Pakistan</th>\n      <td>19733</td>\n    </tr>\n    <tr>\n      <th>2455740283</th>\n      <th>MrBeast</th>\n      <th>I want to make the world a better place before I die.</th>\n      <td>18841</td>\n    </tr>\n    <tr>\n      <th>204832963</th>\n      <th>God</th>\n      <th>Unverified. Unverified. Thee/thou/thine. \\n\\nINTJehovah.\\n\\nOff through August.\\n\\nHoly relics for sale at http://tweetofgod.shop.capthat.com/store</th>\n      <td>18489</td>\n    </tr>\n    <tr>\n      <th>355989081</th>\n      <th>ANI</th>\n      <th>Asian News International. Multi-media news agency, content for information platforms: TV, Internet, broadband, newspapers, mobiles https://t.co/PjGRhL4qvg</th>\n      <td>17114</td>\n    </tr>\n    <tr>\n      <th>292558545</th>\n      <th>Norbert Elekes</th>\n      <th>Data storyteller, minimalist, compulsive list-maker. World news and the latest updates on coronavirus.</th>\n      <td>15866</td>\n    </tr>\n    <tr>\n      <th>759251</th>\n      <th>CNN</th>\n      <th>It’s our job to #GoThere &amp; tell the most difficult stories. Join us! For more breaking news updates follow @CNNBRK &amp; download our app http://cnn.com/apps</th>\n      <td>15740</td>\n    </tr>\n    <tr>\n      <th>292929271</th>\n      <th>Charlie Kirk</th>\n      <th>Founder &amp; President—@TPUSA\\nChair—@TrumpStudents\\nHost—The Charlie Kirk Show\\nAuthor—'The MAGA Doctrine’\\nWe are all sinners saved by Jesus\\nOpinions here are my own</th>\n      <td>15719</td>\n    </tr>\n    <tr>\n      <th>113826230</th>\n      <th>Sudarsan Pattnaik</th>\n      <th>Official Twitter account of International Sand Artist &amp; Padma Shri Awardee , #SudarsanPattnaik</th>\n      <td>14665</td>\n    </tr>\n    <tr>\n      <th>1447949844</th>\n      <th>Amit Shah</th>\n      <th>Union Home Minister, Government of India | MP, Gandhinagar Lok Sabha. http://www.instagram.com/amitshahofficial</th>\n      <td>13185</td>\n    </tr>\n    <tr>\n      <th>25073877</th>\n      <th>Donald J. Trump</th>\n      <th>45th President of the United States of America🇺🇸</th>\n      <td>13126</td>\n    </tr>\n    <tr>\n      <th>2526794479</th>\n      <th>Mamata Banerjee</th>\n      <th>The official Twitter page of Mamata Banerjee, founder Chairperson All India Trinamool Congress. Honourable Chief Minister, West Bengal.</th>\n      <td>12370</td>\n    </tr>\n    <tr>\n      <th>1344897174</th>\n      <th>Anand Ranganathan</th>\n      <th>Author: Land of the Wilted Rose (Rupa); Love &amp; Honour (Bloomsbury); Rat Eater (Bloomsbury). Consulting Editor &amp; Columnist: Swarajya. RTs, Likes ≠ Endorsements.</th>\n      <td>11881</td>\n    </tr>\n    <tr>\n      <th>240649814</th>\n      <th>TIMES NOW</th>\n      <th>TIMES NOW is India’s most watched English news channel. Follow for lightning fast #BreakingNews and #Alerts.\\n\\nWe're on Telegram: https://t.me/timesnowofficial</th>\n      <td>11552</td>\n    </tr>\n    <tr>\n      <th>1368737382</th>\n      <th>Sambit Patra</th>\n      <th>Surgeon by Profession,Politician by Passion...National Spokesperson of BJP</th>\n      <td>11410</td>\n    </tr>\n    <tr>\n      <th>3489768920</th>\n      <th>Naveen Patnaik</th>\n      <th>Chief Minister of Odisha; \\nPresident, Biju Janata Dal.</th>\n      <td>11091</td>\n    </tr>\n    <tr>\n      <th>1136600566849777664</th>\n      <th>LU$T//OWAI$</th>\n      <th>✨XO</th>\n      <td>11043</td>\n    </tr>\n    <tr>\n      <th>426431202</th>\n      <th>Mahua Moitra</th>\n      <th>All India Trinamool Congress, Lok Sabha Member of Parliament, Krishnanagar, West Bengal. This is my ONLY official account</th>\n      <td>10977</td>\n    </tr>\n    <tr>\n      <th>44588485</th>\n      <th>Chetan Bhagat</th>\n      <th>The CB family!</th>\n      <td>9741</td>\n    </tr>\n    <tr>\n      <th>67611162</th>\n      <th>Sadhguru</th>\n      <th>A Yogi, Mystic &amp; Visionary. This account is managed by volunteers @Ishafoundation. Tweets from Sadhguru himself are signed - Sg</th>\n      <td>9373</td>\n    </tr>\n    <tr>\n      <th>37034483</th>\n      <th>NDTV</th>\n      <th>Breaking news alerts from India.\\n\\nInstagram: http://www.instagram.com/ndtv\\nYouTube: http://www.youtube.com/ndtv</th>\n      <td>8512</td>\n    </tr>\n    <tr>\n      <th>25106021</th>\n      <th>Satish Acharya</th>\n      <th>Editorial Cartoonist l Cricket-crazy l Loves Films l Mumbaikar now in home town Kundapur\\nhttp://www.cartoonistsatish.com</th>\n      <td>8288</td>\n    </tr>\n    <tr>\n      <th>1227501097645817856</th>\n      <th>𝐍𝐚𝐢𝐧𝐨𝐚 ☁️</th>\n      <th>𝗔𝗻𝗶𝗺𝗲 𝗮𝗻𝗱 𝗝𝗮𝗽𝗮𝗻 𝗖𝗼𝗻𝘁𝗲𝗻𝘁 🌸 𝗧𝘂𝗿𝗻 𝗼𝗻 𝗻𝗼𝘁𝗶𝗳𝗶𝗰𝗮𝘁𝗶𝗼𝗻𝘀 @CaptainLevix</th>\n      <td>8255</td>\n    </tr>\n    <tr>\n      <th>721093982042791936</th>\n      <th>Umar Khalid</th>\n      <th>Associated with United Against Hate. Aspiring Historian. Fiercely democratic</th>\n      <td>7978</td>\n    </tr>\n    <tr>\n      <th>20442930</th>\n      <th>Daily Star</th>\n      <th>Your Official Daily Star Twitter Page!</th>\n      <td>7808</td>\n    </tr>\n    <tr>\n      <th>36327407</th>\n      <th>Hindustan Times</th>\n      <th>One of India's largest media companies. Latest news from around the world. Retweets are not endorsements</th>\n      <td>7534</td>\n    </tr>\n    <tr>\n      <th>21551205</th>\n      <th>Swapan Dasgupta</th>\n      <th>Conservative by inclination; writer on politics &amp; history; Member of Parliament</th>\n      <td>7222</td>\n    </tr>\n    <tr>\n      <th>807095</th>\n      <th>The New York Times</th>\n      <th>News tips? Share them here: http://nyti.ms/2FVHq9v</th>\n      <td>6994</td>\n    </tr>\n    <tr>\n      <th>45261768</th>\n      <th>Srivatsa</th>\n      <th>Congressman | Politics | Karnataka | ಕನ್ನಡ | Patriot | Former Karnataka Congress Social Media Head | National Campaign in-charge of Youth Congress</th>\n      <td>6526</td>\n    </tr>\n    <tr>\n      <th>3496607906</th>\n      <th>⅁N∩⅄HƎ∀⊥💜¹¹⁵⟭⟬</th>\n      <th>https://open.spotify.com/track/39EXZNMxb4RBHlRjnRaOKp?si=exGhd1DBRV2d9CHgdP5UNA \\n\\n\\nJust fan.</th>\n      <td>6521</td>\n    </tr>\n    <tr>\n      <th>245687754</th>\n      <th>Press Trust of India</th>\n      <th>PTI !  We bring the World to you...</th>\n      <td>6419</td>\n    </tr>\n    <tr>\n      <th>730520573701443584</th>\n      <th>Dhruv Rathee 🇮🇳</th>\n      <th>YouTuber: 4 million+ subs⚡️Activism for a better world • Freelance Journalist • Traveller • Politically Centrist • Vegetarian • Be the change you want to see</th>\n      <td>6315</td>\n    </tr>\n    <tr>\n      <th>75528474</th>\n      <th>Sagar</th>\n      <th>Thoda Woke. Kaafi Broke. Always Writing a Joke. \\nFor enquiries - collab@buzzoka.com</th>\n      <td>6272</td>\n    </tr>\n    <tr>\n      <th>620688229</th>\n      <th>K.</th>\n      <th>She/Her.  #FEMINIST</th>\n      <td>6126</td>\n    </tr>\n    <tr>\n      <th>978563848482385920</th>\n      <th>Reshma Alam</th>\n      <th>Indian | Bengali | State Coordinator @IYCWestBengal |Post Graduate (Computer Science, English) || Politics | Music | Books| Road-trip | Insta: reshma_alam9</th>\n      <td>5958</td>\n    </tr>\n    <tr>\n      <th>76724591</th>\n      <th>Arun Bothra</th>\n      <th>Service, Smiles, Sarcasm</th>\n      <td>5336</td>\n    </tr>\n    <tr>\n      <th>95588504</th>\n      <th>Amit Malviya</th>\n      <th>In-charge of BJP's national Information &amp; Technology, ex-banker and an early stage investor. Interested in politics and economics. Views personal.</th>\n      <td>5272</td>\n    </tr>\n    <tr>\n      <th>557555403</th>\n      <th>Arpita Chatterjee</th>\n      <th>Ex Journalist. Film writer. Karmic billionaire.</th>\n      <td>5250</td>\n    </tr>\n    <tr>\n      <th>730978715723685888</th>\n      <th>Ethan BLM✊🏾</th>\n      <th>R.I.P DAD🖤🕊@juiceworlddd, @kobeBryant, @xxxtentacion, @POPSMOKE10, George Floyd #BlackLivesMatter @yankees @saints @suns</th>\n      <td>5156</td>\n    </tr>\n    <tr>\n      <th>1052325553</th>\n      <th>Parveen Kaswan, IFS</th>\n      <th>#Indian Forest Service. #Environment. #IISc Bangalore alumnus. BTech #Aerospace. Masters in Design. PGD in Forestry. Member #IUCN(CEC). #Explorer. Personal a/c.</th>\n      <td>5085</td>\n    </tr>\n    <tr>\n      <th>1113786404117651456</th>\n      <th>A⁷ 𝓙𝓸𝓸𝓷𝓲𝓮'𝓼 𝓵𝓸𝓿𝓮𝓻</th>\n      <th>'Treat me like a comma, I'll take you to a new phrase'\\n#BTSPavedtheWay</th>\n      <td>4977</td>\n    </tr>\n    <tr>\n      <th>2984417534</th>\n      <th>BJP Bengal</th>\n      <th>Official Twitter handle of BJP West Bengal (BJPBengal)</th>\n      <td>4933</td>\n    </tr>\n    <tr>\n      <th>71201743</th>\n      <th>Virat Kohli</th>\n      <th>The Official twitter account of Virat Kohli. Indian cricketer, gamer, car lover, loves soccer and an enthusiast.</th>\n      <td>4923</td>\n    </tr>\n    <tr>\n      <th>60937837</th>\n      <th>Subramanian Swamy</th>\n      <th>Rajya Sabha MP, Fmr. Union Cabinet Minister, Harvard Ph.D in Economics; Professor, BJP National Exec. member, I give as good as I get</th>\n      <td>4895</td>\n    </tr>\n    <tr>\n      <th>719819459381354496</th>\n      <th>India Met. Dept.</th>\n      <th>This is the Official Twitter handle of India Meteorological Department, Ministry of Earth Sciences, Government of India.</th>\n      <td>4679</td>\n    </tr>\n    <tr>\n      <th>935142655213703168</th>\n      <th>Mohammed Zubair</th>\n      <th>Fact-Checker, Co-founder @AltNews | Analysing misinfo/disinfo across India | E-mail: zubair@altnews.in</th>\n      <td>4587</td>\n    </tr>\n  </tbody>\n</table>\n</div>"
     },
     "metadata": {},
     "execution_count": 122
    }
   ],
   "source": [
    "N = 50\n",
    "df_tweets.groupby(['user_id', 'name', 'description'])['retweet_count'].agg({'sum'}).nlargest(N, 'sum')"
   ]
  },
  {
   "cell_type": "markdown",
   "metadata": {},
   "source": [
    "## Aggregating the columns to create a popularity measure"
   ]
  },
  {
   "cell_type": "code",
   "execution_count": 123,
   "metadata": {},
   "outputs": [],
   "source": [
    "df_users = df_tweets.groupby('user_id').agg({\n",
    "            'name': lambda x: x.iloc[0],\n",
    "            'followers_count': 'max',\n",
    "            'retweet_count': 'sum',\n",
    "            'sentiment': 'mean',\n",
    "            'verified': lambda x: x.iloc[0],\n",
    "            'description': lambda x: x.iloc[0],\n",
    "        })"
   ]
  },
  {
   "cell_type": "markdown",
   "metadata": {},
   "source": [
    "### Normalising the columns using Z-Score"
   ]
  },
  {
   "cell_type": "code",
   "execution_count": 124,
   "metadata": {},
   "outputs": [],
   "source": [
    "cols = list(df_users.columns)\n",
    "cols.remove('name')\n",
    "cols.remove('description')\n",
    "\n",
    "for col in cols:\n",
    "    col_zscore = col + '_zscore'\n",
    "    df_users[col_zscore] = (df_users[col] - df_users[col].mean())/df_users[col].std(ddof=0)"
   ]
  },
  {
   "cell_type": "markdown",
   "metadata": {},
   "source": [
    "## Popularity Measure = Sum of Z-Scores (to be refined)"
   ]
  },
  {
   "cell_type": "code",
   "execution_count": 125,
   "metadata": {},
   "outputs": [],
   "source": [
    "df_users['popularity'] = df_users['followers_count_zscore']+df_users['retweet_count_zscore']+df_users['verified_zscore']"
   ]
  },
  {
   "cell_type": "code",
   "execution_count": 126,
   "metadata": {},
   "outputs": [
    {
     "output_type": "execute_result",
     "data": {
      "text/plain": "                                   name  \\\nuser_id                                   \n18839785            Narendra Modi         \n25073877            Donald J. Trump       \n471741741           PMO India             \n101311381           Shah Rukh Khan        \n759251              CNN                   \n939091              Joe Biden             \n428333              CNN Breaking News     \n807095              The New York Times    \n50393960            Bill Gates            \n31348594            Akshay Kumar          \n5402612             BBC Breaking News     \n3171712086          Rahul Gandhi          \n145125358           Amitabh Bachchan      \n71201743            Virat Kohli           \n52544275            Ivanka Trump          \n1447949844          Amit Shah             \n122453931           Imran Khan            \n2455740283          MrBeast               \n113419517           Hrithik Roshan        \n742143              BBC News (World)      \n355989081           ANI                   \n44588485            Chetan Bhagat         \n204832963           God                   \n5988062             The Economist         \n240649814           TIMES NOW             \n37034483            NDTV                  \n1652541             Reuters               \n405427035           Arvind Kejriwal       \n292929271           Charlie Kirk          \n2526794479          Mamata Banerjee       \n113826230           Sudarsan Pattnaik     \n1368737382          Sambit Patra          \n207809313           BJP                   \n818876014390603776  Melania Trump         \n1346439824          Rajnath Singh         \n57928790            Karan Johar           \n14293310            TIME                  \n121044171           Suresh Raina🇮🇳        \n36327407            Hindustan Times       \n3489768920          Naveen Patnaik        \n28785486            ABC News              \n134758540           The Times Of India    \n2467791             The Washington Post   \n91478624            Forbes                \n292558545           Norbert Elekes        \n1344897174          Anand Ranganathan     \n60937837            Subramanian Swamy     \n67611162            Sadhguru              \n45709328            h                     \n426431202           Mahua Moitra          \n\n                                                                                                                                                                              description  \\\nuser_id                                                                                                                                                                                     \n18839785            Prime Minister of India                                                                                                                                                 \n25073877            45th President of the United States of America🇺🇸                                                                                                                        \n471741741           Office of the Prime Minister of India                                                                                                                                   \n101311381           None                                                                                                                                                                    \n759251              It’s our job to #GoThere & tell the most difficult stories. Join us! For more breaking news updates follow @CNNBRK & download our app http://cnn.com/apps               \n939091              Senator, Vice President, 2020 candidate for President of the United States, husband to @DrBiden, proud father & grandfather. Loves ice cream, aviators & @Amtrak        \n428333              Breaking news from CNN Digital. Now 58M strong. Check @cnn for all things CNN, breaking and more. Download the app for custom alerts: http://cnn.com/apps               \n807095              News tips? Share them here: http://nyti.ms/2FVHq9v                                                                                                                      \n50393960            Sharing things I'm learning through my foundation work and other interests.                                                                                             \n31348594            None                                                                                                                                                                    \n5402612             Breaking news alerts and updates from the BBC. For news, features, analysis follow @BBCWorld (international) or @BBCNews (UK). Latest sport news @BBCSport.             \n3171712086          This is the official account of Rahul Gandhi | Member of the Indian National Congress| Member of Parliament                                                             \n145125358           \"तुमने हमें पूज पूज कर पत्थर कर डाला ; वे जो हमपर जुमले कसते हैं हमें ज़िंदा तो समझते हैं \"~  हरिवंश राय  बच्चन                                                         \n71201743            The Official twitter account of Virat Kohli. Indian cricketer, gamer, car lover, loves soccer and an enthusiast.                                                        \n52544275            Wife, mother, sister, daughter. Advisor to POTUS on job creation + economic empowerment, workforce development & entrepreneurship. Personal Pg. Views are my own        \n1447949844          Union Home Minister, Government of India | MP, Gandhinagar Lok Sabha. http://www.instagram.com/amitshahofficial                                                         \n122453931           Prime Minister of Pakistan                                                                                                                                              \n2455740283          I want to make the world a better place before I die.                                                                                                                   \n113419517           Man on mission- to live the best life possible come what may.                                                                                                           \n742143              News, features and analysis from the World's newsroom. Breaking news, follow @BBCBreaking. UK news, @BBCNews. Latest sports news @BBCSport                              \n355989081           Asian News International. Multi-media news agency, content for information platforms: TV, Internet, broadband, newspapers, mobiles https://t.co/PjGRhL4qvg              \n44588485            The CB family!                                                                                                                                                          \n204832963           Unverified. Unverified. Thee/thou/thine. \\n\\nINTJehovah.\\n\\nOff through August.\\n\\nHoly relics for sale at http://tweetofgod.shop.capthat.com/store                     \n5988062             News and analysis with a global perspective. Subscribe here: http://econ.trib.al/1NIYXdz                                                                                \n240649814           TIMES NOW is India’s most watched English news channel. Follow for lightning fast #BreakingNews and #Alerts.\\n\\nWe're on Telegram: https://t.me/timesnowofficial        \n37034483            Breaking news alerts from India.\\n\\nInstagram: http://www.instagram.com/ndtv\\nYouTube: http://www.youtube.com/ndtv                                                      \n1652541             Top and breaking news, pictures and videos from Reuters. For more breaking business news, follow @ReutersBiz.                                                           \n405427035           सब इंसान बराबर हैं, चाहे वो किसी धर्म या जाति के हों। हमें ऐसा भारत बनाना है जहाँ सभी धर्म और जाति के लोगों में भाईचारा और मोहब्बत हो, न कि नफ़रत और बैर हो।            \n292929271           Founder & President—@TPUSA\\nChair—@TrumpStudents\\nHost—The Charlie Kirk Show\\nAuthor—'The MAGA Doctrine’\\nWe are all sinners saved by Jesus\\nOpinions here are my own   \n2526794479          The official Twitter page of Mamata Banerjee, founder Chairperson All India Trinamool Congress. Honourable Chief Minister, West Bengal.                                 \n113826230           Official Twitter account of International Sand Artist & Padma Shri Awardee , #SudarsanPattnaik                                                                          \n1368737382          Surgeon by Profession,Politician by Passion...National Spokesperson of BJP                                                                                              \n207809313           Official Twitter account of the Bharatiya Janata Party (BJP), world's largest political party. भारतीय जनता पार्टी (भाजपा)\\n\\nhttp://instagram.com/bjp4india             \n818876014390603776  This account is run by the Office of First Lady Melania Trump. Tweets may be archived. More at http://wh.gov/privacy                                                    \n1346439824          रक्षा मंत्री, Defence Minister of India                                                                                                                                 \n57928790            Roohi aur Yash ka papa! Hiroo aur Yash ka beta....                                                                                                                      \n14293310            Breaking news and current events from around the globe. Hosted by TIME staff.                                                                                           \n121044171           Professional Cricketer 🇮🇳 📧 - team@sureshraina.com Co-founder @grfcare | Co-founder @maateCare For queries, contact Anand Kanwar +919899005693                          \n36327407            One of India's largest media companies. Latest news from around the world. Retweets are not endorsements                                                                \n3489768920          Chief Minister of Odisha; \\nPresident, Biju Janata Dal.                                                                                                                 \n28785486            All the news and information you need to see, curated by the @ABC News team. http://instagram.com/abcnews Tips: https://abcn.ws/tips                                    \n134758540           News. Views. Analysis. Conversations. India’s No.1 digital news destination, world’s largest-selling English newspaper - A Times Internet Limited Product               \n2467791             Democracy Dies in Darkness.                                                                                                                                             \n91478624            Official Twitter account of Forbes, the world’s leading voice for entrepreneurial success and free enterprise.                                                          \n292558545           Data storyteller, minimalist, compulsive list-maker. World news and the latest updates on coronavirus.                                                                  \n1344897174          Author: Land of the Wilted Rose (Rupa); Love & Honour (Bloomsbury); Rat Eater (Bloomsbury). Consulting Editor & Columnist: Swarajya. RTs, Likes ≠ Endorsements.         \n60937837            Rajya Sabha MP, Fmr. Union Cabinet Minister, Harvard Ph.D in Economics; Professor, BJP National Exec. member, I give as good as I get                                   \n67611162            A Yogi, Mystic & Visionary. This account is managed by volunteers @Ishafoundation. Tweets from Sadhguru himself are signed - Sg                                         \n45709328            None                                                                                                                                                                    \n426431202           All India Trinamool Congress, Lok Sabha Member of Parliament, Krishnanagar, West Bengal. This is my ONLY official account                                               \n\n                    sentiment  popularity  \nuser_id                                    \n18839785            0.428557   203.051266  \n25073877            0.648600   94.913915   \n471741741           0.286910   70.064629   \n101311381           0.357333   66.985929   \n759251              0.199322   66.521153   \n939091              0.000000   61.171471   \n428333              0.000000   56.391740   \n807095             -0.091964   54.310789   \n50393960            0.585900   51.191212   \n31348594            0.762900   45.007026   \n5402612            -0.771700   44.747414   \n3171712086         -0.165250   44.477278   \n145125358           0.323900   43.465250   \n71201743            0.836000   42.899768   \n52544275            0.888500   40.574946   \n1447949844          0.091220   39.166012   \n122453931          -0.455000   38.127588   \n2455740283          0.000000   32.103827   \n113419517          -0.340000   31.865407   \n742143             -0.203643   31.013543   \n355989081           0.025961   28.226275   \n44588485            0.700300   26.905697   \n204832963          -0.318200   26.723490   \n5988062            -0.318200   26.451348   \n240649814          -0.128455   26.308656   \n37034483           -0.077321   26.119814   \n1652541            -0.142111   25.516658   \n405427035           0.648600   25.395876   \n292929271          -0.421500   24.130227   \n2526794479          0.341078   22.714076   \n113826230           0.332820   21.838701   \n1368737382          0.000000   21.514308   \n207809313           0.101180   21.295787   \n818876014390603776  0.273200   21.173026   \n1346439824          0.916900   20.797158   \n57928790            0.599400   19.973874   \n14293310           -0.261500   19.946817   \n121044171          -0.784500   19.944632   \n36327407           -0.068550   19.828562   \n3489768920          0.002000   19.717010   \n28785486           -0.618114   18.821499   \n134758540          -0.131736   18.803785   \n2467791             0.000000   18.685027   \n91478624           -0.085200   18.670975   \n292558545          -0.199767   18.422501   \n1344897174         -0.005733   18.377702   \n60937837            0.557400   18.354971   \n67611162            0.053400   17.993236   \n45709328           -0.771300   17.960180   \n426431202           0.017212   17.150839   ",
      "text/html": "<div>\n<style scoped>\n    .dataframe tbody tr th:only-of-type {\n        vertical-align: middle;\n    }\n\n    .dataframe tbody tr th {\n        vertical-align: top;\n    }\n\n    .dataframe thead th {\n        text-align: right;\n    }\n</style>\n<table border=\"1\" class=\"dataframe\">\n  <thead>\n    <tr style=\"text-align: right;\">\n      <th></th>\n      <th>name</th>\n      <th>description</th>\n      <th>sentiment</th>\n      <th>popularity</th>\n    </tr>\n    <tr>\n      <th>user_id</th>\n      <th></th>\n      <th></th>\n      <th></th>\n      <th></th>\n    </tr>\n  </thead>\n  <tbody>\n    <tr>\n      <th>18839785</th>\n      <td>Narendra Modi</td>\n      <td>Prime Minister of India</td>\n      <td>0.428557</td>\n      <td>203.051266</td>\n    </tr>\n    <tr>\n      <th>25073877</th>\n      <td>Donald J. Trump</td>\n      <td>45th President of the United States of America🇺🇸</td>\n      <td>0.648600</td>\n      <td>94.913915</td>\n    </tr>\n    <tr>\n      <th>471741741</th>\n      <td>PMO India</td>\n      <td>Office of the Prime Minister of India</td>\n      <td>0.286910</td>\n      <td>70.064629</td>\n    </tr>\n    <tr>\n      <th>101311381</th>\n      <td>Shah Rukh Khan</td>\n      <td>None</td>\n      <td>0.357333</td>\n      <td>66.985929</td>\n    </tr>\n    <tr>\n      <th>759251</th>\n      <td>CNN</td>\n      <td>It’s our job to #GoThere &amp; tell the most difficult stories. Join us! For more breaking news updates follow @CNNBRK &amp; download our app http://cnn.com/apps</td>\n      <td>0.199322</td>\n      <td>66.521153</td>\n    </tr>\n    <tr>\n      <th>939091</th>\n      <td>Joe Biden</td>\n      <td>Senator, Vice President, 2020 candidate for President of the United States, husband to @DrBiden, proud father &amp; grandfather. Loves ice cream, aviators &amp; @Amtrak</td>\n      <td>0.000000</td>\n      <td>61.171471</td>\n    </tr>\n    <tr>\n      <th>428333</th>\n      <td>CNN Breaking News</td>\n      <td>Breaking news from CNN Digital. Now 58M strong. Check @cnn for all things CNN, breaking and more. Download the app for custom alerts: http://cnn.com/apps</td>\n      <td>0.000000</td>\n      <td>56.391740</td>\n    </tr>\n    <tr>\n      <th>807095</th>\n      <td>The New York Times</td>\n      <td>News tips? Share them here: http://nyti.ms/2FVHq9v</td>\n      <td>-0.091964</td>\n      <td>54.310789</td>\n    </tr>\n    <tr>\n      <th>50393960</th>\n      <td>Bill Gates</td>\n      <td>Sharing things I'm learning through my foundation work and other interests.</td>\n      <td>0.585900</td>\n      <td>51.191212</td>\n    </tr>\n    <tr>\n      <th>31348594</th>\n      <td>Akshay Kumar</td>\n      <td>None</td>\n      <td>0.762900</td>\n      <td>45.007026</td>\n    </tr>\n    <tr>\n      <th>5402612</th>\n      <td>BBC Breaking News</td>\n      <td>Breaking news alerts and updates from the BBC. For news, features, analysis follow @BBCWorld (international) or @BBCNews (UK). Latest sport news @BBCSport.</td>\n      <td>-0.771700</td>\n      <td>44.747414</td>\n    </tr>\n    <tr>\n      <th>3171712086</th>\n      <td>Rahul Gandhi</td>\n      <td>This is the official account of Rahul Gandhi | Member of the Indian National Congress| Member of Parliament</td>\n      <td>-0.165250</td>\n      <td>44.477278</td>\n    </tr>\n    <tr>\n      <th>145125358</th>\n      <td>Amitabh Bachchan</td>\n      <td>\"तुमने हमें पूज पूज कर पत्थर कर डाला ; वे जो हमपर जुमले कसते हैं हमें ज़िंदा तो समझते हैं \"~  हरिवंश राय  बच्चन</td>\n      <td>0.323900</td>\n      <td>43.465250</td>\n    </tr>\n    <tr>\n      <th>71201743</th>\n      <td>Virat Kohli</td>\n      <td>The Official twitter account of Virat Kohli. Indian cricketer, gamer, car lover, loves soccer and an enthusiast.</td>\n      <td>0.836000</td>\n      <td>42.899768</td>\n    </tr>\n    <tr>\n      <th>52544275</th>\n      <td>Ivanka Trump</td>\n      <td>Wife, mother, sister, daughter. Advisor to POTUS on job creation + economic empowerment, workforce development &amp; entrepreneurship. Personal Pg. Views are my own</td>\n      <td>0.888500</td>\n      <td>40.574946</td>\n    </tr>\n    <tr>\n      <th>1447949844</th>\n      <td>Amit Shah</td>\n      <td>Union Home Minister, Government of India | MP, Gandhinagar Lok Sabha. http://www.instagram.com/amitshahofficial</td>\n      <td>0.091220</td>\n      <td>39.166012</td>\n    </tr>\n    <tr>\n      <th>122453931</th>\n      <td>Imran Khan</td>\n      <td>Prime Minister of Pakistan</td>\n      <td>-0.455000</td>\n      <td>38.127588</td>\n    </tr>\n    <tr>\n      <th>2455740283</th>\n      <td>MrBeast</td>\n      <td>I want to make the world a better place before I die.</td>\n      <td>0.000000</td>\n      <td>32.103827</td>\n    </tr>\n    <tr>\n      <th>113419517</th>\n      <td>Hrithik Roshan</td>\n      <td>Man on mission- to live the best life possible come what may.</td>\n      <td>-0.340000</td>\n      <td>31.865407</td>\n    </tr>\n    <tr>\n      <th>742143</th>\n      <td>BBC News (World)</td>\n      <td>News, features and analysis from the World's newsroom. Breaking news, follow @BBCBreaking. UK news, @BBCNews. Latest sports news @BBCSport</td>\n      <td>-0.203643</td>\n      <td>31.013543</td>\n    </tr>\n    <tr>\n      <th>355989081</th>\n      <td>ANI</td>\n      <td>Asian News International. Multi-media news agency, content for information platforms: TV, Internet, broadband, newspapers, mobiles https://t.co/PjGRhL4qvg</td>\n      <td>0.025961</td>\n      <td>28.226275</td>\n    </tr>\n    <tr>\n      <th>44588485</th>\n      <td>Chetan Bhagat</td>\n      <td>The CB family!</td>\n      <td>0.700300</td>\n      <td>26.905697</td>\n    </tr>\n    <tr>\n      <th>204832963</th>\n      <td>God</td>\n      <td>Unverified. Unverified. Thee/thou/thine. \\n\\nINTJehovah.\\n\\nOff through August.\\n\\nHoly relics for sale at http://tweetofgod.shop.capthat.com/store</td>\n      <td>-0.318200</td>\n      <td>26.723490</td>\n    </tr>\n    <tr>\n      <th>5988062</th>\n      <td>The Economist</td>\n      <td>News and analysis with a global perspective. Subscribe here: http://econ.trib.al/1NIYXdz</td>\n      <td>-0.318200</td>\n      <td>26.451348</td>\n    </tr>\n    <tr>\n      <th>240649814</th>\n      <td>TIMES NOW</td>\n      <td>TIMES NOW is India’s most watched English news channel. Follow for lightning fast #BreakingNews and #Alerts.\\n\\nWe're on Telegram: https://t.me/timesnowofficial</td>\n      <td>-0.128455</td>\n      <td>26.308656</td>\n    </tr>\n    <tr>\n      <th>37034483</th>\n      <td>NDTV</td>\n      <td>Breaking news alerts from India.\\n\\nInstagram: http://www.instagram.com/ndtv\\nYouTube: http://www.youtube.com/ndtv</td>\n      <td>-0.077321</td>\n      <td>26.119814</td>\n    </tr>\n    <tr>\n      <th>1652541</th>\n      <td>Reuters</td>\n      <td>Top and breaking news, pictures and videos from Reuters. For more breaking business news, follow @ReutersBiz.</td>\n      <td>-0.142111</td>\n      <td>25.516658</td>\n    </tr>\n    <tr>\n      <th>405427035</th>\n      <td>Arvind Kejriwal</td>\n      <td>सब इंसान बराबर हैं, चाहे वो किसी धर्म या जाति के हों। हमें ऐसा भारत बनाना है जहाँ सभी धर्म और जाति के लोगों में भाईचारा और मोहब्बत हो, न कि नफ़रत और बैर हो।</td>\n      <td>0.648600</td>\n      <td>25.395876</td>\n    </tr>\n    <tr>\n      <th>292929271</th>\n      <td>Charlie Kirk</td>\n      <td>Founder &amp; President—@TPUSA\\nChair—@TrumpStudents\\nHost—The Charlie Kirk Show\\nAuthor—'The MAGA Doctrine’\\nWe are all sinners saved by Jesus\\nOpinions here are my own</td>\n      <td>-0.421500</td>\n      <td>24.130227</td>\n    </tr>\n    <tr>\n      <th>2526794479</th>\n      <td>Mamata Banerjee</td>\n      <td>The official Twitter page of Mamata Banerjee, founder Chairperson All India Trinamool Congress. Honourable Chief Minister, West Bengal.</td>\n      <td>0.341078</td>\n      <td>22.714076</td>\n    </tr>\n    <tr>\n      <th>113826230</th>\n      <td>Sudarsan Pattnaik</td>\n      <td>Official Twitter account of International Sand Artist &amp; Padma Shri Awardee , #SudarsanPattnaik</td>\n      <td>0.332820</td>\n      <td>21.838701</td>\n    </tr>\n    <tr>\n      <th>1368737382</th>\n      <td>Sambit Patra</td>\n      <td>Surgeon by Profession,Politician by Passion...National Spokesperson of BJP</td>\n      <td>0.000000</td>\n      <td>21.514308</td>\n    </tr>\n    <tr>\n      <th>207809313</th>\n      <td>BJP</td>\n      <td>Official Twitter account of the Bharatiya Janata Party (BJP), world's largest political party. भारतीय जनता पार्टी (भाजपा)\\n\\nhttp://instagram.com/bjp4india</td>\n      <td>0.101180</td>\n      <td>21.295787</td>\n    </tr>\n    <tr>\n      <th>818876014390603776</th>\n      <td>Melania Trump</td>\n      <td>This account is run by the Office of First Lady Melania Trump. Tweets may be archived. More at http://wh.gov/privacy</td>\n      <td>0.273200</td>\n      <td>21.173026</td>\n    </tr>\n    <tr>\n      <th>1346439824</th>\n      <td>Rajnath Singh</td>\n      <td>रक्षा मंत्री, Defence Minister of India</td>\n      <td>0.916900</td>\n      <td>20.797158</td>\n    </tr>\n    <tr>\n      <th>57928790</th>\n      <td>Karan Johar</td>\n      <td>Roohi aur Yash ka papa! Hiroo aur Yash ka beta....</td>\n      <td>0.599400</td>\n      <td>19.973874</td>\n    </tr>\n    <tr>\n      <th>14293310</th>\n      <td>TIME</td>\n      <td>Breaking news and current events from around the globe. Hosted by TIME staff.</td>\n      <td>-0.261500</td>\n      <td>19.946817</td>\n    </tr>\n    <tr>\n      <th>121044171</th>\n      <td>Suresh Raina🇮🇳</td>\n      <td>Professional Cricketer 🇮🇳 📧 - team@sureshraina.com Co-founder @grfcare | Co-founder @maateCare For queries, contact Anand Kanwar +919899005693</td>\n      <td>-0.784500</td>\n      <td>19.944632</td>\n    </tr>\n    <tr>\n      <th>36327407</th>\n      <td>Hindustan Times</td>\n      <td>One of India's largest media companies. Latest news from around the world. Retweets are not endorsements</td>\n      <td>-0.068550</td>\n      <td>19.828562</td>\n    </tr>\n    <tr>\n      <th>3489768920</th>\n      <td>Naveen Patnaik</td>\n      <td>Chief Minister of Odisha; \\nPresident, Biju Janata Dal.</td>\n      <td>0.002000</td>\n      <td>19.717010</td>\n    </tr>\n    <tr>\n      <th>28785486</th>\n      <td>ABC News</td>\n      <td>All the news and information you need to see, curated by the @ABC News team. http://instagram.com/abcnews Tips: https://abcn.ws/tips</td>\n      <td>-0.618114</td>\n      <td>18.821499</td>\n    </tr>\n    <tr>\n      <th>134758540</th>\n      <td>The Times Of India</td>\n      <td>News. Views. Analysis. Conversations. India’s No.1 digital news destination, world’s largest-selling English newspaper - A Times Internet Limited Product</td>\n      <td>-0.131736</td>\n      <td>18.803785</td>\n    </tr>\n    <tr>\n      <th>2467791</th>\n      <td>The Washington Post</td>\n      <td>Democracy Dies in Darkness.</td>\n      <td>0.000000</td>\n      <td>18.685027</td>\n    </tr>\n    <tr>\n      <th>91478624</th>\n      <td>Forbes</td>\n      <td>Official Twitter account of Forbes, the world’s leading voice for entrepreneurial success and free enterprise.</td>\n      <td>-0.085200</td>\n      <td>18.670975</td>\n    </tr>\n    <tr>\n      <th>292558545</th>\n      <td>Norbert Elekes</td>\n      <td>Data storyteller, minimalist, compulsive list-maker. World news and the latest updates on coronavirus.</td>\n      <td>-0.199767</td>\n      <td>18.422501</td>\n    </tr>\n    <tr>\n      <th>1344897174</th>\n      <td>Anand Ranganathan</td>\n      <td>Author: Land of the Wilted Rose (Rupa); Love &amp; Honour (Bloomsbury); Rat Eater (Bloomsbury). Consulting Editor &amp; Columnist: Swarajya. RTs, Likes ≠ Endorsements.</td>\n      <td>-0.005733</td>\n      <td>18.377702</td>\n    </tr>\n    <tr>\n      <th>60937837</th>\n      <td>Subramanian Swamy</td>\n      <td>Rajya Sabha MP, Fmr. Union Cabinet Minister, Harvard Ph.D in Economics; Professor, BJP National Exec. member, I give as good as I get</td>\n      <td>0.557400</td>\n      <td>18.354971</td>\n    </tr>\n    <tr>\n      <th>67611162</th>\n      <td>Sadhguru</td>\n      <td>A Yogi, Mystic &amp; Visionary. This account is managed by volunteers @Ishafoundation. Tweets from Sadhguru himself are signed - Sg</td>\n      <td>0.053400</td>\n      <td>17.993236</td>\n    </tr>\n    <tr>\n      <th>45709328</th>\n      <td>h</td>\n      <td>None</td>\n      <td>-0.771300</td>\n      <td>17.960180</td>\n    </tr>\n    <tr>\n      <th>426431202</th>\n      <td>Mahua Moitra</td>\n      <td>All India Trinamool Congress, Lok Sabha Member of Parliament, Krishnanagar, West Bengal. This is my ONLY official account</td>\n      <td>0.017212</td>\n      <td>17.150839</td>\n    </tr>\n  </tbody>\n</table>\n</div>"
     },
     "metadata": {},
     "execution_count": 126
    }
   ],
   "source": [
    "N = 50\n",
    "df_users.nlargest(N, 'popularity')[['name', 'description', 'sentiment', 'popularity']]"
   ]
  },
  {
   "cell_type": "markdown",
   "metadata": {},
   "source": [
    "## Loading the tweet labels & filtering on a threshold"
   ]
  },
  {
   "cell_type": "code",
   "execution_count": 127,
   "metadata": {},
   "outputs": [],
   "source": [
    "df_labels = pd.read_json(join(models_dir,'zstc_labels.json'), orient='index', convert_axes=False)"
   ]
  },
  {
   "cell_type": "code",
   "execution_count": 128,
   "metadata": {},
   "outputs": [
    {
     "output_type": "execute_result",
     "data": {
      "text/plain": "                                                    0  \\\n1264253979002843136  [livelihood, 0.43]                 \n1264253893632016384  [government, 0.8200000000000001]   \n1264253882580045824  [income, 0.91]                     \n1264253658763612160  [grievance, 0.98]                  \n1264253569525592064  [grievance, 0.98]                  \n\n                                           1                                2  \\\n1264253979002843136  [relief measures, 0.42]  [medical assistance, 0.31]        \n1264253893632016384  [grievance, 0.72]        [crime violence, 0.59]            \n1264253882580045824  [livelihood, 0.88]       [grievance, 0.8200000000000001]   \n1264253658763612160  [livelihood, 0.96]       [sympathy, 0.92]                  \n1264253569525592064  [livelihood, 0.96]       [sympathy, 0.91]                  \n\n                                                               3  \\\n1264253979002843136  [grievance, 0.29]                             \n1264253893632016384  [ecosystem, 0.53]                             \n1264253882580045824  [sympathy, 0.73]                              \n1264253658763612160  [government, 0.88]                            \n1264253569525592064  [resource availability, 0.8300000000000001]   \n\n                                                         4  \\\n1264253979002843136  [ecosystem, 0.28]                       \n1264253893632016384  [livelihood, 0.52]                      \n1264253882580045824  [shelter, 0.22]                         \n1264253658763612160  [relief measures, 0.8300000000000001]   \n1264253569525592064  [relief measures, 0.81]                 \n\n                                                 5  \\\n1264253979002843136  [evacuation, 0.14]              \n1264253893632016384  [sympathy, 0.42]                \n1264253882580045824  [news updates, 0.13]            \n1264253658763612160  [resource availability, 0.81]   \n1264253569525592064  [rescue, 0.6900000000000001]    \n\n                                                6  \\\n1264253979002843136  [sympathy, 0.1]                \n1264253893632016384  [relief measures, 0.4]         \n1264253882580045824  [evacuation, 0.1]              \n1264253658763612160  [rescue, 0.71]                 \n1264253569525592064  [income, 0.6900000000000001]   \n\n                                                 7                        8  \\\n1264253979002843136  [resource availability, 0.08]  [shelter, 0.07]           \n1264253893632016384  [shelter, 0.33]                [news updates, 0.32]      \n1264253882580045824  [infrastructure, 0.09]         [relief measures, 0.07]   \n1264253658763612160  [shelter, 0.6900000000000001]  [income, 0.59]            \n1264253569525592064  [government, 0.68]             [shelter, 0.68]           \n\n                                                        9  ...  \\\n1264253979002843136  [agriculture, 0.05]                   ...   \n1264253893632016384  [rescue, 0.28]                        ...   \n1264253882580045824  [utilities, 0.05]                     ...   \n1264253658763612160  [infrastructure, 0.59]                ...   \n1264253569525592064  [infrastructure, 0.6000000000000001]  ...   \n\n                                                14                         15  \\\n1264253979002843136  [rescue, 0.01]                 [food supply, 0.01]         \n1264253893632016384  [resource availability, 0.11]  [evacuation, 0.09]          \n1264253882580045824  [internet, 0.01]               [biodiversity, 0.01]        \n1264253658763612160  [internet, 0.22]               [medical assistance, 0.1]   \n1264253569525592064  [internet, 0.18]               [volunteers, 0.13]          \n\n                                         16                          17  \\\n1264253979002843136  [mobile network, 0.0]   [power supply, 0.0]          \n1264253893632016384  [infrastructure, 0.08]  [mobile network, 0.08]       \n1264253882580045824  [government, 0.01]      [power supply, 0.01]         \n1264253658763612160  [mobile network, 0.07]  [biodiversity, 0.05]         \n1264253569525592064  [mobile network, 0.05]  [medical assistance, 0.05]   \n\n                                         18                     19  \\\n1264253979002843136  [water supply, 0.0]     [utilities, 0.0]        \n1264253893632016384  [power supply, 0.05]    [internet, 0.05]        \n1264253882580045824  [ecosystem, 0.01]       [crime violence, 0.0]   \n1264253658763612160  [crime violence, 0.03]  [volunteers, 0.03]      \n1264253569525592064  [crime violence, 0.03]  [biodiversity, 0.03]    \n\n                                      20                    21  \\\n1264253979002843136  [news updates, 0.0]  [volunteers, 0.0]      \n1264253893632016384  [agriculture, 0.04]  [water supply, 0.02]   \n1264253882580045824  [volunteers, 0.0]    [food supply, 0.0]     \n1264253658763612160  [agriculture, 0.01]  [water supply, 0.0]    \n1264253569525592064  [agriculture, 0.01]  [water supply, 0.0]    \n\n                                      22                         23  \n1264253979002843136  [government, 0.0]    [internet, 0.0]            \n1264253893632016384  [food supply, 0.01]  [volunteers, 0.01]         \n1264253882580045824  [water supply, 0.0]  [medical assistance, 0.0]  \n1264253658763612160  [food supply, 0.0]   [power supply, 0.0]        \n1264253569525592064  [food supply, 0.0]   [power supply, 0.0]        \n\n[5 rows x 24 columns]",
      "text/html": "<div>\n<style scoped>\n    .dataframe tbody tr th:only-of-type {\n        vertical-align: middle;\n    }\n\n    .dataframe tbody tr th {\n        vertical-align: top;\n    }\n\n    .dataframe thead th {\n        text-align: right;\n    }\n</style>\n<table border=\"1\" class=\"dataframe\">\n  <thead>\n    <tr style=\"text-align: right;\">\n      <th></th>\n      <th>0</th>\n      <th>1</th>\n      <th>2</th>\n      <th>3</th>\n      <th>4</th>\n      <th>5</th>\n      <th>6</th>\n      <th>7</th>\n      <th>8</th>\n      <th>9</th>\n      <th>...</th>\n      <th>14</th>\n      <th>15</th>\n      <th>16</th>\n      <th>17</th>\n      <th>18</th>\n      <th>19</th>\n      <th>20</th>\n      <th>21</th>\n      <th>22</th>\n      <th>23</th>\n    </tr>\n  </thead>\n  <tbody>\n    <tr>\n      <th>1264253979002843136</th>\n      <td>[livelihood, 0.43]</td>\n      <td>[relief measures, 0.42]</td>\n      <td>[medical assistance, 0.31]</td>\n      <td>[grievance, 0.29]</td>\n      <td>[ecosystem, 0.28]</td>\n      <td>[evacuation, 0.14]</td>\n      <td>[sympathy, 0.1]</td>\n      <td>[resource availability, 0.08]</td>\n      <td>[shelter, 0.07]</td>\n      <td>[agriculture, 0.05]</td>\n      <td>...</td>\n      <td>[rescue, 0.01]</td>\n      <td>[food supply, 0.01]</td>\n      <td>[mobile network, 0.0]</td>\n      <td>[power supply, 0.0]</td>\n      <td>[water supply, 0.0]</td>\n      <td>[utilities, 0.0]</td>\n      <td>[news updates, 0.0]</td>\n      <td>[volunteers, 0.0]</td>\n      <td>[government, 0.0]</td>\n      <td>[internet, 0.0]</td>\n    </tr>\n    <tr>\n      <th>1264253893632016384</th>\n      <td>[government, 0.8200000000000001]</td>\n      <td>[grievance, 0.72]</td>\n      <td>[crime violence, 0.59]</td>\n      <td>[ecosystem, 0.53]</td>\n      <td>[livelihood, 0.52]</td>\n      <td>[sympathy, 0.42]</td>\n      <td>[relief measures, 0.4]</td>\n      <td>[shelter, 0.33]</td>\n      <td>[news updates, 0.32]</td>\n      <td>[rescue, 0.28]</td>\n      <td>...</td>\n      <td>[resource availability, 0.11]</td>\n      <td>[evacuation, 0.09]</td>\n      <td>[infrastructure, 0.08]</td>\n      <td>[mobile network, 0.08]</td>\n      <td>[power supply, 0.05]</td>\n      <td>[internet, 0.05]</td>\n      <td>[agriculture, 0.04]</td>\n      <td>[water supply, 0.02]</td>\n      <td>[food supply, 0.01]</td>\n      <td>[volunteers, 0.01]</td>\n    </tr>\n    <tr>\n      <th>1264253882580045824</th>\n      <td>[income, 0.91]</td>\n      <td>[livelihood, 0.88]</td>\n      <td>[grievance, 0.8200000000000001]</td>\n      <td>[sympathy, 0.73]</td>\n      <td>[shelter, 0.22]</td>\n      <td>[news updates, 0.13]</td>\n      <td>[evacuation, 0.1]</td>\n      <td>[infrastructure, 0.09]</td>\n      <td>[relief measures, 0.07]</td>\n      <td>[utilities, 0.05]</td>\n      <td>...</td>\n      <td>[internet, 0.01]</td>\n      <td>[biodiversity, 0.01]</td>\n      <td>[government, 0.01]</td>\n      <td>[power supply, 0.01]</td>\n      <td>[ecosystem, 0.01]</td>\n      <td>[crime violence, 0.0]</td>\n      <td>[volunteers, 0.0]</td>\n      <td>[food supply, 0.0]</td>\n      <td>[water supply, 0.0]</td>\n      <td>[medical assistance, 0.0]</td>\n    </tr>\n    <tr>\n      <th>1264253658763612160</th>\n      <td>[grievance, 0.98]</td>\n      <td>[livelihood, 0.96]</td>\n      <td>[sympathy, 0.92]</td>\n      <td>[government, 0.88]</td>\n      <td>[relief measures, 0.8300000000000001]</td>\n      <td>[resource availability, 0.81]</td>\n      <td>[rescue, 0.71]</td>\n      <td>[shelter, 0.6900000000000001]</td>\n      <td>[income, 0.59]</td>\n      <td>[infrastructure, 0.59]</td>\n      <td>...</td>\n      <td>[internet, 0.22]</td>\n      <td>[medical assistance, 0.1]</td>\n      <td>[mobile network, 0.07]</td>\n      <td>[biodiversity, 0.05]</td>\n      <td>[crime violence, 0.03]</td>\n      <td>[volunteers, 0.03]</td>\n      <td>[agriculture, 0.01]</td>\n      <td>[water supply, 0.0]</td>\n      <td>[food supply, 0.0]</td>\n      <td>[power supply, 0.0]</td>\n    </tr>\n    <tr>\n      <th>1264253569525592064</th>\n      <td>[grievance, 0.98]</td>\n      <td>[livelihood, 0.96]</td>\n      <td>[sympathy, 0.91]</td>\n      <td>[resource availability, 0.8300000000000001]</td>\n      <td>[relief measures, 0.81]</td>\n      <td>[rescue, 0.6900000000000001]</td>\n      <td>[income, 0.6900000000000001]</td>\n      <td>[government, 0.68]</td>\n      <td>[shelter, 0.68]</td>\n      <td>[infrastructure, 0.6000000000000001]</td>\n      <td>...</td>\n      <td>[internet, 0.18]</td>\n      <td>[volunteers, 0.13]</td>\n      <td>[mobile network, 0.05]</td>\n      <td>[medical assistance, 0.05]</td>\n      <td>[crime violence, 0.03]</td>\n      <td>[biodiversity, 0.03]</td>\n      <td>[agriculture, 0.01]</td>\n      <td>[water supply, 0.0]</td>\n      <td>[food supply, 0.0]</td>\n      <td>[power supply, 0.0]</td>\n    </tr>\n  </tbody>\n</table>\n<p>5 rows × 24 columns</p>\n</div>"
     },
     "metadata": {},
     "execution_count": 128
    }
   ],
   "source": [
    "df_labels.head()"
   ]
  },
  {
   "cell_type": "code",
   "execution_count": 129,
   "metadata": {},
   "outputs": [],
   "source": [
    "def get_labels(tweet, threshold=THRESHOLD):\n",
    "  topics = []\n",
    "  for topic in tweet:\n",
    "    topic_name, value = topic[0], topic[1]\n",
    "    if value>threshold:\n",
    "      topics.append((topic_name, np.round(value,2)))\n",
    "  if not topics:\n",
    "    topics.append((tweet[0][0], tweet[0][1]))\n",
    "  return topics  "
   ]
  },
  {
   "cell_type": "code",
   "execution_count": 130,
   "metadata": {},
   "outputs": [],
   "source": [
    "df_labels['labels'] = df_labels.apply(lambda x: get_labels(x, THRESHOLD), axis=1)"
   ]
  },
  {
   "cell_type": "code",
   "execution_count": 131,
   "metadata": {},
   "outputs": [],
   "source": [
    "df_labels = df_labels[['labels']]"
   ]
  },
  {
   "cell_type": "code",
   "execution_count": 132,
   "metadata": {},
   "outputs": [
    {
     "output_type": "execute_result",
     "data": {
      "text/plain": "                                                                                                                                                                                                                            labels\n1264253979002843136  [(livelihood, 0.43)]                                                                                                                                                                                         \n1264253893632016384  [(government, 0.82), (grievance, 0.72)]                                                                                                                                                                      \n1264253882580045824  [(income, 0.91), (livelihood, 0.88), (grievance, 0.82), (sympathy, 0.73)]                                                                                                                                    \n1264253658763612160  [(grievance, 0.98), (livelihood, 0.96), (sympathy, 0.92), (government, 0.88), (relief measures, 0.83), (resource availability, 0.81), (rescue, 0.71), (shelter, 0.69)]                                       \n1264253569525592064  [(grievance, 0.98), (livelihood, 0.96), (sympathy, 0.91), (resource availability, 0.83), (relief measures, 0.81), (rescue, 0.69), (income, 0.69), (government, 0.68), (shelter, 0.68), (infrastructure, 0.6)]",
      "text/html": "<div>\n<style scoped>\n    .dataframe tbody tr th:only-of-type {\n        vertical-align: middle;\n    }\n\n    .dataframe tbody tr th {\n        vertical-align: top;\n    }\n\n    .dataframe thead th {\n        text-align: right;\n    }\n</style>\n<table border=\"1\" class=\"dataframe\">\n  <thead>\n    <tr style=\"text-align: right;\">\n      <th></th>\n      <th>labels</th>\n    </tr>\n  </thead>\n  <tbody>\n    <tr>\n      <th>1264253979002843136</th>\n      <td>[(livelihood, 0.43)]</td>\n    </tr>\n    <tr>\n      <th>1264253893632016384</th>\n      <td>[(government, 0.82), (grievance, 0.72)]</td>\n    </tr>\n    <tr>\n      <th>1264253882580045824</th>\n      <td>[(income, 0.91), (livelihood, 0.88), (grievance, 0.82), (sympathy, 0.73)]</td>\n    </tr>\n    <tr>\n      <th>1264253658763612160</th>\n      <td>[(grievance, 0.98), (livelihood, 0.96), (sympathy, 0.92), (government, 0.88), (relief measures, 0.83), (resource availability, 0.81), (rescue, 0.71), (shelter, 0.69)]</td>\n    </tr>\n    <tr>\n      <th>1264253569525592064</th>\n      <td>[(grievance, 0.98), (livelihood, 0.96), (sympathy, 0.91), (resource availability, 0.83), (relief measures, 0.81), (rescue, 0.69), (income, 0.69), (government, 0.68), (shelter, 0.68), (infrastructure, 0.6)]</td>\n    </tr>\n  </tbody>\n</table>\n</div>"
     },
     "metadata": {},
     "execution_count": 132
    }
   ],
   "source": [
    "df_labels.head()"
   ]
  },
  {
   "cell_type": "markdown",
   "metadata": {},
   "source": [
    "## Merging the tweet labels and user information"
   ]
  },
  {
   "cell_type": "code",
   "execution_count": 133,
   "metadata": {},
   "outputs": [],
   "source": [
    "df_tweet_labels = pd.merge(df_tweets, df_labels, left_index=True, right_index=True)"
   ]
  },
  {
   "cell_type": "code",
   "execution_count": 134,
   "metadata": {},
   "outputs": [
    {
     "output_type": "execute_result",
     "data": {
      "text/plain": "                                 user_id             name  \\\n1262961673708675072  1245962651630534656  newspointpn       \n1262961660932894720  926838660049158144   Vishal Tripathi   \n1262961652359729152  1108690827658711040  MJ News           \n1262937945214005248  1108690827658711040  MJ News           \n1262961522994806784  27608007             Sourabh Mathur    \n\n                                                                                                                                            description  \\\n1262961673708675072  None                                                                                                                                 \n1262961660932894720  Get The Best                                                                                                                         \n1262961652359729152  News, Media, Smartphone, Tech, Review & More https://www.facebook.com/mobilejudgement/                                               \n1262937945214005248  News, Media, Smartphone, Tech, Review & More https://www.facebook.com/mobilejudgement/                                               \n1262961522994806784  Founder & CEO of @esanosys,\\n #MarketingAutomation #MarTech #CRM #Marketing #Startup #Entrepreneur\\nमुझे भारतीय होने पर गर्व है 🇮🇳   \n\n                                                                                                                                                                                                                                                                                                     full_text  \\\n1262961673708675072  Live Cyclone Amphan Map: Tracking the Storm’s Path https://t.co/CvPTrhe4r3                                                                                                                                                                                                                  \n1262961660932894720  NYT Live Cyclone Amphan Map: Tracking the Storm’s Path https://t.co/t6vyqfQSjS                                                                                                                                                                                                              \n1262961652359729152  LIVE Now news update on Super Cyclone Amphan  #AmphanUpdate #CycloneAmphan #AmphanCyclone #CycloneAmphanUpdate \\n120 km nearly south of Paradip (Odisha), \\n200 km south-southwest of Digha (West Bengal) and \\n360 km south-southwest of Khepupara (Bangladesh). https://t.co/xi9OImeXCe   \n1262937945214005248  LIVE news update on Super Cyclone Amphan  #AmphanUpdate #CycloneAmphan #AmphanCyclone #CycloneAmphanUpdate \\n125 km nearly south of Paradip (Odisha), \\n225 km south-southwest of Digha (West Bengal) and \\n380 km south-southwest of Khepupara (Bangladesh). https://t.co/RcApLEBp5K       \n1262961522994806784  Stay safe Odisha and West Bengal #AmphanUpdates #Amphan #AmphanSuperCyclone https://t.co/VnWegOcgrD                                                                                                                                                                                         \n\n                     verified         location  retweet_count  \\\n1262961673708675072  False     None             0               \n1262961660932894720  False     Varanasi, India  0               \n1262961652359729152  False     India            0               \n1262937945214005248  False     India            0               \n1262961522994806784  False     Global           0               \n\n                     followers_count  sentiment  \\\n1262961673708675072  2                0.0000      \n1262961660932894720  76               0.0000      \n1262961652359729152  48               0.5994      \n1262937945214005248  48               0.5994      \n1262961522994806784  2473             0.4404      \n\n                                                                                           labels  \n1262961673708675072  [(livelihood, 0.29)]                                                          \n1262961660932894720  [(news updates, 0.93)]                                                        \n1262961652359729152  [(news updates, 1.0), (internet, 0.82), (shelter, 0.6)]                       \n1262937945214005248  [(news updates, 1.0), (internet, 0.84)]                                       \n1262961522994806784  [(news updates, 0.97), (shelter, 0.89), (sympathy, 0.78), (livelihood, 0.6)]  ",
      "text/html": "<div>\n<style scoped>\n    .dataframe tbody tr th:only-of-type {\n        vertical-align: middle;\n    }\n\n    .dataframe tbody tr th {\n        vertical-align: top;\n    }\n\n    .dataframe thead th {\n        text-align: right;\n    }\n</style>\n<table border=\"1\" class=\"dataframe\">\n  <thead>\n    <tr style=\"text-align: right;\">\n      <th></th>\n      <th>user_id</th>\n      <th>name</th>\n      <th>description</th>\n      <th>full_text</th>\n      <th>verified</th>\n      <th>location</th>\n      <th>retweet_count</th>\n      <th>followers_count</th>\n      <th>sentiment</th>\n      <th>labels</th>\n    </tr>\n  </thead>\n  <tbody>\n    <tr>\n      <th>1262961673708675072</th>\n      <td>1245962651630534656</td>\n      <td>newspointpn</td>\n      <td>None</td>\n      <td>Live Cyclone Amphan Map: Tracking the Storm’s Path https://t.co/CvPTrhe4r3</td>\n      <td>False</td>\n      <td>None</td>\n      <td>0</td>\n      <td>2</td>\n      <td>0.0000</td>\n      <td>[(livelihood, 0.29)]</td>\n    </tr>\n    <tr>\n      <th>1262961660932894720</th>\n      <td>926838660049158144</td>\n      <td>Vishal Tripathi</td>\n      <td>Get The Best</td>\n      <td>NYT Live Cyclone Amphan Map: Tracking the Storm’s Path https://t.co/t6vyqfQSjS</td>\n      <td>False</td>\n      <td>Varanasi, India</td>\n      <td>0</td>\n      <td>76</td>\n      <td>0.0000</td>\n      <td>[(news updates, 0.93)]</td>\n    </tr>\n    <tr>\n      <th>1262961652359729152</th>\n      <td>1108690827658711040</td>\n      <td>MJ News</td>\n      <td>News, Media, Smartphone, Tech, Review &amp; More https://www.facebook.com/mobilejudgement/</td>\n      <td>LIVE Now news update on Super Cyclone Amphan  #AmphanUpdate #CycloneAmphan #AmphanCyclone #CycloneAmphanUpdate \\n120 km nearly south of Paradip (Odisha), \\n200 km south-southwest of Digha (West Bengal) and \\n360 km south-southwest of Khepupara (Bangladesh). https://t.co/xi9OImeXCe</td>\n      <td>False</td>\n      <td>India</td>\n      <td>0</td>\n      <td>48</td>\n      <td>0.5994</td>\n      <td>[(news updates, 1.0), (internet, 0.82), (shelter, 0.6)]</td>\n    </tr>\n    <tr>\n      <th>1262937945214005248</th>\n      <td>1108690827658711040</td>\n      <td>MJ News</td>\n      <td>News, Media, Smartphone, Tech, Review &amp; More https://www.facebook.com/mobilejudgement/</td>\n      <td>LIVE news update on Super Cyclone Amphan  #AmphanUpdate #CycloneAmphan #AmphanCyclone #CycloneAmphanUpdate \\n125 km nearly south of Paradip (Odisha), \\n225 km south-southwest of Digha (West Bengal) and \\n380 km south-southwest of Khepupara (Bangladesh). https://t.co/RcApLEBp5K</td>\n      <td>False</td>\n      <td>India</td>\n      <td>0</td>\n      <td>48</td>\n      <td>0.5994</td>\n      <td>[(news updates, 1.0), (internet, 0.84)]</td>\n    </tr>\n    <tr>\n      <th>1262961522994806784</th>\n      <td>27608007</td>\n      <td>Sourabh Mathur</td>\n      <td>Founder &amp; CEO of @esanosys,\\n #MarketingAutomation #MarTech #CRM #Marketing #Startup #Entrepreneur\\nमुझे भारतीय होने पर गर्व है 🇮🇳</td>\n      <td>Stay safe Odisha and West Bengal #AmphanUpdates #Amphan #AmphanSuperCyclone https://t.co/VnWegOcgrD</td>\n      <td>False</td>\n      <td>Global</td>\n      <td>0</td>\n      <td>2473</td>\n      <td>0.4404</td>\n      <td>[(news updates, 0.97), (shelter, 0.89), (sympathy, 0.78), (livelihood, 0.6)]</td>\n    </tr>\n  </tbody>\n</table>\n</div>"
     },
     "metadata": {},
     "execution_count": 134
    }
   ],
   "source": [
    "df_tweet_labels.head()"
   ]
  },
  {
   "cell_type": "markdown",
   "metadata": {},
   "source": [
    "## Extracting Top N topics for Top N users"
   ]
  },
  {
   "cell_type": "code",
   "execution_count": 143,
   "metadata": {},
   "outputs": [],
   "source": [
    "N = 5\n",
    "topic_users = []\n",
    "for id, row in df_users.iterrows():\n",
    "    label_list = df_tweet_labels[df_tweet_labels['user_id']==id]['labels']    \n",
    "    label_counter = [item[0] for x in label_list for item in x]\n",
    "    top_n = sorted(Counter(label_counter), key = Counter(label_counter).get, reverse = True)[:N]\n",
    "    topic_users.append(top_n)"
   ]
  },
  {
   "cell_type": "code",
   "execution_count": 144,
   "metadata": {},
   "outputs": [],
   "source": [
    "df_users['labels'] = topic_users"
   ]
  },
  {
   "cell_type": "code",
   "execution_count": 145,
   "metadata": {},
   "outputs": [],
   "source": [
    "N = 500\n",
    "top_users = df_users.nlargest(N, 'popularity')"
   ]
  },
  {
   "cell_type": "code",
   "execution_count": 150,
   "metadata": {},
   "outputs": [
    {
     "output_type": "execute_result",
     "data": {
      "text/plain": "                          name  \\\nuser_id                          \n18839785    Narendra Modi        \n25073877    Donald J. Trump      \n471741741   PMO India            \n101311381   Shah Rukh Khan       \n759251      CNN                  \n939091      Joe Biden            \n428333      CNN Breaking News    \n807095      The New York Times   \n50393960    Bill Gates           \n31348594    Akshay Kumar         \n5402612     BBC Breaking News    \n3171712086  Rahul Gandhi         \n145125358   Amitabh Bachchan     \n71201743    Virat Kohli          \n52544275    Ivanka Trump         \n1447949844  Amit Shah            \n122453931   Imran Khan           \n2455740283  MrBeast              \n113419517   Hrithik Roshan       \n742143      BBC News (World)     \n\n                                                                                                                                                                 description  \\\nuser_id                                                                                                                                                                        \n18839785    Prime Minister of India                                                                                                                                            \n25073877    45th President of the United States of America🇺🇸                                                                                                                   \n471741741   Office of the Prime Minister of India                                                                                                                              \n101311381   None                                                                                                                                                               \n759251      It’s our job to #GoThere & tell the most difficult stories. Join us! For more breaking news updates follow @CNNBRK & download our app http://cnn.com/apps          \n939091      Senator, Vice President, 2020 candidate for President of the United States, husband to @DrBiden, proud father & grandfather. Loves ice cream, aviators & @Amtrak   \n428333      Breaking news from CNN Digital. Now 58M strong. Check @cnn for all things CNN, breaking and more. Download the app for custom alerts: http://cnn.com/apps          \n807095      News tips? Share them here: http://nyti.ms/2FVHq9v                                                                                                                 \n50393960    Sharing things I'm learning through my foundation work and other interests.                                                                                        \n31348594    None                                                                                                                                                               \n5402612     Breaking news alerts and updates from the BBC. For news, features, analysis follow @BBCWorld (international) or @BBCNews (UK). Latest sport news @BBCSport.        \n3171712086  This is the official account of Rahul Gandhi | Member of the Indian National Congress| Member of Parliament                                                        \n145125358   \"तुमने हमें पूज पूज कर पत्थर कर डाला ; वे जो हमपर जुमले कसते हैं हमें ज़िंदा तो समझते हैं \"~  हरिवंश राय  बच्चन                                                    \n71201743    The Official twitter account of Virat Kohli. Indian cricketer, gamer, car lover, loves soccer and an enthusiast.                                                   \n52544275    Wife, mother, sister, daughter. Advisor to POTUS on job creation + economic empowerment, workforce development & entrepreneurship. Personal Pg. Views are my own   \n1447949844  Union Home Minister, Government of India | MP, Gandhinagar Lok Sabha. http://www.instagram.com/amitshahofficial                                                    \n122453931   Prime Minister of Pakistan                                                                                                                                         \n2455740283  I want to make the world a better place before I die.                                                                                                              \n113419517   Man on mission- to live the best life possible come what may.                                                                                                      \n742143      News, features and analysis from the World's newsroom. Breaking news, follow @BBCBreaking. UK news, @BBCNews. Latest sports news @BBCSport                         \n\n            popularity  \\\nuser_id                  \n18839785    203.051266   \n25073877    94.913915    \n471741741   70.064629    \n101311381   66.985929    \n759251      66.521153    \n939091      61.171471    \n428333      56.391740    \n807095      54.310789    \n50393960    51.191212    \n31348594    45.007026    \n5402612     44.747414    \n3171712086  44.477278    \n145125358   43.465250    \n71201743    42.899768    \n52544275    40.574946    \n1447949844  39.166012    \n122453931   38.127588    \n2455740283  32.103827    \n113419517   31.865407    \n742143      31.013543    \n\n                                                                      labels  \nuser_id                                                                       \n18839785    [sympathy, relief measures, government, shelter, livelihood]      \n25073877    [grievance]                                                       \n471741741   [government, sympathy, relief measures, news updates, rescue]     \n101311381   [relief measures, shelter, infrastructure, sympathy]              \n759251      [relief measures, government, grievance, evacuation, shelter]     \n939091      [ecosystem]                                                       \n428333      [news updates, shelter, sympathy, livelihood]                     \n807095      [shelter, news updates, evacuation, livelihood, relief measures]  \n50393960    [relief measures]                                                 \n31348594    [relief measures, mobile network, shelter]                        \n5402612     [shelter]                                                         \n3171712086  [sympathy, grievance, news updates]                               \n145125358   [sympathy, mobile network]                                        \n71201743    [sympathy, livelihood, shelter]                                   \n52544275    [rescue, sympathy, evacuation]                                    \n1447949844  [government, relief measures, livelihood, sympathy, grievance]    \n122453931   [government, crime violence, livelihood, grievance]               \n2455740283  [internet, income, mobile network, ecosystem]                     \n113419517   [mobile network]                                                  \n742143      [shelter, relief measures, livelihood, sympathy, government]      ",
      "text/html": "<div>\n<style scoped>\n    .dataframe tbody tr th:only-of-type {\n        vertical-align: middle;\n    }\n\n    .dataframe tbody tr th {\n        vertical-align: top;\n    }\n\n    .dataframe thead th {\n        text-align: right;\n    }\n</style>\n<table border=\"1\" class=\"dataframe\">\n  <thead>\n    <tr style=\"text-align: right;\">\n      <th></th>\n      <th>name</th>\n      <th>description</th>\n      <th>popularity</th>\n      <th>labels</th>\n    </tr>\n    <tr>\n      <th>user_id</th>\n      <th></th>\n      <th></th>\n      <th></th>\n      <th></th>\n    </tr>\n  </thead>\n  <tbody>\n    <tr>\n      <th>18839785</th>\n      <td>Narendra Modi</td>\n      <td>Prime Minister of India</td>\n      <td>203.051266</td>\n      <td>[sympathy, relief measures, government, shelter, livelihood]</td>\n    </tr>\n    <tr>\n      <th>25073877</th>\n      <td>Donald J. Trump</td>\n      <td>45th President of the United States of America🇺🇸</td>\n      <td>94.913915</td>\n      <td>[grievance]</td>\n    </tr>\n    <tr>\n      <th>471741741</th>\n      <td>PMO India</td>\n      <td>Office of the Prime Minister of India</td>\n      <td>70.064629</td>\n      <td>[government, sympathy, relief measures, news updates, rescue]</td>\n    </tr>\n    <tr>\n      <th>101311381</th>\n      <td>Shah Rukh Khan</td>\n      <td>None</td>\n      <td>66.985929</td>\n      <td>[relief measures, shelter, infrastructure, sympathy]</td>\n    </tr>\n    <tr>\n      <th>759251</th>\n      <td>CNN</td>\n      <td>It’s our job to #GoThere &amp; tell the most difficult stories. Join us! For more breaking news updates follow @CNNBRK &amp; download our app http://cnn.com/apps</td>\n      <td>66.521153</td>\n      <td>[relief measures, government, grievance, evacuation, shelter]</td>\n    </tr>\n    <tr>\n      <th>939091</th>\n      <td>Joe Biden</td>\n      <td>Senator, Vice President, 2020 candidate for President of the United States, husband to @DrBiden, proud father &amp; grandfather. Loves ice cream, aviators &amp; @Amtrak</td>\n      <td>61.171471</td>\n      <td>[ecosystem]</td>\n    </tr>\n    <tr>\n      <th>428333</th>\n      <td>CNN Breaking News</td>\n      <td>Breaking news from CNN Digital. Now 58M strong. Check @cnn for all things CNN, breaking and more. Download the app for custom alerts: http://cnn.com/apps</td>\n      <td>56.391740</td>\n      <td>[news updates, shelter, sympathy, livelihood]</td>\n    </tr>\n    <tr>\n      <th>807095</th>\n      <td>The New York Times</td>\n      <td>News tips? Share them here: http://nyti.ms/2FVHq9v</td>\n      <td>54.310789</td>\n      <td>[shelter, news updates, evacuation, livelihood, relief measures]</td>\n    </tr>\n    <tr>\n      <th>50393960</th>\n      <td>Bill Gates</td>\n      <td>Sharing things I'm learning through my foundation work and other interests.</td>\n      <td>51.191212</td>\n      <td>[relief measures]</td>\n    </tr>\n    <tr>\n      <th>31348594</th>\n      <td>Akshay Kumar</td>\n      <td>None</td>\n      <td>45.007026</td>\n      <td>[relief measures, mobile network, shelter]</td>\n    </tr>\n    <tr>\n      <th>5402612</th>\n      <td>BBC Breaking News</td>\n      <td>Breaking news alerts and updates from the BBC. For news, features, analysis follow @BBCWorld (international) or @BBCNews (UK). Latest sport news @BBCSport.</td>\n      <td>44.747414</td>\n      <td>[shelter]</td>\n    </tr>\n    <tr>\n      <th>3171712086</th>\n      <td>Rahul Gandhi</td>\n      <td>This is the official account of Rahul Gandhi | Member of the Indian National Congress| Member of Parliament</td>\n      <td>44.477278</td>\n      <td>[sympathy, grievance, news updates]</td>\n    </tr>\n    <tr>\n      <th>145125358</th>\n      <td>Amitabh Bachchan</td>\n      <td>\"तुमने हमें पूज पूज कर पत्थर कर डाला ; वे जो हमपर जुमले कसते हैं हमें ज़िंदा तो समझते हैं \"~  हरिवंश राय  बच्चन</td>\n      <td>43.465250</td>\n      <td>[sympathy, mobile network]</td>\n    </tr>\n    <tr>\n      <th>71201743</th>\n      <td>Virat Kohli</td>\n      <td>The Official twitter account of Virat Kohli. Indian cricketer, gamer, car lover, loves soccer and an enthusiast.</td>\n      <td>42.899768</td>\n      <td>[sympathy, livelihood, shelter]</td>\n    </tr>\n    <tr>\n      <th>52544275</th>\n      <td>Ivanka Trump</td>\n      <td>Wife, mother, sister, daughter. Advisor to POTUS on job creation + economic empowerment, workforce development &amp; entrepreneurship. Personal Pg. Views are my own</td>\n      <td>40.574946</td>\n      <td>[rescue, sympathy, evacuation]</td>\n    </tr>\n    <tr>\n      <th>1447949844</th>\n      <td>Amit Shah</td>\n      <td>Union Home Minister, Government of India | MP, Gandhinagar Lok Sabha. http://www.instagram.com/amitshahofficial</td>\n      <td>39.166012</td>\n      <td>[government, relief measures, livelihood, sympathy, grievance]</td>\n    </tr>\n    <tr>\n      <th>122453931</th>\n      <td>Imran Khan</td>\n      <td>Prime Minister of Pakistan</td>\n      <td>38.127588</td>\n      <td>[government, crime violence, livelihood, grievance]</td>\n    </tr>\n    <tr>\n      <th>2455740283</th>\n      <td>MrBeast</td>\n      <td>I want to make the world a better place before I die.</td>\n      <td>32.103827</td>\n      <td>[internet, income, mobile network, ecosystem]</td>\n    </tr>\n    <tr>\n      <th>113419517</th>\n      <td>Hrithik Roshan</td>\n      <td>Man on mission- to live the best life possible come what may.</td>\n      <td>31.865407</td>\n      <td>[mobile network]</td>\n    </tr>\n    <tr>\n      <th>742143</th>\n      <td>BBC News (World)</td>\n      <td>News, features and analysis from the World's newsroom. Breaking news, follow @BBCBreaking. UK news, @BBCNews. Latest sports news @BBCSport</td>\n      <td>31.013543</td>\n      <td>[shelter, relief measures, livelihood, sympathy, government]</td>\n    </tr>\n  </tbody>\n</table>\n</div>"
     },
     "metadata": {},
     "execution_count": 150
    }
   ],
   "source": [
    "top_users[['name', 'description', 'popularity', 'labels']].head(20)"
   ]
  },
  {
   "cell_type": "markdown",
   "metadata": {},
   "source": [
    "## Label Distribution based on Popularity buckets"
   ]
  },
  {
   "cell_type": "code",
   "execution_count": 260,
   "metadata": {},
   "outputs": [],
   "source": [
    "'''Extracting the label distribution for users falling in the bucket - popularity>value'''\n",
    "def popularity_label_dist(value):\n",
    "    label_list = df_users[df_users['popularity']>value]['labels']\n",
    "    label_counter = Counter([item for x in label_list for item in x])\n",
    "    sum_val = sum(label_counter.values())\n",
    "    for la in label_counter.keys():\n",
    "        label_counter[la] = np.round(label_counter[la]/sum_val,2)\n",
    "    return label_counter"
   ]
  },
  {
   "cell_type": "code",
   "execution_count": 261,
   "metadata": {
    "tags": []
   },
   "outputs": [],
   "source": [
    "label_dist = popularity_label_dist(0)"
   ]
  },
  {
   "cell_type": "code",
   "execution_count": 262,
   "metadata": {},
   "outputs": [
    {
     "output_type": "display_data",
     "data": {
      "application/vnd.plotly.v1+json": {
       "config": {
        "plotlyServerURL": "https://plot.ly"
       },
       "data": [
        {
         "type": "bar",
         "x": [
          "shelter",
          "livelihood",
          "relief measures",
          "sympathy",
          "grievance",
          "news updates",
          "government",
          "evacuation",
          "ecosystem",
          "rescue",
          "infrastructure",
          "food supply",
          "power supply",
          "water supply",
          "mobile network",
          "resource availability",
          "internet",
          "medical assistance",
          "agriculture",
          "biodiversity",
          "utilities",
          "volunteers",
          "income",
          "crime violence"
         ],
         "y": [
          0.1,
          0.13,
          0.15,
          0.13,
          0.1,
          0.08,
          0.06,
          0.04,
          0.03,
          0.04,
          0.03,
          0.01,
          0.01,
          0.01,
          0.01,
          0.03,
          0.02,
          0.01,
          0,
          0,
          0.01,
          0,
          0,
          0.01
         ]
        }
       ],
       "layout": {
        "autosize": false,
        "height": 400,
        "margin": {
         "b": 20,
         "l": 20,
         "r": 20,
         "t": 40
        },
        "showlegend": false,
        "template": {
         "data": {
          "bar": [
           {
            "error_x": {
             "color": "#2a3f5f"
            },
            "error_y": {
             "color": "#2a3f5f"
            },
            "marker": {
             "line": {
              "color": "#E5ECF6",
              "width": 0.5
             }
            },
            "type": "bar"
           }
          ],
          "barpolar": [
           {
            "marker": {
             "line": {
              "color": "#E5ECF6",
              "width": 0.5
             }
            },
            "type": "barpolar"
           }
          ],
          "carpet": [
           {
            "aaxis": {
             "endlinecolor": "#2a3f5f",
             "gridcolor": "white",
             "linecolor": "white",
             "minorgridcolor": "white",
             "startlinecolor": "#2a3f5f"
            },
            "baxis": {
             "endlinecolor": "#2a3f5f",
             "gridcolor": "white",
             "linecolor": "white",
             "minorgridcolor": "white",
             "startlinecolor": "#2a3f5f"
            },
            "type": "carpet"
           }
          ],
          "choropleth": [
           {
            "colorbar": {
             "outlinewidth": 0,
             "ticks": ""
            },
            "type": "choropleth"
           }
          ],
          "contour": [
           {
            "colorbar": {
             "outlinewidth": 0,
             "ticks": ""
            },
            "colorscale": [
             [
              0,
              "#0d0887"
             ],
             [
              0.1111111111111111,
              "#46039f"
             ],
             [
              0.2222222222222222,
              "#7201a8"
             ],
             [
              0.3333333333333333,
              "#9c179e"
             ],
             [
              0.4444444444444444,
              "#bd3786"
             ],
             [
              0.5555555555555556,
              "#d8576b"
             ],
             [
              0.6666666666666666,
              "#ed7953"
             ],
             [
              0.7777777777777778,
              "#fb9f3a"
             ],
             [
              0.8888888888888888,
              "#fdca26"
             ],
             [
              1,
              "#f0f921"
             ]
            ],
            "type": "contour"
           }
          ],
          "contourcarpet": [
           {
            "colorbar": {
             "outlinewidth": 0,
             "ticks": ""
            },
            "type": "contourcarpet"
           }
          ],
          "heatmap": [
           {
            "colorbar": {
             "outlinewidth": 0,
             "ticks": ""
            },
            "colorscale": [
             [
              0,
              "#0d0887"
             ],
             [
              0.1111111111111111,
              "#46039f"
             ],
             [
              0.2222222222222222,
              "#7201a8"
             ],
             [
              0.3333333333333333,
              "#9c179e"
             ],
             [
              0.4444444444444444,
              "#bd3786"
             ],
             [
              0.5555555555555556,
              "#d8576b"
             ],
             [
              0.6666666666666666,
              "#ed7953"
             ],
             [
              0.7777777777777778,
              "#fb9f3a"
             ],
             [
              0.8888888888888888,
              "#fdca26"
             ],
             [
              1,
              "#f0f921"
             ]
            ],
            "type": "heatmap"
           }
          ],
          "heatmapgl": [
           {
            "colorbar": {
             "outlinewidth": 0,
             "ticks": ""
            },
            "colorscale": [
             [
              0,
              "#0d0887"
             ],
             [
              0.1111111111111111,
              "#46039f"
             ],
             [
              0.2222222222222222,
              "#7201a8"
             ],
             [
              0.3333333333333333,
              "#9c179e"
             ],
             [
              0.4444444444444444,
              "#bd3786"
             ],
             [
              0.5555555555555556,
              "#d8576b"
             ],
             [
              0.6666666666666666,
              "#ed7953"
             ],
             [
              0.7777777777777778,
              "#fb9f3a"
             ],
             [
              0.8888888888888888,
              "#fdca26"
             ],
             [
              1,
              "#f0f921"
             ]
            ],
            "type": "heatmapgl"
           }
          ],
          "histogram": [
           {
            "marker": {
             "colorbar": {
              "outlinewidth": 0,
              "ticks": ""
             }
            },
            "type": "histogram"
           }
          ],
          "histogram2d": [
           {
            "colorbar": {
             "outlinewidth": 0,
             "ticks": ""
            },
            "colorscale": [
             [
              0,
              "#0d0887"
             ],
             [
              0.1111111111111111,
              "#46039f"
             ],
             [
              0.2222222222222222,
              "#7201a8"
             ],
             [
              0.3333333333333333,
              "#9c179e"
             ],
             [
              0.4444444444444444,
              "#bd3786"
             ],
             [
              0.5555555555555556,
              "#d8576b"
             ],
             [
              0.6666666666666666,
              "#ed7953"
             ],
             [
              0.7777777777777778,
              "#fb9f3a"
             ],
             [
              0.8888888888888888,
              "#fdca26"
             ],
             [
              1,
              "#f0f921"
             ]
            ],
            "type": "histogram2d"
           }
          ],
          "histogram2dcontour": [
           {
            "colorbar": {
             "outlinewidth": 0,
             "ticks": ""
            },
            "colorscale": [
             [
              0,
              "#0d0887"
             ],
             [
              0.1111111111111111,
              "#46039f"
             ],
             [
              0.2222222222222222,
              "#7201a8"
             ],
             [
              0.3333333333333333,
              "#9c179e"
             ],
             [
              0.4444444444444444,
              "#bd3786"
             ],
             [
              0.5555555555555556,
              "#d8576b"
             ],
             [
              0.6666666666666666,
              "#ed7953"
             ],
             [
              0.7777777777777778,
              "#fb9f3a"
             ],
             [
              0.8888888888888888,
              "#fdca26"
             ],
             [
              1,
              "#f0f921"
             ]
            ],
            "type": "histogram2dcontour"
           }
          ],
          "mesh3d": [
           {
            "colorbar": {
             "outlinewidth": 0,
             "ticks": ""
            },
            "type": "mesh3d"
           }
          ],
          "parcoords": [
           {
            "line": {
             "colorbar": {
              "outlinewidth": 0,
              "ticks": ""
             }
            },
            "type": "parcoords"
           }
          ],
          "pie": [
           {
            "automargin": true,
            "type": "pie"
           }
          ],
          "scatter": [
           {
            "marker": {
             "colorbar": {
              "outlinewidth": 0,
              "ticks": ""
             }
            },
            "type": "scatter"
           }
          ],
          "scatter3d": [
           {
            "line": {
             "colorbar": {
              "outlinewidth": 0,
              "ticks": ""
             }
            },
            "marker": {
             "colorbar": {
              "outlinewidth": 0,
              "ticks": ""
             }
            },
            "type": "scatter3d"
           }
          ],
          "scattercarpet": [
           {
            "marker": {
             "colorbar": {
              "outlinewidth": 0,
              "ticks": ""
             }
            },
            "type": "scattercarpet"
           }
          ],
          "scattergeo": [
           {
            "marker": {
             "colorbar": {
              "outlinewidth": 0,
              "ticks": ""
             }
            },
            "type": "scattergeo"
           }
          ],
          "scattergl": [
           {
            "marker": {
             "colorbar": {
              "outlinewidth": 0,
              "ticks": ""
             }
            },
            "type": "scattergl"
           }
          ],
          "scattermapbox": [
           {
            "marker": {
             "colorbar": {
              "outlinewidth": 0,
              "ticks": ""
             }
            },
            "type": "scattermapbox"
           }
          ],
          "scatterpolar": [
           {
            "marker": {
             "colorbar": {
              "outlinewidth": 0,
              "ticks": ""
             }
            },
            "type": "scatterpolar"
           }
          ],
          "scatterpolargl": [
           {
            "marker": {
             "colorbar": {
              "outlinewidth": 0,
              "ticks": ""
             }
            },
            "type": "scatterpolargl"
           }
          ],
          "scatterternary": [
           {
            "marker": {
             "colorbar": {
              "outlinewidth": 0,
              "ticks": ""
             }
            },
            "type": "scatterternary"
           }
          ],
          "surface": [
           {
            "colorbar": {
             "outlinewidth": 0,
             "ticks": ""
            },
            "colorscale": [
             [
              0,
              "#0d0887"
             ],
             [
              0.1111111111111111,
              "#46039f"
             ],
             [
              0.2222222222222222,
              "#7201a8"
             ],
             [
              0.3333333333333333,
              "#9c179e"
             ],
             [
              0.4444444444444444,
              "#bd3786"
             ],
             [
              0.5555555555555556,
              "#d8576b"
             ],
             [
              0.6666666666666666,
              "#ed7953"
             ],
             [
              0.7777777777777778,
              "#fb9f3a"
             ],
             [
              0.8888888888888888,
              "#fdca26"
             ],
             [
              1,
              "#f0f921"
             ]
            ],
            "type": "surface"
           }
          ],
          "table": [
           {
            "cells": {
             "fill": {
              "color": "#EBF0F8"
             },
             "line": {
              "color": "white"
             }
            },
            "header": {
             "fill": {
              "color": "#C8D4E3"
             },
             "line": {
              "color": "white"
             }
            },
            "type": "table"
           }
          ]
         },
         "layout": {
          "annotationdefaults": {
           "arrowcolor": "#2a3f5f",
           "arrowhead": 0,
           "arrowwidth": 1
          },
          "coloraxis": {
           "colorbar": {
            "outlinewidth": 0,
            "ticks": ""
           }
          },
          "colorscale": {
           "diverging": [
            [
             0,
             "#8e0152"
            ],
            [
             0.1,
             "#c51b7d"
            ],
            [
             0.2,
             "#de77ae"
            ],
            [
             0.3,
             "#f1b6da"
            ],
            [
             0.4,
             "#fde0ef"
            ],
            [
             0.5,
             "#f7f7f7"
            ],
            [
             0.6,
             "#e6f5d0"
            ],
            [
             0.7,
             "#b8e186"
            ],
            [
             0.8,
             "#7fbc41"
            ],
            [
             0.9,
             "#4d9221"
            ],
            [
             1,
             "#276419"
            ]
           ],
           "sequential": [
            [
             0,
             "#0d0887"
            ],
            [
             0.1111111111111111,
             "#46039f"
            ],
            [
             0.2222222222222222,
             "#7201a8"
            ],
            [
             0.3333333333333333,
             "#9c179e"
            ],
            [
             0.4444444444444444,
             "#bd3786"
            ],
            [
             0.5555555555555556,
             "#d8576b"
            ],
            [
             0.6666666666666666,
             "#ed7953"
            ],
            [
             0.7777777777777778,
             "#fb9f3a"
            ],
            [
             0.8888888888888888,
             "#fdca26"
            ],
            [
             1,
             "#f0f921"
            ]
           ],
           "sequentialminus": [
            [
             0,
             "#0d0887"
            ],
            [
             0.1111111111111111,
             "#46039f"
            ],
            [
             0.2222222222222222,
             "#7201a8"
            ],
            [
             0.3333333333333333,
             "#9c179e"
            ],
            [
             0.4444444444444444,
             "#bd3786"
            ],
            [
             0.5555555555555556,
             "#d8576b"
            ],
            [
             0.6666666666666666,
             "#ed7953"
            ],
            [
             0.7777777777777778,
             "#fb9f3a"
            ],
            [
             0.8888888888888888,
             "#fdca26"
            ],
            [
             1,
             "#f0f921"
            ]
           ]
          },
          "colorway": [
           "#636efa",
           "#EF553B",
           "#00cc96",
           "#ab63fa",
           "#FFA15A",
           "#19d3f3",
           "#FF6692",
           "#B6E880",
           "#FF97FF",
           "#FECB52"
          ],
          "font": {
           "color": "#2a3f5f"
          },
          "geo": {
           "bgcolor": "white",
           "lakecolor": "white",
           "landcolor": "#E5ECF6",
           "showlakes": true,
           "showland": true,
           "subunitcolor": "white"
          },
          "hoverlabel": {
           "align": "left"
          },
          "hovermode": "closest",
          "mapbox": {
           "style": "light"
          },
          "paper_bgcolor": "white",
          "plot_bgcolor": "#E5ECF6",
          "polar": {
           "angularaxis": {
            "gridcolor": "white",
            "linecolor": "white",
            "ticks": ""
           },
           "bgcolor": "#E5ECF6",
           "radialaxis": {
            "gridcolor": "white",
            "linecolor": "white",
            "ticks": ""
           }
          },
          "scene": {
           "xaxis": {
            "backgroundcolor": "#E5ECF6",
            "gridcolor": "white",
            "gridwidth": 2,
            "linecolor": "white",
            "showbackground": true,
            "ticks": "",
            "zerolinecolor": "white"
           },
           "yaxis": {
            "backgroundcolor": "#E5ECF6",
            "gridcolor": "white",
            "gridwidth": 2,
            "linecolor": "white",
            "showbackground": true,
            "ticks": "",
            "zerolinecolor": "white"
           },
           "zaxis": {
            "backgroundcolor": "#E5ECF6",
            "gridcolor": "white",
            "gridwidth": 2,
            "linecolor": "white",
            "showbackground": true,
            "ticks": "",
            "zerolinecolor": "white"
           }
          },
          "shapedefaults": {
           "line": {
            "color": "#2a3f5f"
           }
          },
          "ternary": {
           "aaxis": {
            "gridcolor": "white",
            "linecolor": "white",
            "ticks": ""
           },
           "baxis": {
            "gridcolor": "white",
            "linecolor": "white",
            "ticks": ""
           },
           "bgcolor": "#E5ECF6",
           "caxis": {
            "gridcolor": "white",
            "linecolor": "white",
            "ticks": ""
           }
          },
          "title": {
           "x": 0.05
          },
          "xaxis": {
           "automargin": true,
           "gridcolor": "white",
           "linecolor": "white",
           "ticks": "",
           "title": {
            "standoff": 15
           },
           "zerolinecolor": "white",
           "zerolinewidth": 2
          },
          "yaxis": {
           "automargin": true,
           "gridcolor": "white",
           "linecolor": "white",
           "ticks": "",
           "title": {
            "standoff": 15
           },
           "zerolinecolor": "white",
           "zerolinewidth": 2
          }
         }
        },
        "title": {
         "text": "Percentage Contribution per Label"
        },
        "width": 1000
       }
      },
      "text/html": "<div>\n        \n        \n            <div id=\"31421075-0ca7-4f76-9607-8381640e3729\" class=\"plotly-graph-div\" style=\"height:400px; width:1000px;\"></div>\n            <script type=\"text/javascript\">\n                require([\"plotly\"], function(Plotly) {\n                    window.PLOTLYENV=window.PLOTLYENV || {};\n                    \n                if (document.getElementById(\"31421075-0ca7-4f76-9607-8381640e3729\")) {\n                    Plotly.newPlot(\n                        '31421075-0ca7-4f76-9607-8381640e3729',\n                        [{\"type\": \"bar\", \"x\": [\"shelter\", \"livelihood\", \"relief measures\", \"sympathy\", \"grievance\", \"news updates\", \"government\", \"evacuation\", \"ecosystem\", \"rescue\", \"infrastructure\", \"food supply\", \"power supply\", \"water supply\", \"mobile network\", \"resource availability\", \"internet\", \"medical assistance\", \"agriculture\", \"biodiversity\", \"utilities\", \"volunteers\", \"income\", \"crime violence\"], \"y\": [0.1, 0.13, 0.15, 0.13, 0.1, 0.08, 0.06, 0.04, 0.03, 0.04, 0.03, 0.01, 0.01, 0.01, 0.01, 0.03, 0.02, 0.01, 0.0, 0.0, 0.01, 0.0, 0.0, 0.01]}],\n                        {\"autosize\": false, \"height\": 400, \"margin\": {\"b\": 20, \"l\": 20, \"r\": 20, \"t\": 40}, \"showlegend\": false, \"template\": {\"data\": {\"bar\": [{\"error_x\": {\"color\": \"#2a3f5f\"}, \"error_y\": {\"color\": \"#2a3f5f\"}, \"marker\": {\"line\": {\"color\": \"#E5ECF6\", \"width\": 0.5}}, \"type\": \"bar\"}], \"barpolar\": [{\"marker\": {\"line\": {\"color\": \"#E5ECF6\", \"width\": 0.5}}, \"type\": \"barpolar\"}], \"carpet\": [{\"aaxis\": {\"endlinecolor\": \"#2a3f5f\", \"gridcolor\": \"white\", \"linecolor\": \"white\", \"minorgridcolor\": \"white\", \"startlinecolor\": \"#2a3f5f\"}, \"baxis\": {\"endlinecolor\": \"#2a3f5f\", \"gridcolor\": \"white\", \"linecolor\": \"white\", \"minorgridcolor\": \"white\", \"startlinecolor\": \"#2a3f5f\"}, \"type\": \"carpet\"}], \"choropleth\": [{\"colorbar\": {\"outlinewidth\": 0, \"ticks\": \"\"}, \"type\": \"choropleth\"}], \"contour\": [{\"colorbar\": {\"outlinewidth\": 0, \"ticks\": \"\"}, \"colorscale\": [[0.0, \"#0d0887\"], [0.1111111111111111, \"#46039f\"], [0.2222222222222222, \"#7201a8\"], [0.3333333333333333, \"#9c179e\"], [0.4444444444444444, \"#bd3786\"], [0.5555555555555556, \"#d8576b\"], [0.6666666666666666, \"#ed7953\"], [0.7777777777777778, \"#fb9f3a\"], [0.8888888888888888, \"#fdca26\"], [1.0, \"#f0f921\"]], \"type\": \"contour\"}], \"contourcarpet\": [{\"colorbar\": {\"outlinewidth\": 0, \"ticks\": \"\"}, \"type\": \"contourcarpet\"}], \"heatmap\": [{\"colorbar\": {\"outlinewidth\": 0, \"ticks\": \"\"}, \"colorscale\": [[0.0, \"#0d0887\"], [0.1111111111111111, \"#46039f\"], [0.2222222222222222, \"#7201a8\"], [0.3333333333333333, \"#9c179e\"], [0.4444444444444444, \"#bd3786\"], [0.5555555555555556, \"#d8576b\"], [0.6666666666666666, \"#ed7953\"], [0.7777777777777778, \"#fb9f3a\"], [0.8888888888888888, \"#fdca26\"], [1.0, \"#f0f921\"]], \"type\": \"heatmap\"}], \"heatmapgl\": [{\"colorbar\": {\"outlinewidth\": 0, \"ticks\": \"\"}, \"colorscale\": [[0.0, \"#0d0887\"], [0.1111111111111111, \"#46039f\"], [0.2222222222222222, \"#7201a8\"], [0.3333333333333333, \"#9c179e\"], [0.4444444444444444, \"#bd3786\"], [0.5555555555555556, \"#d8576b\"], [0.6666666666666666, \"#ed7953\"], [0.7777777777777778, \"#fb9f3a\"], [0.8888888888888888, \"#fdca26\"], [1.0, \"#f0f921\"]], \"type\": \"heatmapgl\"}], \"histogram\": [{\"marker\": {\"colorbar\": {\"outlinewidth\": 0, \"ticks\": \"\"}}, \"type\": \"histogram\"}], \"histogram2d\": [{\"colorbar\": {\"outlinewidth\": 0, \"ticks\": \"\"}, \"colorscale\": [[0.0, \"#0d0887\"], [0.1111111111111111, \"#46039f\"], [0.2222222222222222, \"#7201a8\"], [0.3333333333333333, \"#9c179e\"], [0.4444444444444444, \"#bd3786\"], [0.5555555555555556, \"#d8576b\"], [0.6666666666666666, \"#ed7953\"], [0.7777777777777778, \"#fb9f3a\"], [0.8888888888888888, \"#fdca26\"], [1.0, \"#f0f921\"]], \"type\": \"histogram2d\"}], \"histogram2dcontour\": [{\"colorbar\": {\"outlinewidth\": 0, \"ticks\": \"\"}, \"colorscale\": [[0.0, \"#0d0887\"], [0.1111111111111111, \"#46039f\"], [0.2222222222222222, \"#7201a8\"], [0.3333333333333333, \"#9c179e\"], [0.4444444444444444, \"#bd3786\"], [0.5555555555555556, \"#d8576b\"], [0.6666666666666666, \"#ed7953\"], [0.7777777777777778, \"#fb9f3a\"], [0.8888888888888888, \"#fdca26\"], [1.0, \"#f0f921\"]], \"type\": \"histogram2dcontour\"}], \"mesh3d\": [{\"colorbar\": {\"outlinewidth\": 0, \"ticks\": \"\"}, \"type\": \"mesh3d\"}], \"parcoords\": [{\"line\": {\"colorbar\": {\"outlinewidth\": 0, \"ticks\": \"\"}}, \"type\": \"parcoords\"}], \"pie\": [{\"automargin\": true, \"type\": \"pie\"}], \"scatter\": [{\"marker\": {\"colorbar\": {\"outlinewidth\": 0, \"ticks\": \"\"}}, \"type\": \"scatter\"}], \"scatter3d\": [{\"line\": {\"colorbar\": {\"outlinewidth\": 0, \"ticks\": \"\"}}, \"marker\": {\"colorbar\": {\"outlinewidth\": 0, \"ticks\": \"\"}}, \"type\": \"scatter3d\"}], \"scattercarpet\": [{\"marker\": {\"colorbar\": {\"outlinewidth\": 0, \"ticks\": \"\"}}, \"type\": \"scattercarpet\"}], \"scattergeo\": [{\"marker\": {\"colorbar\": {\"outlinewidth\": 0, \"ticks\": \"\"}}, \"type\": \"scattergeo\"}], \"scattergl\": [{\"marker\": {\"colorbar\": {\"outlinewidth\": 0, \"ticks\": \"\"}}, \"type\": \"scattergl\"}], \"scattermapbox\": [{\"marker\": {\"colorbar\": {\"outlinewidth\": 0, \"ticks\": \"\"}}, \"type\": \"scattermapbox\"}], \"scatterpolar\": [{\"marker\": {\"colorbar\": {\"outlinewidth\": 0, \"ticks\": \"\"}}, \"type\": \"scatterpolar\"}], \"scatterpolargl\": [{\"marker\": {\"colorbar\": {\"outlinewidth\": 0, \"ticks\": \"\"}}, \"type\": \"scatterpolargl\"}], \"scatterternary\": [{\"marker\": {\"colorbar\": {\"outlinewidth\": 0, \"ticks\": \"\"}}, \"type\": \"scatterternary\"}], \"surface\": [{\"colorbar\": {\"outlinewidth\": 0, \"ticks\": \"\"}, \"colorscale\": [[0.0, \"#0d0887\"], [0.1111111111111111, \"#46039f\"], [0.2222222222222222, \"#7201a8\"], [0.3333333333333333, \"#9c179e\"], [0.4444444444444444, \"#bd3786\"], [0.5555555555555556, \"#d8576b\"], [0.6666666666666666, \"#ed7953\"], [0.7777777777777778, \"#fb9f3a\"], [0.8888888888888888, \"#fdca26\"], [1.0, \"#f0f921\"]], \"type\": \"surface\"}], \"table\": [{\"cells\": {\"fill\": {\"color\": \"#EBF0F8\"}, \"line\": {\"color\": \"white\"}}, \"header\": {\"fill\": {\"color\": \"#C8D4E3\"}, \"line\": {\"color\": \"white\"}}, \"type\": \"table\"}]}, \"layout\": {\"annotationdefaults\": {\"arrowcolor\": \"#2a3f5f\", \"arrowhead\": 0, \"arrowwidth\": 1}, \"coloraxis\": {\"colorbar\": {\"outlinewidth\": 0, \"ticks\": \"\"}}, \"colorscale\": {\"diverging\": [[0, \"#8e0152\"], [0.1, \"#c51b7d\"], [0.2, \"#de77ae\"], [0.3, \"#f1b6da\"], [0.4, \"#fde0ef\"], [0.5, \"#f7f7f7\"], [0.6, \"#e6f5d0\"], [0.7, \"#b8e186\"], [0.8, \"#7fbc41\"], [0.9, \"#4d9221\"], [1, \"#276419\"]], \"sequential\": [[0.0, \"#0d0887\"], [0.1111111111111111, \"#46039f\"], [0.2222222222222222, \"#7201a8\"], [0.3333333333333333, \"#9c179e\"], [0.4444444444444444, \"#bd3786\"], [0.5555555555555556, \"#d8576b\"], [0.6666666666666666, \"#ed7953\"], [0.7777777777777778, \"#fb9f3a\"], [0.8888888888888888, \"#fdca26\"], [1.0, \"#f0f921\"]], \"sequentialminus\": [[0.0, \"#0d0887\"], [0.1111111111111111, \"#46039f\"], [0.2222222222222222, \"#7201a8\"], [0.3333333333333333, \"#9c179e\"], [0.4444444444444444, \"#bd3786\"], [0.5555555555555556, \"#d8576b\"], [0.6666666666666666, \"#ed7953\"], [0.7777777777777778, \"#fb9f3a\"], [0.8888888888888888, \"#fdca26\"], [1.0, \"#f0f921\"]]}, \"colorway\": [\"#636efa\", \"#EF553B\", \"#00cc96\", \"#ab63fa\", \"#FFA15A\", \"#19d3f3\", \"#FF6692\", \"#B6E880\", \"#FF97FF\", \"#FECB52\"], \"font\": {\"color\": \"#2a3f5f\"}, \"geo\": {\"bgcolor\": \"white\", \"lakecolor\": \"white\", \"landcolor\": \"#E5ECF6\", \"showlakes\": true, \"showland\": true, \"subunitcolor\": \"white\"}, \"hoverlabel\": {\"align\": \"left\"}, \"hovermode\": \"closest\", \"mapbox\": {\"style\": \"light\"}, \"paper_bgcolor\": \"white\", \"plot_bgcolor\": \"#E5ECF6\", \"polar\": {\"angularaxis\": {\"gridcolor\": \"white\", \"linecolor\": \"white\", \"ticks\": \"\"}, \"bgcolor\": \"#E5ECF6\", \"radialaxis\": {\"gridcolor\": \"white\", \"linecolor\": \"white\", \"ticks\": \"\"}}, \"scene\": {\"xaxis\": {\"backgroundcolor\": \"#E5ECF6\", \"gridcolor\": \"white\", \"gridwidth\": 2, \"linecolor\": \"white\", \"showbackground\": true, \"ticks\": \"\", \"zerolinecolor\": \"white\"}, \"yaxis\": {\"backgroundcolor\": \"#E5ECF6\", \"gridcolor\": \"white\", \"gridwidth\": 2, \"linecolor\": \"white\", \"showbackground\": true, \"ticks\": \"\", \"zerolinecolor\": \"white\"}, \"zaxis\": {\"backgroundcolor\": \"#E5ECF6\", \"gridcolor\": \"white\", \"gridwidth\": 2, \"linecolor\": \"white\", \"showbackground\": true, \"ticks\": \"\", \"zerolinecolor\": \"white\"}}, \"shapedefaults\": {\"line\": {\"color\": \"#2a3f5f\"}}, \"ternary\": {\"aaxis\": {\"gridcolor\": \"white\", \"linecolor\": \"white\", \"ticks\": \"\"}, \"baxis\": {\"gridcolor\": \"white\", \"linecolor\": \"white\", \"ticks\": \"\"}, \"bgcolor\": \"#E5ECF6\", \"caxis\": {\"gridcolor\": \"white\", \"linecolor\": \"white\", \"ticks\": \"\"}}, \"title\": {\"x\": 0.05}, \"xaxis\": {\"automargin\": true, \"gridcolor\": \"white\", \"linecolor\": \"white\", \"ticks\": \"\", \"title\": {\"standoff\": 15}, \"zerolinecolor\": \"white\", \"zerolinewidth\": 2}, \"yaxis\": {\"automargin\": true, \"gridcolor\": \"white\", \"linecolor\": \"white\", \"ticks\": \"\", \"title\": {\"standoff\": 15}, \"zerolinecolor\": \"white\", \"zerolinewidth\": 2}}}, \"title\": {\"text\": \"Percentage Contribution per Label\"}, \"width\": 1000},\n                        {\"responsive\": true}\n                    ).then(function(){\n                            \nvar gd = document.getElementById('31421075-0ca7-4f76-9607-8381640e3729');\nvar x = new MutationObserver(function (mutations, observer) {{\n        var display = window.getComputedStyle(gd).display;\n        if (!display || display === 'none') {{\n            console.log([gd, 'removed!']);\n            Plotly.purge(gd);\n            observer.disconnect();\n        }}\n}});\n\n// Listen for the removal of the full notebook cells\nvar notebookContainer = gd.closest('#notebook-container');\nif (notebookContainer) {{\n    x.observe(notebookContainer, {childList: true});\n}}\n\n// Listen for the clearing of the current output cell\nvar outputEl = gd.closest('.output');\nif (outputEl) {{\n    x.observe(outputEl, {childList: true});\n}}\n\n                        })\n                };\n                });\n            </script>\n        </div>"
     },
     "metadata": {}
    }
   ],
   "source": [
    "fig = go.Figure()\n",
    "\n",
    "fig.add_trace(go.Bar(y=list(label_dist.values()), x=list(label_dist.keys())))\n",
    "\n",
    "fig.update_layout(\n",
    "    title='Percentage Contribution per Label',\n",
    "    autosize=False,\n",
    "    width=1000,\n",
    "    height=400,\n",
    "    margin=dict(l=20, r=20, t=40, b=20),\n",
    "    showlegend=False\n",
    ")\n",
    "\n",
    "fig.show()"
   ]
  },
  {
   "cell_type": "code",
   "execution_count": null,
   "metadata": {},
   "outputs": [],
   "source": []
  }
 ]
}