{
 "cells": [
  {
   "cell_type": "markdown",
   "metadata": {},
   "source": [
    "# Testing Data Modelling Techniques\n",
    "\n",
    "This notebook is a complete mess. I'll make it clean later on (still testing some stuff).\n",
    "\n",
    "Techniques to be tested:\n",
    "- User2Vec\n",
    "- Network Analysis (Tweets)\n",
    "- Network Analysis (Users)\n",
    "- Popular vs unpopular users identification\n",
    "- Topic Modelling\n",
    "- Text summarization"
   ]
  },
  {
   "cell_type": "code",
   "execution_count": 22,
   "metadata": {},
   "outputs": [],
   "source": [
    "from elasticsearch import Elasticsearch\n",
    "import pandas as pd\n",
    "import numpy as np\n",
    "import eland as ed\n",
    "import networkx as nx\n",
    "\n",
    "# uncomment this if database is not already open (and give ES a couple minutes to set up)\n",
    "#!make database\n",
    "\n",
    "es = Elasticsearch(['localhost'])"
   ]
  },
  {
   "cell_type": "code",
   "execution_count": null,
   "metadata": {},
   "outputs": [],
   "source": [
    "# drop empty coluns\n",
    "ed_df = ed.read_es('localhost', 'twitter')\n",
    "\n",
    "df = ed_df[\n",
    "    ['tweet_id', 'name', 'full_text_processed',\n",
    "    'original_tweet_id_str', 'quoted_status_id_str', 'in_reply_to_status_id_str',\n",
    "    'is_quote_status', 'is_retweet', 'is_reply', 'is_translator', 'is_original']\n",
    "].to_pandas().fillna(np.nan)"
   ]
  },
  {
   "cell_type": "markdown",
   "metadata": {},
   "source": [
    "## Network Analysis (Tweets)\n",
    "There is possibly little to no information to be taken from this section, but I kept it anyway."
   ]
  },
  {
   "cell_type": "code",
   "execution_count": 16,
   "metadata": {},
   "outputs": [],
   "source": [
    "df_network = ed_df[\n",
    "    ['tweet_id', \n",
    "    'original_tweet_id_str', 'quoted_status_id_str', 'in_reply_to_status_id_str',\n",
    "    'is_quote_status', 'is_retweet', 'is_reply', 'is_translator', 'is_original']\n",
    "].to_pandas().fillna(np.nan).rename(columns={'tweet_id': 'target'})"
   ]
  },
  {
   "cell_type": "code",
   "execution_count": 17,
   "metadata": {},
   "outputs": [],
   "source": [
    "# remove the annoying scientific notation from id columns\n",
    "pd.set_option('display.float_format', lambda x: '%.0f' % x)\n",
    "\n",
    "def get_source(row):\n",
    "    if row['is_quote_status']:\n",
    "        return row['quoted_status_id_str']\n",
    "    elif row['is_retweet']:\n",
    "        return row['original_tweet_id_str']\n",
    "    elif row['is_reply']:\n",
    "        return row['in_reply_to_status_id_str']\n",
    "    else:\n",
    "        return np.nan\n",
    "\n",
    "df_network['source'] = df_network.apply(get_source, axis=1)"
   ]
  },
  {
   "cell_type": "code",
   "execution_count": 20,
   "metadata": {},
   "outputs": [
    {
     "data": {
      "text/html": [
       "<div>\n",
       "<style scoped>\n",
       "    .dataframe tbody tr th:only-of-type {\n",
       "        vertical-align: middle;\n",
       "    }\n",
       "\n",
       "    .dataframe tbody tr th {\n",
       "        vertical-align: top;\n",
       "    }\n",
       "\n",
       "    .dataframe thead th {\n",
       "        text-align: right;\n",
       "    }\n",
       "</style>\n",
       "<table border=\"1\" class=\"dataframe\">\n",
       "  <thead>\n",
       "    <tr style=\"text-align: right;\">\n",
       "      <th></th>\n",
       "      <th>source</th>\n",
       "      <th>target</th>\n",
       "      <th>weight</th>\n",
       "    </tr>\n",
       "  </thead>\n",
       "  <tbody>\n",
       "    <tr>\n",
       "      <th>1263804753286397952</th>\n",
       "      <td>1263801627288521984</td>\n",
       "      <td>1263804753286397952</td>\n",
       "      <td>1</td>\n",
       "    </tr>\n",
       "    <tr>\n",
       "      <th>1263820895312732160</th>\n",
       "      <td>1263812617430134785</td>\n",
       "      <td>1263820895312732160</td>\n",
       "      <td>1</td>\n",
       "    </tr>\n",
       "    <tr>\n",
       "      <th>1263820892871618560</th>\n",
       "      <td>1263762563566731264</td>\n",
       "      <td>1263820892871618560</td>\n",
       "      <td>1</td>\n",
       "    </tr>\n",
       "    <tr>\n",
       "      <th>1263820887897378816</th>\n",
       "      <td>1263788358343499782</td>\n",
       "      <td>1263820887897378816</td>\n",
       "      <td>1</td>\n",
       "    </tr>\n",
       "    <tr>\n",
       "      <th>1263820880800595968</th>\n",
       "      <td>1263820878783053056</td>\n",
       "      <td>1263820880800595968</td>\n",
       "      <td>1</td>\n",
       "    </tr>\n",
       "    <tr>\n",
       "      <th>...</th>\n",
       "      <td>...</td>\n",
       "      <td>...</td>\n",
       "      <td>...</td>\n",
       "    </tr>\n",
       "    <tr>\n",
       "      <th>1263850896217092096</th>\n",
       "      <td>1263848854383849477</td>\n",
       "      <td>1263850896217092096</td>\n",
       "      <td>1</td>\n",
       "    </tr>\n",
       "    <tr>\n",
       "      <th>1263850895160348672</th>\n",
       "      <td>1263848854383849477</td>\n",
       "      <td>1263850895160348672</td>\n",
       "      <td>1</td>\n",
       "    </tr>\n",
       "    <tr>\n",
       "      <th>1263850832103161856</th>\n",
       "      <td>1263847781094944768</td>\n",
       "      <td>1263850832103161856</td>\n",
       "      <td>1</td>\n",
       "    </tr>\n",
       "    <tr>\n",
       "      <th>1263850818689740800</th>\n",
       "      <td>1263848064592183298</td>\n",
       "      <td>1263850818689740800</td>\n",
       "      <td>1</td>\n",
       "    </tr>\n",
       "    <tr>\n",
       "      <th>1263850894912864256</th>\n",
       "      <td>1263493346783309824</td>\n",
       "      <td>1263850894912864256</td>\n",
       "      <td>1</td>\n",
       "    </tr>\n",
       "  </tbody>\n",
       "</table>\n",
       "<p>455471 rows × 3 columns</p>\n",
       "</div>"
      ],
      "text/plain": [
       "                                  source               target  weight\n",
       "1263804753286397952  1263801627288521984  1263804753286397952       1\n",
       "1263820895312732160  1263812617430134785  1263820895312732160       1\n",
       "1263820892871618560  1263762563566731264  1263820892871618560       1\n",
       "1263820887897378816  1263788358343499782  1263820887897378816       1\n",
       "1263820880800595968  1263820878783053056  1263820880800595968       1\n",
       "...                                  ...                  ...     ...\n",
       "1263850896217092096  1263848854383849477  1263850896217092096       1\n",
       "1263850895160348672  1263848854383849477  1263850895160348672       1\n",
       "1263850832103161856  1263847781094944768  1263850832103161856       1\n",
       "1263850818689740800  1263848064592183298  1263850818689740800       1\n",
       "1263850894912864256  1263493346783309824  1263850894912864256       1\n",
       "\n",
       "[455471 rows x 3 columns]"
      ]
     },
     "execution_count": 20,
     "metadata": {},
     "output_type": "execute_result"
    }
   ],
   "source": [
    "df_network['weight'] = 1\n",
    "df_network[['source', 'target', 'weight']]"
   ]
  },
  {
   "cell_type": "code",
   "execution_count": 32,
   "metadata": {},
   "outputs": [],
   "source": [
    "# create a directed graph\n",
    "G_dir = nx.from_pandas_edgelist(df_network[['source', 'target', 'weight']], create_using=nx.DiGraph())\n",
    "\n",
    "# create an undirected graph\n",
    "G = nx.from_pandas_edgelist(df_network[['source', 'target', 'weight']], create_using=nx.Graph())\n"
   ]
  },
  {
   "cell_type": "code",
   "execution_count": 37,
   "metadata": {},
   "outputs": [
    {
     "name": "stdout",
     "output_type": "stream",
     "text": [
      "Graph basic info: 495233 nodes, 455471 edges.\n"
     ]
    }
   ],
   "source": [
    "print(f'Graph basic info: {G_dir.number_of_nodes()} nodes, {G_dir.number_of_edges()} edges.')"
   ]
  },
  {
   "cell_type": "code",
   "execution_count": 38,
   "metadata": {
    "scrolled": true
   },
   "outputs": [
    {
     "name": "stdout",
     "output_type": "stream",
     "text": [
      "Density measurement: \n",
      "Undirected: 3.71426127592167e-06\n",
      "Directed: 1.857130637960835e-06\n"
     ]
    }
   ],
   "source": [
    "# compare densities of the two graphs\n",
    "print(f'Density measurement: \\nUndirected: {nx.density(G)}\\nDirected: {nx.density(G_dir)}')"
   ]
  },
  {
   "cell_type": "code",
   "execution_count": 39,
   "metadata": {},
   "outputs": [],
   "source": [
    "#out-degree\n",
    "node_attrs=pd.DataFrame.from_dict(dict(G_dir.out_degree()), 'index').rename(columns={0:'out_degree'})\n",
    "\n",
    "#in-degree\n",
    "node_attrs=node_attrs.join(pd.DataFrame.from_dict(dict(G_dir.in_degree()), 'index').rename(columns={0:'in_degree'}))\n",
    "\n",
    "# weighted out-degree\n",
    "#node_attrs=node_attrs.join(pd.DataFrame.from_dict(dict(G_dir.out_degree(weight='weight')), 'index').rename(columns={0:'weighted_out_degree'}))\n",
    "\n",
    "# weighted in-degree\n",
    "#node_attrs=node_attrs.join(pd.DataFrame.from_dict(dict(G_dir.in_degree(weight='weight')), 'index').rename(columns={0:'weighted_in_degree'}))\n",
    "\n",
    "# add tweet ids and original info\n",
    "#node_attrs=node_attrs.join(df.set_index('COMUNE')[[\"COD_REG\",\"COD_CM\", \"COD_PRO\", \"PRO_COM\"]])"
   ]
  },
  {
   "cell_type": "code",
   "execution_count": 48,
   "metadata": {},
   "outputs": [
    {
     "data": {
      "text/html": [
       "<div>\n",
       "<style scoped>\n",
       "    .dataframe tbody tr th:only-of-type {\n",
       "        vertical-align: middle;\n",
       "    }\n",
       "\n",
       "    .dataframe tbody tr th {\n",
       "        vertical-align: top;\n",
       "    }\n",
       "\n",
       "    .dataframe thead th {\n",
       "        text-align: right;\n",
       "    }\n",
       "</style>\n",
       "<table border=\"1\" class=\"dataframe\">\n",
       "  <thead>\n",
       "    <tr style=\"text-align: right;\">\n",
       "      <th></th>\n",
       "      <th>out_degree</th>\n",
       "      <th>in_degree</th>\n",
       "    </tr>\n",
       "  </thead>\n",
       "  <tbody>\n",
       "    <tr>\n",
       "      <th>126</th>\n",
       "      <td>1</td>\n",
       "      <td>0</td>\n",
       "    </tr>\n",
       "    <tr>\n",
       "      <th>278816194440605696</th>\n",
       "      <td>1</td>\n",
       "      <td>0</td>\n",
       "    </tr>\n",
       "    <tr>\n",
       "      <th>401812009810800576</th>\n",
       "      <td>1</td>\n",
       "      <td>0</td>\n",
       "    </tr>\n",
       "    <tr>\n",
       "      <th>446602988501491712</th>\n",
       "      <td>1</td>\n",
       "      <td>0</td>\n",
       "    </tr>\n",
       "    <tr>\n",
       "      <th>521237811643445184</th>\n",
       "      <td>1</td>\n",
       "      <td>0</td>\n",
       "    </tr>\n",
       "    <tr>\n",
       "      <th>...</th>\n",
       "      <td>...</td>\n",
       "      <td>...</td>\n",
       "    </tr>\n",
       "    <tr>\n",
       "      <th>nan</th>\n",
       "      <td>1</td>\n",
       "      <td>0</td>\n",
       "    </tr>\n",
       "    <tr>\n",
       "      <th>nan</th>\n",
       "      <td>1</td>\n",
       "      <td>0</td>\n",
       "    </tr>\n",
       "    <tr>\n",
       "      <th>nan</th>\n",
       "      <td>1</td>\n",
       "      <td>0</td>\n",
       "    </tr>\n",
       "    <tr>\n",
       "      <th>nan</th>\n",
       "      <td>1</td>\n",
       "      <td>0</td>\n",
       "    </tr>\n",
       "    <tr>\n",
       "      <th>nan</th>\n",
       "      <td>1</td>\n",
       "      <td>0</td>\n",
       "    </tr>\n",
       "  </tbody>\n",
       "</table>\n",
       "<p>495365 rows × 2 columns</p>\n",
       "</div>"
      ],
      "text/plain": [
       "                    out_degree  in_degree\n",
       "126                          1          0\n",
       "278816194440605696           1          0\n",
       "401812009810800576           1          0\n",
       "446602988501491712           1          0\n",
       "521237811643445184           1          0\n",
       "...                        ...        ...\n",
       "nan                          1          0\n",
       "nan                          1          0\n",
       "nan                          1          0\n",
       "nan                          1          0\n",
       "nan                          1          0\n",
       "\n",
       "[495365 rows x 2 columns]"
      ]
     },
     "execution_count": 48,
     "metadata": {},
     "output_type": "execute_result"
    }
   ],
   "source": [
    "node_attrs"
   ]
  },
  {
   "cell_type": "code",
   "execution_count": null,
   "metadata": {},
   "outputs": [],
   "source": [
    "node_attrs.out_degree.unique()"
   ]
  },
  {
   "cell_type": "code",
   "execution_count": 40,
   "metadata": {},
   "outputs": [
    {
     "data": {
      "text/html": [
       "<div>\n",
       "<style scoped>\n",
       "    .dataframe tbody tr th:only-of-type {\n",
       "        vertical-align: middle;\n",
       "    }\n",
       "\n",
       "    .dataframe tbody tr th {\n",
       "        vertical-align: top;\n",
       "    }\n",
       "\n",
       "    .dataframe thead th {\n",
       "        text-align: right;\n",
       "    }\n",
       "</style>\n",
       "<table border=\"1\" class=\"dataframe\">\n",
       "  <thead>\n",
       "    <tr style=\"text-align: right;\">\n",
       "      <th></th>\n",
       "      <th>source</th>\n",
       "      <th>target</th>\n",
       "      <th>weight</th>\n",
       "    </tr>\n",
       "  </thead>\n",
       "  <tbody>\n",
       "    <tr>\n",
       "      <th>1263804753286397952</th>\n",
       "      <td>1263801627288521984</td>\n",
       "      <td>1263804753286397952</td>\n",
       "      <td>1</td>\n",
       "    </tr>\n",
       "    <tr>\n",
       "      <th>1263820895312732160</th>\n",
       "      <td>1263812617430134785</td>\n",
       "      <td>1263820895312732160</td>\n",
       "      <td>1</td>\n",
       "    </tr>\n",
       "    <tr>\n",
       "      <th>1263820892871618560</th>\n",
       "      <td>1263762563566731264</td>\n",
       "      <td>1263820892871618560</td>\n",
       "      <td>1</td>\n",
       "    </tr>\n",
       "    <tr>\n",
       "      <th>1263820887897378816</th>\n",
       "      <td>1263788358343499782</td>\n",
       "      <td>1263820887897378816</td>\n",
       "      <td>1</td>\n",
       "    </tr>\n",
       "    <tr>\n",
       "      <th>1263820880800595968</th>\n",
       "      <td>1263820878783053056</td>\n",
       "      <td>1263820880800595968</td>\n",
       "      <td>1</td>\n",
       "    </tr>\n",
       "    <tr>\n",
       "      <th>...</th>\n",
       "      <td>...</td>\n",
       "      <td>...</td>\n",
       "      <td>...</td>\n",
       "    </tr>\n",
       "    <tr>\n",
       "      <th>1263850896217092096</th>\n",
       "      <td>1263848854383849477</td>\n",
       "      <td>1263850896217092096</td>\n",
       "      <td>1</td>\n",
       "    </tr>\n",
       "    <tr>\n",
       "      <th>1263850895160348672</th>\n",
       "      <td>1263848854383849477</td>\n",
       "      <td>1263850895160348672</td>\n",
       "      <td>1</td>\n",
       "    </tr>\n",
       "    <tr>\n",
       "      <th>1263850832103161856</th>\n",
       "      <td>1263847781094944768</td>\n",
       "      <td>1263850832103161856</td>\n",
       "      <td>1</td>\n",
       "    </tr>\n",
       "    <tr>\n",
       "      <th>1263850818689740800</th>\n",
       "      <td>1263848064592183298</td>\n",
       "      <td>1263850818689740800</td>\n",
       "      <td>1</td>\n",
       "    </tr>\n",
       "    <tr>\n",
       "      <th>1263850894912864256</th>\n",
       "      <td>1263493346783309824</td>\n",
       "      <td>1263850894912864256</td>\n",
       "      <td>1</td>\n",
       "    </tr>\n",
       "  </tbody>\n",
       "</table>\n",
       "<p>455471 rows × 3 columns</p>\n",
       "</div>"
      ],
      "text/plain": [
       "                                  source               target  weight\n",
       "1263804753286397952  1263801627288521984  1263804753286397952       1\n",
       "1263820895312732160  1263812617430134785  1263820895312732160       1\n",
       "1263820892871618560  1263762563566731264  1263820892871618560       1\n",
       "1263820887897378816  1263788358343499782  1263820887897378816       1\n",
       "1263820880800595968  1263820878783053056  1263820880800595968       1\n",
       "...                                  ...                  ...     ...\n",
       "1263850896217092096  1263848854383849477  1263850896217092096       1\n",
       "1263850895160348672  1263848854383849477  1263850895160348672       1\n",
       "1263850832103161856  1263847781094944768  1263850832103161856       1\n",
       "1263850818689740800  1263848064592183298  1263850818689740800       1\n",
       "1263850894912864256  1263493346783309824  1263850894912864256       1\n",
       "\n",
       "[455471 rows x 3 columns]"
      ]
     },
     "execution_count": 40,
     "metadata": {},
     "output_type": "execute_result"
    }
   ],
   "source": [
    "df_network[['source', 'target', 'weight']]"
   ]
  },
  {
   "cell_type": "markdown",
   "metadata": {},
   "source": [
    "## Network Analysis (users)"
   ]
  },
  {
   "cell_type": "code",
   "execution_count": 66,
   "metadata": {},
   "outputs": [],
   "source": [
    "df_network = ed_df[\n",
    "    ['tweet_id', 'name',\n",
    "    'original_tweet_id_str', 'quoted_status_id_str', 'in_reply_to_status_id_str',\n",
    "    'is_quote_status', 'is_retweet', 'is_reply', 'is_translator', 'is_original']\n",
    "].to_pandas().fillna(np.nan)"
   ]
  },
  {
   "cell_type": "code",
   "execution_count": 61,
   "metadata": {},
   "outputs": [
    {
     "data": {
      "text/plain": [
       "Index(['derived.locations.full_name', 'entities.user_mentions.name',\n",
       "       'entities.user_mentions.screen_name', 'name', 'screen_name',\n",
       "       'users_derived_full_name'],\n",
       "      dtype='object')"
      ]
     },
     "execution_count": 61,
     "metadata": {},
     "output_type": "execute_result"
    }
   ],
   "source": [
    "cols = ed_df.columns\n",
    "cols[cols.str.contains('name')]\n",
    "\n",
    "#ed_df[[]]"
   ]
  },
  {
   "cell_type": "markdown",
   "metadata": {},
   "source": [
    "## User2Vec\n",
    "Based on: https://ieeexplore.ieee.org/document/8875952/\n",
    "\n",
    "How it works:\n",
    "- Run doc2vec\n",
    "- Average vector representations for each user\n"
   ]
  },
  {
   "cell_type": "code",
   "execution_count": 70,
   "metadata": {},
   "outputs": [],
   "source": [
    "from gensim.models.doc2vec import Doc2Vec"
   ]
  },
  {
   "cell_type": "code",
   "execution_count": null,
   "metadata": {},
   "outputs": [],
   "source": [
    "df_"
   ]
  }
 ],
 "metadata": {
  "kernelspec": {
   "display_name": "Python 3",
   "language": "python",
   "name": "python3"
  },
  "language_info": {
   "codemirror_mode": {
    "name": "ipython",
    "version": 3
   },
   "file_extension": ".py",
   "mimetype": "text/x-python",
   "name": "python",
   "nbconvert_exporter": "python",
   "pygments_lexer": "ipython3",
   "version": "3.8.3"
  }
 },
 "nbformat": 4,
 "nbformat_minor": 4
}
