{
 "cells": [
  {
   "cell_type": "markdown",
   "metadata": {},
   "source": [
    "# Testing Data Modelling Techniques\n",
    "\n",
    "Techniques to be tested:\n",
    "- User2Vec\n",
    "- Network Analysis (Users)\n",
    "- Network Analysis (Tweets)\n",
    "- Popular vs unpopular users identification\n",
    "- Topic Modelling\n",
    "- Text summarization"
   ]
  },
  {
   "cell_type": "code",
   "execution_count": 51,
   "metadata": {},
   "outputs": [],
   "source": [
    "from elasticsearch import Elasticsearch\n",
    "import pandas as pd\n",
    "from src.data import query_es\n",
    "\n",
    "es = Elasticsearch(['localhost'])\n",
    "\n",
    "#!make database"
   ]
  },
  {
   "cell_type": "code",
   "execution_count": 34,
   "metadata": {},
   "outputs": [],
   "source": [
    "df = query_es(es, index_query='twitter')"
   ]
  },
  {
   "cell_type": "markdown",
   "metadata": {},
   "source": [
    "## Network Analysis (Tweets)"
   ]
  },
  {
   "cell_type": "code",
   "execution_count": 49,
   "metadata": {},
   "outputs": [],
   "source": [
    "df_network = df[\n",
    "    ['tweet_id', \n",
    "    'original_tweet_id_str', 'quoted_status_id_str', 'in_reply_to_status_id_str',\n",
    "    'is_quote_status', 'is_retweet', 'is_reply', 'is_translator', 'is_original']\n",
    "]"
   ]
  },
  {
   "cell_type": "code",
   "execution_count": 50,
   "metadata": {},
   "outputs": [],
   "source": [
    "# Under development"
   ]
  }
 ],
 "metadata": {
  "kernelspec": {
   "display_name": "Python 3",
   "language": "python",
   "name": "python3"
  },
  "language_info": {
   "codemirror_mode": {
    "name": "ipython",
    "version": 3
   },
   "file_extension": ".py",
   "mimetype": "text/x-python",
   "name": "python",
   "nbconvert_exporter": "python",
   "pygments_lexer": "ipython3",
   "version": "3.8.3"
  }
 },
 "nbformat": 4,
 "nbformat_minor": 4
}
