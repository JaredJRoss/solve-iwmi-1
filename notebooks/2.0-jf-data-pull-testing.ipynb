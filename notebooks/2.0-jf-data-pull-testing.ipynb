{
 "cells": [
  {
   "cell_type": "markdown",
   "metadata": {},
   "source": [
    "# Data Pulling\n",
    "\n",
    "This notebook applies and tests the data pulling functions in the `src` directory"
   ]
  },
  {
   "cell_type": "code",
   "execution_count": 1,
   "metadata": {},
   "outputs": [],
   "source": [
    "import sys\n",
    "import os\n",
    "from os.path import join\n",
    "import yaml\n",
    "\n",
    "project_dir = join(os.getcwd(), os.pardir)\n",
    "sys.path.append(project_dir)\n",
    "\n",
    "from src.data import pull_tweets"
   ]
  },
  {
   "cell_type": "code",
   "execution_count": 2,
   "metadata": {},
   "outputs": [
    {
     "data": {
      "text/plain": [
       "{'credentials_path': '/Users/jfonseca/Desktop/research_projs/IWMI/solve-iwmi/notebooks/../twitter_creds.yaml',\n",
       " 'save_path': '/Users/jfonseca/Desktop/research_projs/IWMI/solve-iwmi/notebooks/../data/raw/',\n",
       " 'results_per_call': 500,\n",
       " 'max_results': 3000,\n",
       " 'from_date': '2020-05-14',\n",
       " 'to_date': '2020-06-15',\n",
       " 'query': '(cyclone amphan)',\n",
       " 'verbose': True,\n",
       " 'yaml_key': 'search_tweets_api'}"
      ]
     },
     "execution_count": 2,
     "metadata": {},
     "output_type": "execute_result"
    }
   ],
   "source": [
    "yaml_path = join(project_dir, 'configs.yaml')\n",
    "configs = yaml.full_load(open(yaml_path, 'r'))['twitter_data_pull']\n",
    "configs['save_path'] = join(project_dir, configs['save_path'])\n",
    "configs['credentials_path'] = join(project_dir, configs['credentials_path'])\n",
    "configs['yaml_key'] = configs['credentials_key']\n",
    "del configs['credentials_key']\n",
    "\n",
    "configs"
   ]
  },
  {
   "cell_type": "code",
   "execution_count": 3,
   "metadata": {
    "scrolled": false
   },
   "outputs": [
    {
     "name": "stderr",
     "output_type": "stream",
     "text": [
      "2020-07-22 15:50:10,739 - src.data._pull_data - INFO - Pulling raw Twitter data\n",
      "2020-07-22 15:50:11,143 - searchtweets.credentials - WARNING - Grabbing bearer token from OAUTH\n",
      "2020-07-22 15:50:11,145 - searchtweets.result_stream - INFO - using bearer token for authentication\n",
      "2020-07-22 15:50:12,696 - searchtweets.result_stream - INFO - paging; total requests read so far: 1\n",
      "2020-07-22 15:50:13,810 - searchtweets.result_stream - INFO - paging; total requests read so far: 2\n",
      "2020-07-22 15:50:14,901 - searchtweets.result_stream - INFO - paging; total requests read so far: 3\n",
      "2020-07-22 15:50:16,205 - searchtweets.result_stream - INFO - paging; total requests read so far: 4\n",
      "2020-07-22 15:50:17,315 - searchtweets.result_stream - INFO - paging; total requests read so far: 5\n",
      "2020-07-22 15:50:18,503 - searchtweets.result_stream - INFO - ending stream at 3000 tweets\n",
      "2020-07-22 15:50:18,531 - src.data._pull_data - INFO - Data successfuly saved at \"/Users/jfonseca/Desktop/research_projs/IWMI/solve-iwmi/notebooks/../data/raw/SAMPLE_DATA_QUERY_(cyclone amphan)_FROMDATE_2020-05-14_TODATE_2020-06-15.json\"\n"
     ]
    }
   ],
   "source": [
    "pull_tweets(**configs)"
   ]
  }
 ],
 "metadata": {
  "kernelspec": {
   "display_name": "Python 3",
   "language": "python",
   "name": "python3"
  },
  "language_info": {
   "codemirror_mode": {
    "name": "ipython",
    "version": 3
   },
   "file_extension": ".py",
   "mimetype": "text/x-python",
   "name": "python",
   "nbconvert_exporter": "python",
   "pygments_lexer": "ipython3",
   "version": "3.8.3"
  }
 },
 "nbformat": 4,
 "nbformat_minor": 4
}
